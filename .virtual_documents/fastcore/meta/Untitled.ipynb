# import
from debuggable.utils import *
from inspect import *
from inspect import _signature_from_callable
import inspect


_signature_from_callable


# inspect.getsource(eval("_signature_from_callable"))


# start
defaults.name = "_signature_from_callable" # required

## I need to create defaults.src2dbp. for _signature_from_callable
checksrc() # optional


# required
defaults.startsrc = "if to is None"
defaults.endsrc = "from_f.__annotations__.update(anno)"
displaysrc()


# dbcodes
dblst = defaults.srcdbps

srcline = """

"""
len(defaults.src.split(srcline)) # must be 2 to be right
dbcode = """

"""
dblst.append([(srcline, dbcode)])

# debugging 
delegates = dbsrclines([1,2], retn=True) # print out the debuggable source code under investgation
defaults.eg = """

"""
# actual code



