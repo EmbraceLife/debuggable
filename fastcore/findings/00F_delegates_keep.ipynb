{
 "cells": [
  {
   "cell_type": "markdown",
   "id": "2824ba7a-7fdf-4694-ae69-06997e3c22cc",
   "metadata": {},
   "source": [
    "# Findings from `fastcore.meta.delegates`"
   ]
  },
  {
   "cell_type": "code",
   "execution_count": null,
   "id": "e7f1c7e1-71f8-485d-be84-db355006e786",
   "metadata": {},
   "outputs": [],
   "source": [
    "from fastcore.imports import *\n",
    "from fastcore.meta import *\n",
    "from nbdev.showdoc import *\n",
    "from fastcore.test import *\n",
    "from pprint import pprint\n",
    "from debuggable.utils import *\n",
    "import inspect"
   ]
  },
  {
   "cell_type": "markdown",
   "id": "fb4888da-3f52-4b75-8e3f-025591957c4c",
   "metadata": {},
   "source": [
    "## The undocumented feature of arg `keep` in function `delegates`\n",
    "\n",
    "The docs of `delegates` tells us if `keep=False`, `**kwargs` of func `mid` (example below) will be removed; `keep=True` will keep `**kwargs` for `mid`.\n",
    "\n",
    "But do you know `keep=False` has an untold feature, which is `keep=False` will make sure the `mid` won't take any more args from other `to`s. In other words, after `delegates(low, keep=False)(mid)`, `delegates(low2)(mid)` won't change the signature of `mid`. This is a useful feature of `keep` of `delegates` but not documented. \n",
    "\n",
    "\n",
    "In the example below, you can't delegates args of `low2` to `mid` after receiving args from `low`."
   ]
  },
  {
   "cell_type": "code",
   "execution_count": null,
   "id": "dce6e9dd-9c99-4b41-a403-a62ab7e3c94d",
   "metadata": {},
   "outputs": [
    {
     "data": {
      "text/plain": [
       "<function __main__.mid(c, d: int = 1, *, b=1)>"
      ]
     },
     "execution_count": null,
     "metadata": {},
     "output_type": "execute_result"
    }
   ],
   "source": [
    "def low(a, b=1): pass\n",
    "@delegates(low)\n",
    "def mid(c, d:int=1, **kwargs): pass\n",
    "mid"
   ]
  },
  {
   "cell_type": "code",
   "execution_count": null,
   "id": "ca92ffb6-4c5f-4693-97de-e38eef992ede",
   "metadata": {},
   "outputs": [
    {
     "data": {
      "text/plain": [
       "<function __main__.mid(c, d: int = 1, *, b=1)>"
      ]
     },
     "execution_count": null,
     "metadata": {},
     "output_type": "execute_result"
    }
   ],
   "source": [
    "def low2(e, f=1, **kwargs): pass\n",
    "delegates(low2)(mid)"
   ]
  },
  {
   "cell_type": "markdown",
   "id": "e43e762f-0133-457f-8428-6793db331e45",
   "metadata": {},
   "source": [
    "However, when you set `keep=True`, `**kwargs` stays with `mid` signature, and `mid` can receive arg `g` from `low2` by using `delegates` again."
   ]
  },
  {
   "cell_type": "code",
   "execution_count": null,
   "id": "96cb112b-dcf9-42cb-a8cf-158341848098",
   "metadata": {},
   "outputs": [
    {
     "data": {
      "text/plain": [
       "<function __main__.mid(c, d: int = 1, *, b=1, g=1)>"
      ]
     },
     "execution_count": null,
     "metadata": {},
     "output_type": "execute_result"
    }
   ],
   "source": [
    "def low(a, b=1): pass\n",
    "@delegates(low, keep=True)\n",
    "def mid(c, d:int=1, **kwargs): pass\n",
    "def low2(e, g=1): pass\n",
    "delegates(low2)(mid)"
   ]
  },
  {
   "cell_type": "markdown",
   "id": "c000182e-c7ad-4dac-a2ea-2243de133479",
   "metadata": {},
   "source": [
    "## The hidden or unexpected feature of `keep` of `delegates`\n",
    "\n",
    "When `keep=False`, `show_doc` can tell you where `b` come from in the example below. \n",
    "\n",
    "When `keep=True`, `show_doc` can't show the address info of `b`.\n",
    "\n",
    "So, you are out of luck, if you want to keep both `**kwargs` and display the address info of `b` at the same time.\n",
    "\n",
    "Note: see how `f.__delwrap__` help `showdoc` to generate the address info of `b` from [here](https://github.com/fastai/nbdev1/blob/675dd1230e0738ecb2bdc505d52a49cf24709a63/nbdev/showdoc.py#L355-L364)."
   ]
  },
  {
   "cell_type": "code",
   "execution_count": null,
   "id": "d94f2591-b361-4909-a94f-708c17603c83",
   "metadata": {},
   "outputs": [
    {
     "data": {
      "text/markdown": [
       "---\n",
       "\n",
       "#### mid\n",
       "\n",
       ">      mid (c, d=1, b=1)"
      ],
      "text/plain": [
       "<nbdev.showdoc.BasicMarkdownRenderer>"
      ]
     },
     "execution_count": null,
     "metadata": {},
     "output_type": "execute_result"
    }
   ],
   "source": [
    "def low(a, b=1): pass\n",
    "@delegates(low, keep=False)\n",
    "def mid(c, d=1, **kwargs): pass\n",
    "show_doc(mid)"
   ]
  },
  {
   "cell_type": "code",
   "execution_count": null,
   "id": "bd61fb47-1d99-47c0-a23b-c98236e7ee06",
   "metadata": {},
   "outputs": [
    {
     "data": {
      "text/markdown": [
       "---\n",
       "\n",
       "#### high\n",
       "\n",
       ">      high (e, f=1, d=1, b=1)"
      ],
      "text/plain": [
       "<nbdev.showdoc.BasicMarkdownRenderer>"
      ]
     },
     "execution_count": null,
     "metadata": {},
     "output_type": "execute_result"
    }
   ],
   "source": [
    "@delegates(mid, keep=False)\n",
    "def high(e, f=1, **kwargs): pass\n",
    "show_doc(high)"
   ]
  },
  {
   "cell_type": "markdown",
   "id": "abac4979-cb51-4e53-b99b-d270f25f8bf1",
   "metadata": {},
   "source": [
    "You can keep `**kwargs`, but you can't have the address info of `b` for `mid`, and `d` and `b` for `high`."
   ]
  },
  {
   "cell_type": "code",
   "execution_count": null,
   "id": "afa2e189-6390-410b-8dbd-a4f88664629a",
   "metadata": {},
   "outputs": [
    {
     "data": {
      "text/markdown": [
       "---\n",
       "\n",
       "#### mid\n",
       "\n",
       ">      mid (c, d=1, b=1, **kwargs)"
      ],
      "text/plain": [
       "<nbdev.showdoc.BasicMarkdownRenderer>"
      ]
     },
     "execution_count": null,
     "metadata": {},
     "output_type": "execute_result"
    }
   ],
   "source": [
    "def low(a, b=1): pass\n",
    "@delegates(low, keep=True)\n",
    "def mid(c, d=1, **kwargs): pass\n",
    "show_doc(mid)"
   ]
  },
  {
   "cell_type": "code",
   "execution_count": null,
   "id": "e3e02563-7ea3-4bf5-b90d-bda2c49fc77f",
   "metadata": {},
   "outputs": [
    {
     "data": {
      "text/markdown": [
       "---\n",
       "\n",
       "#### high\n",
       "\n",
       ">      high (e, f=1, d=1, b=1, **kwargs)"
      ],
      "text/plain": [
       "<nbdev.showdoc.BasicMarkdownRenderer>"
      ]
     },
     "execution_count": null,
     "metadata": {},
     "output_type": "execute_result"
    }
   ],
   "source": [
    "@delegates(mid, keep=True)\n",
    "def high(e, f=1, **kwargs): pass\n",
    "show_doc(high)"
   ]
  },
  {
   "cell_type": "markdown",
   "id": "2b86a077-826d-422f-8585-2772ff6bd58f",
   "metadata": {},
   "source": [
    "## Is there a legitimate use case for keeping both `**kwargs` and the address info of `b`?\n",
    "\n",
    "I think so, and here is a case example below. \n",
    "\n",
    "The function `low` need `**kwargs` to override `y` from `lower` and `mid` needs `**kwargs` to override `b` from `low`. Therefore, `**kwargs` should be kept using `keep=True`.\n",
    "\n",
    "The signature of `mid` does not tell us where `b` is from, it would be useful to show us the address info of `b`. But the current official `delegates` doesn't allow you to have both.\n",
    "\n",
    "If you agree this use case is legitimate, then the unexpected feature here is an issue need to be resolved."
   ]
  },
  {
   "cell_type": "code",
   "execution_count": null,
   "id": "289c3f25-6078-433a-9963-a9ee40522001",
   "metadata": {},
   "outputs": [
    {
     "data": {
      "text/plain": [
       "<function __main__.mid(c, d=1, *, b=1, **kwargs)>"
      ]
     },
     "execution_count": null,
     "metadata": {},
     "output_type": "execute_result"
    }
   ],
   "source": [
    "def lower(x, y=1): return x + y\n",
    "def low(a, b=1, **kwargs): return lower(a, **kwargs) + b\n",
    "@delegates(low, keep=True)\n",
    "def mid(c, d=1, **kwargs): return low(c, **kwargs) + d\n",
    "mid"
   ]
  },
  {
   "cell_type": "code",
   "execution_count": null,
   "id": "ad84c50b-e7a7-4cd7-9d7c-679ccd6c519c",
   "metadata": {},
   "outputs": [
    {
     "data": {
      "text/plain": [
       "5"
      ]
     },
     "execution_count": null,
     "metadata": {},
     "output_type": "execute_result"
    }
   ],
   "source": [
    "mid(1, 1, b=1, y=2)"
   ]
  },
  {
   "cell_type": "code",
   "execution_count": null,
   "id": "a5c0e615-17c7-428b-8967-a140b00a1b11",
   "metadata": {},
   "outputs": [
    {
     "data": {
      "text/markdown": [
       "---\n",
       "\n",
       "#### mid\n",
       "\n",
       ">      mid (c, d=1, b=1, **kwargs)"
      ],
      "text/plain": [
       "<nbdev.showdoc.BasicMarkdownRenderer>"
      ]
     },
     "execution_count": null,
     "metadata": {},
     "output_type": "execute_result"
    }
   ],
   "source": [
    "show_doc(mid)"
   ]
  },
  {
   "cell_type": "markdown",
   "id": "ec164bce-3ca3-4267-9fd7-43cb9bcd7659",
   "metadata": {},
   "source": [
    "## Can we enable `delegates` to allow both keeping `**kwargs` and display address info of args from `to`?\n",
    "\n",
    "The cause for disallowing the use case above is `keep=True` and `from_f.__delwrap__` are tied together. The problem can be solved if we untie them, and keep `from_f.__delwrap__` always available to `from_f`. "
   ]
  },
  {
   "cell_type": "code",
   "execution_count": null,
   "id": "5561b6ef-b14c-42cc-9322-a54bd6b6092a",
   "metadata": {},
   "outputs": [
    {
     "data": {
      "text/plain": [
       "\u001b[0;31mSignature:\u001b[0m \u001b[0mdelegates\u001b[0m\u001b[0;34m(\u001b[0m\u001b[0mto\u001b[0m\u001b[0;34m:\u001b[0m \u001b[0mfunction\u001b[0m \u001b[0;34m=\u001b[0m \u001b[0;32mNone\u001b[0m\u001b[0;34m,\u001b[0m \u001b[0mkeep\u001b[0m\u001b[0;34m=\u001b[0m\u001b[0;32mFalse\u001b[0m\u001b[0;34m,\u001b[0m \u001b[0mbut\u001b[0m\u001b[0;34m:\u001b[0m \u001b[0mlist\u001b[0m \u001b[0;34m=\u001b[0m \u001b[0;32mNone\u001b[0m\u001b[0;34m)\u001b[0m\u001b[0;34m\u001b[0m\u001b[0;34m\u001b[0m\u001b[0m\n",
       "\u001b[0;31mSource:\u001b[0m   \n",
       "\u001b[0;32mdef\u001b[0m \u001b[0mdelegates\u001b[0m\u001b[0;34m(\u001b[0m\u001b[0mto\u001b[0m\u001b[0;34m:\u001b[0m\u001b[0mFunctionType\u001b[0m\u001b[0;34m=\u001b[0m\u001b[0;32mNone\u001b[0m\u001b[0;34m,\u001b[0m \u001b[0;31m# Delegatee\u001b[0m\u001b[0;34m\u001b[0m\n",
       "\u001b[0;34m\u001b[0m              \u001b[0mkeep\u001b[0m\u001b[0;34m=\u001b[0m\u001b[0;32mFalse\u001b[0m\u001b[0;34m,\u001b[0m \u001b[0;31m# Keep `kwargs` in decorated function?\u001b[0m\u001b[0;34m\u001b[0m\n",
       "\u001b[0;34m\u001b[0m              \u001b[0mbut\u001b[0m\u001b[0;34m:\u001b[0m\u001b[0mlist\u001b[0m\u001b[0;34m=\u001b[0m\u001b[0;32mNone\u001b[0m\u001b[0;34m)\u001b[0m\u001b[0;34m:\u001b[0m \u001b[0;31m# Exclude these parameters from signature\u001b[0m\u001b[0;34m\u001b[0m\n",
       "\u001b[0;34m\u001b[0m    \u001b[0;34m\"Decorator: replace `**kwargs` in signature with params from `to`\"\u001b[0m\u001b[0;34m\u001b[0m\n",
       "\u001b[0;34m\u001b[0m    \u001b[0;32mif\u001b[0m \u001b[0mbut\u001b[0m \u001b[0;32mis\u001b[0m \u001b[0;32mNone\u001b[0m\u001b[0;34m:\u001b[0m \u001b[0mbut\u001b[0m \u001b[0;34m=\u001b[0m \u001b[0;34m[\u001b[0m\u001b[0;34m]\u001b[0m\u001b[0;34m\u001b[0m\n",
       "\u001b[0;34m\u001b[0m    \u001b[0;32mdef\u001b[0m \u001b[0m_f\u001b[0m\u001b[0;34m(\u001b[0m\u001b[0mf\u001b[0m\u001b[0;34m)\u001b[0m\u001b[0;34m:\u001b[0m\u001b[0;34m\u001b[0m\n",
       "\u001b[0;34m\u001b[0m        \u001b[0;32mif\u001b[0m \u001b[0mto\u001b[0m \u001b[0;32mis\u001b[0m \u001b[0;32mNone\u001b[0m\u001b[0;34m:\u001b[0m \u001b[0mto_f\u001b[0m\u001b[0;34m,\u001b[0m\u001b[0mfrom_f\u001b[0m \u001b[0;34m=\u001b[0m \u001b[0mf\u001b[0m\u001b[0;34m.\u001b[0m\u001b[0m__base__\u001b[0m\u001b[0;34m.\u001b[0m\u001b[0m__init__\u001b[0m\u001b[0;34m,\u001b[0m\u001b[0mf\u001b[0m\u001b[0;34m.\u001b[0m\u001b[0m__init__\u001b[0m\u001b[0;34m\u001b[0m\n",
       "\u001b[0;34m\u001b[0m        \u001b[0;32melse\u001b[0m\u001b[0;34m:\u001b[0m          \u001b[0mto_f\u001b[0m\u001b[0;34m,\u001b[0m\u001b[0mfrom_f\u001b[0m \u001b[0;34m=\u001b[0m \u001b[0mto\u001b[0m\u001b[0;34m.\u001b[0m\u001b[0m__init__\u001b[0m \u001b[0;32mif\u001b[0m \u001b[0misinstance\u001b[0m\u001b[0;34m(\u001b[0m\u001b[0mto\u001b[0m\u001b[0;34m,\u001b[0m\u001b[0mtype\u001b[0m\u001b[0;34m)\u001b[0m \u001b[0;32melse\u001b[0m \u001b[0mto\u001b[0m\u001b[0;34m,\u001b[0m\u001b[0mf\u001b[0m\u001b[0;34m\u001b[0m\n",
       "\u001b[0;34m\u001b[0m        \u001b[0mfrom_f\u001b[0m \u001b[0;34m=\u001b[0m \u001b[0mgetattr\u001b[0m\u001b[0;34m(\u001b[0m\u001b[0mfrom_f\u001b[0m\u001b[0;34m,\u001b[0m\u001b[0;34m'__func__'\u001b[0m\u001b[0;34m,\u001b[0m\u001b[0mfrom_f\u001b[0m\u001b[0;34m)\u001b[0m\u001b[0;34m\u001b[0m\n",
       "\u001b[0;34m\u001b[0m        \u001b[0mto_f\u001b[0m \u001b[0;34m=\u001b[0m \u001b[0mgetattr\u001b[0m\u001b[0;34m(\u001b[0m\u001b[0mto_f\u001b[0m\u001b[0;34m,\u001b[0m\u001b[0;34m'__func__'\u001b[0m\u001b[0;34m,\u001b[0m\u001b[0mto_f\u001b[0m\u001b[0;34m)\u001b[0m\u001b[0;34m\u001b[0m\n",
       "\u001b[0;34m\u001b[0m        \u001b[0;32mif\u001b[0m \u001b[0mhasattr\u001b[0m\u001b[0;34m(\u001b[0m\u001b[0mfrom_f\u001b[0m\u001b[0;34m,\u001b[0m\u001b[0;34m'__delwrap__'\u001b[0m\u001b[0;34m)\u001b[0m\u001b[0;34m:\u001b[0m \u001b[0;32mreturn\u001b[0m \u001b[0mf\u001b[0m\u001b[0;34m\u001b[0m\n",
       "\u001b[0;34m\u001b[0m        \u001b[0msig\u001b[0m \u001b[0;34m=\u001b[0m \u001b[0minspect\u001b[0m\u001b[0;34m.\u001b[0m\u001b[0msignature\u001b[0m\u001b[0;34m(\u001b[0m\u001b[0mfrom_f\u001b[0m\u001b[0;34m)\u001b[0m\u001b[0;34m\u001b[0m\n",
       "\u001b[0;34m\u001b[0m        \u001b[0msigd\u001b[0m \u001b[0;34m=\u001b[0m \u001b[0mdict\u001b[0m\u001b[0;34m(\u001b[0m\u001b[0msig\u001b[0m\u001b[0;34m.\u001b[0m\u001b[0mparameters\u001b[0m\u001b[0;34m)\u001b[0m\u001b[0;34m\u001b[0m\n",
       "\u001b[0;34m\u001b[0m        \u001b[0mk\u001b[0m \u001b[0;34m=\u001b[0m \u001b[0msigd\u001b[0m\u001b[0;34m.\u001b[0m\u001b[0mpop\u001b[0m\u001b[0;34m(\u001b[0m\u001b[0;34m'kwargs'\u001b[0m\u001b[0;34m)\u001b[0m\u001b[0;34m\u001b[0m\n",
       "\u001b[0;34m\u001b[0m        \u001b[0ms2\u001b[0m \u001b[0;34m=\u001b[0m \u001b[0;34m{\u001b[0m\u001b[0mk\u001b[0m\u001b[0;34m:\u001b[0m\u001b[0mv\u001b[0m\u001b[0;34m.\u001b[0m\u001b[0mreplace\u001b[0m\u001b[0;34m(\u001b[0m\u001b[0mkind\u001b[0m\u001b[0;34m=\u001b[0m\u001b[0minspect\u001b[0m\u001b[0;34m.\u001b[0m\u001b[0mParameter\u001b[0m\u001b[0;34m.\u001b[0m\u001b[0mKEYWORD_ONLY\u001b[0m\u001b[0;34m)\u001b[0m \u001b[0;32mfor\u001b[0m \u001b[0mk\u001b[0m\u001b[0;34m,\u001b[0m\u001b[0mv\u001b[0m \u001b[0;32min\u001b[0m \u001b[0minspect\u001b[0m\u001b[0;34m.\u001b[0m\u001b[0msignature\u001b[0m\u001b[0;34m(\u001b[0m\u001b[0mto_f\u001b[0m\u001b[0;34m)\u001b[0m\u001b[0;34m.\u001b[0m\u001b[0mparameters\u001b[0m\u001b[0;34m.\u001b[0m\u001b[0mitems\u001b[0m\u001b[0;34m(\u001b[0m\u001b[0;34m)\u001b[0m\u001b[0;34m\u001b[0m\n",
       "\u001b[0;34m\u001b[0m              \u001b[0;32mif\u001b[0m \u001b[0mv\u001b[0m\u001b[0;34m.\u001b[0m\u001b[0mdefault\u001b[0m \u001b[0;34m!=\u001b[0m \u001b[0minspect\u001b[0m\u001b[0;34m.\u001b[0m\u001b[0mParameter\u001b[0m\u001b[0;34m.\u001b[0m\u001b[0mempty\u001b[0m \u001b[0;32mand\u001b[0m \u001b[0mk\u001b[0m \u001b[0;32mnot\u001b[0m \u001b[0;32min\u001b[0m \u001b[0msigd\u001b[0m \u001b[0;32mand\u001b[0m \u001b[0mk\u001b[0m \u001b[0;32mnot\u001b[0m \u001b[0;32min\u001b[0m \u001b[0mbut\u001b[0m\u001b[0;34m}\u001b[0m\u001b[0;34m\u001b[0m\n",
       "\u001b[0;34m\u001b[0m        \u001b[0manno\u001b[0m \u001b[0;34m=\u001b[0m \u001b[0;34m{\u001b[0m\u001b[0mk\u001b[0m\u001b[0;34m:\u001b[0m\u001b[0mv\u001b[0m \u001b[0;32mfor\u001b[0m \u001b[0mk\u001b[0m\u001b[0;34m,\u001b[0m\u001b[0mv\u001b[0m \u001b[0;32min\u001b[0m \u001b[0mto_f\u001b[0m\u001b[0;34m.\u001b[0m\u001b[0m__annotations__\u001b[0m\u001b[0;34m.\u001b[0m\u001b[0mitems\u001b[0m\u001b[0;34m(\u001b[0m\u001b[0;34m)\u001b[0m \u001b[0;32mif\u001b[0m \u001b[0mk\u001b[0m \u001b[0;32mnot\u001b[0m \u001b[0;32min\u001b[0m \u001b[0msigd\u001b[0m \u001b[0;32mand\u001b[0m \u001b[0mk\u001b[0m \u001b[0;32mnot\u001b[0m \u001b[0;32min\u001b[0m \u001b[0mbut\u001b[0m\u001b[0;34m}\u001b[0m\u001b[0;34m\u001b[0m\n",
       "\u001b[0;34m\u001b[0m        \u001b[0msigd\u001b[0m\u001b[0;34m.\u001b[0m\u001b[0mupdate\u001b[0m\u001b[0;34m(\u001b[0m\u001b[0ms2\u001b[0m\u001b[0;34m)\u001b[0m\u001b[0;34m\u001b[0m\n",
       "\u001b[0;34m\u001b[0m        \u001b[0;32mif\u001b[0m \u001b[0mkeep\u001b[0m\u001b[0;34m:\u001b[0m \u001b[0msigd\u001b[0m\u001b[0;34m[\u001b[0m\u001b[0;34m'kwargs'\u001b[0m\u001b[0;34m]\u001b[0m \u001b[0;34m=\u001b[0m \u001b[0mk\u001b[0m\u001b[0;34m\u001b[0m\n",
       "\u001b[0;34m\u001b[0m        \u001b[0;32melse\u001b[0m\u001b[0;34m:\u001b[0m \u001b[0mfrom_f\u001b[0m\u001b[0;34m.\u001b[0m\u001b[0m__delwrap__\u001b[0m \u001b[0;34m=\u001b[0m \u001b[0mto_f\u001b[0m\u001b[0;34m\u001b[0m\n",
       "\u001b[0;34m\u001b[0m        \u001b[0mfrom_f\u001b[0m\u001b[0;34m.\u001b[0m\u001b[0m__signature__\u001b[0m \u001b[0;34m=\u001b[0m \u001b[0msig\u001b[0m\u001b[0;34m.\u001b[0m\u001b[0mreplace\u001b[0m\u001b[0;34m(\u001b[0m\u001b[0mparameters\u001b[0m\u001b[0;34m=\u001b[0m\u001b[0msigd\u001b[0m\u001b[0;34m.\u001b[0m\u001b[0mvalues\u001b[0m\u001b[0;34m(\u001b[0m\u001b[0;34m)\u001b[0m\u001b[0;34m)\u001b[0m\u001b[0;34m\u001b[0m\n",
       "\u001b[0;34m\u001b[0m        \u001b[0;32mif\u001b[0m \u001b[0mhasattr\u001b[0m\u001b[0;34m(\u001b[0m\u001b[0mfrom_f\u001b[0m\u001b[0;34m,\u001b[0m \u001b[0;34m'__annotations__'\u001b[0m\u001b[0;34m)\u001b[0m\u001b[0;34m:\u001b[0m \u001b[0mfrom_f\u001b[0m\u001b[0;34m.\u001b[0m\u001b[0m__annotations__\u001b[0m\u001b[0;34m.\u001b[0m\u001b[0mupdate\u001b[0m\u001b[0;34m(\u001b[0m\u001b[0manno\u001b[0m\u001b[0;34m)\u001b[0m\u001b[0;34m\u001b[0m\n",
       "\u001b[0;34m\u001b[0m        \u001b[0;32mreturn\u001b[0m \u001b[0mf\u001b[0m\u001b[0;34m\u001b[0m\n",
       "\u001b[0;34m\u001b[0m    \u001b[0;32mreturn\u001b[0m \u001b[0m_f\u001b[0m\u001b[0;34m\u001b[0m\u001b[0;34m\u001b[0m\u001b[0m\n",
       "\u001b[0;31mFile:\u001b[0m      ~/mambaforge/lib/python3.9/site-packages/fastcore/meta.py\n",
       "\u001b[0;31mType:\u001b[0m      function\n"
      ]
     },
     "metadata": {},
     "output_type": "display_data"
    }
   ],
   "source": [
    "delegates??"
   ]
  },
  {
   "cell_type": "markdown",
   "id": "10820943-27ad-4859-a554-fd9a8b629aec",
   "metadata": {},
   "source": [
    "The two lines of code need alteration which are marked with '###' below."
   ]
  },
  {
   "cell_type": "code",
   "execution_count": null,
   "id": "e3c2677f-2255-4d01-b1ee-be3357789e98",
   "metadata": {},
   "outputs": [],
   "source": [
    "def delegates(to=None, # Delegatee\n",
    "              keep=False, # Keep `kwargs` in decorated function?\n",
    "              but:list=None, # Exclude these parameters from signature\n",
    "              verbose=True): # Include `to` in docments?\n",
    "    \"Decorator: replace `**kwargs` in signature with params from `to`\"\n",
    "    if but is None: but = []\n",
    "    def _f(f):\n",
    "        if to is None: to_f,from_f = f.__base__.__init__,f.__init__\n",
    "        else:          to_f,from_f = to.__init__ if isinstance(to,type) else to,f\n",
    "        from_f = getattr(from_f,'__func__',from_f)\n",
    "        to_f = getattr(to_f,'__func__',to_f)\n",
    "        if hasattr(from_f,'__delwrap__') and keep==False: return f ### if you don't want `f` to run delegates again\n",
    "        sig = inspect.signature(from_f)\n",
    "        sigd = dict(sig.parameters)\n",
    "        k = sigd.pop('kwargs')\n",
    "        s2 = {k:v.replace(kind=inspect.Parameter.KEYWORD_ONLY) for k,v in inspect.signature(to_f).parameters.items()\n",
    "              if v.default != inspect.Parameter.empty and k not in sigd and k not in but}\n",
    "        sigd.update(s2)\n",
    "        if keep: sigd['kwargs'] = k \n",
    "        from_f.__delwrap__ = to_f ### enable show_doc to display the address info for args of `to`\n",
    "        \n",
    "        from_f.__delopts__ = dict(verbose=verbose)\n",
    "        from_f.__signature__ = sig.replace(parameters=sigd.values())\n",
    "        return f\n",
    "    return _f"
   ]
  },
  {
   "cell_type": "markdown",
   "id": "30f1f8bd-cb5b-4f58-b098-0596453fd3f7",
   "metadata": {},
   "source": [
    "Now, you can use `keep=True` to have both `**kwargs` and `show_doc` displaying address info on `b`"
   ]
  },
  {
   "cell_type": "code",
   "execution_count": null,
   "id": "145e93c4-b7d2-4d67-8237-006252f485af",
   "metadata": {},
   "outputs": [
    {
     "data": {
      "text/plain": [
       "<function __main__.mid(c, d=1, *, b=1, **kwargs)>"
      ]
     },
     "execution_count": null,
     "metadata": {},
     "output_type": "execute_result"
    }
   ],
   "source": [
    "def lower(x, y=1): return x + y\n",
    "def low(a, b=1, **kwargs): return lower(a, **kwargs) + b\n",
    "@delegates(low, keep=True)\n",
    "def mid(c, d=1, **kwargs): return low(c, **kwargs) + d\n",
    "mid"
   ]
  },
  {
   "cell_type": "code",
   "execution_count": null,
   "id": "75d37a32-9e53-4216-87af-96c7311c31ef",
   "metadata": {},
   "outputs": [
    {
     "data": {
      "text/plain": [
       "5"
      ]
     },
     "execution_count": null,
     "metadata": {},
     "output_type": "execute_result"
    }
   ],
   "source": [
    "mid(1, 1, b=1, y=2)"
   ]
  },
  {
   "cell_type": "code",
   "execution_count": null,
   "id": "7784030b-c676-460e-9700-d27963a33a97",
   "metadata": {},
   "outputs": [
    {
     "data": {
      "text/markdown": [
       "---\n",
       "\n",
       "#### mid\n",
       "\n",
       ">      mid (c, d=1, b=1, **kwargs)\n",
       "\n",
       "|    | **Type** | **Default** | **Details** |\n",
       "| -- | -------- | ----------- | ----------- |\n",
       "| c |  |  |  |\n",
       "| d | int | 1 |  |\n",
       "| b | int | 1 | Argument passed to `low` |\n",
       "| kwargs |  |  | Argument passed to `low` |"
      ],
      "text/plain": [
       "<nbdev.showdoc.BasicMarkdownRenderer>"
      ]
     },
     "execution_count": null,
     "metadata": {},
     "output_type": "execute_result"
    }
   ],
   "source": [
    "show_doc(mid)"
   ]
  },
  {
   "cell_type": "markdown",
   "id": "4bc16f1a-5b75-4c6b-b348-df4c7dfb6f13",
   "metadata": {},
   "source": [
    "Now, you can use `keep=False` to remove `**kwargs` but `show_doc` can still display address info of `b`."
   ]
  },
  {
   "cell_type": "code",
   "execution_count": null,
   "id": "955d81df-d9e1-4290-9e86-90b758a349f1",
   "metadata": {},
   "outputs": [
    {
     "data": {
      "text/plain": [
       "<function __main__.high(e, f=1, *, d=1, b=1)>"
      ]
     },
     "execution_count": null,
     "metadata": {},
     "output_type": "execute_result"
    }
   ],
   "source": [
    "@delegates(mid, keep=False)\n",
    "def high(e, f=1, **kwargs): pass\n",
    "high"
   ]
  },
  {
   "cell_type": "code",
   "execution_count": null,
   "id": "fa971522-d587-4f70-bc45-329b92dcf554",
   "metadata": {},
   "outputs": [
    {
     "data": {
      "text/markdown": [
       "---\n",
       "\n",
       "#### high\n",
       "\n",
       ">      high (e, f=1, d=1, b=1)\n",
       "\n",
       "|    | **Type** | **Default** | **Details** |\n",
       "| -- | -------- | ----------- | ----------- |\n",
       "| e |  |  |  |\n",
       "| f | int | 1 |  |\n",
       "| d | int | 1 | Argument passed to `mid` |\n",
       "| b | int | 1 | Argument passed to `mid` |"
      ],
      "text/plain": [
       "<nbdev.showdoc.BasicMarkdownRenderer>"
      ]
     },
     "execution_count": null,
     "metadata": {},
     "output_type": "execute_result"
    }
   ],
   "source": [
    "show_doc(high)"
   ]
  },
  {
   "cell_type": "markdown",
   "id": "2ff29fb2-d48c-47bb-9972-76c7c58d7465",
   "metadata": {},
   "source": [
    "Now, you can use `keep=False` to not only remove `**kwargs` but also refuse to use `delegates` again."
   ]
  },
  {
   "cell_type": "code",
   "execution_count": null,
   "id": "acb61195-aa94-4efd-a6f4-52dd5e04a50f",
   "metadata": {},
   "outputs": [
    {
     "data": {
      "text/plain": [
       "<function __main__.high(e, f=1, *, d=1, b=1)>"
      ]
     },
     "execution_count": null,
     "metadata": {},
     "output_type": "execute_result"
    }
   ],
   "source": [
    "delegates(lower, keep=False)(high)"
   ]
  },
  {
   "cell_type": "code",
   "execution_count": null,
   "id": "81ac44d8-1691-488a-ae85-67b520cde591",
   "metadata": {},
   "outputs": [],
   "source": []
  },
  {
   "cell_type": "markdown",
   "id": "4900906a-9d2b-4ddb-b376-7d3db1826758",
   "metadata": {},
   "source": [
    "#|hide\n",
    "## Sending to Obs"
   ]
  },
  {
   "cell_type": "code",
   "execution_count": null,
   "id": "2c80243e-d028-4316-a544-ef2bd1de60db",
   "metadata": {},
   "outputs": [
    {
     "name": "stdout",
     "output_type": "stream",
     "text": [
      "[jupytext] Reading /Users/Natsume/Documents/debuggable/fastcore/findings/00F_delegates_keep.ipynb in format ipynb\n",
      "[jupytext] Writing /Users/Natsume/Documents/debuggable/fastcore/findings/00F_delegates_keep.md\n"
     ]
    }
   ],
   "source": [
    "#|hide\n",
    "!jupytext --to md /Users/Natsume/Documents/debuggable/fastcore/findings/00F_delegates_keep.ipynb\n",
    "!mv /Users/Natsume/Documents/debuggable/fastcore/findings/00F_delegates_keep.md \\\n",
    "/Users/Natsume/Documents/divefastai/Debuggable/jupytext/fastcore/"
   ]
  },
  {
   "cell_type": "code",
   "execution_count": null,
   "id": "55cff84f-ec29-4cb4-bf1c-1b4747e268e8",
   "metadata": {},
   "outputs": [
    {
     "name": "stdout",
     "output_type": "stream",
     "text": [
      "[NbConvertApp] Converting notebook /Users/Natsume/Documents/debuggable/index.ipynb to markdown\n",
      "[NbConvertApp] Writing 8164 bytes to /Users/Natsume/Documents/divefastai/Debuggable/nbconvert/index.md\n",
      "[NbConvertApp] Converting notebook /Users/Natsume/Documents/debuggable/utils.ipynb to markdown\n",
      "[NbConvertApp] Writing 52952 bytes to /Users/Natsume/Documents/divefastai/Debuggable/nbconvert/utils.md\n",
      "[NbConvertApp] Converting notebook /Users/Natsume/Documents/debuggable/fastcore/classes_metaclasses.ipynb to markdown\n",
      "[NbConvertApp] Writing 27393 bytes to /Users/Natsume/Documents/divefastai/Debuggable/nbconvert/classes_metaclasses.md\n",
      "[NbConvertApp] Converting notebook /Users/Natsume/Documents/debuggable/fastcore/meta/02_use_kwargs_dict.ipynb to markdown\n",
      "[NbConvertApp] Writing 14136 bytes to /Users/Natsume/Documents/divefastai/Debuggable/nbconvert/02_use_kwargs_dict.md\n",
      "[NbConvertApp] Converting notebook /Users/Natsume/Documents/debuggable/fastcore/meta/00_delegates.ipynb to markdown\n",
      "[NbConvertApp] Writing 64603 bytes to /Users/Natsume/Documents/divefastai/Debuggable/nbconvert/00_delegates.md\n",
      "[NbConvertApp] Converting notebook /Users/Natsume/Documents/debuggable/fastcore/meta/01_mk_param.ipynb to markdown\n",
      "[NbConvertApp] Writing 4786 bytes to /Users/Natsume/Documents/divefastai/Debuggable/nbconvert/01_mk_param.md\n",
      "[NbConvertApp] Converting notebook /Users/Natsume/Documents/debuggable/fastcore/findings/00F_delegates_keep.ipynb to markdown\n",
      "[NbConvertApp] Writing 14304 bytes to /Users/Natsume/Documents/divefastai/Debuggable/nbconvert/00F_delegates_keep.md\n"
     ]
    }
   ],
   "source": [
    "#|hide\n",
    "!jupyter nbconvert --config /Users/Natsume/Documents/mynbcfg.py --to markdown \\\n",
    "--output-dir /Users/Natsume/Documents/divefastai/Debuggable/nbconvert"
   ]
  },
  {
   "cell_type": "code",
   "execution_count": null,
   "id": "3a1ca425-fedd-4771-921c-a62c6beb64aa",
   "metadata": {},
   "outputs": [],
   "source": []
  }
 ],
 "metadata": {
  "kernelspec": {
   "display_name": "Python 3 (ipykernel)",
   "language": "python",
   "name": "python3"
  }
 },
 "nbformat": 4,
 "nbformat_minor": 5
}
