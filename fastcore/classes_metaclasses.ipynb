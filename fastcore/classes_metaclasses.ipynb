{
 "cells": [
  {
   "cell_type": "markdown",
   "id": "d42e436a",
   "metadata": {},
   "source": [
    "# classes and metaclasses"
   ]
  },
  {
   "cell_type": "markdown",
   "id": "629f723f",
   "metadata": {},
   "source": [
    "Tutorials on metaclass\n",
    "- a lengthy and comprehensive [one](https://www.honeybadger.io/blog/python-instantiation-metaclass/)\n",
    "- a shorter and simpler [one](https://realpython.com/python-metaclasses/)\n",
    "\n",
    "A basic [tutorial](https://www.pythonpool.com/python-cls-vs-self/) on static, class, instance, cls and self. \n",
    "\n",
    "A tutorial on [super](https://realpython.com/python-super/)"
   ]
  },
  {
   "cell_type": "code",
   "execution_count": null,
   "id": "910501e9",
   "metadata": {},
   "outputs": [],
   "source": [
    "from debuggable.utils import *\n",
    "from pprint import pprint\n",
    "import inspect"
   ]
  },
  {
   "cell_type": "markdown",
   "id": "bf562bca",
   "metadata": {},
   "source": [
    "## Classes"
   ]
  },
  {
   "cell_type": "markdown",
   "id": "509b83ee",
   "metadata": {},
   "source": [
    "### how-method: static vs class vs instance methods"
   ]
  },
  {
   "cell_type": "code",
   "execution_count": null,
   "id": "149124d1",
   "metadata": {},
   "outputs": [],
   "source": [
    "class Sample:\n",
    "   \n",
    "    @staticmethod\n",
    "    def method():\n",
    "        print('This is a static method')\n",
    " \n",
    "Sample.method()"
   ]
  },
  {
   "cell_type": "code",
   "execution_count": null,
   "id": "35ede12f",
   "metadata": {},
   "outputs": [],
   "source": [
    "class Sample:\n",
    "    var = \"Class Variable\"\n",
    "    \n",
    "    @classmethod\n",
    "    def method(cls):\n",
    "        print(f\"this is {cls.var}\")\n",
    " \n",
    "Sample.method()"
   ]
  },
  {
   "cell_type": "code",
   "execution_count": null,
   "id": "89b7793a",
   "metadata": {},
   "outputs": [],
   "source": [
    "class Sample:\n",
    "    def __init__(self, a):\n",
    "        self.a = a\n",
    " \n",
    "    def method(self):\n",
    "        print(self.a)\n",
    "        print(\"I am an instance method, like `__init__`\")\n",
    " \n",
    "obj = Sample(10)\n",
    "obj.method()"
   ]
  },
  {
   "cell_type": "markdown",
   "id": "c5f12642",
   "metadata": {},
   "source": [
    "### how-cls and how-self\n",
    "\n",
    "cls refers to the class, whereas self refers to the instance. Using the cls keyword, we can only access the members of the class, whereas using the self keyword, we can access both the instance variables and the class attributes"
   ]
  },
  {
   "cell_type": "code",
   "execution_count": null,
   "id": "c3ebf9b2",
   "metadata": {},
   "outputs": [],
   "source": [
    "class Person:\n",
    "    about = 'This class stores the name and age for a person' \n",
    "    # class variable/property, no need instance to access it\n",
    " \n",
    "    def __init__(self, name, age): # instance method\n",
    "        self.name = name # define and set an instance variable inside self\n",
    "        self.age = age\n",
    " \n",
    "    def details(self): # \n",
    "        print(f\"Person's name is {self.name} and age is {self.age}\")\n",
    "\n",
    "    def instanceinfo(self):\n",
    "        print(self.about) # an instance can access class property or variable\n",
    "        self.info() # an instance can access class method too\n",
    "        \n",
    "    @classmethod # class method\n",
    "    def info(cls): # class method use cls, no need instance to access it\n",
    "        print(cls.about)\n",
    " \n"
   ]
  },
  {
   "cell_type": "markdown",
   "id": "7aaffd7e",
   "metadata": {},
   "source": [
    "## Type and Class"
   ]
  },
  {
   "cell_type": "markdown",
   "id": "e4f11d82",
   "metadata": {},
   "source": [
    "### how-type: `type(obj)` is equivalent to `obj.__class__`"
   ]
  },
  {
   "cell_type": "code",
   "execution_count": null,
   "id": "877f05e6",
   "metadata": {},
   "outputs": [],
   "source": [
    "class Foo: pass\n",
    "\n",
    "for obj in (1, [2], {\"three\": 3}, (4), Foo):\n",
    "    print(type(obj) is obj.__class__)"
   ]
  },
  {
   "cell_type": "markdown",
   "id": "b56d55a6",
   "metadata": {},
   "source": [
    "### how-type: type are the class (or metaclass) of classes like int, float, etc"
   ]
  },
  {
   "cell_type": "code",
   "execution_count": null,
   "id": "9693923c",
   "metadata": {},
   "outputs": [],
   "source": [
    "for t in int, float, dict, list, tuple, Foo, Foo(), object:\n",
    "...     print(type(t))"
   ]
  },
  {
   "cell_type": "code",
   "execution_count": null,
   "id": "27f39171",
   "metadata": {},
   "outputs": [],
   "source": [
    "type(type)"
   ]
  },
  {
   "cell_type": "markdown",
   "id": "ae535e3f",
   "metadata": {},
   "source": [
    "- x is an instance of class Foo.\n",
    "- Foo is an instance of the type metaclass.\n",
    "- type is also an instance of the type metaclass, so it is an instance of itself.\n",
    "\n",
    "![type](https://files.realpython.com/media/class-chain.5cb031a299fe.png)"
   ]
  },
  {
   "cell_type": "markdown",
   "id": "387d8917",
   "metadata": {},
   "source": [
    "### how-type: create class dynamically using `type`"
   ]
  },
  {
   "cell_type": "markdown",
   "id": "a6dff577",
   "metadata": {},
   "source": [
    "You can also call type() with three arguments—`type(<name>, <bases>, <dct>)`:\n",
    "\n",
    "- `<name>` specifies the class name. This becomes the __name__ attribute of the class.\n",
    "- `<bases>` specifies a tuple of the base classes from which the class inherits. This becomes the __bases__ attribute of the class.\n",
    "- `<dct>` specifies a namespace dictionary containing definitions for the class body. This becomes the __dict__ attribute of the class."
   ]
  },
  {
   "cell_type": "markdown",
   "id": "876d5879",
   "metadata": {},
   "source": [
    "#### Example: Create a class without bases and attributes"
   ]
  },
  {
   "cell_type": "code",
   "execution_count": null,
   "id": "63ccdb49",
   "metadata": {},
   "outputs": [],
   "source": [
    "Foo = type('Foo', (), {})\n",
    "class Foo: pass"
   ]
  },
  {
   "cell_type": "markdown",
   "id": "2cbef1da",
   "metadata": {},
   "source": [
    "#### Example: Create a class with bases and attributes"
   ]
  },
  {
   "cell_type": "code",
   "execution_count": null,
   "id": "779cece1",
   "metadata": {},
   "outputs": [],
   "source": [
    "Bar = type('Bar', (Foo,), dict(attr=100))\n",
    "class Bar(Foo): attr = 100"
   ]
  },
  {
   "cell_type": "markdown",
   "id": "58726725",
   "metadata": {},
   "source": [
    "#### Example: Create a class without base but attributes and methods"
   ]
  },
  {
   "cell_type": "code",
   "execution_count": null,
   "id": "72b4587c",
   "metadata": {},
   "outputs": [],
   "source": [
    "Foo = type('Foo', (), {'attr': 100, 'attr_val': lambda x : x.attr})\n",
    "class Foo: \n",
    "    attr = 100 \n",
    "    def attr_val(self): return self.attr"
   ]
  },
  {
   "cell_type": "code",
   "execution_count": null,
   "id": "4dfaca03",
   "metadata": {},
   "outputs": [],
   "source": [
    "def f(obj):\n",
    "    print('attr =', obj.attr)\n",
    "Foo = type('Foo', (), {'attr': 100,'attr_val': f})\n",
    "\n",
    "def f(obj):\n",
    "    print('attr =', obj.attr)\n",
    "class Foo:\n",
    "    attr = 100\n",
    "    attr_val = f"
   ]
  },
  {
   "cell_type": "markdown",
   "id": "1755f73f",
   "metadata": {},
   "source": [
    "## metaclass: Customize your own type "
   ]
  },
  {
   "cell_type": "markdown",
   "id": "2eb299ea",
   "metadata": {},
   "source": [
    "### What exactly happening when you call a class?"
   ]
  },
  {
   "cell_type": "code",
   "execution_count": null,
   "id": "3ae317d4",
   "metadata": {},
   "outputs": [],
   "source": [
    "class Foo: pass\n",
    "f = Foo()"
   ]
  },
  {
   "cell_type": "code",
   "execution_count": null,
   "id": "3e082674",
   "metadata": {},
   "outputs": [],
   "source": [
    "type(Foo) == Foo.__class__ == type # Foo as a class is created by metaclass type"
   ]
  },
  {
   "cell_type": "code",
   "execution_count": null,
   "id": "ec08fd1b",
   "metadata": {},
   "outputs": [],
   "source": [
    "Foo.__bases__ # Foo inherits from object, but is created by type"
   ]
  },
  {
   "cell_type": "markdown",
   "id": "578de92b",
   "metadata": {},
   "source": [
    "To creating a class, interpreter will first run `type.__call__` which will run `obj.__new__` and `obj.__init__`"
   ]
  },
  {
   "cell_type": "code",
   "execution_count": null,
   "id": "ac95370b",
   "metadata": {},
   "outputs": [],
   "source": [
    "def new(cls):\n",
    "    x = object.__new__(cls) # `__new__` is from object, not type\n",
    "    x.attr = 100\n",
    "    return x\n",
    "\n",
    "Foo.__new__ = new"
   ]
  },
  {
   "cell_type": "markdown",
   "id": "2e3e41b8",
   "metadata": {},
   "source": [
    "### Can we customize type by customizing its `__new__`"
   ]
  },
  {
   "cell_type": "markdown",
   "id": "ca2d9cbb",
   "metadata": {},
   "source": [
    "```python\n",
    "# Spoiler alert:  This doesn't work!\n",
    "def new(cls):\n",
    "    x = type.__new__(cls)\n",
    "    x.attr = 100\n",
    "    return x\n",
    "\n",
    "type.__new__ = new\n",
    "Traceback (most recent call last):\n",
    "  File \"<pyshell#77>\", line 1, in <module>\n",
    "    type.__new__ = new\n",
    "TypeError: can't set attributes of built-in/extension type 'type'\n",
    "```"
   ]
  },
  {
   "cell_type": "markdown",
   "id": "b8423041",
   "metadata": {},
   "source": [
    "### how-type: how to create a type or class dynamically"
   ]
  },
  {
   "cell_type": "markdown",
   "id": "fc179199",
   "metadata": {},
   "source": [
    "```python\n",
    "type??\n",
    "Init signature: type(self, /, *args, **kwargs)\n",
    "Docstring:     \n",
    "type(object) -> the object's type\n",
    "type(name, bases, dict, **kwds) -> a new type\n",
    "Type:           type\n",
    "Subclasses:     ABCMeta, EnumMeta, NamedTupleMeta, _TypedDictMeta, _ABC, MetaHasDescriptors, PyCStructType, UnionType, PyCPointerType, PyCArrayType, ...\n",
    "```"
   ]
  },
  {
   "cell_type": "code",
   "execution_count": null,
   "id": "c530f4d8",
   "metadata": {},
   "outputs": [],
   "source": [
    "class Meta(type):\n",
    "    def __new__(cls, name, bases, dct):\n",
    "        x = super().__new__(cls, name, bases, dct)\n",
    "        x.attr = 100\n",
    "        return x"
   ]
  },
  {
   "cell_type": "code",
   "execution_count": null,
   "id": "f4f73dd7",
   "metadata": {},
   "outputs": [],
   "source": [
    "type(Meta) == Meta.__class__ == type == Meta.__bases__[0] \n",
    "# Meta is created by type and inherited from type"
   ]
  },
  {
   "cell_type": "code",
   "execution_count": null,
   "id": "576f6958",
   "metadata": {},
   "outputs": [],
   "source": [
    "class Foo(metaclass=Meta):\n",
    "    pass\n",
    "pprint(Foo.attr)\n",
    "pprint(Foo.__bases__) # Foo is inherited from object\n",
    "pprint(type(Foo) == Foo.__class__ == Meta) # Foo is created by Meta\n"
   ]
  },
  {
   "cell_type": "code",
   "execution_count": null,
   "id": "1dbe39f7",
   "metadata": {},
   "outputs": [],
   "source": [
    "F = Meta('Foo', (), {'attr': 100})\n",
    "pprint(F.attr)\n",
    "pprint(F.__bases__) # F is inherited from object\n",
    "pprint(type(F) == F.__class__ == Meta) # F is created by Meta\n"
   ]
  },
  {
   "cell_type": "markdown",
   "id": "bad43214",
   "metadata": {},
   "source": [
    "### Metaclass really necessary?"
   ]
  },
  {
   "cell_type": "markdown",
   "id": "8146bfe9",
   "metadata": {},
   "source": [
    "#### Create a class with class attr using metaclass"
   ]
  },
  {
   "cell_type": "code",
   "execution_count": null,
   "id": "197b8f51",
   "metadata": {},
   "outputs": [],
   "source": [
    "class Meta(type):\n",
    "    def __init__(\n",
    "        cls, name, bases, dct\n",
    "    ):\n",
    "        cls.attr = 100"
   ]
  },
  {
   "cell_type": "code",
   "execution_count": null,
   "id": "9bb80a3d",
   "metadata": {},
   "outputs": [],
   "source": [
    "class X(metaclass=Meta):\n",
    "    pass\n",
    "X.attr"
   ]
  },
  {
   "cell_type": "code",
   "execution_count": null,
   "id": "329defc8",
   "metadata": {},
   "outputs": [],
   "source": [
    "Xm = Meta('X', (), {'attr':100})\n",
    "Xm.attr"
   ]
  },
  {
   "cell_type": "code",
   "execution_count": null,
   "id": "fe6c63eb",
   "metadata": {},
   "outputs": [],
   "source": [
    "pprint(type(Xm) == Xm.__class__ == Meta)\n",
    "pprint(Xm.__bases__)"
   ]
  },
  {
   "cell_type": "markdown",
   "id": "19543d77",
   "metadata": {},
   "source": [
    "#### Using simple inheritance"
   ]
  },
  {
   "cell_type": "code",
   "execution_count": null,
   "id": "50f5e9cd",
   "metadata": {},
   "outputs": [],
   "source": [
    "class Base: attr = 100\n",
    "class X(Base): pass\n",
    "X.attr"
   ]
  },
  {
   "cell_type": "code",
   "execution_count": null,
   "id": "5ff1d1bd",
   "metadata": {},
   "outputs": [],
   "source": [
    "pprint(type(X) == X.__class__ == type)\n",
    "pprint(X.__bases__)"
   ]
  },
  {
   "cell_type": "markdown",
   "id": "48359d66",
   "metadata": {},
   "source": [
    "#### Using class decorator"
   ]
  },
  {
   "cell_type": "code",
   "execution_count": null,
   "id": "de40394c",
   "metadata": {},
   "outputs": [],
   "source": [
    "def decorator(cls):\n",
    "    class NewClass(cls): attr = 100\n",
    "    return NewClass\n",
    "\n",
    "@decorator\n",
    "class X: pass\n",
    "\n",
    "X.attr"
   ]
  },
  {
   "cell_type": "code",
   "execution_count": null,
   "id": "ffca3016",
   "metadata": {},
   "outputs": [],
   "source": [
    "pprint(type(X) == X.__class__ == type)\n",
    "pprint(X.__bases__)"
   ]
  },
  {
   "cell_type": "markdown",
   "id": "de047d5b",
   "metadata": {},
   "source": [
    "## how to make an object callable with `__call__`"
   ]
  },
  {
   "cell_type": "code",
   "execution_count": null,
   "id": "0e982741",
   "metadata": {},
   "outputs": [],
   "source": [
    "class Human:\n",
    "    def __init__(self, first_name, last_name):\n",
    "        print(\"I am inside __init__ method\")\n",
    "        self.first_name = first_name\n",
    "        self.last_name = last_name\n",
    "\n",
    "# The following attempts won't work\n",
    "\n",
    "#     @staticmethod  \n",
    "#     def __call__():\n",
    "#         print(\"I am inside __call__ method\")\n",
    "\n",
    "#     @classmethod\n",
    "#     def __call__(cls):\n",
    "#         print(\"I am inside __call__ method\")\n",
    "\n",
    "    def __call__(cls):\n",
    "        print(\"I am inside __call__ method using cls as args\")\n",
    "        \n",
    "    def __call__(self):\n",
    "        print(\"I am inside __call__ method using self as args\")"
   ]
  },
  {
   "cell_type": "code",
   "execution_count": null,
   "id": "e7155a0c",
   "metadata": {},
   "outputs": [],
   "source": [
    "h = Human(1,2)\n",
    "h() # __call__(self) will take priority over __call__(cls), even though both work on its own\n",
    "try:\n",
    "    Human()\n",
    "except TypeError as e: \n",
    "    print(e)"
   ]
  },
  {
   "cell_type": "code",
   "execution_count": null,
   "id": "6e6c8a4b",
   "metadata": {},
   "outputs": [],
   "source": [
    "h.__call__()"
   ]
  },
  {
   "cell_type": "markdown",
   "id": "ead39119",
   "metadata": {},
   "source": [
    "## all classes inherit from object"
   ]
  },
  {
   "cell_type": "markdown",
   "id": "a16f19e8",
   "metadata": {},
   "source": [
    "In Python3, all classes implicitly inherit from the built-in object base class. \n",
    "To specify explicitly `object` as a base class won't be confused with metaclass"
   ]
  },
  {
   "cell_type": "code",
   "execution_count": null,
   "id": "ba19ca75",
   "metadata": {},
   "outputs": [],
   "source": [
    "class Human(object): pass\n",
    "pprint(Human.__class__ == type(Human) == type)\n",
    "pprint(Human.__bases__)"
   ]
  },
  {
   "cell_type": "code",
   "execution_count": null,
   "id": "c3c1593f",
   "metadata": {},
   "outputs": [],
   "source": [
    "class Human(): pass\n",
    "pprint(Human.__class__ == type(Human) == type)\n",
    "pprint(Human.__bases__)"
   ]
  },
  {
   "cell_type": "markdown",
   "id": "0b71453b",
   "metadata": {},
   "source": [
    "## Type as metaclass"
   ]
  },
  {
   "cell_type": "code",
   "execution_count": null,
   "id": "6f36c303",
   "metadata": {},
   "outputs": [],
   "source": [
    "class Human: pass\n",
    "pprint(type(Human))\n",
    "pprint(type(type))"
   ]
  },
  {
   "cell_type": "markdown",
   "id": "56ae8657",
   "metadata": {},
   "source": [
    "![type flow](https://www.honeybadger.io/images/blog/posts/python-instantiation-metaclass/metaclass.png?1660181823)"
   ]
  },
  {
   "cell_type": "markdown",
   "id": "63f483a8",
   "metadata": {},
   "source": [
    "![Type flow instantiation](https://www.honeybadger.io/images/blog/posts/python-instantiation-metaclass/combined.png?1660181823)"
   ]
  },
  {
   "cell_type": "code",
   "execution_count": null,
   "id": "b6a0367f",
   "metadata": {},
   "outputs": [],
   "source": [
    "class Human:\n",
    "    def __init__(self, a, b):\n",
    "        self.a = a\n",
    "        self.b = a\n",
    "\n",
    "human_obj = Human(1, 2)\n",
    "assert isinstance(human_obj, Human) \n",
    "assert isinstance(human_obj, object) "
   ]
  },
  {
   "cell_type": "markdown",
   "id": "49f86723",
   "metadata": {},
   "source": [
    "## `object.__new__` and overriding it by subclasses"
   ]
  },
  {
   "cell_type": "markdown",
   "id": "f0b75c23",
   "metadata": {},
   "source": [
    "### what `object.__new__` look like"
   ]
  },
  {
   "cell_type": "markdown",
   "id": "312a15a1",
   "metadata": {},
   "source": [
    "```python\n",
    "object.__new__??\n",
    "Signature: object.__new__(*args, **kwargs)\n",
    "Docstring: Create and return a new object.  See help(type) for accurate signature.\n",
    "Type:      builtin_function_or_method\n",
    "```"
   ]
  },
  {
   "cell_type": "markdown",
   "id": "1199c808",
   "metadata": {},
   "source": [
    "```python\n",
    "# cls - is the mandatory argument. Object returned by the __new__ method is of type cls\n",
    "@staticmethod\n",
    "def __new__(cls[,...]):\n",
    "    pass\n",
    "```"
   ]
  },
  {
   "cell_type": "markdown",
   "id": "59c03a9d",
   "metadata": {},
   "source": [
    "### What overriding `object.__new__` look like"
   ]
  },
  {
   "cell_type": "code",
   "execution_count": null,
   "id": "f49704c1",
   "metadata": {},
   "outputs": [],
   "source": [
    "class Human:\n",
    "    # no @staticmethod is required when overiding the staticmethod __new__ of object\n",
    "    def __new__(cls, first_name=None):\n",
    "        # cls = Human. cls is the class using which the object will be created.\n",
    "        # Created object will be of type cls.\n",
    "        # We must call the object class' __new__ to allocate memory\n",
    "        obj = super().__new__(cls) # This is equivalent to object.__new__(cls)\n",
    "\n",
    "        # receive obj from object.__new__ and modify it inside Human.__new__\n",
    "        obj.name = first_name if first_name else \"Virat\"\n",
    "\n",
    "        # check the object's class or type\n",
    "        print(type(obj)) # Prints: <__main__.Human object at 0x103665668>\n",
    "        # return the object\n",
    "        return obj\n",
    "\n",
    "# Create an object\n",
    "# __init__ method of `object` class will be called.\n",
    "virat = Human()\n",
    "\n",
    "print(virat.name)  # Output: Virat\n",
    "\n",
    "sachin = Human(\"Sachin\")\n",
    "print(sachin.name)  # Output: Sachin"
   ]
  },
  {
   "cell_type": "code",
   "execution_count": null,
   "id": "ad53b8b9",
   "metadata": {},
   "outputs": [],
   "source": [
    "class Animal:\n",
    "    def __new__(cls):\n",
    "        # cls = Animal, but we don't have to use it.\n",
    "        # Passing Human class reference instead of Animal class reference\n",
    "        obj = super().__new__(Human) # This is equivalent to object.__new__(Human)\n",
    "\n",
    "        print(f\"Type of obj: {type(obj)}\") # Prints: Type of obj: <class '__main__.Human'>\n",
    "\n",
    "        # return the object\n",
    "        return obj\n",
    "\n",
    "# Create an object\n",
    "cat = Animal()\n",
    "# Output:\n",
    "# Type of obj: <class '__main__.Human'>\n",
    "\n",
    "type(cat)   # Output: <class '__main__.Human'>"
   ]
  },
  {
   "cell_type": "markdown",
   "id": "e04bcd5c",
   "metadata": {},
   "source": [
    "## `object.__init__` and overriding it by subclasses"
   ]
  },
  {
   "cell_type": "code",
   "execution_count": null,
   "id": "78726cd4",
   "metadata": {},
   "outputs": [],
   "source": [
    "class Human:\n",
    "    # overriding object.__init__ with Human.__init__ below\n",
    "    def __init__(self, first_name):\n",
    "        # self = obj. __init__ received obj from Human.__new__ or object.__new__\n",
    "        self.first_name = first_name\n",
    "        \n",
    "        # NEVER return self in __init__\n",
    "        return self\n",
    "\n",
    "try:\n",
    "    human_obj = Human('Virat')\n",
    "except TypeError as e: \n",
    "    print(e)"
   ]
  },
  {
   "cell_type": "markdown",
   "id": "e8696ccc",
   "metadata": {},
   "source": [
    "### Overriding both `__new__` and `__init__`"
   ]
  },
  {
   "cell_type": "markdown",
   "id": "66436767",
   "metadata": {},
   "source": [
    "```python\n",
    "object.__init__??\n",
    "Signature:      object.__init__(self, /, *args, **kwargs)\n",
    "Call signature: object.__init__(*args, **kwargs)\n",
    "Type:           wrapper_descriptor\n",
    "String form:    <slot wrapper '__init__' of 'object' objects>\n",
    "Namespace:      Python builtin\n",
    "Docstring:      Initialize self.  See help(type(self)) for accurate signature.\n",
    "```"
   ]
  },
  {
   "cell_type": "code",
   "execution_count": null,
   "id": "055a0ad3",
   "metadata": {},
   "outputs": [],
   "source": [
    "class Human:\n",
    "    def __new__(cls, *args, **kwargs):\n",
    "        # Here, the __new__ method of the object class must be called to create\n",
    "        # and allocate the memory to the object\n",
    "        print(\"Inside `__new__` method\")\n",
    "        print(f\"args arguments {args}\")\n",
    "        print(f\"kwargs arguments {kwargs}\")\n",
    "\n",
    "        # The code below calls the __new__ method of the object's class.\n",
    "        # Object class' __new__ method allocates a memory\n",
    "        # for the instance and returns that instance\n",
    "        human_obj = super(Human, cls).__new__(cls)\n",
    "\n",
    "        print(f\"human_obj instance - {human_obj}\")\n",
    "        return human_obj\n",
    "\n",
    "    # As we have overridden the __init__ method, \n",
    "    # the __init__ method of the object class will Not Be Called\n",
    "    def __init__(self, first_name, last_name):\n",
    "        print(\"Inside __init__ method\")\n",
    "        # self = human_obj returned from the __new__ method\n",
    "\n",
    "        self.first_name = first_name\n",
    "        self.last_name = last_name\n",
    "\n",
    "        print(f\"human_obj instance inside __init__ {self}: {self.first_name}, {self.last_name}\")\n",
    "\n",
    "human_obj = Human(\"Virat\", \"Kohli\")"
   ]
  },
  {
   "cell_type": "markdown",
   "id": "59b9e1b9",
   "metadata": {},
   "source": [
    "## `type.__call__`"
   ]
  },
  {
   "cell_type": "code",
   "execution_count": null,
   "id": "3963960a",
   "metadata": {},
   "outputs": [],
   "source": [
    "class type:\n",
    "    def __call__():\n",
    "        # Called when class is called i.e. Human()\n",
    "        print(\"type's call method\")"
   ]
  },
  {
   "cell_type": "markdown",
   "id": "b9f078fa",
   "metadata": {},
   "source": [
    "- Who calls the __new__ and __init__ method?\n",
    "- Who passes the self object to the __init__ method?\n",
    "- As the __init__ method is called after the __new__ method, and the __init__ method does not return anything, how does calling the class return the object (i.e., how does calling the Human class return the human_obj object)?"
   ]
  },
  {
   "cell_type": "code",
   "execution_count": null,
   "id": "00400d34",
   "metadata": {},
   "outputs": [],
   "source": [
    "class Human:\n",
    "    def __init__(self, first_name, last_name):\n",
    "        self.first_name = first_name\n",
    "        self.last_name = last_name\n",
    "\n",
    "human_obj = Human(\"Virat\", \"Kohli\")"
   ]
  },
  {
   "cell_type": "markdown",
   "id": "74ddf5ef",
   "metadata": {},
   "source": [
    "As we are talking about CPython, the type class' __call__ method [definition](https://eli.thegreenplace.net/2012/04/16/python-object-creation-sequence) is defined in C language. If we convert it into Python and simplify it, it will look somewhat like this:"
   ]
  },
  {
   "cell_type": "code",
   "execution_count": null,
   "id": "9c3a413f",
   "metadata": {},
   "outputs": [],
   "source": [
    "# type's __call__ method which gets called when Human class is called i.e. Human()\n",
    "def __call__(cls, *args, **kwargs):\n",
    "    # cls = Human class\n",
    "    # args = [\"Virat\", \"Kohli\"]\n",
    "    # Calling __new__ method of the Human class, as __new__ method is not defined\n",
    "    # on Human, __new__ method of the object class is called\n",
    "    human_obj = cls.__new__(*args, **kwargs)\n",
    "\n",
    "    # After __new__ method returns the object, __init__ method will only be called if\n",
    "    # 1. human_obj is not None\n",
    "    # 2. human_obj is an instance of class Human\n",
    "    # 3. __init__ method is defined on the Human class\n",
    "    if human_obj is not None and isinstance(human_obj, cls) and hasattr(human_obj, '__init__'):\n",
    "        # As __init__ is called on human_obj, self will be equal to human_obj in __init__ method\n",
    "        human_obj.init(*args, **kwargs)\n",
    "\n",
    "    return human_obj"
   ]
  },
  {
   "cell_type": "markdown",
   "id": "172ec220",
   "metadata": {},
   "source": [
    "![call-new-init](https://www.honeybadger.io/images/blog/posts/python-instantiation-metaclass/object-instantiation-and-creation.png?1660181823)"
   ]
  },
  {
   "cell_type": "markdown",
   "id": "bbd02176",
   "metadata": {},
   "source": [
    "- If the `__new__` method does not return anything, then __init__ will not be called\n",
    "- If the `__new__` method did not return human_obj but an integer with value 10, which is not of the Human type; hence, the `__init__` method will not be called. Also, human_obj will not have the reference for the created object, but it will refer to an integer value of 10.\n"
   ]
  },
  {
   "cell_type": "markdown",
   "id": "07345ca6",
   "metadata": {},
   "source": [
    "## super and inheritance"
   ]
  },
  {
   "cell_type": "markdown",
   "id": "4056facc",
   "metadata": {},
   "source": [
    "### Basic usages of `super`"
   ]
  },
  {
   "cell_type": "code",
   "execution_count": null,
   "id": "737bcff7",
   "metadata": {},
   "outputs": [],
   "source": [
    "class Rectangle:\n",
    "    # call object.__new__ implicitly\n",
    "    \n",
    "    # overriding object.__init__ with the following\n",
    "    def __init__(self, length, width):\n",
    "        self.length = length\n",
    "        self.width = width\n",
    "\n",
    "    def area(self):\n",
    "        return self.length * self.width\n",
    "\n",
    "    def perimeter(self):\n",
    "        return 2 * self.length + 2 * self.width\n",
    "\n",
    "# Here we declare that the Square class inherits from the Rectangle class\n",
    "class Square(Rectangle):\n",
    "    # call Rectangle.__new__ implicitly\n",
    "\n",
    "    # Square needs to override Rectangle.__init__ for its uniqueness\n",
    "    def __init__(self, length):\n",
    "        # but we can still use Rectangle.__init__ here\n",
    "        super().__init__(length, length)\n",
    "        \n",
    "    # Square can inherit all base class methods and attributes\n",
    "        \n",
    "pprint(Square(1).area())\n",
    "pprint(Square(1).perimeter())"
   ]
  },
  {
   "cell_type": "code",
   "execution_count": null,
   "id": "495b0ef6",
   "metadata": {},
   "outputs": [],
   "source": [
    "class Square(Rectangle):\n",
    "    def __init__(self, length):\n",
    "        super().__init__(length, length)\n",
    "\n",
    "class Cube(Square):\n",
    "    # call implicitly Square.__new__, and Square.__init__\n",
    "    # Cube inherit all methods and attributes from Square\n",
    "    \n",
    "    def surface_area(self):\n",
    "        face_area = super().area() # use Square.area to build Cube.surface_area\n",
    "        return face_area * 6\n",
    "\n",
    "    def volume(self):\n",
    "        face_area = super().area() # use Square.area to build Cube.surface_area\n",
    "        return face_area * self.length"
   ]
  },
  {
   "cell_type": "markdown",
   "id": "ab44075d",
   "metadata": {},
   "source": [
    "### Deep dive in `super`"
   ]
  },
  {
   "cell_type": "code",
   "execution_count": null,
   "id": "932901ae",
   "metadata": {},
   "outputs": [],
   "source": [
    "class Rectangle:\n",
    "    def __init__(self, length, width):\n",
    "        self.length = length\n",
    "        self.width = width\n",
    "\n",
    "    def area(self):\n",
    "        return self.length * self.width\n",
    "\n",
    "    def perimeter(self):\n",
    "        return 2 * self.length + 2 * self.width\n",
    "\n",
    "class Square(Rectangle):\n",
    "    def __init__(self, length):\n",
    "        super(Square, self).__init__(length, length) \n",
    "        # equivalent to super().__init__(length, length)"
   ]
  },
  {
   "cell_type": "code",
   "execution_count": null,
   "id": "6d969bfb",
   "metadata": {},
   "outputs": [],
   "source": [
    "class Cube(Square):\n",
    "    def surface_area(self):\n",
    "        face_area = super(Square, self).area()\n",
    "        return face_area * 6\n",
    "\n",
    "    def volume(self):\n",
    "        # jump in inheritance ladder, to search inside Rectangle class not Square class\n",
    "        face_area = super(Square, self).area()\n",
    "        return face_area * self.length"
   ]
  },
  {
   "cell_type": "markdown",
   "id": "5d6a8836",
   "metadata": {},
   "source": [
    "#### How to understand `super(Square, self)`"
   ]
  },
  {
   "cell_type": "markdown",
   "id": "3bc8f463",
   "metadata": {},
   "source": [
    "By including an instantiated object like `self` above, `super()` returns a bound method: a method that is bound to the object, which gives the method the object’s context such as any instance attributes. \n",
    "\n",
    "If this parameter is not included, the method returned is just a function, unassociated with an object’s context"
   ]
  },
  {
   "cell_type": "markdown",
   "id": "e0efd361",
   "metadata": {},
   "source": [
    "### `super()` in Multiple Inheritance"
   ]
  },
  {
   "cell_type": "markdown",
   "id": "a6649ae8",
   "metadata": {},
   "source": [
    "Python supports multiple inheritance, in which a subclass can inherit from multiple superclasses that don’t necessarily inherit from each other (also known as sibling classes).\n",
    "![sibling superclasses](https://files.realpython.com/media/multiple_inheritance.22fc2c1ac608.png)"
   ]
  },
  {
   "cell_type": "code",
   "execution_count": null,
   "id": "3cb2fd4a",
   "metadata": {},
   "outputs": [],
   "source": [
    "class Triangle:\n",
    "    def __init__(self, base, height):\n",
    "        self.base = base\n",
    "        self.height = height\n",
    "\n",
    "    def area(self):\n",
    "        return 0.5 * self.base * self.height"
   ]
  },
  {
   "cell_type": "code",
   "execution_count": null,
   "id": "8b396315",
   "metadata": {},
   "outputs": [],
   "source": [
    "class RightPyramid(Triangle, Square): # note the order of super classes\n",
    "    def __init__(self, base, slant_height):\n",
    "        self.base = base\n",
    "        self.slant_height = slant_height\n",
    "\n",
    "    def area(self):\n",
    "        base_area = super().area()\n",
    "        perimeter = super().perimeter()\n",
    "        return 0.5 * perimeter * self.slant_height + base_area"
   ]
  },
  {
   "cell_type": "code",
   "execution_count": null,
   "id": "a805ecb0",
   "metadata": {},
   "outputs": [],
   "source": [
    "pyramid = RightPyramid(2, 4)\n",
    "try:\n",
    "    pyramid.area()\n",
    "except AttributeError as e:\n",
    "    print(e)"
   ]
  },
  {
   "cell_type": "markdown",
   "id": "1dd5fe22",
   "metadata": {},
   "source": [
    "```python\n",
    "Traceback (most recent call last):\n",
    "  File \"shapes.py\", line 63, in <module>\n",
    "    print(pyramid.area())\n",
    "  File \"shapes.py\", line 47, in area\n",
    "    base_area = super().area()\n",
    "  File \"shapes.py\", line 38, in area\n",
    "    return 0.5 * self.base * self.height\n",
    "AttributeError: 'RightPyramid' object has no attribute 'height'\n",
    "```"
   ]
  },
  {
   "cell_type": "markdown",
   "id": "8085ac8e",
   "metadata": {},
   "source": [
    "### MRO: method resolution order\n",
    "The method resolution order (or MRO) tells Python how to search for inherited methods."
   ]
  },
  {
   "cell_type": "code",
   "execution_count": null,
   "id": "14697a00",
   "metadata": {},
   "outputs": [],
   "source": [
    "RightPyramid.__mro__"
   ]
  },
  {
   "cell_type": "code",
   "execution_count": null,
   "id": "6cad3d77",
   "metadata": {},
   "outputs": [],
   "source": [
    "RightPyramid.__base__"
   ]
  },
  {
   "cell_type": "markdown",
   "id": "9a1a0e6b",
   "metadata": {},
   "source": [
    "Luckily, you have some control over how the MRO is constructed. Just by changing the signature of the RightPyramid class, you can search in the order you want, and the methods will resolve correctly:"
   ]
  },
  {
   "cell_type": "code",
   "execution_count": null,
   "id": "433c0e5d",
   "metadata": {},
   "outputs": [],
   "source": [
    "class Triangle:\n",
    "    def __init__(self, base, height):\n",
    "        self.base = base\n",
    "        self.height = height\n",
    "        super().__init__()\n",
    "\n",
    "    def tri_area(self):\n",
    "        return 0.5 * self.base * self.height\n",
    "\n",
    "class RightPyramid(Square, Triangle):\n",
    "    def __init__(self, base, slant_height):\n",
    "        self.base = base\n",
    "#         self.height = base # add this line to avoid tri_area missing height value\n",
    "        self.slant_height = slant_height\n",
    "        super().__init__(self.base)\n",
    "\n",
    "    def area(self):\n",
    "        base_area = super().area()\n",
    "        perimeter = super().perimeter()\n",
    "        return 0.5 * perimeter * self.slant_height + base_area\n",
    "\n",
    "    def area_2(self):\n",
    "        base_area = super().area()\n",
    "        triangle_area = super().tri_area()\n",
    "        return triangle_area * 4 + base_area"
   ]
  },
  {
   "cell_type": "code",
   "execution_count": null,
   "id": "9266149b",
   "metadata": {},
   "outputs": [],
   "source": [
    "pprint(RightPyramid.__base__)\n",
    "\n",
    "pprint(RightPyramid.__mro__)"
   ]
  },
  {
   "cell_type": "code",
   "execution_count": null,
   "id": "c9578c4e",
   "metadata": {},
   "outputs": [],
   "source": [
    "pyramid = RightPyramid(base=2, slant_height=4)\n",
    "pyramid.area()\n",
    "try:\n",
    "    pyramid.area_2()\n",
    "except AttributeError as e:\n",
    "    print(e)"
   ]
  },
  {
   "cell_type": "markdown",
   "id": "b018a6d9",
   "metadata": {},
   "source": [
    "```python\n",
    "---------------------------------------------------------------------------\n",
    "AttributeError                            Traceback (most recent call last)\n",
    "Input In [284], in <cell line: 3>()\n",
    "      1 pyramid = RightPyramid(base=2, slant_height=4)\n",
    "      2 pyramid.area()\n",
    "----> 3 pyramid.area_2()\n",
    "\n",
    "Input In [282], in RightPyramid.area_2(self)\n",
    "     22 def area_2(self):\n",
    "     23     base_area = super().area()\n",
    "---> 24     triangle_area = super().tri_area()\n",
    "     25     return triangle_area * 4 + base_area\n",
    "\n",
    "Input In [282], in Triangle.tri_area(self)\n",
    "      7 def tri_area(self):\n",
    "----> 8     return 0.5 * self.base * self.height\n",
    "\n",
    "AttributeError: 'RightPyramid' object has no attribute 'height'\n",
    "\n",
    "```"
   ]
  },
  {
   "cell_type": "markdown",
   "id": "e4d83924",
   "metadata": {},
   "source": [
    "### how-kwargs: Using `**kwargs` to pass values to superclasses"
   ]
  },
  {
   "cell_type": "code",
   "execution_count": null,
   "id": "775301a4",
   "metadata": {},
   "outputs": [],
   "source": [
    "class Rectangle:\n",
    "    def __init__(self, length, width, **kwargs):\n",
    "        self.length = length\n",
    "        self.width = width\n",
    "        super().__init__(**kwargs)\n",
    "\n",
    "    def area(self):\n",
    "        return self.length * self.width\n",
    "\n",
    "    def perimeter(self):\n",
    "        return 2 * self.length + 2 * self.width\n",
    "\n",
    "# Here we declare that the Square class inherits from \n",
    "# the Rectangle class\n",
    "class Square(Rectangle):\n",
    "    def __init__(self, length, **kwargs):\n",
    "        super().__init__(length=length, width=length, **kwargs)\n",
    "\n",
    "class Cube(Square):\n",
    "    def surface_area(self):\n",
    "        face_area = super().area()\n",
    "        return face_area * 6\n",
    "\n",
    "    def volume(self):\n",
    "        face_area = super().area()\n",
    "        return face_area * self.length\n",
    "\n",
    "class Triangle:\n",
    "    def __init__(self, base, height, **kwargs):\n",
    "        self.base = base\n",
    "        self.height = height\n",
    "        super().__init__(**kwargs)\n",
    "\n",
    "    def tri_area(self):\n",
    "        return 0.5 * self.base * self.height\n",
    "\n",
    "class RightPyramid(Square, Triangle):\n",
    "    def __init__(self, base, slant_height, **kwargs):\n",
    "        self.base = base\n",
    "        self.slant_height = slant_height\n",
    "        kwargs[\"height\"] = slant_height\n",
    "        kwargs[\"length\"] = base\n",
    "        super().__init__(base=base, **kwargs)\n",
    "\n",
    "    def area(self):\n",
    "        base_area = super().area()\n",
    "        perimeter = super().perimeter()\n",
    "        return 0.5 * perimeter * self.slant_height + base_area\n",
    "\n",
    "    def area_2(self):\n",
    "        base_area = super().area()\n",
    "        triangle_area = super().tri_area()\n",
    "        return triangle_area * 4 + base_area"
   ]
  },
  {
   "cell_type": "code",
   "execution_count": null,
   "id": "22809fea",
   "metadata": {},
   "outputs": [],
   "source": [
    "pprint(RightPyramid.__base__)\n",
    "pprint(RightPyramid.__mro__)"
   ]
  },
  {
   "cell_type": "code",
   "execution_count": null,
   "id": "d782b445",
   "metadata": {},
   "outputs": [],
   "source": [
    "pyramid = RightPyramid(base=2, slant_height=4)\n",
    "pyramid.area()\n",
    "pyramid.area_2()"
   ]
  },
  {
   "cell_type": "markdown",
   "id": "331bf128",
   "metadata": {},
   "source": [
    "### Mixin"
   ]
  },
  {
   "cell_type": "code",
   "execution_count": null,
   "id": "fe0aadf8",
   "metadata": {},
   "outputs": [],
   "source": [
    "class Rectangle:\n",
    "    def __init__(self, length, width):\n",
    "        self.length = length\n",
    "        self.width = width\n",
    "\n",
    "    def area(self):\n",
    "        return self.length * self.width\n",
    "\n",
    "class Square(Rectangle):\n",
    "    def __init__(self, length):\n",
    "        super().__init__(length, length)\n",
    "\n",
    "class VolumeMixin: # this is actually a mixin, not perform as a superclass for Cube\n",
    "    def volume(self):\n",
    "        return self.area() * self.height\n",
    "\n",
    "class Cube(VolumeMixin, Square):\n",
    "    def __init__(self, length):\n",
    "        super().__init__(length)\n",
    "        self.height = length\n",
    "\n",
    "    def face_area(self):\n",
    "        return super().area()\n",
    "\n",
    "    def surface_area(self):\n",
    "        return super().area() * 6"
   ]
  },
  {
   "cell_type": "code",
   "execution_count": null,
   "id": "70ae689c",
   "metadata": {},
   "outputs": [],
   "source": [
    "cube = Cube(2)\n",
    "cube.surface_area()\n",
    "cube.volume()"
   ]
  },
  {
   "cell_type": "code",
   "execution_count": null,
   "id": "d86a87f7",
   "metadata": {},
   "outputs": [],
   "source": [
    "pprint(Cube.__bases__)\n",
    "pprint(Cube.__mro__)"
   ]
  },
  {
   "cell_type": "markdown",
   "id": "b62a5507",
   "metadata": {},
   "source": [
    "#|hide\n",
    "## Send to Obs"
   ]
  },
  {
   "cell_type": "code",
   "execution_count": null,
   "id": "142e8b42",
   "metadata": {},
   "outputs": [],
   "source": [
    "#|hide\n",
    "!jupytext --to md /Users/Natsume/Documents/debuggable/fastcore.meta/classes_metaclasses.ipynb\n",
    "!mv /Users/Natsume/Documents/debuggable/fastcore.meta/classes_metaclasses.md \\\n",
    "/Users/Natsume/Documents/divefastai/Debuggable/jupytext/fastcore.meta/"
   ]
  },
  {
   "cell_type": "code",
   "execution_count": null,
   "id": "1ae0b343",
   "metadata": {},
   "outputs": [],
   "source": [
    "!jupyter nbconvert --config /Users/Natsume/Documents/mynbcfg.py --to markdown \\\n",
    "--output-dir /Users/Natsume/Documents/divefastai/Debuggable/nbconvert"
   ]
  },
  {
   "cell_type": "code",
   "execution_count": null,
   "id": "f5f78190",
   "metadata": {},
   "outputs": [],
   "source": []
  }
 ],
 "metadata": {
  "kernelspec": {
   "display_name": "Python 3 (ipykernel)",
   "language": "python",
   "name": "python3"
  }
 },
 "nbformat": 4,
 "nbformat_minor": 5
}
