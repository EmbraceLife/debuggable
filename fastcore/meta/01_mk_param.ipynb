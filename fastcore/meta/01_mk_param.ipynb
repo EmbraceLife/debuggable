{
 "cells": [
  {
   "cell_type": "markdown",
   "id": "0c2b4891",
   "metadata": {},
   "source": [
    "# fastcore.meta._mk_param"
   ]
  },
  {
   "cell_type": "code",
   "execution_count": null,
   "id": "df5196d6",
   "metadata": {},
   "outputs": [],
   "source": [
    "from fastcore.imports import *\n",
    "from fastcore.meta import *\n",
    "from fastcore.test import *\n",
    "import inspect\n",
    "from debuggable.utils import dbprint, defaults, whichversion, defaults\n",
    "from pprint import pprint\n",
    "from datetime import date\n",
    "import ast"
   ]
  },
  {
   "cell_type": "code",
   "execution_count": null,
   "id": "1de0495d",
   "metadata": {},
   "outputs": [],
   "source": [
    "from fastcore.meta import _mk_param"
   ]
  },
  {
   "cell_type": "code",
   "execution_count": null,
   "id": "08e20d47",
   "metadata": {},
   "outputs": [],
   "source": [
    "today = date.today()\n",
    "print(\"Today's date:\", today)"
   ]
  },
  {
   "cell_type": "code",
   "execution_count": null,
   "id": "d97cc1b4",
   "metadata": {},
   "outputs": [],
   "source": [
    "# !pip install -U fastcore\n",
    "whichversion('fastcore')"
   ]
  },
  {
   "cell_type": "markdown",
   "id": "bd1f2da5",
   "metadata": {},
   "source": [
    "## Sources"
   ]
  },
  {
   "cell_type": "markdown",
   "id": "656a5f92",
   "metadata": {},
   "source": [
    "```python\n",
    "def _mk_param(n,d=None): return inspect.Parameter(n, inspect.Parameter.KEYWORD_ONLY, default=d)\n",
    "\n",
    "```"
   ]
  },
  {
   "cell_type": "code",
   "execution_count": null,
   "id": "2cc616a7",
   "metadata": {},
   "outputs": [],
   "source": [
    "inspect.Parameter?"
   ]
  },
  {
   "cell_type": "code",
   "execution_count": null,
   "id": "d0df569e",
   "metadata": {},
   "outputs": [],
   "source": [
    "def _mk_param(n,d=None): \n",
    "    \"Create a parameter with name and a default value None, the kind is fixed on Keyword_only.\"\n",
    "    \n",
    "    dbprint(\"inspect.Parameter(n, inspect.Parameter.KEYWORD_ONLY, default=d)\", \"n\", \"d\", \"inspect.Parameter.KEYWORD_ONLY\", \\\n",
    "            \"param = inspect.Parameter(n, inspect.Parameter.KEYWORD_ONLY, default=d)\", \"type(param)\", n=n, d=d, inspect=inspect)\n",
    "    \n",
    "    return inspect.Parameter(n, inspect.Parameter.KEYWORD_ONLY, default=d)"
   ]
  },
  {
   "cell_type": "code",
   "execution_count": null,
   "id": "adeb6279",
   "metadata": {},
   "outputs": [],
   "source": [
    "from fastcore.meta import _mk_param as mp\n",
    "defaults.src = inspect.getsource(mp)\n",
    "defaults.deb = inspect.getsource(_mk_param)"
   ]
  },
  {
   "cell_type": "code",
   "execution_count": null,
   "id": "bad571fc",
   "metadata": {},
   "outputs": [],
   "source": [
    "defaults.eg=\"\"\"\n",
    "_mk_param(\"p\")\n",
    "\"\"\""
   ]
  },
  {
   "cell_type": "code",
   "execution_count": null,
   "id": "eacb3f6e",
   "metadata": {},
   "outputs": [],
   "source": [
    "_mk_param(\"p\")"
   ]
  },
  {
   "cell_type": "markdown",
   "id": "b4747920",
   "metadata": {},
   "source": [
    "## Examples \n",
    "official [docs](https://hyp.is/-TNHTh6FEe2Doguc3_F33g/nbviewer.org/github/fastai/fastcore/blob/master/nbs/07_meta.ipynb)"
   ]
  },
  {
   "cell_type": "markdown",
   "id": "ff3307e6",
   "metadata": {},
   "source": [
    "```python\n",
    "s2 = {n:_mk_param(n,d) for n,d in kwargs.items() if n not in sigd}\n",
    "s2 = {n:_mk_param(n) for n in names if n not in sigd}\n",
    "```"
   ]
  },
  {
   "cell_type": "code",
   "execution_count": null,
   "id": "c5b3d497",
   "metadata": {},
   "outputs": [],
   "source": []
  },
  {
   "cell_type": "markdown",
   "id": "b42a3354",
   "metadata": {},
   "source": [
    "#|hide\n",
    "## Sending to Obs"
   ]
  },
  {
   "cell_type": "code",
   "execution_count": null,
   "id": "2564555a",
   "metadata": {},
   "outputs": [],
   "source": [
    "#|hide\n",
    "!jupytext --to md /Users/Natsume/Documents/debuggable/fastcore/meta/01_mk_param.ipynb\n",
    "!mv /Users/Natsume/Documents/debuggable/fastcore/meta/01_mk_param.md \\\n",
    "/Users/Natsume/Documents/divefastai/Debuggable/jupytext/fastcore/"
   ]
  },
  {
   "cell_type": "code",
   "execution_count": null,
   "id": "7daa47e3",
   "metadata": {},
   "outputs": [],
   "source": [
    "#|hide\n",
    "!jupyter nbconvert --config /Users/Natsume/Documents/mynbcfg.py --to markdown \\\n",
    "--output-dir /Users/Natsume/Documents/divefastai/Debuggable/nbconvert"
   ]
  },
  {
   "cell_type": "code",
   "execution_count": null,
   "id": "3de9913f",
   "metadata": {},
   "outputs": [],
   "source": []
  }
 ],
 "metadata": {
  "kernelspec": {
   "display_name": "Python 3 (ipykernel)",
   "language": "python",
   "name": "python3"
  }
 },
 "nbformat": 4,
 "nbformat_minor": 5
}
