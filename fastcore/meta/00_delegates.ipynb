{
 "cells": [
  {
   "cell_type": "markdown",
   "id": "86501837",
   "metadata": {},
   "source": [
    "# fastcore.meta.delegates"
   ]
  },
  {
   "cell_type": "markdown",
   "id": "7a647aa9-e840-4fa6-8a53-767ce9f397ea",
   "metadata": {},
   "source": [
    "## Imports"
   ]
  },
  {
   "cell_type": "code",
   "execution_count": null,
   "id": "e6a3df0e-6563-441c-9b30-2a6e49ac2c11",
   "metadata": {},
   "outputs": [],
   "source": [
    "from debuggable.utils import dbprint, defaults, whichversion, defaults, colorize, insert2debug, dbsrclines, checksrc"
   ]
  },
  {
   "cell_type": "code",
   "execution_count": null,
   "id": "679f6cab-e39c-4229-b806-956382018f36",
   "metadata": {},
   "outputs": [
    {
     "name": "stdout",
     "output_type": "stream",
     "text": [
      "fastcore: 1.5.22 \n",
      "Python supercharged for fastai development    \n",
      "Jeremy Howard and Sylvain Gugger \n",
      "https://github.com/fastai/fastcore/     \n",
      "python_version: >=3.7     \n",
      "/Users/Natsume/mambaforge/lib/python3.9/site-packages/fastcore\n"
     ]
    }
   ],
   "source": [
    "# !pip install -U fastcore\n",
    "whichversion('fastcore')"
   ]
  },
  {
   "cell_type": "code",
   "execution_count": null,
   "id": "322bd4e4-9ee8-4799-9738-445d76e7ec10",
   "metadata": {},
   "outputs": [],
   "source": [
    "from fastcore.imports import *\n",
    "from fastcore.meta import *\n",
    "from fastcore.test import *\n",
    "import inspect\n",
    "from pprint import pprint\n",
    "from datetime import date\n",
    "import ast"
   ]
  },
  {
   "cell_type": "code",
   "execution_count": null,
   "id": "ff754cef",
   "metadata": {},
   "outputs": [
    {
     "name": "stdout",
     "output_type": "stream",
     "text": [
      "Today's date: 2022-08-26\n"
     ]
    }
   ],
   "source": [
    "today = date.today()\n",
    "print(\"Today's date:\", today)"
   ]
  },
  {
   "cell_type": "markdown",
   "id": "2fe1876d-45e3-4467-8c1f-856cf616c2fd",
   "metadata": {},
   "source": [
    "## Upate my source"
   ]
  },
  {
   "cell_type": "code",
   "execution_count": null,
   "id": "c60a01a4-b2b6-43b7-92a7-32c8227f938d",
   "metadata": {},
   "outputs": [
    {
     "name": "stdout",
     "output_type": "stream",
     "text": [
      "def delegates(to:FunctionType=None, # Delegatee                                                                                                              \n",
      "              keep=False, # Keep `kwargs` in decorated function?                                                                                             \n",
      "              but:list=None): # Exclude these parameters from signature                                                                                      \n",
      "    \"Decorator: replace `**kwargs` in signature with params from `to`\"                                                                                       \n",
      "    if but is None: but = []                                                                                                                                 \n",
      "    def _f(f):                                                                                                                                               \n",
      "        if to is None: to_f,from_f = f.__base__.__init__,f.__init__                                                                                          \n",
      "        else:          to_f,from_f = to.__init__ if isinstance(to,type) else to,f                                                                            \n",
      "        from_f = getattr(from_f,'__func__',from_f)                                                                                                           \n",
      "        to_f = getattr(to_f,'__func__',to_f)                                                                                                                 \n",
      "        if hasattr(from_f,'__delwrap__'): return f                                                                                                           \n",
      "        sig = inspect.signature(from_f)                                                                                                                      \n",
      "        sigd = dict(sig.parameters)                                                                                                                          \n",
      "        k = sigd.pop('kwargs')                                                                                                                               \n",
      "        s2 = {k:v.replace(kind=inspect.Parameter.KEYWORD_ONLY) for k,v in inspect.signature(to_f).parameters.items()                                         \n",
      "              if v.default != inspect.Parameter.empty and k not in sigd and k not in but}                                                                    \n",
      "        anno = {k:v for k,v in to_f.__annotations__.items() if k not in sigd and k not in but}                                                               \n",
      "        sigd.update(s2)                                                                                                                                      \n",
      "        if keep: sigd['kwargs'] = k                                                                                                                          \n",
      "        else: from_f.__delwrap__ = to_f                                                                                                                      \n",
      "        from_f.__signature__ = sig.replace(parameters=sigd.values())                                                                                         \n",
      "        if hasattr(from_f, '__annotations__'): from_f.__annotations__.update(anno)                                                                           \n",
      "        return f                                                                                                                                             \n",
      "    return _f                                                                                                                                                \n",
      "                                                                                                                                                             \n"
     ]
    }
   ],
   "source": [
    "srcname = \"delegates\"\n",
    "checksrc(srcname)"
   ]
  },
  {
   "cell_type": "markdown",
   "id": "516a7a71",
   "metadata": {},
   "source": [
    "## A personal docs on delegates\n",
    "\n",
    "I have been developing a workflow of creating my own docs for fastcore. Here is what I have so far.\n",
    "\n",
    "1st step: read and run examples from the official [docs](https://hyp.is/8brb_B42Ee2vbjuvJtjGGw/nbviewer.org/github/fastai/fastcore/blob/master/nbs/07_meta.ipynb) to understand how you should use it.\n",
    "\n",
    "2nd step: write your own examples to test your understanding of the usages and explore the boundaries to cause errors.\n",
    "\n",
    "3rd step: read the source and find out what from the source caused the errors using debugging tools like `print`, `pdb.set_trace`, `%debug`, jupyterlab's visual debugger etc.\n",
    "\n",
    "To keep my docs here readable, I will only present the second step and one or two examples of the third step."
   ]
  },
  {
   "cell_type": "code",
   "execution_count": null,
   "id": "94053329-fc1c-4d26-a5b6-10cfdd4d1cca",
   "metadata": {},
   "outputs": [
    {
     "name": "stdout",
     "output_type": "stream",
     "text": [
      "('def delegates(to:FunctionType=None, # Delegatee\\n'\n",
      " '              keep=False, # Keep `kwargs` in decorated function?\\n'\n",
      " '              but:list=None): # Exclude these parameters from signature\\n'\n",
      " '    \"Decorator: replace `**kwargs` in signature with params from `to`\"\\n'\n",
      " '    if but is None: but = []\\n'\n",
      " '    def _f(f):\\n'\n",
      " '        if to is None: to_f,from_f = f.__base__.__init__,f.__init__\\n'\n",
      " '        else:          to_f,from_f = to.__init__ if isinstance(to,type) else '\n",
      " 'to,f\\n'\n",
      " \"        from_f = getattr(from_f,'__func__',from_f)\\n\"\n",
      " \"        to_f = getattr(to_f,'__func__',to_f)\\n\"\n",
      " \"        if hasattr(from_f,'__delwrap__'): return f\\n\"\n",
      " '        sig = inspect.signature(from_f)\\n'\n",
      " '        sigd = dict(sig.parameters)\\n'\n",
      " \"        k = sigd.pop('kwargs')\\n\"\n",
      " '        s2 = {k:v.replace(kind=inspect.Parameter.KEYWORD_ONLY) for k,v in '\n",
      " 'inspect.signature(to_f).parameters.items()\\n'\n",
      " '              if v.default != inspect.Parameter.empty and k not in sigd and '\n",
      " 'k not in but}\\n'\n",
      " '        anno = {k:v for k,v in to_f.__annotations__.items() if k not in sigd '\n",
      " 'and k not in but}\\n'\n",
      " '        sigd.update(s2)\\n'\n",
      " \"        if keep: sigd['kwargs'] = k\\n\"\n",
      " '        else: from_f.__delwrap__ = to_f\\n'\n",
      " '        from_f.__signature__ = sig.replace(parameters=sigd.values())\\n'\n",
      " \"        if hasattr(from_f, '__annotations__'): \"\n",
      " 'from_f.__annotations__.update(anno)\\n'\n",
      " '        return f\\n'\n",
      " '    return _f\\n')\n"
     ]
    }
   ],
   "source": [
    "pprint(inspect.getsource(delegates))"
   ]
  },
  {
   "cell_type": "markdown",
   "id": "49da1418",
   "metadata": {},
   "source": [
    "### When to use it?\n",
    "When `f` want to replace its `**kwargs` param with unique kwargs (with their annotations) from `to`.\n",
    "\n",
    "### Who are `to` and `f`?\n",
    "They can be functions, instance methods, classmethods, and even classes.\n",
    "\n",
    "### What is `**kwargs`?\n",
    "It's a param of `f`, to receive unknown keyword args (i.e., not sure how many and what they are) with values. In general, `to` can tell us what those unkown keyword args for `f`."
   ]
  },
  {
   "cell_type": "markdown",
   "id": "5cf2a49d",
   "metadata": {},
   "source": [
    "### Additional features with `keep` and `but`\n",
    "#### When to use `keep=False`?\n",
    "\n",
    "`f` is happy with all the params it got, no more expectation of other kwargs, so remove `**kwargs` from its signature.\n",
    "\n",
    "#### when to use `keep=True`?\n",
    "\n",
    "`f` is not content with all the params it got, and still expect other kwargs in the future when needed.\n",
    "\n",
    "#### when to use `but=['d']`?\n",
    "\n",
    "`f` does not want a list of specified kwargs from `to`, such as `d` here."
   ]
  },
  {
   "cell_type": "markdown",
   "id": "d7bc9a31",
   "metadata": {},
   "source": [
    "### Creating your own examples to test the boundary of usages"
   ]
  },
  {
   "cell_type": "code",
   "execution_count": null,
   "id": "654c2a45",
   "metadata": {},
   "outputs": [],
   "source": [
    "def low(a, b=1, c=1, **kwargs): pass # to receive unexpected kwargs, `to` need `**kwargs` too.\n",
    "@delegates(low, keep=True, but=['b'])\n",
    "def mid(a, d=1, **kwargs): pass\n",
    "test_sig(mid, '(a, d=1, *, c=1, **kwargs)')\n",
    "mid(a=1, d=1, c=1, e=1) # mid is open to other unexpected kwargs without error"
   ]
  },
  {
   "cell_type": "code",
   "execution_count": null,
   "id": "5c78db06",
   "metadata": {},
   "outputs": [],
   "source": [
    "def low(a, b=1): pass \n",
    "@delegates(low) # to as func\n",
    "def mid(c, d=1, **kwargs): pass # f as func\n",
    "test_sig(mid, '(c, d=1, *, b=1)')"
   ]
  },
  {
   "cell_type": "code",
   "execution_count": null,
   "id": "0a263748",
   "metadata": {},
   "outputs": [],
   "source": [
    "class Foo():\n",
    "\n",
    "    @delegates(low) # to as func\n",
    "    @classmethod # classmethod() run before delegates()\n",
    "    def clsmid1(cls, c, d=1, **kwargs): pass # f as classmethod\n",
    "\n",
    "\n",
    "    @delegates(clsmid1) # to as classmethod\n",
    "    @classmethod\n",
    "    def clsmid2(cls, c, e=1, **kwargs): pass # f as classmethod\n",
    "\n",
    "test_sig(Foo.clsmid1, '(c, d=1, *, b=1)')\n",
    "test_sig(Foo.clsmid2, '(c, e=1, *, d=1, b=1)')"
   ]
  },
  {
   "cell_type": "code",
   "execution_count": null,
   "id": "f5259145",
   "metadata": {},
   "outputs": [],
   "source": [
    "class Foo():\n",
    "    \n",
    "\t@classmethod\n",
    "\t@delegates(low) # to as func\n",
    "\tdef clsmid1(cls, c, d=1, **kwargs): pass # f as func, not classmethod\n",
    "\n",
    "\t@classmethod \n",
    "\t@delegates(clsmid1)  # to as classmethod \n",
    "\tdef clsmid2(cls, c, e=1, **kwargs): pass # f as func, not classmethod\n",
    "\n",
    "test_sig(Foo.clsmid1, '(c, d=1, *, b=1)')\n",
    "test_sig(Foo.clsmid2, '(c, e=1, *, d=1, b=1)')"
   ]
  },
  {
   "cell_type": "code",
   "execution_count": null,
   "id": "4ebfdb03",
   "metadata": {},
   "outputs": [],
   "source": [
    "class Foo1():\n",
    "\n",
    "    @delegates(Foo.clsmid2) # to as classmethod\n",
    "    def instmid1(self, c, f=1, **kwargs): pass # f as func\n",
    "\n",
    "    @delegates(instmid1) # to as func type\n",
    "    def instmid2(self, c, g=1, **kwargs): pass # f as func \n",
    "\n",
    "f = Foo1()\n",
    "test_sig(f.instmid1, '(c, f=1, *, e=1, d=1, b=1)')\n",
    "test_sig(f.instmid2, '(c, g=1, *, f=1, e=1, d=1, b=1)')"
   ]
  },
  {
   "cell_type": "code",
   "execution_count": null,
   "id": "0ed17288",
   "metadata": {},
   "outputs": [],
   "source": [
    "class Foo():\n",
    "    @classmethod\n",
    "    def f(cls, a=1, c=2): pass\n",
    "\n",
    "@delegates(Foo.f) # `to` is a classmethod\n",
    "def low(a, b=1, **kwargs): pass # `f` is a function\n",
    "test_sig(low, '(a, b=1, *, c=2)')"
   ]
  },
  {
   "cell_type": "code",
   "execution_count": null,
   "id": "1745d22b",
   "metadata": {},
   "outputs": [],
   "source": [
    "class Foo():\n",
    "\tdef __init__(a, b=1, **kwargs): pass\n",
    "\n",
    "@delegates(Foo) # `to` is a class\n",
    "def low(c, d=1, **kwargs): pass # `f` as function\n",
    "\n",
    "test_sig(low, '(c, d=1, *, b=1)')"
   ]
  },
  {
   "cell_type": "code",
   "execution_count": null,
   "id": "cb04b0ad-237f-4d11-8dcd-b7eb250bb936",
   "metadata": {},
   "outputs": [],
   "source": [
    "class Base(): \n",
    "    def __init__(self, a, b=1): pass \n",
    "class Other():\n",
    "    def __init__(self, e=1): pass\n",
    "\n",
    "@delegates(Other)\n",
    "class Foo():    \n",
    "    def __new__(self, g, f=1, **kwargs): pass # f as a class is ok with either __new__ or __init__\n",
    "test_sig(Foo, '(g, f=1, *, e=1)')"
   ]
  },
  {
   "cell_type": "code",
   "execution_count": null,
   "id": "12b77196-ba49-430e-9076-e25f364021a9",
   "metadata": {},
   "outputs": [],
   "source": [
    "@delegates()\n",
    "class Subcls(Base): # to as a superclass (Base),  to must have __init__, and __new__ won't do. \n",
    "    ### why?\n",
    "    # As source code required to use Base.__init__, if it doesn't have it, it will use a wrap-slot __init__, which has no __annotations__, and will\n",
    "    # cause error when __annotations__ is called later.\n",
    "    def __init__(self, c, d=1, **kwargs): pass # f as class, should have __init__\n",
    "test_sig(Subcls, '(c, d=1, *, b=1)')"
   ]
  },
  {
   "cell_type": "code",
   "execution_count": null,
   "id": "a4e637b6-d3b4-455a-82c1-6c9b3cb8ac25",
   "metadata": {},
   "outputs": [],
   "source": [
    "@delegates(Other) # as a normal class, it must have __init__, and __new__ won't do\n",
    "class Foo():    \n",
    "    def __init__(self, c, d=1, **kwargs): pass\n",
    "test_sig(Foo, '(c, d=1, *, e=1)')"
   ]
  },
  {
   "cell_type": "code",
   "execution_count": null,
   "id": "4bb24811",
   "metadata": {},
   "outputs": [
    {
     "name": "stdout",
     "output_type": "stream",
     "text": [
      "<Signature (c, d=1, *, e=1)>\n"
     ]
    }
   ],
   "source": [
    "try: \n",
    "    @delegates(Other)\n",
    "    class Foo(): pass # f as a class at least needs to have a signature with **kwargs inside\n",
    "    ### why? because we expect f to have **kwargs in the source.\n",
    "except: \n",
    "    pprint(inspect.signature(Foo))"
   ]
  },
  {
   "cell_type": "markdown",
   "id": "09b52fcf-e3ac-4fcf-8bfb-e514e2a65586",
   "metadata": {},
   "source": [
    "### debugging the error to understand the source"
   ]
  },
  {
   "cell_type": "markdown",
   "id": "8a81cf79",
   "metadata": {},
   "source": [
    "## Annotation Source"
   ]
  },
  {
   "cell_type": "code",
   "execution_count": null,
   "id": "65b60f02",
   "metadata": {},
   "outputs": [
    {
     "data": {
      "text/plain": [
       "\u001b[0;31mSignature:\u001b[0m \u001b[0mdelegates\u001b[0m\u001b[0;34m(\u001b[0m\u001b[0mto\u001b[0m\u001b[0;34m:\u001b[0m \u001b[0mfunction\u001b[0m \u001b[0;34m=\u001b[0m \u001b[0;32mNone\u001b[0m\u001b[0;34m,\u001b[0m \u001b[0mkeep\u001b[0m\u001b[0;34m=\u001b[0m\u001b[0;32mFalse\u001b[0m\u001b[0;34m,\u001b[0m \u001b[0mbut\u001b[0m\u001b[0;34m:\u001b[0m \u001b[0mlist\u001b[0m \u001b[0;34m=\u001b[0m \u001b[0;32mNone\u001b[0m\u001b[0;34m)\u001b[0m\u001b[0;34m\u001b[0m\u001b[0;34m\u001b[0m\u001b[0m\n",
       "\u001b[0;31mSource:\u001b[0m   \n",
       "\u001b[0;32mdef\u001b[0m \u001b[0mdelegates\u001b[0m\u001b[0;34m(\u001b[0m\u001b[0mto\u001b[0m\u001b[0;34m:\u001b[0m\u001b[0mFunctionType\u001b[0m\u001b[0;34m=\u001b[0m\u001b[0;32mNone\u001b[0m\u001b[0;34m,\u001b[0m \u001b[0;31m# Delegatee\u001b[0m\u001b[0;34m\u001b[0m\n",
       "\u001b[0;34m\u001b[0m              \u001b[0mkeep\u001b[0m\u001b[0;34m=\u001b[0m\u001b[0;32mFalse\u001b[0m\u001b[0;34m,\u001b[0m \u001b[0;31m# Keep `kwargs` in decorated function?\u001b[0m\u001b[0;34m\u001b[0m\n",
       "\u001b[0;34m\u001b[0m              \u001b[0mbut\u001b[0m\u001b[0;34m:\u001b[0m\u001b[0mlist\u001b[0m\u001b[0;34m=\u001b[0m\u001b[0;32mNone\u001b[0m\u001b[0;34m)\u001b[0m\u001b[0;34m:\u001b[0m \u001b[0;31m# Exclude these parameters from signature\u001b[0m\u001b[0;34m\u001b[0m\n",
       "\u001b[0;34m\u001b[0m    \u001b[0;34m\"Decorator: replace `**kwargs` in signature with params from `to`\"\u001b[0m\u001b[0;34m\u001b[0m\n",
       "\u001b[0;34m\u001b[0m    \u001b[0;32mif\u001b[0m \u001b[0mbut\u001b[0m \u001b[0;32mis\u001b[0m \u001b[0;32mNone\u001b[0m\u001b[0;34m:\u001b[0m \u001b[0mbut\u001b[0m \u001b[0;34m=\u001b[0m \u001b[0;34m[\u001b[0m\u001b[0;34m]\u001b[0m\u001b[0;34m\u001b[0m\n",
       "\u001b[0;34m\u001b[0m    \u001b[0;32mdef\u001b[0m \u001b[0m_f\u001b[0m\u001b[0;34m(\u001b[0m\u001b[0mf\u001b[0m\u001b[0;34m)\u001b[0m\u001b[0;34m:\u001b[0m\u001b[0;34m\u001b[0m\n",
       "\u001b[0;34m\u001b[0m        \u001b[0;32mif\u001b[0m \u001b[0mto\u001b[0m \u001b[0;32mis\u001b[0m \u001b[0;32mNone\u001b[0m\u001b[0;34m:\u001b[0m \u001b[0mto_f\u001b[0m\u001b[0;34m,\u001b[0m\u001b[0mfrom_f\u001b[0m \u001b[0;34m=\u001b[0m \u001b[0mf\u001b[0m\u001b[0;34m.\u001b[0m\u001b[0m__base__\u001b[0m\u001b[0;34m.\u001b[0m\u001b[0m__init__\u001b[0m\u001b[0;34m,\u001b[0m\u001b[0mf\u001b[0m\u001b[0;34m.\u001b[0m\u001b[0m__init__\u001b[0m\u001b[0;34m\u001b[0m\n",
       "\u001b[0;34m\u001b[0m        \u001b[0;32melse\u001b[0m\u001b[0;34m:\u001b[0m          \u001b[0mto_f\u001b[0m\u001b[0;34m,\u001b[0m\u001b[0mfrom_f\u001b[0m \u001b[0;34m=\u001b[0m \u001b[0mto\u001b[0m\u001b[0;34m.\u001b[0m\u001b[0m__init__\u001b[0m \u001b[0;32mif\u001b[0m \u001b[0misinstance\u001b[0m\u001b[0;34m(\u001b[0m\u001b[0mto\u001b[0m\u001b[0;34m,\u001b[0m\u001b[0mtype\u001b[0m\u001b[0;34m)\u001b[0m \u001b[0;32melse\u001b[0m \u001b[0mto\u001b[0m\u001b[0;34m,\u001b[0m\u001b[0mf\u001b[0m\u001b[0;34m\u001b[0m\n",
       "\u001b[0;34m\u001b[0m        \u001b[0mfrom_f\u001b[0m \u001b[0;34m=\u001b[0m \u001b[0mgetattr\u001b[0m\u001b[0;34m(\u001b[0m\u001b[0mfrom_f\u001b[0m\u001b[0;34m,\u001b[0m\u001b[0;34m'__func__'\u001b[0m\u001b[0;34m,\u001b[0m\u001b[0mfrom_f\u001b[0m\u001b[0;34m)\u001b[0m\u001b[0;34m\u001b[0m\n",
       "\u001b[0;34m\u001b[0m        \u001b[0mto_f\u001b[0m \u001b[0;34m=\u001b[0m \u001b[0mgetattr\u001b[0m\u001b[0;34m(\u001b[0m\u001b[0mto_f\u001b[0m\u001b[0;34m,\u001b[0m\u001b[0;34m'__func__'\u001b[0m\u001b[0;34m,\u001b[0m\u001b[0mto_f\u001b[0m\u001b[0;34m)\u001b[0m\u001b[0;34m\u001b[0m\n",
       "\u001b[0;34m\u001b[0m        \u001b[0;32mif\u001b[0m \u001b[0mhasattr\u001b[0m\u001b[0;34m(\u001b[0m\u001b[0mfrom_f\u001b[0m\u001b[0;34m,\u001b[0m\u001b[0;34m'__delwrap__'\u001b[0m\u001b[0;34m)\u001b[0m\u001b[0;34m:\u001b[0m \u001b[0;32mreturn\u001b[0m \u001b[0mf\u001b[0m\u001b[0;34m\u001b[0m\n",
       "\u001b[0;34m\u001b[0m        \u001b[0msig\u001b[0m \u001b[0;34m=\u001b[0m \u001b[0minspect\u001b[0m\u001b[0;34m.\u001b[0m\u001b[0msignature\u001b[0m\u001b[0;34m(\u001b[0m\u001b[0mfrom_f\u001b[0m\u001b[0;34m)\u001b[0m\u001b[0;34m\u001b[0m\n",
       "\u001b[0;34m\u001b[0m        \u001b[0msigd\u001b[0m \u001b[0;34m=\u001b[0m \u001b[0mdict\u001b[0m\u001b[0;34m(\u001b[0m\u001b[0msig\u001b[0m\u001b[0;34m.\u001b[0m\u001b[0mparameters\u001b[0m\u001b[0;34m)\u001b[0m\u001b[0;34m\u001b[0m\n",
       "\u001b[0;34m\u001b[0m        \u001b[0mk\u001b[0m \u001b[0;34m=\u001b[0m \u001b[0msigd\u001b[0m\u001b[0;34m.\u001b[0m\u001b[0mpop\u001b[0m\u001b[0;34m(\u001b[0m\u001b[0;34m'kwargs'\u001b[0m\u001b[0;34m)\u001b[0m\u001b[0;34m\u001b[0m\n",
       "\u001b[0;34m\u001b[0m        \u001b[0ms2\u001b[0m \u001b[0;34m=\u001b[0m \u001b[0;34m{\u001b[0m\u001b[0mk\u001b[0m\u001b[0;34m:\u001b[0m\u001b[0mv\u001b[0m\u001b[0;34m.\u001b[0m\u001b[0mreplace\u001b[0m\u001b[0;34m(\u001b[0m\u001b[0mkind\u001b[0m\u001b[0;34m=\u001b[0m\u001b[0minspect\u001b[0m\u001b[0;34m.\u001b[0m\u001b[0mParameter\u001b[0m\u001b[0;34m.\u001b[0m\u001b[0mKEYWORD_ONLY\u001b[0m\u001b[0;34m)\u001b[0m \u001b[0;32mfor\u001b[0m \u001b[0mk\u001b[0m\u001b[0;34m,\u001b[0m\u001b[0mv\u001b[0m \u001b[0;32min\u001b[0m \u001b[0minspect\u001b[0m\u001b[0;34m.\u001b[0m\u001b[0msignature\u001b[0m\u001b[0;34m(\u001b[0m\u001b[0mto_f\u001b[0m\u001b[0;34m)\u001b[0m\u001b[0;34m.\u001b[0m\u001b[0mparameters\u001b[0m\u001b[0;34m.\u001b[0m\u001b[0mitems\u001b[0m\u001b[0;34m(\u001b[0m\u001b[0;34m)\u001b[0m\u001b[0;34m\u001b[0m\n",
       "\u001b[0;34m\u001b[0m              \u001b[0;32mif\u001b[0m \u001b[0mv\u001b[0m\u001b[0;34m.\u001b[0m\u001b[0mdefault\u001b[0m \u001b[0;34m!=\u001b[0m \u001b[0minspect\u001b[0m\u001b[0;34m.\u001b[0m\u001b[0mParameter\u001b[0m\u001b[0;34m.\u001b[0m\u001b[0mempty\u001b[0m \u001b[0;32mand\u001b[0m \u001b[0mk\u001b[0m \u001b[0;32mnot\u001b[0m \u001b[0;32min\u001b[0m \u001b[0msigd\u001b[0m \u001b[0;32mand\u001b[0m \u001b[0mk\u001b[0m \u001b[0;32mnot\u001b[0m \u001b[0;32min\u001b[0m \u001b[0mbut\u001b[0m\u001b[0;34m}\u001b[0m\u001b[0;34m\u001b[0m\n",
       "\u001b[0;34m\u001b[0m        \u001b[0manno\u001b[0m \u001b[0;34m=\u001b[0m \u001b[0;34m{\u001b[0m\u001b[0mk\u001b[0m\u001b[0;34m:\u001b[0m\u001b[0mv\u001b[0m \u001b[0;32mfor\u001b[0m \u001b[0mk\u001b[0m\u001b[0;34m,\u001b[0m\u001b[0mv\u001b[0m \u001b[0;32min\u001b[0m \u001b[0mto_f\u001b[0m\u001b[0;34m.\u001b[0m\u001b[0m__annotations__\u001b[0m\u001b[0;34m.\u001b[0m\u001b[0mitems\u001b[0m\u001b[0;34m(\u001b[0m\u001b[0;34m)\u001b[0m \u001b[0;32mif\u001b[0m \u001b[0mk\u001b[0m \u001b[0;32mnot\u001b[0m \u001b[0;32min\u001b[0m \u001b[0msigd\u001b[0m \u001b[0;32mand\u001b[0m \u001b[0mk\u001b[0m \u001b[0;32mnot\u001b[0m \u001b[0;32min\u001b[0m \u001b[0mbut\u001b[0m\u001b[0;34m}\u001b[0m\u001b[0;34m\u001b[0m\n",
       "\u001b[0;34m\u001b[0m        \u001b[0msigd\u001b[0m\u001b[0;34m.\u001b[0m\u001b[0mupdate\u001b[0m\u001b[0;34m(\u001b[0m\u001b[0ms2\u001b[0m\u001b[0;34m)\u001b[0m\u001b[0;34m\u001b[0m\n",
       "\u001b[0;34m\u001b[0m        \u001b[0;32mif\u001b[0m \u001b[0mkeep\u001b[0m\u001b[0;34m:\u001b[0m \u001b[0msigd\u001b[0m\u001b[0;34m[\u001b[0m\u001b[0;34m'kwargs'\u001b[0m\u001b[0;34m]\u001b[0m \u001b[0;34m=\u001b[0m \u001b[0mk\u001b[0m\u001b[0;34m\u001b[0m\n",
       "\u001b[0;34m\u001b[0m        \u001b[0;32melse\u001b[0m\u001b[0;34m:\u001b[0m \u001b[0mfrom_f\u001b[0m\u001b[0;34m.\u001b[0m\u001b[0m__delwrap__\u001b[0m \u001b[0;34m=\u001b[0m \u001b[0mto_f\u001b[0m\u001b[0;34m\u001b[0m\n",
       "\u001b[0;34m\u001b[0m        \u001b[0mfrom_f\u001b[0m\u001b[0;34m.\u001b[0m\u001b[0m__signature__\u001b[0m \u001b[0;34m=\u001b[0m \u001b[0msig\u001b[0m\u001b[0;34m.\u001b[0m\u001b[0mreplace\u001b[0m\u001b[0;34m(\u001b[0m\u001b[0mparameters\u001b[0m\u001b[0;34m=\u001b[0m\u001b[0msigd\u001b[0m\u001b[0;34m.\u001b[0m\u001b[0mvalues\u001b[0m\u001b[0;34m(\u001b[0m\u001b[0;34m)\u001b[0m\u001b[0;34m)\u001b[0m\u001b[0;34m\u001b[0m\n",
       "\u001b[0;34m\u001b[0m        \u001b[0;32mif\u001b[0m \u001b[0mhasattr\u001b[0m\u001b[0;34m(\u001b[0m\u001b[0mfrom_f\u001b[0m\u001b[0;34m,\u001b[0m \u001b[0;34m'__annotations__'\u001b[0m\u001b[0;34m)\u001b[0m\u001b[0;34m:\u001b[0m \u001b[0mfrom_f\u001b[0m\u001b[0;34m.\u001b[0m\u001b[0m__annotations__\u001b[0m\u001b[0;34m.\u001b[0m\u001b[0mupdate\u001b[0m\u001b[0;34m(\u001b[0m\u001b[0manno\u001b[0m\u001b[0;34m)\u001b[0m\u001b[0;34m\u001b[0m\n",
       "\u001b[0;34m\u001b[0m        \u001b[0;32mreturn\u001b[0m \u001b[0mf\u001b[0m\u001b[0;34m\u001b[0m\n",
       "\u001b[0;34m\u001b[0m    \u001b[0;32mreturn\u001b[0m \u001b[0m_f\u001b[0m\u001b[0;34m\u001b[0m\u001b[0;34m\u001b[0m\u001b[0m\n",
       "\u001b[0;31mFile:\u001b[0m      ~/mambaforge/lib/python3.9/site-packages/fastcore/meta.py\n",
       "\u001b[0;31mType:\u001b[0m      function\n"
      ]
     },
     "metadata": {},
     "output_type": "display_data"
    }
   ],
   "source": [
    "delegates??"
   ]
  },
  {
   "cell_type": "code",
   "execution_count": null,
   "id": "49f41433",
   "metadata": {},
   "outputs": [],
   "source": [
    "def delegatesdb(to:FunctionType=None, # Delegatee\n",
    "              keep=False, # Keep `kwargs` in decorated function?\n",
    "              but:list=None): # Exclude these parameters from signature\n",
    "              # verbose=True): # Include `to` in docments?\n",
    "    \"Decorator: replace `**kwargs` in signature with params from `to`\"\n",
    "    \n",
    "    \"\\nWhen `f` overwrite `to` (or simply just want to use\\\n",
    "    `to`'s kwargs), it's so convenient to keep `to`'s kwargs inside `f`'s signature instead of just `**kwargs`.\"\n",
    "    \n",
    "    if but is None: but = []\n",
    "    def _f(f):\n",
    "        \n",
    "        block1 = \"\"\"\n",
    "if to is None: to_f,from_f = f.__base__.__init__,f.__init__\n",
    "else:          to_f,from_f = to.__init__ if isinstance(to,type) else to,f\n",
    "        \"\"\"\n",
    "        dbprint(block1, \"if to is None: when both to and f are classes\\nif isinstance(to, type): when to is a class\", block1, \"to_f\", \"from_f\", \\\n",
    "                \"\\nif to is None:\\n    to_f,from_f = f.__base__.__init__,f.__init__\\n    print(f'f.__base__.__init__: {f.__base__.__init__}, f.__init__: {f.__init__}')\\n    print(f'to_f: {to_f}, from_f: {from_f}')\\nelse:\\n    print(f'to is None : {to is None}')\", \\\n",
    "                \"\\nif isinstance(to,type):\\n    to_f,from_f = to.__init__,f\\n    print(f'to_f: {to_f}, from_f: {from_f}')\\nelse:\\n    print(f'isinstance(to,type) : {isinstance(to,type)}')\",\\\n",
    "                \"to_f,from_f = to,f\", f=f, to=to)\n",
    "        if to is None: to_f,from_f = f.__base__.__init__,f.__init__\n",
    "        else:          to_f,from_f = to.__init__ if isinstance(to,type) else to,f\n",
    "\n",
    "        dbprint(\"from_f = getattr(from_f,'__func__',from_f)\", \"This line is for classmethod, as it is not callable, so inspect.signature(...) won't work, but it has __func__ to save\",\\\n",
    "                \"f\", \"from_f\", \"type(from_f)\",\\\n",
    "                \"try:\\n    inspect.signature(from_f)\\nexcept:\\n    print('error occurs')\\n    print(f'is from_f callable: {callable(from_f)}')\\nelse:\\n    print(inspect.signature(from_f))\", \\\n",
    "                \"hasattr(from_f, '__func__')\", \"from_f = getattr(from_f,'__func__',from_f)\", \"from_f\", from_f=from_f, inspect=inspect)\n",
    "        from_f = getattr(from_f,'__func__',from_f)\n",
    "        \n",
    "        dbprint(\"to_f = getattr(to_f,'__func__',to_f)\", \"This line is for classmethod, as it is not callable, so inspect.signature(...) won't work, but it has __func__ to save\", \\\n",
    "                \"to\", \"to_f\", \"type(to_f)\",\\\n",
    "                \"try:\\n    inspect.signature(to_f)\\nexcept:\\n    print('error occurs')\\n    print(f'is to_f callable: {callable(to_f)}')\\nelse:\\n    print(inspect.signature(to_f))\", \\\n",
    "                \"hasattr(to_f, '__func__')\", \"to_f = getattr(to_f,'__func__',to_f)\", \"to_f\", to_f=to_f)\n",
    "        to_f = getattr(to_f,'__func__',to_f)\n",
    "        \n",
    "        dbprint(\"if hasattr(from_f,'__delwrap__'): return f\", \"If f or from_f has __delwrap__, it means it's happy with all params and give up on **kwargs. So no more params needed from other `to`s\",\\\n",
    "                \"from_f\", \"f\", \"hasattr(from_f, '__delwrap__')\", \"if hasattr(from_f,'__delwrap__'): return f\",  from_f=from_f, to_f=to_f)\n",
    "        # dbprint(\"if hasattr(from_f,'__delwrap__'): return f\", \"If f or from_f has __delwrap__, it means it's happy with all params and give up on **kwargs. So no more params needed from other `to`s\",\\\n",
    "        #         \"from_f\", \"f\", \"hasattr(from_f, '__delwrap__')\",  from_f=from_f, to_f=to_f)\n",
    "        if hasattr(from_f,'__delwrap__'): return f\n",
    "\n",
    "        dbprint(\"sig = inspect.signature(from_f)\", \"\", \"sig = inspect.signature(from_f)\", \"inspect.signature(from_f)\", inspect=inspect)\n",
    "        sig = inspect.signature(from_f)\n",
    "        \n",
    "        dbprint(\"sigd = dict(sig.parameters)\", \"\", \"sigd = dict(sig.parameters)\", \"sig.parameters\", \"dict(sig.parameters)\", sig=sig)\n",
    "        sigd = dict(sig.parameters)\n",
    "        \n",
    "        # remove the item {'kwargs': <Parameter \"**kwargs\">} out of sigd\n",
    "        dbprint(\"k = sigd.pop('kwargs')\", \"\", \"sigd\", \"k = sigd.pop('kwargs')\", \"sigd\", \"sigd['kwargs'] = k\", sigd=sigd)\n",
    "        k = sigd.pop('kwargs')\n",
    "              \n",
    "        # build a dict and pick the right keyword args with values into it\n",
    "        \n",
    "        block2 = \"\"\"s2 = {k:v.replace(kind=inspect.Parameter.KEYWORD_ONLY) for k,v in inspect.signature(to_f).parameters.items()                                         \n",
    "              if v.default != inspect.Parameter.empty and k not in sigd and k not in but}\"\"\"\n",
    "        dbprint(block2, \"\", block2, \"s2\", \"for k,v in inspect.signature(to_f).parameters.items():\", \"sigd\", \"but\", \\\n",
    "                \"for k,v in inspect.signature(to_f).parameters.items():\\n    print(f'v.default: {v.default}')\\n    print(f'v.default != inspect.Parameter.empty: {v.default != inspect.Parameter.empty}')\\n    print(f'k not in sigd: {k not in sigd}')\\n    print(f'k not in but: {k not in but}')\", \\\n",
    "                to_f=to_f, but=but)\n",
    "        s2 = {k:v.replace(kind=inspect.Parameter.KEYWORD_ONLY) for k,v in inspect.signature(to_f).parameters.items()\n",
    "              if v.default != inspect.Parameter.empty and k not in sigd and k not in but}\n",
    "        \n",
    "        dbprint(\"anno = {k:v for k,v in to_f.__annotations__.items() if k not in sigd and k not in but}\", \"\", \\\n",
    "                \"anno = {k:v for k,v in to_f.__annotations__.items() if k not in sigd and k not in but}\", \"anno\",\\\n",
    "                \"for k,v in to_f.__annotations__.items():\", \"sigd\", \"but\")\n",
    "        anno = {k:v for k,v in to_f.__annotations__.items() if k not in sigd and k not in but}     \n",
    "        \n",
    "        dbprint(\"sigd.update(s2)\", \"\", \"s2\", \"sigd\", \"sigd.update(s2)\", \"sigd\", s2=s2)\n",
    "        sigd.update(s2)                                                   \n",
    "        \n",
    "        block3 = \"\"\"\n",
    "if keep: sigd['kwargs'] = k\n",
    "else: from_f.__delwrap__ = to_f\n",
    "        \"\"\"\n",
    "        dbprint(block3, \"\", \"k\", \"keep\", \"sigd\", \"to_f\", \"getattr(from_f, '__delwrap__', None)\", \\\n",
    "                \"if keep:\\n    sigd['kwargs'] = k\\nelse:\\n    from_f.__delwrap__ = to_f\", \"sigd\", \"from_f.__delwrap__\", k=k, keep=keep)\n",
    "        if keep: sigd['kwargs'] = k\n",
    "        else: from_f.__delwrap__ = to_f\n",
    "        \n",
    "        dbprint(\"from_f.__signature__ = sig.replace(parameters=sigd.values())\", \"\", \"getattr(from_f, '__signature__', None)\", \"sig\", \"sigd.values()\", \\\n",
    "               \"inspect.getdoc(sig.replace)\", \"from_f.__signature__ = sig.replace(parameters=sigd.values())\", \\\n",
    "                \"getattr(from_f, '__signature__', None)\", sigd=sigd)\n",
    "        from_f.__signature__ = sig.replace(parameters=sigd.values())\n",
    "        \n",
    "        dbprint(\"if hasattr(from_f, '__annotations__'): from_f.__annotations__.update(anno)\", \"\", \"anno\", \"getattr(from_f, '__annotations__', None)\", \\\n",
    "                \"if hasattr(from_f, '__annotations__'): from_f.__annotations__.update(anno)\", \"getattr(from_f, '__annotations__', None)\", from_f=from_f, anno=anno)\n",
    "        if hasattr(from_f, '__annotations__'): from_f.__annotations__.update(anno)                                                                           \n",
    "        return f                                                                                                                                             \n",
    "    return _f       \n"
   ]
  },
  {
   "cell_type": "markdown",
   "id": "c094f147",
   "metadata": {},
   "source": [
    "## Add srcline and dbprints"
   ]
  },
  {
   "cell_type": "code",
   "execution_count": null,
   "id": "3ed96978-45ca-4c0a-94c7-97587cb6df4f",
   "metadata": {},
   "outputs": [],
   "source": [
    "# srcdbps = defaults.src2dbp.delegates # user input\n",
    "srcdbps = []"
   ]
  },
  {
   "cell_type": "code",
   "execution_count": null,
   "id": "94e75cff-e692-4b3e-b972-e38e6b723b1a",
   "metadata": {},
   "outputs": [
    {
     "name": "stdout",
     "output_type": "stream",
     "text": [
      "def delegates(to:FunctionType=None, # Delegatee                                                                                                              \n",
      "              keep=False, # Keep `kwargs` in decorated function?                                                                                             \n",
      "              but:list=None): # Exclude these parameters from signature                                                                                      \n",
      "    \"Decorator: replace `**kwargs` in signature with params from `to`\"                                                                                       \n",
      "    if but is None: but = []                                                                                                                                 \n",
      "    def _f(f):                                                                                                                                               \n",
      "        if to is None: to_f,from_f = f.__base__.__init__,f.__init__                                                                                          \n",
      "        else:          to_f,from_f = to.__init__ if isinstance(to,type) else to,f                                                                            \n",
      "        from_f = getattr(from_f,'__func__',from_f)                                                                                                           \n",
      "        to_f = getattr(to_f,'__func__',to_f)                                                                                                                 \n",
      "        if hasattr(from_f,'__delwrap__'): return f                                                                                                           \n",
      "        sig = inspect.signature(from_f)                                                                                                                      \n",
      "        sigd = dict(sig.parameters)                                                                                                                          \n",
      "        k = sigd.pop('kwargs')                                                                                                                               \n",
      "        s2 = {k:v.replace(kind=inspect.Parameter.KEYWORD_ONLY) for k,v in inspect.signature(to_f).parameters.items()                                         \n",
      "              if v.default != inspect.Parameter.empty and k not in sigd and k not in but}                                                                    \n",
      "        anno = {k:v for k,v in to_f.__annotations__.items() if k not in sigd and k not in but}                                                               \n",
      "        sigd.update(s2)                                                                                                                                      \n",
      "        if keep: sigd['kwargs'] = k                                                                                                                          \n",
      "        else: from_f.__delwrap__ = to_f                                                                                                                      \n",
      "        from_f.__signature__ = sig.replace(parameters=sigd.values())                                                                                         \n",
      "        if hasattr(from_f, '__annotations__'): from_f.__annotations__.update(anno)                                                                           \n",
      "        return f                                                                                                                                             \n",
      "    return _f                                                                                                                                                \n",
      "=============================================================================================================================================================\n",
      "\n"
     ]
    }
   ],
   "source": [
    "dbsrclines(srcname) # to show which lines have dbcodes already"
   ]
  },
  {
   "cell_type": "code",
   "execution_count": null,
   "id": "d8599304-dcae-4edb-8e87-6f417f8ce218",
   "metadata": {},
   "outputs": [],
   "source": [
    "srcline = \"        anno = {k:v for k,v in to_f.__annotations__.items() if k not in sigd and k not in but}\"\n",
    "dbcode = \"\"\"\n",
    "        dbprint(\"        anno = {k:v for k,v in to_f.__annotations__.items() if k not in sigd and k not in but}\", \\\n",
    "\"what it does: check to_f's annotations (dict), and only select params with their annotations wanted by f or from_f.\", \\\n",
    "\"hasattr(to_f, '__annotations__')\", \\\n",
    "\"if hasattr(to_f, '__annotations__'):\\\\n\\\n",
    "    for k,v in to_f.__annotations__.items():\\\\n\\\n",
    "        print(f'k:v => {k}:{v}')\\\\n\\\n",
    "else:\\\\n\\\n",
    "    print(f'We should expect error from the code of try-except.')\\\\n\\\n",
    "    try:\\\\n\\\n",
    "        to_f.__annotations__\\\\n\\\n",
    "    except AttributeError as e:\\\\n\\\n",
    "        print(e)\", \\\n",
    "but=but, k=k, sigd=sigd, to_f=to_f)\n",
    "\"\"\""
   ]
  },
  {
   "cell_type": "code",
   "execution_count": null,
   "id": "03ff06ee-6844-4e1b-ae56-bb27e4e0862f",
   "metadata": {},
   "outputs": [],
   "source": [
    "srcdbps.append([(srcline, dbcode)])"
   ]
  },
  {
   "cell_type": "code",
   "execution_count": null,
   "id": "53f7625d-d58e-419b-8fd2-d6f0874ddd1e",
   "metadata": {},
   "outputs": [],
   "source": [
    "srcline = \"\"\"\n",
    "        if to is None: to_f,from_f = f.__base__.__init__,f.__init__\n",
    "        else:          to_f,from_f = to.__init__ if isinstance(to,type) else to,f\n",
    "\"\"\"\n",
    "\n",
    "# watch out: to convert srcline into actual strings for the first arg in dbprint, use '\\\\n\\' instead of just '\\n'\n",
    "dbcode = \"\"\"\n",
    "\\n        dbprint(\"        if to is None: to_f,from_f = f.__base__.__init__,f.__init__\\\\n\\        else:          to_f,from_f = to.__init__ if isinstance(to,type) else to,f\",\\\n",
    "\"UseCase1: when to is superclass to f\\\\nUseCase2: when to is a class but not superclass to f. UseCase3: other combinations\",\\\n",
    "\"if to is None:\\\\n\\\n",
    "    to_f,from_f = f.__base__.__init__,f.__init__\\\\n\\\n",
    "else:\\\\n\\\n",
    "    to_f,from_f = to.__init__ if isinstance(to,type) else to,f\",\\\n",
    "\"to_f\", \"from_f\", \"hasattr(to_f, '__annotations__')\", \"hasattr(from_f, '__annotations__')\", \\\n",
    "f=f, to=to)\n",
    "\"\"\""
   ]
  },
  {
   "cell_type": "code",
   "execution_count": null,
   "id": "fc2fc30e-f4e2-400f-ab11-44640a4e4a7e",
   "metadata": {},
   "outputs": [],
   "source": [
    "srcdbps.append([(srcline, dbcode)])"
   ]
  },
  {
   "cell_type": "code",
   "execution_count": null,
   "id": "d0836165-fdb2-4ba1-8af8-d9f7704c4dec",
   "metadata": {},
   "outputs": [],
   "source": [
    "srcline = \"        if hasattr(from_f,\\'__delwrap__\\'): return f\"\n",
    "dbcode = \"\"\"\n",
    "        dbprint(\"if hasattr(from_f,'__delwrap__'): return f\", \\\n",
    "\"If f or from_f has __delwrap__, it means it's happy with all params and give up on **kwargs. So no more params needed from other `to`s\", \\\n",
    "\"from_f\", \"f\", \"hasattr(from_f, '__delwrap__')\", \"if hasattr(from_f,'__delwrap__'): return f\", from_f=from_f, f=f)\n",
    "\"\"\""
   ]
  },
  {
   "cell_type": "code",
   "execution_count": null,
   "id": "6294f84f-e78b-4d87-a4ae-a832a8e013d5",
   "metadata": {},
   "outputs": [],
   "source": [
    "srcdbps.append([(srcline, dbcode)])"
   ]
  },
  {
   "cell_type": "code",
   "execution_count": null,
   "id": "ef8b4de9-f917-41c8-ae81-95befee27d62",
   "metadata": {},
   "outputs": [],
   "source": [
    "# Watch out: using \\\\n instead of \\n inside a block\n",
    "srcline = \"\"\"\n",
    "        from_f = getattr(from_f,'__func__',from_f)\n",
    "        to_f = getattr(to_f,'__func__',to_f)\n",
    "\"\"\"\n",
    "dbcode = \"\"\"\n",
    "\\n        dbprint(\"        from_f = getattr(from_f,'__func__',from_f)\\\\n\\        to_f = getattr(to_f,'__func__',to_f)\",\\\n",
    "\"This line is for classmethod, as it is not callable, so inspect.signature(...) won't work, but it has __func__ to save\",\\\n",
    "\"f\", \"from_f\", \"type(from_f)\",\\\n",
    "\"try:\\\\n\\\n",
    "    inspect.signature(from_f)\\\\n\\\n",
    "except:\\\\n\\\n",
    "    print('error occurs')\\\\n\\\n",
    "    print(f'is from_f callable: {callable(from_f)}')\\\\n\\\n",
    "else:\\\\n\\\n",
    "    print(inspect.signature(from_f))\", \\\n",
    "\"hasattr(from_f, '__func__')\", \"from_f = getattr(from_f,'__func__',from_f)\", \"from_f\",\\\n",
    "\"to\", \"to_f\", \"type(to_f)\",\\\n",
    "\"try:\\\\n\\\n",
    "    inspect.signature(to_f)\\\\n\\\n",
    "except:\\\\n\\\n",
    "    print('error occurs')\\\\n\\\n",
    "    print(f'is to_f callable: {callable(to_f)}')\\\\n\\\n",
    "else:\\\\n\\\n",
    "    print(inspect.signature(to_f))\", \\\n",
    "\"hasattr(to_f, '__func__')\", \"to_f = getattr(to_f,'__func__',to_f)\", \"to_f\",\\\n",
    "from_f=from_f, to_f=to_f, f=f, to=to, srcline=srcline)\n",
    "\"\"\"\n",
    "# Importance: must include all necessary env into the dbprint function above. Note, we don't need inspect=inspect because utils has exported `import inspect`"
   ]
  },
  {
   "cell_type": "code",
   "execution_count": null,
   "id": "ef8c62a0-248f-4437-87d3-da1f12b35937",
   "metadata": {},
   "outputs": [],
   "source": [
    "srcdbps.append([(srcline, dbcode)])"
   ]
  },
  {
   "cell_type": "markdown",
   "id": "f7e87527-8eeb-4f00-ab17-a616768c6354",
   "metadata": {},
   "source": [
    "## Save the debuggable source code"
   ]
  },
  {
   "cell_type": "code",
   "execution_count": null,
   "id": "5ccf3960-9c88-4ea1-b024-b94cca1ea3ea",
   "metadata": {},
   "outputs": [],
   "source": [
    "# save all the srclines with their dbcodes into defaults.\n",
    "defaults.src2dbp.delegates = srcdbps"
   ]
  },
  {
   "cell_type": "code",
   "execution_count": null,
   "id": "692832eb-0de1-414f-8248-a15bfb561f6f",
   "metadata": {},
   "outputs": [],
   "source": [
    "# save the latest debuggable source code into defaults.src2dbp.delegatesdb\n",
    "dbsrclines(srcname, dbsrc=True) "
   ]
  },
  {
   "cell_type": "code",
   "execution_count": null,
   "id": "b94c04c2-0d1c-4eb9-9473-5fa473249a6f",
   "metadata": {},
   "outputs": [],
   "source": [
    "file1 = open(\"db/delegates.txt\",\"w\")\n",
    "file1.writelines(defaults.src2dbp.delegatesdb)\n",
    "file1.close() #to change file access modes  "
   ]
  },
  {
   "cell_type": "markdown",
   "id": "d93f8685-39fc-42d9-a093-a2edcc7c547c",
   "metadata": {},
   "source": [
    "## Debugging one or more srclines"
   ]
  },
  {
   "cell_type": "code",
   "execution_count": null,
   "id": "1fef04b2-e71c-4239-9d21-a6ddec0b40b6",
   "metadata": {},
   "outputs": [
    {
     "name": "stdout",
     "output_type": "stream",
     "text": [
      "def delegates(to:FunctionType=None, # Delegatee                                                                                                              \n",
      "              keep=False, # Keep `kwargs` in decorated function?                                                                                             \n",
      "              but:list=None): # Exclude these parameters from signature                                                                                      \n",
      "    \"Decorator: replace `**kwargs` in signature with params from `to`\"                                                                                       \n",
      "    if but is None: but = []                                                                                                                                 \n",
      "    def _f(f):                                                                                                                                               \n",
      "        if to is None: to_f,from_f = f.__base__.__init__,f.__init__==========================================================================================\n",
      "        else:          to_f,from_f = to.__init__ if isinstance(to,type) else to,f============================================================================\n",
      "        from_f = getattr(from_f,'__func__',from_f)===========================================================================================================\n",
      "        to_f = getattr(to_f,'__func__',to_f)=================================================================================================================\n",
      "        if hasattr(from_f,'__delwrap__'): return f===========================================================================================================\n",
      "        sig = inspect.signature(from_f)                                                                                                                      \n",
      "        sigd = dict(sig.parameters)                                                                                                                          \n",
      "        k = sigd.pop('kwargs')                                                                                                                               \n",
      "        s2 = {k:v.replace(kind=inspect.Parameter.KEYWORD_ONLY) for k,v in inspect.signature(to_f).parameters.items()                                         \n",
      "              if v.default != inspect.Parameter.empty and k not in sigd and k not in but}                                                                    \n",
      "        anno = {k:v for k,v in to_f.__annotations__.items() if k not in sigd and k not in but}===============================================================\n",
      "        sigd.update(s2)                                                                                                                                      \n",
      "        if keep: sigd['kwargs'] = k                                                                                                                          \n",
      "        else: from_f.__delwrap__ = to_f                                                                                                                      \n",
      "        from_f.__signature__ = sig.replace(parameters=sigd.values())                                                                                         \n",
      "        if hasattr(from_f, '__annotations__'): from_f.__annotations__.update(anno)                                                                           \n",
      "        return f                                                                                                                                             \n",
      "    return _f                                                                                                                                                \n",
      "=============================================================================================================================================================\n",
      "\n"
     ]
    }
   ],
   "source": [
    "dbsrclines(srcname) # check which srclines are debuggable"
   ]
  },
  {
   "cell_type": "code",
   "execution_count": null,
   "id": "e20412db-784b-444e-8f29-b57d0a03f48f",
   "metadata": {},
   "outputs": [
    {
     "name": "stdout",
     "output_type": "stream",
     "text": [
      "('def delegates(to:FunctionType=None, # Delegatee\\n'\n",
      " '              keep=False, # Keep `kwargs` in decorated function?\\n'\n",
      " '              but:list=None): # Exclude these parameters from signature\\n'\n",
      " '    \"Decorator: replace `**kwargs` in signature with params from `to`\"\\n'\n",
      " '    if but is None: but = []\\n'\n",
      " '    def _f(f):\\n'\n",
      " '\\n'\n",
      " '        dbprint(\"        if to is None: to_f,from_f = f.__base__.__init__,f.__init__\\\\n\\\\        else:          to_f,from_f = to.__init__ if '\n",
      " 'isinstance(to,type) else to,f\",\"UseCase1: when to is superclass to f\\\\nUseCase2: when to is a class but not superclass to f. UseCase3: other '\n",
      " 'combinations\",\"if to is None:\\\\n    to_f,from_f = f.__base__.__init__,f.__init__\\\\nelse:\\\\n    to_f,from_f = to.__init__ if isinstance(to,type) else '\n",
      " 'to,f\",\"to_f\", \"from_f\", \"hasattr(to_f, \\'__annotations__\\')\", \"hasattr(from_f, \\'__annotations__\\')\", f=f, to=to)\\n'\n",
      " '\\n'\n",
      " '        if to is None: to_f,from_f = f.__base__.__init__,f.__init__\\n'\n",
      " '        else:          to_f,from_f = to.__init__ if isinstance(to,type) else to,f\\n'\n",
      " '\\n'\n",
      " '        dbprint(\"        from_f = getattr(from_f,\\'__func__\\',from_f)\\\\n\\\\        to_f = getattr(to_f,\\'__func__\\',to_f)\",\"This line is for classmethod, '\n",
      " 'as it is not callable, so inspect.signature(...) won\\'t work, but it has __func__ to save\",\"f\", \"from_f\", \"type(from_f)\",\"try:\\\\n    '\n",
      " \"inspect.signature(from_f)\\\\nexcept:\\\\n    print('error occurs')\\\\n    print(f'is from_f callable: {callable(from_f)}')\\\\nelse:\\\\n    \"\n",
      " 'print(inspect.signature(from_f))\", \"hasattr(from_f, \\'__func__\\')\", \"from_f = getattr(from_f,\\'__func__\\',from_f)\", \"from_f\",\"to\", \"to_f\", '\n",
      " '\"type(to_f)\",\"try:\\\\n    inspect.signature(to_f)\\\\nexcept:\\\\n    print(\\'error occurs\\')\\\\n    print(f\\'is to_f callable: '\n",
      " '{callable(to_f)}\\')\\\\nelse:\\\\n    print(inspect.signature(to_f))\", \"hasattr(to_f, \\'__func__\\')\", \"to_f = getattr(to_f,\\'__func__\\',to_f)\", '\n",
      " '\"to_f\",from_f=from_f, to_f=to_f, f=f, to=to, srcline=srcline)\\n'\n",
      " '\\n'\n",
      " \"        from_f = getattr(from_f,'__func__',from_f)\\n\"\n",
      " \"        to_f = getattr(to_f,'__func__',to_f)\\n\"\n",
      " '\\n'\n",
      " '        dbprint(\"if hasattr(from_f,\\'__delwrap__\\'): return f\", \"If f or from_f has __delwrap__, it means it\\'s happy with all params and give up on '\n",
      " '**kwargs. So no more params needed from other `to`s\", \"from_f\", \"f\", \"hasattr(from_f, \\'__delwrap__\\')\", \"if hasattr(from_f,\\'__delwrap__\\'): return f\", '\n",
      " 'from_f=from_f, f=f)\\n'\n",
      " \"        if hasattr(from_f,'__delwrap__'): return f\\n\"\n",
      " '        sig = inspect.signature(from_f)\\n'\n",
      " '        sigd = dict(sig.parameters)\\n'\n",
      " \"        k = sigd.pop('kwargs')\\n\"\n",
      " '        s2 = {k:v.replace(kind=inspect.Parameter.KEYWORD_ONLY) for k,v in inspect.signature(to_f).parameters.items()\\n'\n",
      " '              if v.default != inspect.Parameter.empty and k not in sigd and k not in but}\\n'\n",
      " '\\n'\n",
      " '        dbprint(\"        anno = {k:v for k,v in to_f.__annotations__.items() if k not in sigd and k not in but}\", \"what it does: check to_f\\'s '\n",
      " 'annotations (dict), and only select params with their annotations wanted by f or from_f.\", \"hasattr(to_f, \\'__annotations__\\')\", \"if hasattr(to_f, '\n",
      " \"'__annotations__'):\\\\n    for k,v in to_f.__annotations__.items():\\\\n        print(f'k:v => {k}:{v}')\\\\nelse:\\\\n    print(f'We should expect error from \"\n",
      " 'the code of try-except.\\')\\\\n    try:\\\\n        to_f.__annotations__\\\\n    except AttributeError as e:\\\\n        print(e)\", but=but, k=k, sigd=sigd, '\n",
      " 'to_f=to_f)\\n'\n",
      " '        anno = {k:v for k,v in to_f.__annotations__.items() if k not in sigd and k not in but}\\n'\n",
      " '        sigd.update(s2)\\n'\n",
      " \"        if keep: sigd['kwargs'] = k\\n\"\n",
      " '        else: from_f.__delwrap__ = to_f\\n'\n",
      " '        from_f.__signature__ = sig.replace(parameters=sigd.values())\\n'\n",
      " \"        if hasattr(from_f, '__annotations__'): from_f.__annotations__.update(anno)\\n\"\n",
      " '        return f\\n'\n",
      " '    return _f\\n')\n"
     ]
    }
   ],
   "source": [
    "delegates = dbsrclines(srcname, [0,1,2,3]) # print out the debuggable source code under investgation"
   ]
  },
  {
   "cell_type": "code",
   "execution_count": null,
   "id": "98ffe5fe-f3e3-4e88-a58f-10f545e0d266",
   "metadata": {},
   "outputs": [
    {
     "name": "stdout",
     "output_type": "stream",
     "text": [
      "\n",
      "\n",
      "######################################################## source code with lines under investigation #########################################################\n",
      "\n",
      "\n",
      "def delegates(to:FunctionType=None, # Delegatee                                                                                                              \n",
      "              keep=False, # Keep `kwargs` in decorated function?                                                                                             \n",
      "              but:list=None): # Exclude these parameters from signature                                                                                      \n",
      "    \"Decorator: replace `**kwargs` in signature with params from `to`\"                                                                                       \n",
      "    if but is None: but = []                                                                                                                                 \n",
      "    def _f(f):                                                                                                                                               \n",
      "        if to is None: to_f,from_f = f.__base__.__init__,f.__init__==========================================================================================\n",
      "        else:          to_f,from_f = to.__init__ if isinstance(to,type) else to,f============================================================================\n",
      "                                                                           \u001b[91mUseCase1: when to is superclass to f\n",
      "                                                                           UseCase2: when to is a class but not superclass to f. UseCase3: other combinations\u001b[0m\n",
      "        from_f = getattr(from_f,'__func__',from_f)                                                                                                           \n",
      "        to_f = getattr(to_f,'__func__',to_f)                                                                                                                 \n",
      "        if hasattr(from_f,'__delwrap__'): return f                                                                                                           \n",
      "        sig = inspect.signature(from_f)                                                                                                                      \n",
      "        sigd = dict(sig.parameters)                                                                                                                          \n",
      "        k = sigd.pop('kwargs')                                                                                                                               \n",
      "        s2 = {k:v.replace(kind=inspect.Parameter.KEYWORD_ONLY) for k,v in inspect.signature(to_f).parameters.items()                                         \n",
      "              if v.default != inspect.Parameter.empty and k not in sigd and k not in but}                                                                    \n",
      "        anno = {k:v for k,v in to_f.__annotations__.items() if k not in sigd and k not in but}                                                               \n",
      "        sigd.update(s2)                                                                                                                                      \n",
      "        if keep: sigd['kwargs'] = k                                                                                                                          \n",
      "        else: from_f.__delwrap__ = to_f                                                                                                                      \n",
      "        from_f.__signature__ = sig.replace(parameters=sigd.values())                                                                                         \n",
      "        if hasattr(from_f, '__annotations__'): from_f.__annotations__.update(anno)                                                                           \n",
      "        return f                                                                                                                                             \n",
      "    return _f                                                                                                                                                \n",
      "                                                                                                                                                             \n",
      "\n",
      "class Base(): \n",
      "    def __init__(self, a, b=1): pass \n",
      "class Other():\n",
      "    def __init__(self, e=1): pass\n",
      "\n",
      "@delegates()\n",
      "class Subcls(Base): # to as a superclass (Base),  to must have __init__, and __new__ won't do\n",
      "    def __init__(self, c, d=1, **kwargs): pass # f as class, should have __init__\n",
      "test_sig(Subcls, '(c, d=1, *, b=1)')\n",
      "\n",
      "\n",
      "\n",
      "if to is None:\n",
      "    to_f,from_f = f.__base__.__init__,f.__init__\n",
      "else:\n",
      "    to_f,from_f = to.__init__ if isinstance(to,type) else to,f                         \n",
      "                                                                                                                                  Running your code block => \n",
      "The code block printout => : \n",
      "\n",
      "\n",
      "                                                                                                       to_f => to_f : <function Base.__init__>\n",
      "\n",
      "\n",
      "                                                                                                 from_f => from_f : <function Subcls.__init__>\n",
      "\n",
      "\n",
      "                                                                                  hasattr(to_f, '__annotations__') => hasattr(to_f, '__annotations__') : True\n",
      "\n",
      "\n",
      "                                                                              hasattr(from_f, '__annotations__') => hasattr(from_f, '__annotations__') : True\n",
      "\n",
      "\n",
      "######################################################## source code with lines under investigation #########################################################\n",
      "\n",
      "\n",
      "def delegates(to:FunctionType=None, # Delegatee                                                                                                              \n",
      "              keep=False, # Keep `kwargs` in decorated function?                                                                                             \n",
      "              but:list=None): # Exclude these parameters from signature                                                                                      \n",
      "    \"Decorator: replace `**kwargs` in signature with params from `to`\"                                                                                       \n",
      "    if but is None: but = []                                                                                                                                 \n",
      "    def _f(f):                                                                                                                                               \n",
      "        if to is None: to_f,from_f = f.__base__.__init__,f.__init__                                                                                          \n",
      "        else:          to_f,from_f = to.__init__ if isinstance(to,type) else to,f                                                                            \n",
      "        from_f = getattr(from_f,'__func__',from_f)===========================================================================================================\n",
      "        to_f = getattr(to_f,'__func__',to_f)=================================================================================================================\n",
      "                                       \u001b[91mThis line is for classmethod, as it is not callable, so inspect.signature(...) won't work, but it has __func__ to save\u001b[0m\n",
      "        if hasattr(from_f,'__delwrap__'): return f                                                                                                           \n",
      "        sig = inspect.signature(from_f)                                                                                                                      \n",
      "        sigd = dict(sig.parameters)                                                                                                                          \n",
      "        k = sigd.pop('kwargs')                                                                                                                               \n",
      "        s2 = {k:v.replace(kind=inspect.Parameter.KEYWORD_ONLY) for k,v in inspect.signature(to_f).parameters.items()                                         \n",
      "              if v.default != inspect.Parameter.empty and k not in sigd and k not in but}                                                                    \n",
      "        anno = {k:v for k,v in to_f.__annotations__.items() if k not in sigd and k not in but}                                                               \n",
      "        sigd.update(s2)                                                                                                                                      \n",
      "        if keep: sigd['kwargs'] = k                                                                                                                          \n",
      "        else: from_f.__delwrap__ = to_f                                                                                                                      \n",
      "        from_f.__signature__ = sig.replace(parameters=sigd.values())                                                                                         \n",
      "        if hasattr(from_f, '__annotations__'): from_f.__annotations__.update(anno)                                                                           \n",
      "        return f                                                                                                                                             \n",
      "    return _f                                                                                                                                                \n",
      "                                                                                                                                                             \n",
      "\n",
      "class Base(): \n",
      "    def __init__(self, a, b=1): pass \n",
      "class Other():\n",
      "    def __init__(self, e=1): pass\n",
      "\n",
      "@delegates()\n",
      "class Subcls(Base): # to as a superclass (Base),  to must have __init__, and __new__ won't do\n",
      "    def __init__(self, c, d=1, **kwargs): pass # f as class, should have __init__\n",
      "test_sig(Subcls, '(c, d=1, *, b=1)')\n",
      "\n",
      "\n",
      "\n",
      "                                                                                                                           f => f : <class '__main__.Subcls'>\n",
      "\n",
      "\n",
      "                                                                                                 from_f => from_f : <function Subcls.__init__>\n",
      "\n",
      "\n",
      "                                                                                                            type(from_f) => type(from_f) : <class 'function'>\n",
      "\n",
      "\n",
      "try:\n",
      "    inspect.signature(from_f)\n",
      "except:\n",
      "    print('error occurs')\n",
      "    print(f'is from_f callable: {callable(from_f)}')\n",
      "else:\n",
      "    print(inspect.signature(from_f))\n",
      "                                                                                                                                  Running your code block => \n",
      "The code block printout => : \n",
      "(self, c, d=1, **kwargs)\n",
      "\n",
      "\n",
      "                                                                                           hasattr(from_f, '__func__') => hasattr(from_f, '__func__') : False\n",
      "\n",
      "\n",
      "                                                              from_f = getattr(from_f,'__func__',from_f) => from_f: <function Subcls.__init__>\n",
      "\n",
      "\n",
      "                                                                                                 from_f => from_f : <function Subcls.__init__>\n",
      "\n",
      "\n",
      "                                                                                                                                              to => to : None\n",
      "\n",
      "\n",
      "                                                                                                       to_f => to_f : <function Base.__init__>\n",
      "\n",
      "\n",
      "                                                                                                                type(to_f) => type(to_f) : <class 'function'>\n",
      "\n",
      "\n",
      "try:\n",
      "    inspect.signature(to_f)\n",
      "except:\n",
      "    print('error occurs')\n",
      "    print(f'is to_f callable: {callable(to_f)}')\n",
      "else:\n",
      "    print(inspect.signature(to_f)) \n",
      "                                                                                                                                  Running your code block => \n",
      "The code block printout => : \n",
      "(self, a, b=1)\n",
      "\n",
      "\n",
      "                                                                                               hasattr(to_f, '__func__') => hasattr(to_f, '__func__') : False\n",
      "\n",
      "\n",
      "                                                                        to_f = getattr(to_f,'__func__',to_f) => to_f: <function Base.__init__>\n",
      "\n",
      "\n",
      "                                                                                                       to_f => to_f : <function Base.__init__>\n",
      "\n",
      "\n",
      "######################################################## source code with lines under investigation #########################################################\n",
      "\n",
      "\n",
      "def delegates(to:FunctionType=None, # Delegatee                                                                                                              \n",
      "              keep=False, # Keep `kwargs` in decorated function?                                                                                             \n",
      "              but:list=None): # Exclude these parameters from signature                                                                                      \n",
      "    \"Decorator: replace `**kwargs` in signature with params from `to`\"                                                                                       \n",
      "    if but is None: but = []                                                                                                                                 \n",
      "    def _f(f):                                                                                                                                               \n",
      "        if to is None: to_f,from_f = f.__base__.__init__,f.__init__                                                                                          \n",
      "        else:          to_f,from_f = to.__init__ if isinstance(to,type) else to,f                                                                            \n",
      "        from_f = getattr(from_f,'__func__',from_f)                                                                                                           \n",
      "        to_f = getattr(to_f,'__func__',to_f)                                                                                                                 \n",
      "        if hasattr(from_f,'__delwrap__'): return f===========================================================================================================\n",
      "                       \u001b[91mIf f or from_f has __delwrap__, it means it's happy with all params and give up on **kwargs. So no more params needed from other `to`s\u001b[0m\n",
      "        sig = inspect.signature(from_f)                                                                                                                      \n",
      "        sigd = dict(sig.parameters)                                                                                                                          \n",
      "        k = sigd.pop('kwargs')                                                                                                                               \n",
      "        s2 = {k:v.replace(kind=inspect.Parameter.KEYWORD_ONLY) for k,v in inspect.signature(to_f).parameters.items()                                         \n",
      "              if v.default != inspect.Parameter.empty and k not in sigd and k not in but}                                                                    \n",
      "        anno = {k:v for k,v in to_f.__annotations__.items() if k not in sigd and k not in but}                                                               \n",
      "        sigd.update(s2)                                                                                                                                      \n",
      "        if keep: sigd['kwargs'] = k                                                                                                                          \n",
      "        else: from_f.__delwrap__ = to_f                                                                                                                      \n",
      "        from_f.__signature__ = sig.replace(parameters=sigd.values())                                                                                         \n",
      "        if hasattr(from_f, '__annotations__'): from_f.__annotations__.update(anno)                                                                           \n",
      "        return f=============================================================================================================================================\n",
      "    return _f                                                                                                                                                \n",
      "                                                                                                                                                             \n",
      "\n",
      "class Base(): \n",
      "    def __init__(self, a, b=1): pass \n",
      "class Other():\n",
      "    def __init__(self, e=1): pass\n",
      "\n",
      "@delegates()\n",
      "class Subcls(Base): # to as a superclass (Base),  to must have __init__, and __new__ won't do\n",
      "    def __init__(self, c, d=1, **kwargs): pass # f as class, should have __init__\n",
      "test_sig(Subcls, '(c, d=1, *, b=1)')\n",
      "\n",
      "\n",
      "\n",
      "                                                                                                 from_f => from_f : <function Subcls.__init__>\n",
      "\n",
      "\n",
      "                                                                                                                           f => f : <class '__main__.Subcls'>\n",
      "\n",
      "\n",
      "                                                                                     hasattr(from_f, '__delwrap__') => hasattr(from_f, '__delwrap__') : False\n",
      "\n",
      "\n",
      "                                                                           if hasattr(from_f,'__delwrap__'): return f => hasattr(from_f,'__delwrap__'): False\n",
      "\n",
      "\n",
      "######################################################## source code with lines under investigation #########################################################\n",
      "\n",
      "\n",
      "def delegates(to:FunctionType=None, # Delegatee                                                                                                              \n",
      "              keep=False, # Keep `kwargs` in decorated function?                                                                                             \n",
      "              but:list=None): # Exclude these parameters from signature                                                                                      \n",
      "    \"Decorator: replace `**kwargs` in signature with params from `to`\"                                                                                       \n",
      "    if but is None: but = []                                                                                                                                 \n",
      "    def _f(f):                                                                                                                                               \n",
      "        if to is None: to_f,from_f = f.__base__.__init__,f.__init__                                                                                          \n",
      "        else:          to_f,from_f = to.__init__ if isinstance(to,type) else to,f                                                                            \n",
      "        from_f = getattr(from_f,'__func__',from_f)                                                                                                           \n",
      "        to_f = getattr(to_f,'__func__',to_f)                                                                                                                 \n",
      "        if hasattr(from_f,'__delwrap__'): return f                                                                                                           \n",
      "        sig = inspect.signature(from_f)                                                                                                                      \n",
      "        sigd = dict(sig.parameters)                                                                                                                          \n",
      "        k = sigd.pop('kwargs')                                                                                                                               \n",
      "        s2 = {k:v.replace(kind=inspect.Parameter.KEYWORD_ONLY) for k,v in inspect.signature(to_f).parameters.items()                                         \n",
      "              if v.default != inspect.Parameter.empty and k not in sigd and k not in but}                                                                    \n",
      "        anno = {k:v for k,v in to_f.__annotations__.items() if k not in sigd and k not in but}===============================================================\n",
      "                                          \u001b[91mwhat it does: check to_f's annotations (dict), and only select params with their annotations wanted by f or from_f.\u001b[0m\n",
      "        sigd.update(s2)                                                                                                                                      \n",
      "        if keep: sigd['kwargs'] = k                                                                                                                          \n",
      "        else: from_f.__delwrap__ = to_f                                                                                                                      \n",
      "        from_f.__signature__ = sig.replace(parameters=sigd.values())                                                                                         \n",
      "        if hasattr(from_f, '__annotations__'): from_f.__annotations__.update(anno)                                                                           \n",
      "        return f                                                                                                                                             \n",
      "    return _f                                                                                                                                                \n",
      "                                                                                                                                                             \n",
      "\n",
      "class Base(): \n",
      "    def __init__(self, a, b=1): pass \n",
      "class Other():\n",
      "    def __init__(self, e=1): pass\n",
      "\n",
      "@delegates()\n",
      "class Subcls(Base): # to as a superclass (Base),  to must have __init__, and __new__ won't do\n",
      "    def __init__(self, c, d=1, **kwargs): pass # f as class, should have __init__\n",
      "test_sig(Subcls, '(c, d=1, *, b=1)')\n",
      "\n",
      "\n",
      "\n",
      "                                                                                  hasattr(to_f, '__annotations__') => hasattr(to_f, '__annotations__') : True\n",
      "\n",
      "\n",
      "if hasattr(to_f, '__annotations__'):\n",
      "    for k,v in to_f.__annotations__.items():\n",
      "        print(f'k:v => {k}:{v}')\n",
      "else:\n",
      "    print(f'We should expect error from the code of try-except.')\n",
      "    try:\n",
      "        to_f.__annotations__\n",
      "    except AttributeError as e:\n",
      "        print(e)\n",
      "                                                                                                                                  Running your code block => \n",
      "The code block printout => : \n"
     ]
    }
   ],
   "source": [
    "defaults.eg = \"\"\"\n",
    "class Base(): \n",
    "    def __init__(self, a, b=1): pass \n",
    "class Other():\n",
    "    def __init__(self, e=1): pass\n",
    "\n",
    "@delegates()\n",
    "class Subcls(Base): # to as a superclass (Base),  to must have __init__, and __new__ won't do\n",
    "    def __init__(self, c, d=1, **kwargs): pass # f as class, should have __init__\n",
    "test_sig(Subcls, '(c, d=1, *, b=1)')\n",
    "\"\"\"\n",
    "\n",
    "class Base(): \n",
    "    def __init__(self, a, b=1): pass \n",
    "class Other():\n",
    "    def __init__(self, e=1): pass\n",
    "\n",
    "@delegates()\n",
    "class Subcls(Base): # to as a superclass (Base),  to must have __init__, and __new__ won't do\n",
    "    def __init__(self, c, d=1, **kwargs): pass # f as class, should have __init__\n",
    "test_sig(Subcls, '(c, d=1, *, b=1)')"
   ]
  },
  {
   "cell_type": "code",
   "execution_count": null,
   "id": "64578a42-8e27-47c9-9a59-5ca204d0bcd4",
   "metadata": {},
   "outputs": [],
   "source": []
  },
  {
   "cell_type": "markdown",
   "id": "bd1fa5c7",
   "metadata": {},
   "source": [
    "#|hide\n",
    "## Sending to Obs"
   ]
  },
  {
   "cell_type": "code",
   "execution_count": null,
   "id": "bb5ffdf6",
   "metadata": {},
   "outputs": [
    {
     "name": "stdout",
     "output_type": "stream",
     "text": [
      "[jupytext] Reading /Users/Natsume/Documents/debuggable/fastcore/meta/00_delegates.ipynb in format ipynb\n",
      "[jupytext] Writing /Users/Natsume/Documents/debuggable/fastcore/meta/00_delegates.md\n"
     ]
    }
   ],
   "source": [
    "#|hide\n",
    "!jupytext --to md /Users/Natsume/Documents/debuggable/fastcore/meta/00_delegates.ipynb\n",
    "!mv /Users/Natsume/Documents/debuggable/fastcore/meta/00_delegates.md \\\n",
    "/Users/Natsume/Documents/divefastai/Debuggable/jupytext/fastcore/meta/"
   ]
  },
  {
   "cell_type": "code",
   "execution_count": null,
   "id": "0473e5d2",
   "metadata": {},
   "outputs": [
    {
     "name": "stdout",
     "output_type": "stream",
     "text": [
      "[NbConvertApp] Converting notebook /Users/Natsume/Documents/debuggable/index.ipynb to markdown\n",
      "[NbConvertApp] Writing 2074 bytes to /Users/Natsume/Documents/divefastai/Debuggable/nbconvert/index.md\n",
      "[NbConvertApp] Converting notebook /Users/Natsume/Documents/debuggable/utils.ipynb to markdown\n",
      "[NbConvertApp] Writing 165629 bytes to /Users/Natsume/Documents/divefastai/Debuggable/nbconvert/utils.md\n",
      "[NbConvertApp] Converting notebook /Users/Natsume/Documents/debuggable/fastcore/classes_metaclasses.ipynb to markdown\n",
      "[NbConvertApp] Writing 23234 bytes to /Users/Natsume/Documents/divefastai/Debuggable/nbconvert/classes_metaclasses.md\n",
      "[NbConvertApp] Converting notebook /Users/Natsume/Documents/debuggable/fastcore/meta/02_use_kwargs_dict.ipynb to markdown\n",
      "[NbConvertApp] Writing 3777 bytes to /Users/Natsume/Documents/divefastai/Debuggable/nbconvert/02_use_kwargs_dict.md\n",
      "[NbConvertApp] Converting notebook /Users/Natsume/Documents/debuggable/fastcore/meta/00_delegates.ipynb to markdown\n",
      "[NbConvertApp] Writing 67353 bytes to /Users/Natsume/Documents/divefastai/Debuggable/nbconvert/00_delegates.md\n",
      "[NbConvertApp] Converting notebook /Users/Natsume/Documents/debuggable/fastcore/meta/01_mk_param.ipynb to markdown\n",
      "[NbConvertApp] Writing 2015 bytes to /Users/Natsume/Documents/divefastai/Debuggable/nbconvert/01_mk_param.md\n",
      "[NbConvertApp] Converting notebook /Users/Natsume/Documents/debuggable/fastcore/findings/00F_delegates_keep.ipynb to markdown\n",
      "[NbConvertApp] Writing 14251 bytes to /Users/Natsume/Documents/divefastai/Debuggable/nbconvert/00F_delegates_keep.md\n"
     ]
    }
   ],
   "source": [
    "#|hide\n",
    "!jupyter nbconvert --config /Users/Natsume/Documents/mynbcfg.py --to markdown \\\n",
    "--output-dir /Users/Natsume/Documents/divefastai/Debuggable/nbconvert"
   ]
  },
  {
   "cell_type": "code",
   "execution_count": null,
   "id": "f6ee14d3-1555-4dec-818c-0116583a05d4",
   "metadata": {},
   "outputs": [],
   "source": []
  }
 ],
 "metadata": {
  "kernelspec": {
   "display_name": "Python 3 (ipykernel)",
   "language": "python",
   "name": "python3"
  }
 },
 "nbformat": 4,
 "nbformat_minor": 5
}
