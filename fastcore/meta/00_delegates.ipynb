{
 "cells": [
  {
   "cell_type": "markdown",
   "id": "86501837",
   "metadata": {},
   "source": [
    "# fastcore.meta.delegates"
   ]
  },
  {
   "cell_type": "markdown",
   "id": "7a647aa9-e840-4fa6-8a53-767ce9f397ea",
   "metadata": {},
   "source": [
    "## Imports"
   ]
  },
  {
   "cell_type": "markdown",
   "id": "9b2dc162-dfbe-4a73-aa9a-9ec7242d5399",
   "metadata": {},
   "source": [
    "### debuggable"
   ]
  },
  {
   "cell_type": "code",
   "execution_count": null,
   "id": "1a890674-8a29-4a6b-8d3e-84ee08ddbe2a",
   "metadata": {},
   "outputs": [],
   "source": [
    "from debuggable.utils import *"
   ]
  },
  {
   "cell_type": "code",
   "execution_count": null,
   "id": "1026071a-7958-44e9-a81b-80070cc54654",
   "metadata": {},
   "outputs": [],
   "source": [
    "import debuggable.utils as du"
   ]
  },
  {
   "cell_type": "code",
   "execution_count": null,
   "id": "8b4ba401-f577-4e08-a99e-ed2f69bd1a1e",
   "metadata": {},
   "outputs": [
    {
     "name": "stdout",
     "output_type": "stream",
     "text": [
      "debuggable.utils has: \n",
      "15 items in its __all__, and \n",
      "50 user defined functions, \n",
      "21 classes or class objects, \n",
      "2 builtin funcs and methods, and\n",
      "83 callables.\n",
      "\n",
      "['defaults',\n",
      " 'whatinside',\n",
      " 'whichversion',\n",
      " 'checksource',\n",
      " 'alignright',\n",
      " 'dbcolors',\n",
      " 'colorize',\n",
      " 'dbprint',\n",
      " 'insert2debug',\n",
      " 'dbsrclines',\n",
      " 'displaysavedbsrc',\n",
      " 'checksrc',\n",
      " 'strip_ansi',\n",
      " 'matchsrcorder',\n",
      " 'displaysrc']\n"
     ]
    }
   ],
   "source": [
    "whatinside(du, dun=True)"
   ]
  },
  {
   "cell_type": "markdown",
   "id": "b72891b6-43a9-41f2-af2d-f426820014af",
   "metadata": {},
   "source": [
    "### fastcore and else"
   ]
  },
  {
   "cell_type": "code",
   "execution_count": null,
   "id": "679f6cab-e39c-4229-b806-956382018f36",
   "metadata": {},
   "outputs": [
    {
     "name": "stdout",
     "output_type": "stream",
     "text": [
      "fastcore: 1.5.22 \n",
      "Python supercharged for fastai development    \n",
      "Jeremy Howard and Sylvain Gugger \n",
      "https://github.com/fastai/fastcore/     \n",
      "python_version: >=3.7     \n",
      "/Users/Natsume/mambaforge/lib/python3.9/site-packages/fastcore\n"
     ]
    }
   ],
   "source": [
    "# !pip install -U fastcore\n",
    "whichversion('fastcore')"
   ]
  },
  {
   "cell_type": "code",
   "execution_count": null,
   "id": "322bd4e4-9ee8-4799-9738-445d76e7ec10",
   "metadata": {},
   "outputs": [],
   "source": [
    "from fastcore.imports import *\n",
    "from fastcore.meta import *\n",
    "from fastcore.test import *\n",
    "import inspect\n",
    "from pprint import pprint\n",
    "from datetime import date\n",
    "import ast\n",
    "import pickle"
   ]
  },
  {
   "cell_type": "code",
   "execution_count": null,
   "id": "ff754cef",
   "metadata": {},
   "outputs": [
    {
     "name": "stdout",
     "output_type": "stream",
     "text": [
      "Today's date: 2022-08-29\n"
     ]
    }
   ],
   "source": [
    "today = date.today()\n",
    "print(\"Today's date:\", today)"
   ]
  },
  {
   "cell_type": "markdown",
   "id": "6887e4b3-bc74-4bba-a25a-5acde312043f",
   "metadata": {},
   "source": [
    "## Which source to explore"
   ]
  },
  {
   "cell_type": "code",
   "execution_count": null,
   "id": "65a91ed8-3ac7-41ed-abe5-e5619a8cf5aa",
   "metadata": {},
   "outputs": [],
   "source": [
    "defaults.name = \"delegates\" # required"
   ]
  },
  {
   "cell_type": "markdown",
   "id": "2fe1876d-45e3-4467-8c1f-856cf616c2fd",
   "metadata": {},
   "source": [
    "## Check the latest source against my debuggable source"
   ]
  },
  {
   "cell_type": "code",
   "execution_count": null,
   "id": "749906ac-16f1-4b4b-b472-0c1f57c7eec8",
   "metadata": {},
   "outputs": [
    {
     "name": "stdout",
     "output_type": "stream",
     "text": [
      "def delegates(to:FunctionType=None, # Delegatee                                                                                                           (✓)\n",
      "              keep=False, # Keep `kwargs` in decorated function?                                                                                          (✓)\n",
      "              but:list=None): # Exclude these parameters from signature                                                                                   (✓)\n",
      "    \"Decorator: replace `**kwargs` in signature with params from `to`\"                                                                                    (✓)\n",
      "    if but is None: but = []                                                                                                                              (✓)\n",
      "    def _f(f):                                                                                                                                            (✓)\n",
      "        if to is None: to_f,from_f = f.__base__.__init__,f.__init__                                                                                       (✓)\n",
      "        else:          to_f,from_f = to.__init__ if isinstance(to,type) else to,f                                                                         (✓)\n",
      "        from_f = getattr(from_f,'__func__',from_f)                                                                                                        (✓)\n",
      "        to_f = getattr(to_f,'__func__',to_f)                                                                                                              (✓)\n",
      "        if hasattr(from_f,'__delwrap__'): return f                                                                                                        (✓)\n",
      "        sig = inspect.signature(from_f)                                                                                                                   (✓)\n",
      "        sigd = dict(sig.parameters)                                                                                                                       (✓)\n",
      "        k = sigd.pop('kwargs')                                                                                                                            (✓)\n",
      "        s2 = {k:v.replace(kind=inspect.Parameter.KEYWORD_ONLY) for k,v in inspect.signature(to_f).parameters.items()                                      (✓)\n",
      "              if v.default != inspect.Parameter.empty and k not in sigd and k not in but}                                                                 (✓)\n",
      "        anno = {k:v for k,v in to_f.__annotations__.items() if k not in sigd and k not in but}                                                            (✓)\n",
      "        sigd.update(s2)                                                                                                                                   (✓)\n",
      "        if keep: sigd['kwargs'] = k                                                                                                                       (✓)\n",
      "        else: from_f.__delwrap__ = to_f                                                                                                                   (✓)\n",
      "        from_f.__signature__ = sig.replace(parameters=sigd.values())                                                                                      (✓)\n",
      "        if hasattr(from_f, '__annotations__'): from_f.__annotations__.update(anno)                                                                        (✓)\n",
      "        return f                                                                                                                                          (✓)\n",
      "    return _f                                                                                                                                             (✓)\n",
      "                                                                                                                                                          (✓)\n"
     ]
    }
   ],
   "source": [
    "checksrc() # optional"
   ]
  },
  {
   "cell_type": "markdown",
   "id": "286ca813-2085-4423-8468-6bcaa076ed2c",
   "metadata": {},
   "source": [
    "### display the entire source code with marks on those selected srclines"
   ]
  },
  {
   "cell_type": "code",
   "execution_count": null,
   "id": "eef09ddc-2c12-414d-be76-be2f950f4f4f",
   "metadata": {},
   "outputs": [
    {
     "name": "stdout",
     "output_type": "stream",
     "text": [
      "def delegates(to:FunctionType=None, # Delegatee\n",
      "              keep=False, # Keep `kwargs` in decorated function?\n",
      "              but:list=None): # Exclude these parameters from signature\n",
      "    \"Decorator: replace `**kwargs` in signature with params from `to`\"\n",
      "    if but is None: but = []\n",
      "    def _f(f):\n",
      "        if to is None: to_f,from_f = f.__base__.__init__,f.__init__================================================================================( 0 )==0==\n",
      "        else:          to_f,from_f = to.__init__ if isinstance(to,type) else to,f==================================================================( 1 )==0==\n",
      "        from_f = getattr(from_f,'__func__',from_f)=================================================================================================( 2 )==1==\n",
      "        to_f = getattr(to_f,'__func__',to_f)=======================================================================================================( 3 )==1==\n",
      "        if hasattr(from_f,'__delwrap__'): return f=================================================================================================( 4 )==2==\n",
      "        sig = inspect.signature(from_f)                                                                                                            ( 5 )     \n",
      "        sigd = dict(sig.parameters)                                                                                                                ( 6 )     \n",
      "        k = sigd.pop('kwargs')                                                                                                                     ( 7 )     \n",
      "        s2 = {k:v.replace(kind=inspect.Parameter.KEYWORD_ONLY) for k,v in inspect.signature(to_f).parameters.items()===============================( 8 )==3==\n",
      "              if v.default != inspect.Parameter.empty and k not in sigd and k not in but}==========================================================( 9 )==3==\n",
      "        anno = {k:v for k,v in to_f.__annotations__.items() if k not in sigd and k not in but}====================================================( 10 )==4==\n",
      "        sigd.update(s2)                                                                                                                           ( 11 )     \n",
      "        if keep: sigd['kwargs'] = k===============================================================================================================( 12 )==5==\n",
      "        else: from_f.__delwrap__ = to_f===========================================================================================================( 13 )==5==\n",
      "        from_f.__signature__ = sig.replace(parameters=sigd.values())                                                                              ( 14 )     \n",
      "        if hasattr(from_f, '__annotations__'): from_f.__annotations__.update(anno)                                                                ( 15 )     \n",
      "        return f\n",
      "    return _f\n",
      "\n"
     ]
    }
   ],
   "source": [
    "# required\n",
    "defaults.startsrc = \"if to is None\"\n",
    "defaults.endsrc = \"from_f.__annotations__.update(anno)\"\n",
    "displaysrc()"
   ]
  },
  {
   "cell_type": "markdown",
   "id": "516a7a71",
   "metadata": {},
   "source": [
    "## A personal docs on delegates\n",
    "\n",
    "I have been developing a workflow of creating my own docs for fastcore. Here is what I have so far.\n",
    "\n",
    "1st step: read and run examples from the official [docs](https://hyp.is/8brb_B42Ee2vbjuvJtjGGw/nbviewer.org/github/fastai/fastcore/blob/master/nbs/07_meta.ipynb) to understand how you should use it.\n",
    "\n",
    "2nd step: write your own examples to test your understanding of the usages and explore the boundaries to cause errors.\n",
    "\n",
    "3rd step: read the source and find out what from the source caused the errors using debugging tools like `print`, `pdb.set_trace`, `%debug`, jupyterlab's visual debugger etc.\n",
    "\n",
    "To keep my docs here readable, I will only present the second step and one or two examples of the third step."
   ]
  },
  {
   "cell_type": "markdown",
   "id": "49da1418",
   "metadata": {},
   "source": [
    "### When to use it?\n",
    "When `f` want to replace its `**kwargs` param with unique kwargs (with their annotations) from `to`.\n",
    "\n",
    "### Who are `to` and `f`?\n",
    "They can be functions, instance methods, classmethods, and even classes.\n",
    "\n",
    "### What is `**kwargs`?\n",
    "It's a param of `f`, to receive unknown keyword args (i.e., not sure how many and what they are) with values. In general, `to` can tell us what those unkown keyword args for `f`."
   ]
  },
  {
   "cell_type": "markdown",
   "id": "5cf2a49d",
   "metadata": {},
   "source": [
    "### Additional features with `keep` and `but`\n",
    "#### When to use `keep=False`?\n",
    "\n",
    "`f` is happy with all the params it got, no more expectation of other kwargs, so remove `**kwargs` from its signature.\n",
    "\n",
    "#### when to use `keep=True`?\n",
    "\n",
    "`f` is not content with all the params it got, and still expect other kwargs in the future when needed.\n",
    "\n",
    "#### when to use `but=['d']`?\n",
    "\n",
    "`f` does not want a list of specified kwargs from `to`, such as `d` here."
   ]
  },
  {
   "cell_type": "markdown",
   "id": "d7bc9a31",
   "metadata": {},
   "source": [
    "### Creating your own examples to test the boundary of usages"
   ]
  },
  {
   "cell_type": "markdown",
   "id": "ed99e551-271c-4e07-9f53-c6d31bc04ed2",
   "metadata": {},
   "source": [
    "`mid` wants to take `c=1` from `low` and keep `**kwargs`"
   ]
  },
  {
   "cell_type": "code",
   "execution_count": null,
   "id": "654c2a45",
   "metadata": {},
   "outputs": [],
   "source": [
    "def low(a, b=1, c=1, **kwargs): pass # to receive unexpected kwargs, `to` need `**kwargs` too.\n",
    "@delegates(low, keep=True, but=['b'])\n",
    "def mid(a, d=1, **kwargs): pass\n",
    "test_sig(mid, '(a, d=1, *, c=1, **kwargs)')\n",
    "mid(a=1, d=1, c=1, e=1) # mid is open to other unexpected kwargs without error"
   ]
  },
  {
   "cell_type": "markdown",
   "id": "db613e55-84d3-4312-85a7-1e4f927d6247",
   "metadata": {},
   "source": [
    "`mid` wants to take `b=1` from `low` and remove `**kwargs`"
   ]
  },
  {
   "cell_type": "code",
   "execution_count": null,
   "id": "5c78db06",
   "metadata": {},
   "outputs": [],
   "source": [
    "def low(a, b=1): pass \n",
    "@delegates(low) # to as func\n",
    "def mid(c, d=1, **kwargs): pass # f as func\n",
    "test_sig(mid, '(c, d=1, *, b=1)')"
   ]
  },
  {
   "cell_type": "markdown",
   "id": "a11a88f1-033a-45d9-8cea-4abcef766a78",
   "metadata": {},
   "source": [
    "classmethod `clsmid1` wants to take `b=1` from `low` and remove `**kwargs`\n",
    "\n",
    "classmethod `clsmid2` wants to take `d=1` and `b=1` from classmethod `clsmid1` and remove `**kwargs`."
   ]
  },
  {
   "cell_type": "code",
   "execution_count": null,
   "id": "0a263748",
   "metadata": {},
   "outputs": [],
   "source": [
    "class Foo():\n",
    "\n",
    "    @delegates(low) # to as func\n",
    "    @classmethod # classmethod() run before delegates()\n",
    "    def clsmid1(cls, c, d=1, **kwargs): pass # f as classmethod\n",
    "\n",
    "\n",
    "    @delegates(clsmid1) # to as classmethod\n",
    "    @classmethod\n",
    "    def clsmid2(cls, c, e=1, **kwargs): pass # f as classmethod\n",
    "\n",
    "test_sig(Foo.clsmid1, '(c, d=1, *, b=1)')\n",
    "test_sig(Foo.clsmid2, '(c, e=1, *, d=1, b=1)')"
   ]
  },
  {
   "cell_type": "markdown",
   "id": "12461159-1609-4ad0-9cbf-b7064318ce5c",
   "metadata": {},
   "source": [
    "function `clsmid1` inside `Foo` wants to take `b=1` from `low` and remove `**kwargs`. \n",
    "\n",
    "function `clsmid2` inside `Foo` wants to take `d=1` and `b=1` from classmethod `clsmid1` and remove `**kwargs`. "
   ]
  },
  {
   "cell_type": "code",
   "execution_count": null,
   "id": "f5259145",
   "metadata": {},
   "outputs": [],
   "source": [
    "class Foo():\n",
    "    \n",
    "\t@classmethod\n",
    "\t@delegates(low) # to as func\n",
    "\tdef clsmid1(cls, c, d=1, **kwargs): pass # f as func, not classmethod\n",
    "\n",
    "\t@classmethod \n",
    "\t@delegates(clsmid1)  # to as classmethod \n",
    "\tdef clsmid2(cls, c, e=1, **kwargs): pass # f as func, not classmethod\n",
    "\n",
    "test_sig(Foo.clsmid1, '(c, d=1, *, b=1)')\n",
    "test_sig(Foo.clsmid2, '(c, e=1, *, d=1, b=1)')"
   ]
  },
  {
   "cell_type": "markdown",
   "id": "6c06b7c3-29f4-4e57-8720-dd877235a5d3",
   "metadata": {},
   "source": [
    "function `instmid1` takes `e=1, d=1, b=1` from `Foo.clsmid2` and remove `**kwargs`\n",
    "\n",
    "function `instmid2` takes `f=1, e=1, d=1, b=1` from `instmid1` and remove `**kwargs`"
   ]
  },
  {
   "cell_type": "code",
   "execution_count": null,
   "id": "4ebfdb03",
   "metadata": {},
   "outputs": [],
   "source": [
    "class Foo1():\n",
    "\n",
    "    @delegates(Foo.clsmid2) # to as classmethod\n",
    "    def instmid1(self, c, f=1, **kwargs): pass # f as func\n",
    "\n",
    "    @delegates(instmid1) # to as func type\n",
    "    def instmid2(self, c, g=1, **kwargs): pass # f as func \n",
    "\n",
    "f = Foo1()\n",
    "test_sig(f.instmid1, '(c, f=1, *, e=1, d=1, b=1)')\n",
    "test_sig(f.instmid2, '(c, g=1, *, f=1, e=1, d=1, b=1)')"
   ]
  },
  {
   "cell_type": "code",
   "execution_count": null,
   "id": "0ed17288",
   "metadata": {},
   "outputs": [],
   "source": [
    "class Foo():\n",
    "    @classmethod\n",
    "    def f(cls, a=1, c=2): pass\n",
    "\n",
    "@delegates(Foo.f) # `to` is a classmethod\n",
    "def low(a, b=1, **kwargs): pass # `f` is a function\n",
    "test_sig(low, '(a, b=1, *, c=2)')"
   ]
  },
  {
   "cell_type": "code",
   "execution_count": null,
   "id": "1745d22b",
   "metadata": {},
   "outputs": [],
   "source": [
    "class Foo():\n",
    "\tdef __init__(a, b=1, **kwargs): pass\n",
    "\n",
    "@delegates(Foo) # `to` is a class\n",
    "def low(c, d=1, **kwargs): pass # `f` as function\n",
    "\n",
    "test_sig(low, '(c, d=1, *, b=1)')"
   ]
  },
  {
   "cell_type": "code",
   "execution_count": null,
   "id": "cb04b0ad-237f-4d11-8dcd-b7eb250bb936",
   "metadata": {},
   "outputs": [],
   "source": [
    "class Base(): \n",
    "    def __init__(self, a, b=1): pass \n",
    "class Other():\n",
    "    def __init__(self, e=1): pass\n",
    "\n",
    "@delegates(Other)\n",
    "class Foo():    \n",
    "    def __new__(self, g, f=1, **kwargs): pass # f as a class is ok with either __new__ or __init__\n",
    "test_sig(Foo, '(g, f=1, *, e=1)')"
   ]
  },
  {
   "cell_type": "code",
   "execution_count": null,
   "id": "12b77196-ba49-430e-9076-e25f364021a9",
   "metadata": {},
   "outputs": [],
   "source": [
    "@delegates()\n",
    "class Subcls(Base): # to as a superclass (Base),  to must have __init__, and __new__ won't do. \n",
    "    ### why?\n",
    "    # As source code required to use Base.__init__, if it doesn't have it, it will use a wrap-slot __init__, which has no __annotations__, and will\n",
    "    # cause error when __annotations__ is called later.\n",
    "    def __init__(self, c, d=1, **kwargs): pass # f as class, should have __init__\n",
    "test_sig(Subcls, '(c, d=1, *, b=1)')"
   ]
  },
  {
   "cell_type": "code",
   "execution_count": null,
   "id": "a4e637b6-d3b4-455a-82c1-6c9b3cb8ac25",
   "metadata": {},
   "outputs": [],
   "source": [
    "@delegates(Other) # as a normal class, it must have __init__, and __new__ won't do\n",
    "class Foo():    \n",
    "    def __init__(self, c, d=1, **kwargs): pass\n",
    "test_sig(Foo, '(c, d=1, *, e=1)')"
   ]
  },
  {
   "cell_type": "code",
   "execution_count": null,
   "id": "4bb24811",
   "metadata": {},
   "outputs": [
    {
     "name": "stdout",
     "output_type": "stream",
     "text": [
      "<Signature (c, d=1, *, e=1)>\n"
     ]
    }
   ],
   "source": [
    "try: \n",
    "    @delegates(Other)\n",
    "    class Foo(): pass # f as a class at least needs to have a signature with **kwargs inside\n",
    "    ### why? because we expect f to have **kwargs in the source.\n",
    "except: \n",
    "    pprint(inspect.signature(Foo))"
   ]
  },
  {
   "cell_type": "markdown",
   "id": "09b52fcf-e3ac-4fcf-8bfb-e514e2a65586",
   "metadata": {},
   "source": [
    "### debugging the error to understand the source"
   ]
  },
  {
   "cell_type": "markdown",
   "id": "c094f147",
   "metadata": {},
   "source": [
    "## Add srcline and dbprints"
   ]
  },
  {
   "cell_type": "code",
   "execution_count": null,
   "id": "5e1329f9-316f-4153-b593-dbca4908426f",
   "metadata": {},
   "outputs": [
    {
     "name": "stdout",
     "output_type": "stream",
     "text": [
      "def delegates(to:FunctionType=None, # Delegatee\n",
      "              keep=False, # Keep `kwargs` in decorated function?\n",
      "              but:list=None): # Exclude these parameters from signature\n",
      "    \"Decorator: replace `**kwargs` in signature with params from `to`\"\n",
      "    if but is None: but = []\n",
      "    def _f(f):\n",
      "        if to is None: to_f,from_f = f.__base__.__init__,f.__init__================================================================================( 0 )==0==\n",
      "        else:          to_f,from_f = to.__init__ if isinstance(to,type) else to,f==================================================================( 1 )==0==\n",
      "        from_f = getattr(from_f,'__func__',from_f)=================================================================================================( 2 )==1==\n",
      "        to_f = getattr(to_f,'__func__',to_f)=======================================================================================================( 3 )==1==\n",
      "        if hasattr(from_f,'__delwrap__'): return f=================================================================================================( 4 )==2==\n",
      "        sig = inspect.signature(from_f)                                                                                                            ( 5 )     \n",
      "        sigd = dict(sig.parameters)                                                                                                                ( 6 )     \n",
      "        k = sigd.pop('kwargs')                                                                                                                     ( 7 )     \n",
      "        s2 = {k:v.replace(kind=inspect.Parameter.KEYWORD_ONLY) for k,v in inspect.signature(to_f).parameters.items()===============================( 8 )==3==\n",
      "              if v.default != inspect.Parameter.empty and k not in sigd and k not in but}==========================================================( 9 )==3==\n",
      "        anno = {k:v for k,v in to_f.__annotations__.items() if k not in sigd and k not in but}====================================================( 10 )==4==\n",
      "        sigd.update(s2)                                                                                                                           ( 11 )     \n",
      "        if keep: sigd['kwargs'] = k===============================================================================================================( 12 )==5==\n",
      "        else: from_f.__delwrap__ = to_f===========================================================================================================( 13 )==5==\n",
      "        from_f.__signature__ = sig.replace(parameters=sigd.values())                                                                              ( 14 )     \n",
      "        if hasattr(from_f, '__annotations__'): from_f.__annotations__.update(anno)                                                                ( 15 )     \n",
      "        return f\n",
      "    return _f\n",
      "\n"
     ]
    }
   ],
   "source": [
    "displaysrc()"
   ]
  },
  {
   "cell_type": "code",
   "execution_count": null,
   "id": "3ed96978-45ca-4c0a-94c7-97587cb6df4f",
   "metadata": {},
   "outputs": [],
   "source": [
    "# srcdbps = defaults.src2dbp.delegates # user input\n",
    "srcdbps = []"
   ]
  },
  {
   "cell_type": "code",
   "execution_count": null,
   "id": "40313078-2422-47cd-8e16-2a1f07e91f4c",
   "metadata": {},
   "outputs": [],
   "source": [
    "srcline = \"\"\"\n",
    "        if keep: sigd['kwargs'] = k\n",
    "        else: from_f.__delwrap__ = to_f\n",
    "\"\"\""
   ]
  },
  {
   "cell_type": "code",
   "execution_count": null,
   "id": "fbb4669d-b240-405f-a235-5f390e32afd5",
   "metadata": {},
   "outputs": [
    {
     "data": {
      "text/plain": [
       "2"
      ]
     },
     "execution_count": null,
     "metadata": {},
     "output_type": "execute_result"
    }
   ],
   "source": [
    "len(defaults.src.split(srcline)) # must be 2 to be right"
   ]
  },
  {
   "cell_type": "code",
   "execution_count": null,
   "id": "8d8b45bd-8b6b-4be9-9247-1144b5a16eaa",
   "metadata": {},
   "outputs": [],
   "source": [
    "dbcode = \"\"\"\n",
    "        dbprint(\"        if keep: sigd['kwargs'] = k\\\\n        else: from_f.__delwrap__ = to_f\", \\\n",
    "\"what it does: you can keep **kwargs with keep=True, or you keep **kwargs out and add an attribute __delwrap__ with to_f.\", \\\n",
    "\"hasattr(from_f, '__delwrap__')\", keep=keep, sigd=sigd, from_f=from_f, to_f=to_f)\n",
    "\"\"\""
   ]
  },
  {
   "cell_type": "code",
   "execution_count": null,
   "id": "092f3992-24a6-4ec0-8b5c-f6393c16c050",
   "metadata": {},
   "outputs": [],
   "source": [
    "srcdbps.append([(srcline, dbcode)])"
   ]
  },
  {
   "cell_type": "code",
   "execution_count": null,
   "id": "40d73ad4-b57e-4002-9103-e44e44b9b948",
   "metadata": {},
   "outputs": [],
   "source": [
    "srcline = \"\"\"\n",
    "        s2 = {k:v.replace(kind=inspect.Parameter.KEYWORD_ONLY) for k,v in inspect.signature(to_f).parameters.items()\n",
    "              if v.default != inspect.Parameter.empty and k not in sigd and k not in but}\n",
    "\"\"\""
   ]
  },
  {
   "cell_type": "code",
   "execution_count": null,
   "id": "08a93d89-8311-4b6f-8b0c-ec3e1ad38c97",
   "metadata": {},
   "outputs": [
    {
     "data": {
      "text/plain": [
       "2"
      ]
     },
     "execution_count": null,
     "metadata": {},
     "output_type": "execute_result"
    }
   ],
   "source": [
    "len(defaults.src.split(srcline)) # must be 2 to be right"
   ]
  },
  {
   "cell_type": "code",
   "execution_count": null,
   "id": "479575ca-7b81-478d-b11c-5588ef5d6023",
   "metadata": {},
   "outputs": [],
   "source": []
  },
  {
   "cell_type": "code",
   "execution_count": null,
   "id": "7267ca82-ad26-41e3-8c99-f3a6efc10ce3",
   "metadata": {},
   "outputs": [],
   "source": [
    "dbcode = \"\"\"\n",
    "        dbprint(\"        s2 = {k:v.replace(kind=inspect.Parameter.KEYWORD_ONLY) for k,v in inspect.signature(to_f).parameters.items() if v.default != inspect.Parameter.empty and k not in sigd and k not in but}\", \\\n",
    "\"what it does: f take the params from to and put them into a dict, k is name, v is the param in Parameter class, and make their kind KEYWORD_ONLY.\", \\\n",
    "\"if callable(to_f):\\\\n\\\n",
    "    if bool(inspect.signature(to_f).parameters.items()):\\\\n\\\n",
    "        for k,v in inspect.signature(to_f).parameters.items():\\\\n\\\n",
    "            print(f'k:v => {k}:{v}, type(v): {type(v)}')\\\\n\\\n",
    "    else:\\\\n\\\n",
    "        print(f'inspect.signature(to_f).parameters.items() is empty: {not bool(inspect.signature(to_f).parameters.items())}')\\\\n\\\n",
    "else:\\\\n\\\n",
    "    print(f'to_f is callable: {callable(to_f)}, so inspect.signature(to_f) will cause error')\",\\\n",
    "to_f=to_f, k=k, but=but, sigd=sigd)\n",
    "\"\"\""
   ]
  },
  {
   "cell_type": "code",
   "execution_count": null,
   "id": "111ecaba-60e8-426e-ab75-67bc4b484c82",
   "metadata": {},
   "outputs": [],
   "source": [
    "srcdbps.append([(srcline, dbcode)])"
   ]
  },
  {
   "cell_type": "code",
   "execution_count": null,
   "id": "d8599304-dcae-4edb-8e87-6f417f8ce218",
   "metadata": {},
   "outputs": [],
   "source": [
    "srcline = \"        anno = {k:v for k,v in to_f.__annotations__.items() if k not in sigd and k not in but}\"\n",
    "dbcode = \"\"\"\n",
    "        dbprint(\"        anno = {k:v for k,v in to_f.__annotations__.items() if k not in sigd and k not in but}\", \\\n",
    "\"what it does: check to_f's annotations (dict), and only select params with their annotations wanted by f or from_f.\\\\n\\\n",
    "what is __annotations__: a:int, b:int=1 are annotations\\\\n\\\n",
    "for k,v in to_f.__annotations__.items(): print(f'k:v => {k}:{v}')\\\\n\\\n",
    "    if the iterator above is empty, then print won't get executed.\\\\n\\\n",
    "    run this:\\\\n\\\n",
    "    for k, v in {}.items(): print(f'k:v => {k}:{v}') \", \\\n",
    "\"hasattr(to_f, '__annotations__')\", \\\n",
    "\"if hasattr(to_f, '__annotations__'):\\\\n\\\n",
    "    if bool(to_f.__annotations__.items()) == False:\\\\n\\\n",
    "        print(f'to_f.__annotations__.items(): {to_f.__annotations__.items()}')\\\\n\\\n",
    "    else:\\\\n\\\n",
    "        for k, v in to_f.__annotations__.items():\\\\n\\\n",
    "            print(f'k:v => {k}:{v}')\\\\n\\\n",
    "else:\\\\n\\\n",
    "    print(f'We should expect error from the code of try-except.')\\\\n\\\n",
    "    try:\\\\n\\\n",
    "        to_f.__annotations__\\\\n\\\n",
    "    except AttributeError as e:\\\\n\\\n",
    "        print(e)\", \\\n",
    "but=but, k=k, sigd=sigd, to_f=to_f)\n",
    "\"\"\""
   ]
  },
  {
   "cell_type": "code",
   "execution_count": null,
   "id": "03ff06ee-6844-4e1b-ae56-bb27e4e0862f",
   "metadata": {},
   "outputs": [],
   "source": [
    "srcdbps.append([(srcline, dbcode)])"
   ]
  },
  {
   "cell_type": "code",
   "execution_count": null,
   "id": "53f7625d-d58e-419b-8fd2-d6f0874ddd1e",
   "metadata": {},
   "outputs": [],
   "source": [
    "srcline = \"\"\"\n",
    "        if to is None: to_f,from_f = f.__base__.__init__,f.__init__\n",
    "        else:          to_f,from_f = to.__init__ if isinstance(to,type) else to,f\n",
    "\"\"\"\n",
    "\n",
    "# watch out: to convert srcline into actual strings for the first arg in dbprint, use '\\\\n\\' instead of just '\\n'\n",
    "dbcode = \"\"\"\n",
    "\\n        dbprint(\"        if to is None: to_f,from_f = f.__base__.__init__,f.__init__\\\\n\\        else:          to_f,from_f = to.__init__ if isinstance(to,type) else to,f\",\\\n",
    "\"UseCase1: when to is superclass to f\\\\nUseCase2: when to is a class but not superclass to f. UseCase3: other combinations\",\\\n",
    "\"if to is None:\\\\n\\\n",
    "    to_f,from_f = f.__base__.__init__,f.__init__\\\\n\\\n",
    "else:\\\\n\\\n",
    "    to_f,from_f = to.__init__ if isinstance(to,type) else to,f\",\\\n",
    "\"to_f\", \"from_f\", \"hasattr(to_f, '__annotations__')\", \"hasattr(from_f, '__annotations__')\", \\\n",
    "f=f, to=to)\n",
    "\"\"\""
   ]
  },
  {
   "cell_type": "code",
   "execution_count": null,
   "id": "fc2fc30e-f4e2-400f-ab11-44640a4e4a7e",
   "metadata": {},
   "outputs": [],
   "source": [
    "srcdbps.append([(srcline, dbcode)])"
   ]
  },
  {
   "cell_type": "code",
   "execution_count": null,
   "id": "d0836165-fdb2-4ba1-8af8-d9f7704c4dec",
   "metadata": {},
   "outputs": [],
   "source": [
    "srcline = \"        if hasattr(from_f,\\'__delwrap__\\'): return f\"\n",
    "dbcode = \"\"\"\n",
    "        dbprint(\"if hasattr(from_f,'__delwrap__'): return f\", \\\n",
    "\"If f or from_f has __delwrap__, it means it's happy with all params and give up on **kwargs. So no more params needed from other `to`s\", \\\n",
    "\"from_f\", \"f\", \"hasattr(from_f, '__delwrap__')\", \"if hasattr(from_f,'__delwrap__'): return f\", from_f=from_f, f=f)\n",
    "\"\"\""
   ]
  },
  {
   "cell_type": "code",
   "execution_count": null,
   "id": "6294f84f-e78b-4d87-a4ae-a832a8e013d5",
   "metadata": {},
   "outputs": [],
   "source": [
    "srcdbps.append([(srcline, dbcode)])"
   ]
  },
  {
   "cell_type": "code",
   "execution_count": null,
   "id": "ef8b4de9-f917-41c8-ae81-95befee27d62",
   "metadata": {},
   "outputs": [],
   "source": [
    "# Watch out: using \\\\n instead of \\n inside a block\n",
    "srcline = \"\"\"\n",
    "        from_f = getattr(from_f,'__func__',from_f)\n",
    "        to_f = getattr(to_f,'__func__',to_f)\n",
    "\"\"\"\n",
    "dbcode = \"\"\"\n",
    "\\n        dbprint(\"        from_f = getattr(from_f,'__func__',from_f)\\\\n\\        to_f = getattr(to_f,'__func__',to_f)\",\\\n",
    "\"This line is for classmethod, as it is not callable, so inspect.signature(...) won't work, but it has __func__ to save\",\\\n",
    "\"f\", \"from_f\", \"type(from_f)\",\\\n",
    "\"try:\\\\n\\\n",
    "    inspect.signature(from_f)\\\\n\\\n",
    "except:\\\\n\\\n",
    "    print('error occurs')\\\\n\\\n",
    "    print(f'is from_f callable: {callable(from_f)}')\\\\n\\\n",
    "else:\\\\n\\\n",
    "    print(inspect.signature(from_f))\", \\\n",
    "\"hasattr(from_f, '__func__')\", \"from_f = getattr(from_f,'__func__',from_f)\", \"from_f\",\\\n",
    "\"to\", \"to_f\", \"type(to_f)\",\\\n",
    "\"try:\\\\n\\\n",
    "    inspect.signature(to_f)\\\\n\\\n",
    "except:\\\\n\\\n",
    "    print('error occurs')\\\\n\\\n",
    "    print(f'is to_f callable: {callable(to_f)}')\\\\n\\\n",
    "else:\\\\n\\\n",
    "    print(inspect.signature(to_f))\", \\\n",
    "\"hasattr(to_f, '__func__')\", \"to_f = getattr(to_f,'__func__',to_f)\", \"to_f\",\\\n",
    "from_f=from_f, to_f=to_f, f=f, to=to, srcline=srcline)\n",
    "\"\"\"\n",
    "# Importance: must include all necessary env into the dbprint function above. Note, we don't need inspect=inspect because utils has exported `import inspect`"
   ]
  },
  {
   "cell_type": "code",
   "execution_count": null,
   "id": "ef8c62a0-248f-4437-87d3-da1f12b35937",
   "metadata": {},
   "outputs": [],
   "source": [
    "srcdbps.append([(srcline, dbcode)])"
   ]
  },
  {
   "cell_type": "markdown",
   "id": "6b81286f-72f4-4afe-974e-fd928a0e1e3b",
   "metadata": {},
   "source": [
    "## Match scrdbps with right order"
   ]
  },
  {
   "cell_type": "code",
   "execution_count": null,
   "id": "6682b0fb-8c82-4537-90c3-90096105a98d",
   "metadata": {},
   "outputs": [
    {
     "name": "stdout",
     "output_type": "stream",
     "text": [
      "\n",
      "        if keep: sigd['kwargs'] = k\n",
      "        else: from_f.__delwrap__ = to_f\n",
      "\n",
      "\n",
      "        s2 = {k:v.replace(kind=inspect.Parameter.KEYWORD_ONLY) for k,v in inspect.signature(to_f).parameters.items()\n",
      "              if v.default != inspect.Parameter.empty and k not in sigd and k not in but}\n",
      "\n",
      "        anno = {k:v for k,v in to_f.__annotations__.items() if k not in sigd and k not in but}\n",
      "\n",
      "        if to is None: to_f,from_f = f.__base__.__init__,f.__init__\n",
      "        else:          to_f,from_f = to.__init__ if isinstance(to,type) else to,f\n",
      "\n",
      "        if hasattr(from_f,'__delwrap__'): return f\n",
      "\n",
      "        from_f = getattr(from_f,'__func__',from_f)\n",
      "        to_f = getattr(to_f,'__func__',to_f)\n",
      "\n"
     ]
    }
   ],
   "source": [
    "for s in srcdbps:\n",
    "    print(s[0][0])"
   ]
  },
  {
   "cell_type": "code",
   "execution_count": null,
   "id": "b68c3bbf-d152-4284-9f73-49aab1771f43",
   "metadata": {},
   "outputs": [],
   "source": [
    "srcdbps = matchsrcorder(srcdbps)"
   ]
  },
  {
   "cell_type": "code",
   "execution_count": null,
   "id": "709114b8-648b-4aa0-9eee-65fc82b7c58b",
   "metadata": {},
   "outputs": [
    {
     "data": {
      "text/plain": [
       "\u001b[0;31mSignature:\u001b[0m \u001b[0mmatchsrcorder\u001b[0m\u001b[0;34m(\u001b[0m\u001b[0msrcdbps\u001b[0m\u001b[0;34m:\u001b[0m \u001b[0mlist\u001b[0m\u001b[0;34m)\u001b[0m\u001b[0;34m\u001b[0m\u001b[0;34m\u001b[0m\u001b[0m\n",
       "\u001b[0;31mDocstring:\u001b[0m <no docstring>\n",
       "\u001b[0;31mSource:\u001b[0m   \n",
       "\u001b[0;32mdef\u001b[0m \u001b[0mmatchsrcorder\u001b[0m\u001b[0;34m(\u001b[0m\u001b[0msrcdbps\u001b[0m\u001b[0;34m:\u001b[0m\u001b[0mlist\u001b[0m \u001b[0;31m# the list contain all srclines and their dbcodes with random order\u001b[0m\u001b[0;34m\u001b[0m\n",
       "\u001b[0;34m\u001b[0m                 \u001b[0;34m)\u001b[0m\u001b[0;34m:\u001b[0m\u001b[0;34m\u001b[0m\n",
       "\u001b[0;34m\u001b[0m    \u001b[0msrcdbps1\u001b[0m \u001b[0;34m=\u001b[0m \u001b[0;34m[\u001b[0m\u001b[0;34m]\u001b[0m \u001b[0;31m# a list to store the correct order of srclines and dbcodes\u001b[0m\u001b[0;34m\u001b[0m\n",
       "\u001b[0;34m\u001b[0m    \u001b[0;32mfor\u001b[0m \u001b[0ml\u001b[0m \u001b[0;32min\u001b[0m \u001b[0mdefaults\u001b[0m\u001b[0;34m.\u001b[0m\u001b[0msrc\u001b[0m\u001b[0;34m.\u001b[0m\u001b[0msplit\u001b[0m\u001b[0;34m(\u001b[0m\u001b[0;34m\"\\n\"\u001b[0m\u001b[0;34m)\u001b[0m\u001b[0;34m:\u001b[0m\u001b[0;34m\u001b[0m\n",
       "\u001b[0;34m\u001b[0m        \u001b[0;32mfor\u001b[0m \u001b[0midx\u001b[0m\u001b[0;34m,\u001b[0m \u001b[0ms\u001b[0m \u001b[0;32min\u001b[0m \u001b[0mzip\u001b[0m\u001b[0;34m(\u001b[0m\u001b[0mrange\u001b[0m\u001b[0;34m(\u001b[0m\u001b[0mlen\u001b[0m\u001b[0;34m(\u001b[0m\u001b[0msrcdbps\u001b[0m\u001b[0;34m)\u001b[0m\u001b[0;34m)\u001b[0m\u001b[0;34m,\u001b[0m \u001b[0msrcdbps\u001b[0m\u001b[0;34m)\u001b[0m\u001b[0;34m:\u001b[0m\u001b[0;34m\u001b[0m\n",
       "\u001b[0;34m\u001b[0m            \u001b[0;32mif\u001b[0m \u001b[0ml\u001b[0m\u001b[0;34m.\u001b[0m\u001b[0mstrip\u001b[0m\u001b[0;34m(\u001b[0m\u001b[0;34m)\u001b[0m \u001b[0;32min\u001b[0m \u001b[0ms\u001b[0m\u001b[0;34m[\u001b[0m\u001b[0;36m0\u001b[0m\u001b[0;34m]\u001b[0m\u001b[0;34m[\u001b[0m\u001b[0;36m0\u001b[0m\u001b[0;34m]\u001b[0m\u001b[0;34m:\u001b[0m\u001b[0;34m\u001b[0m\n",
       "\u001b[0;34m\u001b[0m                \u001b[0msrcdbps\u001b[0m\u001b[0;34m.\u001b[0m\u001b[0mpop\u001b[0m\u001b[0;34m(\u001b[0m\u001b[0midx\u001b[0m\u001b[0;34m)\u001b[0m\u001b[0;34m\u001b[0m\n",
       "\u001b[0;34m\u001b[0m                \u001b[0msrcdbps1\u001b[0m\u001b[0;34m.\u001b[0m\u001b[0mappend\u001b[0m\u001b[0;34m(\u001b[0m\u001b[0ms\u001b[0m\u001b[0;34m)\u001b[0m  \u001b[0;34m\u001b[0m\n",
       "\u001b[0;34m\u001b[0m    \u001b[0;32mreturn\u001b[0m \u001b[0msrcdbps1\u001b[0m\u001b[0;34m\u001b[0m\u001b[0;34m\u001b[0m\u001b[0m\n",
       "\u001b[0;31mFile:\u001b[0m      ~/Documents/debuggable/debuggable/utils.py\n",
       "\u001b[0;31mType:\u001b[0m      function\n"
      ]
     },
     "metadata": {},
     "output_type": "display_data"
    }
   ],
   "source": [
    "matchsrcorder??"
   ]
  },
  {
   "cell_type": "code",
   "execution_count": null,
   "id": "238d4929-adc6-4418-83f0-4131af6251b4",
   "metadata": {},
   "outputs": [
    {
     "name": "stdout",
     "output_type": "stream",
     "text": [
      "\n",
      "        if to is None: to_f,from_f = f.__base__.__init__,f.__init__\n",
      "        else:          to_f,from_f = to.__init__ if isinstance(to,type) else to,f\n",
      "\n",
      "\n",
      "        from_f = getattr(from_f,'__func__',from_f)\n",
      "        to_f = getattr(to_f,'__func__',to_f)\n",
      "\n",
      "        if hasattr(from_f,'__delwrap__'): return f\n",
      "\n",
      "        s2 = {k:v.replace(kind=inspect.Parameter.KEYWORD_ONLY) for k,v in inspect.signature(to_f).parameters.items()\n",
      "              if v.default != inspect.Parameter.empty and k not in sigd and k not in but}\n",
      "\n",
      "        anno = {k:v for k,v in to_f.__annotations__.items() if k not in sigd and k not in but}\n",
      "\n",
      "        if keep: sigd['kwargs'] = k\n",
      "        else: from_f.__delwrap__ = to_f\n",
      "\n"
     ]
    }
   ],
   "source": [
    "for s in srcdbps:\n",
    "    print(s[0][0])"
   ]
  },
  {
   "cell_type": "code",
   "execution_count": null,
   "id": "5ccf3960-9c88-4ea1-b024-b94cca1ea3ea",
   "metadata": {},
   "outputs": [],
   "source": [
    "# save all the srclines with their dbcodes into defaults.\n",
    "defaults.src2dbp.delegates = srcdbps"
   ]
  },
  {
   "cell_type": "markdown",
   "id": "f7e87527-8eeb-4f00-ab17-a616768c6354",
   "metadata": {},
   "source": [
    "## Save the debuggable source code"
   ]
  },
  {
   "cell_type": "code",
   "execution_count": null,
   "id": "692832eb-0de1-414f-8248-a15bfb561f6f",
   "metadata": {},
   "outputs": [
    {
     "name": "stdout",
     "output_type": "stream",
     "text": [
      "def delegates(to:FunctionType=None, # Delegatee\n",
      "              keep=False, # Keep `kwargs` in decorated function?\n",
      "              but:list=None): # Exclude these parameters from signature\n",
      "    \"Decorator: replace `**kwargs` in signature with params from `to`\"\n",
      "    if but is None: but = []\n",
      "    def _f(f):\n",
      "\u001b[92m\u001b[0m\n",
      "        dbprint(\"        if to is None: to_f,from_f = f.__base__.__init__,f.__init__\\n\\        else:          to_f,from_f = to.__init__ if isinstance(to,type) else to,f\",\"UseCase1: when to is superclass to f\\nUseCase2: when to is a class but not superclass to f. UseCase3: other combinations\",\"if to is None:\\n    to_f,from_f = f.__base__.__init__,f.__init__\\nelse:\\n    to_f,from_f = to.__init__ if isinstance(to,type) else to,f\",\"to_f\", \"from_f\", \"hasattr(to_f, '__annotations__')\", \"hasattr(from_f, '__annotations__')\", f=f, to=to)\n",
      "\u001b[92m\u001b[0m\n",
      "\u001b[92m        if to is None: to_f,from_f = f.__base__.__init__,f.__init__\u001b[0m\n",
      "\u001b[92m        else:          to_f,from_f = to.__init__ if isinstance(to,type) else to,f\u001b[0m\n",
      "\u001b[92m\u001b[0m\n",
      "        dbprint(\"        from_f = getattr(from_f,'__func__',from_f)\\n\\        to_f = getattr(to_f,'__func__',to_f)\",\"This line is for classmethod, as it is not callable, so inspect.signature(...) won't work, but it has __func__ to save\",\"f\", \"from_f\", \"type(from_f)\",\"try:\\n    inspect.signature(from_f)\\nexcept:\\n    print('error occurs')\\n    print(f'is from_f callable: {callable(from_f)}')\\nelse:\\n    print(inspect.signature(from_f))\", \"hasattr(from_f, '__func__')\", \"from_f = getattr(from_f,'__func__',from_f)\", \"from_f\",\"to\", \"to_f\", \"type(to_f)\",\"try:\\n    inspect.signature(to_f)\\nexcept:\\n    print('error occurs')\\n    print(f'is to_f callable: {callable(to_f)}')\\nelse:\\n    print(inspect.signature(to_f))\", \"hasattr(to_f, '__func__')\", \"to_f = getattr(to_f,'__func__',to_f)\", \"to_f\",from_f=from_f, to_f=to_f, f=f, to=to, srcline=srcline)\n",
      "\u001b[92m\u001b[0m\n",
      "\u001b[92m        from_f = getattr(from_f,'__func__',from_f)\u001b[0m\n",
      "\u001b[92m        to_f = getattr(to_f,'__func__',to_f)\u001b[0m\n",
      "\u001b[92m\u001b[0m\n",
      "        dbprint(\"if hasattr(from_f,'__delwrap__'): return f\", \"If f or from_f has __delwrap__, it means it's happy with all params and give up on **kwargs. So no more params needed from other `to`s\", \"from_f\", \"f\", \"hasattr(from_f, '__delwrap__')\", \"if hasattr(from_f,'__delwrap__'): return f\", from_f=from_f, f=f)\n",
      "\u001b[92m        if hasattr(from_f,'__delwrap__'): return f\u001b[0m\n",
      "        sig = inspect.signature(from_f)\n",
      "        sigd = dict(sig.parameters)\n",
      "        k = sigd.pop('kwargs')\n",
      "        dbprint(\"        s2 = {k:v.replace(kind=inspect.Parameter.KEYWORD_ONLY) for k,v in inspect.signature(to_f).parameters.items() if v.default != inspect.Parameter.empty and k not in sigd and k not in but}\", \"what it does: f take the params from to and put them into a dict, k is name, v is the param in Parameter class, and make their kind KEYWORD_ONLY.\", \"if callable(to_f):\\n    if bool(inspect.signature(to_f).parameters.items()):\\n        for k,v in inspect.signature(to_f).parameters.items():\\n            print(f'k:v => {k}:{v}, type(v): {type(v)}')\\n    else:\\n        print(f'inspect.signature(to_f).parameters.items() is empty: {not bool(inspect.signature(to_f).parameters.items())}')\\nelse:\\n    print(f'to_f is callable: {callable(to_f)}, so inspect.signature(to_f) will cause error')\",to_f=to_f, k=k, but=but, sigd=sigd)\n",
      "\u001b[92m\u001b[0m\n",
      "\u001b[92m        s2 = {k:v.replace(kind=inspect.Parameter.KEYWORD_ONLY) for k,v in inspect.signature(to_f).parameters.items()\u001b[0m\n",
      "\u001b[92m              if v.default != inspect.Parameter.empty and k not in sigd and k not in but}\u001b[0m\n",
      "\u001b[92m\u001b[0m\n",
      "        dbprint(\"        anno = {k:v for k,v in to_f.__annotations__.items() if k not in sigd and k not in but}\", \"what it does: check to_f's annotations (dict), and only select params with their annotations wanted by f or from_f.\\nwhat is __annotations__: a:int, b:int=1 are annotations\\nfor k,v in to_f.__annotations__.items(): print(f'k:v => {k}:{v}')\\n    if the iterator above is empty, then print won't get executed.\\n    run this:\\n    for k, v in {}.items(): print(f'k:v => {k}:{v}') \", \"hasattr(to_f, '__annotations__')\", \"if hasattr(to_f, '__annotations__'):\\n    if bool(to_f.__annotations__.items()) == False:\\n        print(f'to_f.__annotations__.items(): {to_f.__annotations__.items()}')\\n    else:\\n        for k, v in to_f.__annotations__.items():\\n            print(f'k:v => {k}:{v}')\\nelse:\\n    print(f'We should expect error from the code of try-except.')\\n    try:\\n        to_f.__annotations__\\n    except AttributeError as e:\\n        print(e)\", but=but, k=k, sigd=sigd, to_f=to_f)\n",
      "\u001b[92m        anno = {k:v for k,v in to_f.__annotations__.items() if k not in sigd and k not in but}\u001b[0m\n",
      "        sigd.update(s2)\n",
      "        dbprint(\"        if keep: sigd['kwargs'] = k\\n        else: from_f.__delwrap__ = to_f\", \"what it does: you can keep **kwargs with keep=True, or you keep **kwargs out and add an attribute __delwrap__ with to_f.\", \"hasattr(from_f, '__delwrap__')\", keep=keep, sigd=sigd, from_f=from_f, to_f=to_f)\n",
      "\u001b[92m\u001b[0m\n",
      "\u001b[92m        if keep: sigd['kwargs'] = k\u001b[0m\n",
      "\u001b[92m        else: from_f.__delwrap__ = to_f\u001b[0m\n",
      "        from_f.__signature__ = sig.replace(parameters=sigd.values())\n",
      "        if hasattr(from_f, '__annotations__'): from_f.__annotations__.update(anno)\n",
      "\u001b[92m        return f\u001b[0m\n",
      "    return _f\n",
      "\u001b[92m\u001b[0m\n"
     ]
    }
   ],
   "source": [
    "displaysavedbsrc()"
   ]
  },
  {
   "cell_type": "markdown",
   "id": "d93f8685-39fc-42d9-a093-a2edcc7c547c",
   "metadata": {},
   "source": [
    "## Debugging one or more srclines"
   ]
  },
  {
   "cell_type": "code",
   "execution_count": null,
   "id": "e0287461-9666-4011-a5e1-fbbfa76d2794",
   "metadata": {},
   "outputs": [
    {
     "name": "stdout",
     "output_type": "stream",
     "text": [
      "def delegates(to:FunctionType=None, # Delegatee\n",
      "              keep=False, # Keep `kwargs` in decorated function?\n",
      "              but:list=None): # Exclude these parameters from signature\n",
      "    \"Decorator: replace `**kwargs` in signature with params from `to`\"\n",
      "    if but is None: but = []\n",
      "    def _f(f):\n",
      "        if to is None: to_f,from_f = f.__base__.__init__,f.__init__================================================================================( 0 )==0==\n",
      "        else:          to_f,from_f = to.__init__ if isinstance(to,type) else to,f==================================================================( 1 )==0==\n",
      "        from_f = getattr(from_f,'__func__',from_f)=================================================================================================( 2 )==1==\n",
      "        to_f = getattr(to_f,'__func__',to_f)=======================================================================================================( 3 )==1==\n",
      "        if hasattr(from_f,'__delwrap__'): return f=================================================================================================( 4 )==2==\n",
      "        sig = inspect.signature(from_f)                                                                                                            ( 5 )     \n",
      "        sigd = dict(sig.parameters)                                                                                                                ( 6 )     \n",
      "        k = sigd.pop('kwargs')                                                                                                                     ( 7 )     \n",
      "        s2 = {k:v.replace(kind=inspect.Parameter.KEYWORD_ONLY) for k,v in inspect.signature(to_f).parameters.items()===============================( 8 )==3==\n",
      "              if v.default != inspect.Parameter.empty and k not in sigd and k not in but}==========================================================( 9 )==3==\n",
      "        anno = {k:v for k,v in to_f.__annotations__.items() if k not in sigd and k not in but}====================================================( 10 )==4==\n",
      "        sigd.update(s2)                                                                                                                           ( 11 )     \n",
      "        if keep: sigd['kwargs'] = k===============================================================================================================( 12 )==5==\n",
      "        else: from_f.__delwrap__ = to_f===========================================================================================================( 13 )==5==\n",
      "        from_f.__signature__ = sig.replace(parameters=sigd.values())                                                                              ( 14 )     \n",
      "        if hasattr(from_f, '__annotations__'): from_f.__annotations__.update(anno)                                                                ( 15 )     \n",
      "        return f\n",
      "    return _f\n",
      "\n"
     ]
    }
   ],
   "source": [
    "displaysrc() # (0) refers to official srcline, =0= refer to the list index of tuple (srcline, dbprint) inside defaults.src2dbps.delegates"
   ]
  },
  {
   "cell_type": "markdown",
   "id": "fa1cb9ce-3027-49f1-8a86-703acb4857fe",
   "metadata": {},
   "source": [
    "To debug examples with errors"
   ]
  },
  {
   "cell_type": "code",
   "execution_count": null,
   "id": "e20412db-784b-444e-8f29-b57d0a03f48f",
   "metadata": {},
   "outputs": [
    {
     "name": "stdout",
     "output_type": "stream",
     "text": [
      "def delegates(to:FunctionType=None, # Delegatee\n",
      "              keep=False, # Keep `kwargs` in decorated function?\n",
      "              but:list=None): # Exclude these parameters from signature\n",
      "    \"Decorator: replace `**kwargs` in signature with params from `to`\"\n",
      "    if but is None: but = []\n",
      "    def _f(f):\u001b[92m\n",
      "\n",
      "        dbprint(\"        if to is None: to_f,from_f = f.__base__.__init__,f.__init__\\n\\        else:          to_f,from_f = to.__init__ if isinstance(to,type) else to,f\",\"UseCase1: when to is superclass to f\\nUseCase2: when to is a class but not superclass to f. UseCase3: other combinations\",\"if to is None:\\n    to_f,from_f = f.__base__.__init__,f.__init__\\nelse:\\n    to_f,from_f = to.__init__ if isinstance(to,type) else to,f\",\"to_f\", \"from_f\", \"hasattr(to_f, '__annotations__')\", \"hasattr(from_f, '__annotations__')\", f=f, to=to)\n",
      "\u001b[0m\u001b[93m\u001b[0m\u001b[91m\n",
      "        if to is None: to_f,from_f = f.__base__.__init__,f.__init__\n",
      "        else:          to_f,from_f = to.__init__ if isinstance(to,type) else to,f\n",
      "\u001b[0m        from_f = getattr(from_f,'__func__',from_f)\n",
      "        to_f = getattr(to_f,'__func__',to_f)\n",
      "        if hasattr(from_f,'__delwrap__'): return f\n",
      "        sig = inspect.signature(from_f)\n",
      "        sigd = dict(sig.parameters)\n",
      "        k = sigd.pop('kwargs')\n",
      "        \u001b[92m\n",
      "        dbprint(\"        s2 = {k:v.replace(kind=inspect.Parameter.KEYWORD_ONLY) for k,v in inspect.signature(to_f).parameters.items() if v.default != inspect.Parameter.empty and k not in sigd and k not in but}\", \"what it does: f take the params from to and put them into a dict, k is name, v is the param in Parameter class, and make their kind KEYWORD_ONLY.\", \"if callable(to_f):\\n    if bool(inspect.signature(to_f).parameters.items()):\\n        for k,v in inspect.signature(to_f).parameters.items():\\n            print(f'k:v => {k}:{v}, type(v): {type(v)}')\\n    else:\\n        print(f'inspect.signature(to_f).parameters.items() is empty: {not bool(inspect.signature(to_f).parameters.items())}')\\nelse:\\n    print(f'to_f is callable: {callable(to_f)}, so inspect.signature(to_f) will cause error')\",to_f=to_f, k=k, but=but, sigd=sigd)\n",
      "\u001b[0m\u001b[93m\n",
      "        return None\n",
      "\u001b[0m\u001b[91m\n",
      "        s2 = {k:v.replace(kind=inspect.Parameter.KEYWORD_ONLY) for k,v in inspect.signature(to_f).parameters.items()\n",
      "              if v.default != inspect.Parameter.empty and k not in sigd and k not in but}\n",
      "\u001b[0m\n",
      "        anno = {k:v for k,v in to_f.__annotations__.items() if k not in sigd and k not in but}\n",
      "        sigd.update(s2)\n",
      "        if keep: sigd['kwargs'] = k\n",
      "        else: from_f.__delwrap__ = to_f\n",
      "        from_f.__signature__ = sig.replace(parameters=sigd.values())\n",
      "        if hasattr(from_f, '__annotations__'): from_f.__annotations__.update(anno)\n",
      "        return f\n",
      "    return _f\n",
      "\n"
     ]
    }
   ],
   "source": [
    "delegates = dbsrclines([0,3], retn=True) # print out the debuggable source code under investgation"
   ]
  },
  {
   "cell_type": "code",
   "execution_count": null,
   "id": "9d15772c-d9e0-443c-97bc-7e554ca20797",
   "metadata": {},
   "outputs": [],
   "source": [
    "# delegates = dbsrclines([3]) # print out the debuggable source code under investgation"
   ]
  },
  {
   "cell_type": "code",
   "execution_count": null,
   "id": "7fe0607f-18ff-4d39-826b-409e741e1a34",
   "metadata": {},
   "outputs": [
    {
     "name": "stdout",
     "output_type": "stream",
     "text": [
      "\n",
      "\n",
      "######################################################## source code with lines under investigation #########################################################\n",
      "\n",
      "\n",
      "def delegates(to:FunctionType=None, # Delegatee                                                                                                              \n",
      "              keep=False, # Keep `kwargs` in decorated function?                                                                                             \n",
      "              but:list=None): # Exclude these parameters from signature                                                                                      \n",
      "    \"Decorator: replace `**kwargs` in signature with params from `to`\"                                                                                       \n",
      "    if but is None: but = []                                                                                                                                 \n",
      "    def _f(f):                                                                                                                                               \n",
      "        if to is None: to_f,from_f = f.__base__.__init__,f.__init__==========================================================================================\n",
      "        else:          to_f,from_f = to.__init__ if isinstance(to,type) else to,f============================================================================\n",
      "                                                                           \u001b[91mUseCase1: when to is superclass to f\n",
      "                                                                           UseCase2: when to is a class but not superclass to f. UseCase3: other combinations\u001b[0m\n",
      "        from_f = getattr(from_f,'__func__',from_f)                                                                                                           \n",
      "        to_f = getattr(to_f,'__func__',to_f)                                                                                                                 \n",
      "        if hasattr(from_f,'__delwrap__'): return f                                                                                                           \n",
      "        sig = inspect.signature(from_f)                                                                                                                      \n",
      "        sigd = dict(sig.parameters)                                                                                                                          \n",
      "        k = sigd.pop('kwargs')                                                                                                                               \n",
      "        s2 = {k:v.replace(kind=inspect.Parameter.KEYWORD_ONLY) for k,v in inspect.signature(to_f).parameters.items()                                         \n",
      "              if v.default != inspect.Parameter.empty and k not in sigd and k not in but}                                                                    \n",
      "        anno = {k:v for k,v in to_f.__annotations__.items() if k not in sigd and k not in but}                                                               \n",
      "        sigd.update(s2)                                                                                                                                      \n",
      "        if keep: sigd['kwargs'] = k                                                                                                                          \n",
      "        else: from_f.__delwrap__ = to_f                                                                                                                      \n",
      "        from_f.__signature__ = sig.replace(parameters=sigd.values())                                                                                         \n",
      "        if hasattr(from_f, '__annotations__'): from_f.__annotations__.update(anno)                                                                           \n",
      "        return f                                                                                                                                             \n",
      "    return _f                                                                                                                                                \n",
      "                                                                                                                                                             \n",
      "\n",
      "class Base(): \n",
      "    def __init__(self, a, b=1): pass \n",
      "class Other():\n",
      "    def __init__(self, e=1): pass\n",
      "\n",
      "@delegates()\n",
      "class Subcls(Base): # to as a superclass (Base),  to must have __init__, and __new__ won't do\n",
      "    def __init__(self, c, d=1, **kwargs): pass # f as class, should have __init__\n",
      "test_sig(Subcls, '(c, d=1, *, b=1)')\n",
      "\n",
      "\n",
      "\n",
      "if to is None:\n",
      "    to_f,from_f = f.__base__.__init__,f.__init__\n",
      "else:\n",
      "    to_f,from_f = to.__init__ if isinstance(to,type) else to,f                         \n",
      "                                                                                                                                  Running your code block => \n",
      "The code block printout => : \n",
      "\n",
      "\n",
      "                                                                                                       to_f => to_f : <function Base.__init__>\n",
      "\n",
      "\n",
      "                                                                                                 from_f => from_f : <function Subcls.__init__>\n",
      "\n",
      "\n",
      "                                                                                  hasattr(to_f, '__annotations__') => hasattr(to_f, '__annotations__') : True\n",
      "\n",
      "\n",
      "                                                                              hasattr(from_f, '__annotations__') => hasattr(from_f, '__annotations__') : True\n",
      "\n",
      "\n",
      "######################################################## source code with lines under investigation #########################################################\n",
      "\n",
      "\n",
      "def delegates(to:FunctionType=None, # Delegatee                                                                                                              \n",
      "              keep=False, # Keep `kwargs` in decorated function?                                                                                             \n",
      "              but:list=None): # Exclude these parameters from signature                                                                                      \n",
      "    \"Decorator: replace `**kwargs` in signature with params from `to`\"                                                                                       \n",
      "    if but is None: but = []                                                                                                                                 \n",
      "    def _f(f):                                                                                                                                               \n",
      "        if to is None: to_f,from_f = f.__base__.__init__,f.__init__                                                                                          \n",
      "        else:          to_f,from_f = to.__init__ if isinstance(to,type) else to,f                                                                            \n",
      "        from_f = getattr(from_f,'__func__',from_f)                                                                                                           \n",
      "        to_f = getattr(to_f,'__func__',to_f)                                                                                                                 \n",
      "        if hasattr(from_f,'__delwrap__'): return f                                                                                                           \n",
      "        sig = inspect.signature(from_f)                                                                                                                      \n",
      "        sigd = dict(sig.parameters)                                                                                                                          \n",
      "        k = sigd.pop('kwargs')                                                                                                                               \n",
      "        s2 = {k:v.replace(kind=inspect.Parameter.KEYWORD_ONLY) for k,v in inspect.signature(to_f).parameters.items()=========================================\n",
      "            \u001b[91mwhat it does: f take the params from to and put them into a dict, k is name, v is the param in Parameter class, and make their kind KEYWORD_ONLY.\u001b[0m\n",
      "              if v.default != inspect.Parameter.empty and k not in sigd and k not in but}====================================================================\n",
      "        anno = {k:v for k,v in to_f.__annotations__.items() if k not in sigd and k not in but}                                                               \n",
      "        sigd.update(s2)                                                                                                                                      \n",
      "        if keep: sigd['kwargs'] = k                                                                                                                          \n",
      "        else: from_f.__delwrap__ = to_f                                                                                                                      \n",
      "        from_f.__signature__ = sig.replace(parameters=sigd.values())                                                                                         \n",
      "        if hasattr(from_f, '__annotations__'): from_f.__annotations__.update(anno)                                                                           \n",
      "        return f                                                                                                                                             \n",
      "    return _f                                                                                                                                                \n",
      "                                                                                                                                                             \n",
      "\n",
      "class Base(): \n",
      "    def __init__(self, a, b=1): pass \n",
      "class Other():\n",
      "    def __init__(self, e=1): pass\n",
      "\n",
      "@delegates()\n",
      "class Subcls(Base): # to as a superclass (Base),  to must have __init__, and __new__ won't do\n",
      "    def __init__(self, c, d=1, **kwargs): pass # f as class, should have __init__\n",
      "test_sig(Subcls, '(c, d=1, *, b=1)')\n",
      "\n",
      "\n",
      "\n",
      "if callable(to_f):\n",
      "    if bool(inspect.signature(to_f).parameters.items()):\n",
      "        for k,v in inspect.signature(to_f).parameters.items():\n",
      "            print(f'k:v => {k}:{v}, type(v): {type(v)}')\n",
      "    else:\n",
      "        print(f'inspect.signature(to_f).parameters.items() is empty: {not bool(inspect.signature(to_f).parameters.items())}')\n",
      "else:\n",
      "    print(f'to_f is callable: {callable(to_f)}, so inspect.signature(to_f) will cause error')\n",
      "                                                                                                                                  Running your code block => \n",
      "The code block printout => : \n",
      "k:v => self:self, type(v): <class 'inspect.Parameter'>\n",
      "k:v => a:a, type(v): <class 'inspect.Parameter'>\n",
      "k:v => b:b=1, type(v): <class 'inspect.Parameter'>\n"
     ]
    }
   ],
   "source": [
    "defaults.eg = \"\"\"\n",
    "class Base(): \n",
    "    def __init__(self, a, b=1): pass \n",
    "class Other():\n",
    "    def __init__(self, e=1): pass\n",
    "\n",
    "@delegates()\n",
    "class Subcls(Base): # to as a superclass (Base),  to must have __init__, and __new__ won't do\n",
    "    def __init__(self, c, d=1, **kwargs): pass # f as class, should have __init__\n",
    "test_sig(Subcls, '(c, d=1, *, b=1)')\n",
    "\"\"\"\n",
    "\n",
    "class Base(): \n",
    "    def __init__(self, a, b=1): pass \n",
    "class Other():\n",
    "    def __init__(self, e=1): pass\n",
    "\n",
    "@delegates()\n",
    "class Subcls(Base): # to as a superclass (Base),  to must have __init__, and __new__ won't do\n",
    "    def __init__(self, c, d=1, **kwargs): pass # f as class, should have __init__\n",
    "# test_sig(Subcls, '(c, d=1, *, b=1)')"
   ]
  },
  {
   "cell_type": "code",
   "execution_count": null,
   "id": "98ffe5fe-f3e3-4e88-a58f-10f545e0d266",
   "metadata": {},
   "outputs": [
    {
     "name": "stdout",
     "output_type": "stream",
     "text": [
      "\n",
      "\n",
      "######################################################## source code with lines under investigation #########################################################\n",
      "\n",
      "\n",
      "def delegates(to:FunctionType=None, # Delegatee                                                                                                              \n",
      "              keep=False, # Keep `kwargs` in decorated function?                                                                                             \n",
      "              but:list=None): # Exclude these parameters from signature                                                                                      \n",
      "    \"Decorator: replace `**kwargs` in signature with params from `to`\"                                                                                       \n",
      "    if but is None: but = []                                                                                                                                 \n",
      "    def _f(f):                                                                                                                                               \n",
      "        if to is None: to_f,from_f = f.__base__.__init__,f.__init__==========================================================================================\n",
      "        else:          to_f,from_f = to.__init__ if isinstance(to,type) else to,f============================================================================\n",
      "                                                                           \u001b[91mUseCase1: when to is superclass to f\n",
      "                                                                           UseCase2: when to is a class but not superclass to f. UseCase3: other combinations\u001b[0m\n",
      "        from_f = getattr(from_f,'__func__',from_f)                                                                                                           \n",
      "        to_f = getattr(to_f,'__func__',to_f)                                                                                                                 \n",
      "        if hasattr(from_f,'__delwrap__'): return f                                                                                                           \n",
      "        sig = inspect.signature(from_f)                                                                                                                      \n",
      "        sigd = dict(sig.parameters)                                                                                                                          \n",
      "        k = sigd.pop('kwargs')                                                                                                                               \n",
      "        s2 = {k:v.replace(kind=inspect.Parameter.KEYWORD_ONLY) for k,v in inspect.signature(to_f).parameters.items()                                         \n",
      "              if v.default != inspect.Parameter.empty and k not in sigd and k not in but}                                                                    \n",
      "        anno = {k:v for k,v in to_f.__annotations__.items() if k not in sigd and k not in but}                                                               \n",
      "        sigd.update(s2)                                                                                                                                      \n",
      "        if keep: sigd['kwargs'] = k                                                                                                                          \n",
      "        else: from_f.__delwrap__ = to_f                                                                                                                      \n",
      "        from_f.__signature__ = sig.replace(parameters=sigd.values())                                                                                         \n",
      "        if hasattr(from_f, '__annotations__'): from_f.__annotations__.update(anno)                                                                           \n",
      "        return f                                                                                                                                             \n",
      "    return _f                                                                                                                                                \n",
      "                                                                                                                                                             \n",
      "\n",
      "class Base(): \n",
      "    def __new__(self, a, b=1): pass \n",
      "class Other():\n",
      "    def __init__(self, e=1): pass\n",
      "\n",
      "@delegates()\n",
      "class Subcls(Base): # to as a superclass (Base),  to must have __init__, and __new__ won't do\n",
      "    def __init__(self, c, d=1, **kwargs): pass # f as class, should have __init__\n",
      "test_sig(Subcls, '(c, d=1, *, b=1)')\n",
      "\n",
      "\n",
      "\n",
      "if to is None:\n",
      "    to_f,from_f = f.__base__.__init__,f.__init__\n",
      "else:\n",
      "    to_f,from_f = to.__init__ if isinstance(to,type) else to,f                         \n",
      "                                                                                                                                  Running your code block => \n",
      "The code block printout => : \n",
      "\n",
      "\n",
      "                                                                                                 to_f => to_f : <slot wrapper '__init__' of 'object' objects>\n",
      "\n",
      "\n",
      "                                                                                                 from_f => from_f : <function Subcls.__init__>\n",
      "\n",
      "\n",
      "                                                                                 hasattr(to_f, '__annotations__') => hasattr(to_f, '__annotations__') : False\n",
      "\n",
      "\n",
      "                                                                              hasattr(from_f, '__annotations__') => hasattr(from_f, '__annotations__') : True\n",
      "\n",
      "\n",
      "######################################################## source code with lines under investigation #########################################################\n",
      "\n",
      "\n",
      "def delegates(to:FunctionType=None, # Delegatee                                                                                                              \n",
      "              keep=False, # Keep `kwargs` in decorated function?                                                                                             \n",
      "              but:list=None): # Exclude these parameters from signature                                                                                      \n",
      "    \"Decorator: replace `**kwargs` in signature with params from `to`\"                                                                                       \n",
      "    if but is None: but = []                                                                                                                                 \n",
      "    def _f(f):                                                                                                                                               \n",
      "        if to is None: to_f,from_f = f.__base__.__init__,f.__init__                                                                                          \n",
      "        else:          to_f,from_f = to.__init__ if isinstance(to,type) else to,f                                                                            \n",
      "        from_f = getattr(from_f,'__func__',from_f)                                                                                                           \n",
      "        to_f = getattr(to_f,'__func__',to_f)                                                                                                                 \n",
      "        if hasattr(from_f,'__delwrap__'): return f                                                                                                           \n",
      "        sig = inspect.signature(from_f)                                                                                                                      \n",
      "        sigd = dict(sig.parameters)                                                                                                                          \n",
      "        k = sigd.pop('kwargs')                                                                                                                               \n",
      "        s2 = {k:v.replace(kind=inspect.Parameter.KEYWORD_ONLY) for k,v in inspect.signature(to_f).parameters.items()=========================================\n",
      "            \u001b[91mwhat it does: f take the params from to and put them into a dict, k is name, v is the param in Parameter class, and make their kind KEYWORD_ONLY.\u001b[0m\n",
      "              if v.default != inspect.Parameter.empty and k not in sigd and k not in but}====================================================================\n",
      "        anno = {k:v for k,v in to_f.__annotations__.items() if k not in sigd and k not in but}                                                               \n",
      "        sigd.update(s2)                                                                                                                                      \n",
      "        if keep: sigd['kwargs'] = k                                                                                                                          \n",
      "        else: from_f.__delwrap__ = to_f                                                                                                                      \n",
      "        from_f.__signature__ = sig.replace(parameters=sigd.values())                                                                                         \n",
      "        if hasattr(from_f, '__annotations__'): from_f.__annotations__.update(anno)                                                                           \n",
      "        return f                                                                                                                                             \n",
      "    return _f                                                                                                                                                \n",
      "                                                                                                                                                             \n",
      "\n",
      "class Base(): \n",
      "    def __new__(self, a, b=1): pass \n",
      "class Other():\n",
      "    def __init__(self, e=1): pass\n",
      "\n",
      "@delegates()\n",
      "class Subcls(Base): # to as a superclass (Base),  to must have __init__, and __new__ won't do\n",
      "    def __init__(self, c, d=1, **kwargs): pass # f as class, should have __init__\n",
      "test_sig(Subcls, '(c, d=1, *, b=1)')\n",
      "\n",
      "\n",
      "\n",
      "if callable(to_f):\n",
      "    if bool(inspect.signature(to_f).parameters.items()):\n",
      "        for k,v in inspect.signature(to_f).parameters.items():\n",
      "            print(f'k:v => {k}:{v}, type(v): {type(v)}')\n",
      "    else:\n",
      "        print(f'inspect.signature(to_f).parameters.items() is empty: {not bool(inspect.signature(to_f).parameters.items())}')\n",
      "else:\n",
      "    print(f'to_f is callable: {callable(to_f)}, so inspect.signature(to_f) will cause error')\n",
      "                                                                                                                                  Running your code block => \n",
      "The code block printout => : \n",
      "k:v => self:self, type(v): <class 'inspect.Parameter'>\n",
      "k:v => args:*args, type(v): <class 'inspect.Parameter'>\n",
      "k:v => kwargs:**kwargs, type(v): <class 'inspect.Parameter'>\n"
     ]
    }
   ],
   "source": [
    "defaults.eg = \"\"\"\n",
    "class Base(): \n",
    "    def __new__(self, a, b=1): pass \n",
    "class Other():\n",
    "    def __init__(self, e=1): pass\n",
    "\n",
    "@delegates()\n",
    "class Subcls(Base): # to as a superclass (Base),  to must have __init__, and __new__ won't do\n",
    "    def __init__(self, c, d=1, **kwargs): pass # f as class, should have __init__\n",
    "test_sig(Subcls, '(c, d=1, *, b=1)')\n",
    "\"\"\"\n",
    "\n",
    "class Base(): \n",
    "    def __new__(self, a, b=1): pass \n",
    "class Other():\n",
    "    def __init__(self, e=1): pass\n",
    "\n",
    "@delegates()\n",
    "class Subcls(Base): # to as a superclass (Base),  to must have __init__, and __new__ won't do\n",
    "    def __init__(self, c, d=1, **kwargs): pass # f as class, should have __init__\n",
    "# test_sig(Subcls, '(c, d=1, *, b=1)')"
   ]
  },
  {
   "cell_type": "code",
   "execution_count": null,
   "id": "64578a42-8e27-47c9-9a59-5ca204d0bcd4",
   "metadata": {},
   "outputs": [],
   "source": []
  },
  {
   "cell_type": "markdown",
   "id": "bd1fa5c7",
   "metadata": {},
   "source": [
    "#|hide\n",
    "## Sending to Obs"
   ]
  },
  {
   "cell_type": "code",
   "execution_count": null,
   "id": "bb5ffdf6",
   "metadata": {},
   "outputs": [
    {
     "name": "stdout",
     "output_type": "stream",
     "text": [
      "[jupytext] Reading /Users/Natsume/Documents/debuggable/fastcore/meta/00_delegates.ipynb in format ipynb\n",
      "[jupytext] Writing /Users/Natsume/Documents/debuggable/fastcore/meta/00_delegates.md\n"
     ]
    }
   ],
   "source": [
    "#|hide\n",
    "!jupytext --to md /Users/Natsume/Documents/debuggable/fastcore/meta/00_delegates.ipynb\n",
    "!mv /Users/Natsume/Documents/debuggable/fastcore/meta/00_delegates.md \\\n",
    "/Users/Natsume/Documents/divefastai/Debuggable/jupytext/fastcore/meta/"
   ]
  },
  {
   "cell_type": "code",
   "execution_count": null,
   "id": "0473e5d2",
   "metadata": {},
   "outputs": [
    {
     "name": "stdout",
     "output_type": "stream",
     "text": [
      "[NbConvertApp] Converting notebook /Users/Natsume/Documents/debuggable/index.ipynb to markdown\n",
      "[NbConvertApp] Writing 2074 bytes to /Users/Natsume/Documents/divefastai/Debuggable/nbconvert/index.md\n",
      "[NbConvertApp] Converting notebook /Users/Natsume/Documents/debuggable/utils.ipynb to markdown\n",
      "[NbConvertApp] Writing 198366 bytes to /Users/Natsume/Documents/divefastai/Debuggable/nbconvert/utils.md\n",
      "[NbConvertApp] Converting notebook /Users/Natsume/Documents/debuggable/fastcore/classes_metaclasses.ipynb to markdown\n",
      "[NbConvertApp] Writing 23234 bytes to /Users/Natsume/Documents/divefastai/Debuggable/nbconvert/classes_metaclasses.md\n",
      "[NbConvertApp] Converting notebook /Users/Natsume/Documents/debuggable/fastcore/meta/00_FixSigMeta.ipynb to markdown\n",
      "[NbConvertApp] Writing 66757 bytes to /Users/Natsume/Documents/divefastai/Debuggable/nbconvert/00_FixSigMeta.md\n",
      "[NbConvertApp] Converting notebook /Users/Natsume/Documents/debuggable/fastcore/meta/02_use_kwargs_dict.ipynb to markdown\n",
      "[NbConvertApp] Writing 3754 bytes to /Users/Natsume/Documents/divefastai/Debuggable/nbconvert/02_use_kwargs_dict.md\n",
      "[NbConvertApp] Converting notebook /Users/Natsume/Documents/debuggable/fastcore/meta/00_delegates.ipynb to markdown\n",
      "[NbConvertApp] Writing 63853 bytes to /Users/Natsume/Documents/divefastai/Debuggable/nbconvert/00_delegates.md\n",
      "[NbConvertApp] Converting notebook /Users/Natsume/Documents/debuggable/fastcore/meta/01_mk_param.ipynb to markdown\n",
      "[NbConvertApp] Writing 1994 bytes to /Users/Natsume/Documents/divefastai/Debuggable/nbconvert/01_mk_param.md\n",
      "[NbConvertApp] Converting notebook /Users/Natsume/Documents/debuggable/fastcore/findings/00F_delegates_keep.ipynb to markdown\n",
      "[NbConvertApp] Writing 14251 bytes to /Users/Natsume/Documents/divefastai/Debuggable/nbconvert/00F_delegates_keep.md\n"
     ]
    }
   ],
   "source": [
    "#|hide\n",
    "!jupyter nbconvert --config /Users/Natsume/Documents/mynbcfg.py --to markdown \\\n",
    "--output-dir /Users/Natsume/Documents/divefastai/Debuggable/nbconvert"
   ]
  },
  {
   "cell_type": "code",
   "execution_count": null,
   "id": "f6ee14d3-1555-4dec-818c-0116583a05d4",
   "metadata": {},
   "outputs": [],
   "source": []
  },
  {
   "cell_type": "code",
   "execution_count": null,
   "id": "d1c6d80a-8bec-4e32-b2e7-4500b7dec3e3",
   "metadata": {},
   "outputs": [],
   "source": []
  }
 ],
 "metadata": {
  "kernelspec": {
   "display_name": "Python 3 (ipykernel)",
   "language": "python",
   "name": "python3"
  }
 },
 "nbformat": 4,
 "nbformat_minor": 5
}
