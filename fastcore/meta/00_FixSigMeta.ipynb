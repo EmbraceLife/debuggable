{
 "cells": [
  {
   "cell_type": "markdown",
   "id": "86501837",
   "metadata": {},
   "source": [
    "# fastcore.meta.FixSigMeta"
   ]
  },
  {
   "cell_type": "markdown",
   "id": "7a647aa9-e840-4fa6-8a53-767ce9f397ea",
   "metadata": {},
   "source": [
    "## Imports"
   ]
  },
  {
   "cell_type": "code",
   "execution_count": null,
   "id": "e6a3df0e-6563-441c-9b30-2a6e49ac2c11",
   "metadata": {},
   "outputs": [],
   "source": [
    "from debuggable.utils import dbprint, defaults, whichversion, checksrc,\\\n",
    "defaults, colorize, insert2debug, dbsrclines, matchsrcorder, displaysrc, displaysavedbsrc"
   ]
  },
  {
   "cell_type": "code",
   "execution_count": null,
   "id": "679f6cab-e39c-4229-b806-956382018f36",
   "metadata": {},
   "outputs": [
    {
     "name": "stdout",
     "output_type": "stream",
     "text": [
      "fastcore: 1.5.22 \n",
      "Python supercharged for fastai development    \n",
      "Jeremy Howard and Sylvain Gugger \n",
      "https://github.com/fastai/fastcore/     \n",
      "python_version: >=3.7     \n",
      "/Users/Natsume/mambaforge/lib/python3.9/site-packages/fastcore\n"
     ]
    }
   ],
   "source": [
    "# !pip install -U fastcore\n",
    "whichversion('fastcore')"
   ]
  },
  {
   "cell_type": "code",
   "execution_count": null,
   "id": "322bd4e4-9ee8-4799-9738-445d76e7ec10",
   "metadata": {},
   "outputs": [],
   "source": [
    "from fastcore.imports import *\n",
    "from fastcore.meta import *\n",
    "from fastcore.test import *\n",
    "import inspect\n",
    "from pprint import pprint\n",
    "from datetime import date\n",
    "import ast\n",
    "import pickle"
   ]
  },
  {
   "cell_type": "code",
   "execution_count": null,
   "id": "ff754cef",
   "metadata": {},
   "outputs": [
    {
     "name": "stdout",
     "output_type": "stream",
     "text": [
      "Today's date: 2022-08-29\n"
     ]
    }
   ],
   "source": [
    "today = date.today()\n",
    "print(\"Today's date:\", today)"
   ]
  },
  {
   "cell_type": "markdown",
   "id": "6887e4b3-bc74-4bba-a25a-5acde312043f",
   "metadata": {},
   "source": [
    "## Which source to explore"
   ]
  },
  {
   "cell_type": "code",
   "execution_count": null,
   "id": "65a91ed8-3ac7-41ed-abe5-e5619a8cf5aa",
   "metadata": {},
   "outputs": [],
   "source": [
    "defaults.name = \"FixSigMeta\""
   ]
  },
  {
   "cell_type": "markdown",
   "id": "2fe1876d-45e3-4467-8c1f-856cf616c2fd",
   "metadata": {},
   "source": [
    "## Upate my source"
   ]
  },
  {
   "cell_type": "code",
   "execution_count": null,
   "id": "493ae146-ef7a-43c1-ae22-662947250944",
   "metadata": {},
   "outputs": [],
   "source": [
    "# setup the folder and file when getting started. \n",
    "# with open(\"db/FixSigMetadb\", \"rb\") as fp:   \n",
    "#   defaults.src2dbp.FixSigMetadb = pickle.load(fp)\n",
    "\n",
    "# with open(\"db/FixSigMeta\", \"rb\") as fp:   \n",
    "#   defaults.src2dbp.FixSigMeta = pickle.load(fp)"
   ]
  },
  {
   "cell_type": "code",
   "execution_count": null,
   "id": "749906ac-16f1-4b4b-b472-0c1f57c7eec8",
   "metadata": {},
   "outputs": [
    {
     "name": "stdout",
     "output_type": "stream",
     "text": [
      "class FixSigMeta(type):\n",
      "    \"A metaclass that fixes the signature on classes that override `__new__`\"\n",
      "    def __new__(cls, name, bases, dict):\n",
      "        res = super().__new__(cls, name, bases, dict)\n",
      "        if res.__init__ is not object.__init__: res.__signature__ = _rm_self(inspect.signature(res.__init__))\n",
      "        return res\n",
      "\n",
      "your debuggable srcode is empty. You have not written any, or you have lost your defaults.src2dbp.FixSigMetadb or db/FixSigMetadb file.\n"
     ]
    }
   ],
   "source": [
    "checksrc()"
   ]
  },
  {
   "cell_type": "code",
   "execution_count": null,
   "id": "eef09ddc-2c12-414d-be76-be2f950f4f4f",
   "metadata": {},
   "outputs": [
    {
     "name": "stdout",
     "output_type": "stream",
     "text": [
      "class FixSigMeta(type):\n",
      "    \"A metaclass that fixes the signature on classes that override `__new__`\"\n",
      "    def __new__(cls, name, bases, dict):\n",
      "        res = super().__new__(cls, name, bases, dict)                                                                                              ( 0 )     \n",
      "        if res.__init__ is not object.__init__: res.__signature__ = _rm_self(inspect.signature(res.__init__))                                      ( 1 )     \n",
      "        return res                                                                                                                                 ( 2 )     \n",
      "\n"
     ]
    }
   ],
   "source": [
    "# display exact the source codes you want to debug and mark them if they are already debuggable.\n",
    "defaults.startsrc = \"res = super().\"\n",
    "defaults.endsrc = \"return res\"\n",
    "displaysrc()"
   ]
  },
  {
   "cell_type": "markdown",
   "id": "430545ab-2076-48f2-aa23-492ca8d64cbb",
   "metadata": {},
   "source": [
    "## A personal docs on FixSigMeta\n",
    "\n",
    "I have finished the prototype workflow of debuggable docs of fastai using `delegates`. `FixSigMeta` is the first important class I apply the workflow to."
   ]
  },
  {
   "cell_type": "markdown",
   "id": "9cb8ec0e-b75a-4f36-83a1-8e2271d72a30",
   "metadata": {},
   "source": [
    "### 1st step: run the official docs\n",
    "\n",
    "read and run examples from the official [docs](https://hyp.is/8brb_B42Ee2vbjuvJtjGGw/nbviewer.org/github/fastai/fastcore/blob/master/nbs/07_meta.ipynb) and rewrite the docs and examples in my own words."
   ]
  },
  {
   "cell_type": "markdown",
   "id": "d44b0a39-a690-4b1a-aba8-f767315f56e5",
   "metadata": {},
   "source": [
    "### When or why to use `FixSigMeta`?"
   ]
  },
  {
   "cell_type": "markdown",
   "id": "0c14891e-5baf-4937-8bdd-6039a6f35bf2",
   "metadata": {},
   "source": [
    "When we want a class to use signature of `__init__` to be its class signature. "
   ]
  },
  {
   "cell_type": "code",
   "execution_count": null,
   "id": "6b58b28f-c079-4e11-a977-5f2ad813bd3a",
   "metadata": {},
   "outputs": [
    {
     "data": {
      "text/plain": [
       "<Signature (a, b, c)>"
      ]
     },
     "execution_count": null,
     "metadata": {},
     "output_type": "execute_result"
    }
   ],
   "source": [
    "class Foo:\n",
    "    def __init__(self, a, b, c): pass\n",
    "    \n",
    "inspect.signature(Foo)"
   ]
  },
  {
   "cell_type": "markdown",
   "id": "c847e349-3658-4430-978b-cc77b9f91843",
   "metadata": {},
   "source": [
    "Many things can go wrong to prevent a class to use the signature from `__init__`. \n",
    "\n",
    "FixSigMeta is a metaclass, which helps us to get our classes' signature right.\n",
    "\n",
    "Then what types of the signature problems can FixSigMeta fix?"
   ]
  },
  {
   "cell_type": "markdown",
   "id": "07c9dc74-4a56-4ac3-9bef-effccb89d3a6",
   "metadata": {},
   "source": [
    "1. when your class Foo inherits from class Base, if Base defines its `__new__`, then Foo can't get signature from `__init__`. (True for python 3.7 see [demos](https://www.kaggle.com/code/danielliao/notebook3edc928f49?scriptVersionId=104385507&cellId=1), no more for 3.9+)"
   ]
  },
  {
   "cell_type": "code",
   "execution_count": null,
   "id": "887314b4-e01e-4a40-938a-4891d205c574",
   "metadata": {},
   "outputs": [
    {
     "data": {
      "text/plain": [
       "<Signature (d, e, f)>"
      ]
     },
     "execution_count": null,
     "metadata": {},
     "output_type": "execute_result"
    }
   ],
   "source": [
    "class Base: # pass\n",
    "    def __new__(self, **args): pass  # defines a __new__ \n",
    "\n",
    "class Foo(Base):\n",
    "    def __init__(self, d, e, f): pass\n",
    "    \n",
    "inspect.signature(Foo) # no more problem for python 3.9+, "
   ]
  },
  {
   "cell_type": "code",
   "execution_count": null,
   "id": "1cc16b89-752f-4717-a757-3f1d8c2c7799",
   "metadata": {},
   "outputs": [],
   "source": [
    "from IPython.display import IFrame"
   ]
  },
  {
   "cell_type": "code",
   "execution_count": null,
   "id": "caf0dd59-f54a-423e-955c-56f0ddf4ff65",
   "metadata": {},
   "outputs": [
    {
     "data": {
      "text/html": [
       "\n",
       "        <iframe\n",
       "            width=\"1200\"\n",
       "            height=\"300\"\n",
       "            src=\"https://www.kaggle.com/embed/danielliao/notebook3edc928f49?cellIds=2&kernelSessionId=104407182?style=margin%3A+0+auto%3B+width%3A+100%25%3B+max-width%3A+950px%3B&frameborder=0&scrolling=auto&title=notebook3edc928f49\"\n",
       "            frameborder=\"0\"\n",
       "            allowfullscreen\n",
       "            \n",
       "        ></iframe>\n",
       "        "
      ],
      "text/plain": [
       "<IPython.lib.display.IFrame>"
      ]
     },
     "execution_count": null,
     "metadata": {},
     "output_type": "execute_result"
    }
   ],
   "source": [
    "IFrame(src=\"https://www.kaggle.com/embed/danielliao/notebook3edc928f49?cellIds=2&kernelSessionId=104407182\", width = \"1200\", height=\"300\", \\\n",
    "       style=\"margin: 0 auto; width: 100%; max-width: 950px;\", frameborder=\"0\", scrolling=\"auto\", title=\"notebook3edc928f49\")"
   ]
  },
  {
   "cell_type": "markdown",
   "id": "193bf894-cf56-4292-959c-1d708c083211",
   "metadata": {},
   "source": [
    "Solution to 1: By also inheriting from the metaclass FixSigMeta can solve the signature problem for Foo (for python 3.7)"
   ]
  },
  {
   "cell_type": "code",
   "execution_count": null,
   "id": "1af835f5-d2a3-4e2c-82d2-bf68142b32ac",
   "metadata": {},
   "outputs": [
    {
     "data": {
      "text/plain": [
       "<Signature (d, e, f)>"
      ]
     },
     "execution_count": null,
     "metadata": {},
     "output_type": "execute_result"
    }
   ],
   "source": [
    "class Base: # pass\n",
    "    def __new__(self, **args): pass  # defines a __new__ \n",
    "\n",
    "class Foo(Base, metaclass=FixSigMeta):\n",
    "    def __init__(self, d, e, f): pass\n",
    "    \n",
    "test_sig(Foo, '(d, e, f)')\n",
    "inspect.signature(Foo)"
   ]
  },
  {
   "cell_type": "code",
   "execution_count": null,
   "id": "fbb893ac-0094-495b-a42e-7c8b13cce328",
   "metadata": {},
   "outputs": [
    {
     "data": {
      "text/html": [
       "\n",
       "        <iframe\n",
       "            width=\"1200\"\n",
       "            height=\"300\"\n",
       "            src=\"https://www.kaggle.com/embed/danielliao/notebook3edc928f49?cellIds=4&kernelSessionId=104407182?style=margin%3A+0+auto%3B+width%3A+100%25%3B+max-width%3A+950px%3B&frameborder=0&scrolling=auto&title=notebook3edc928f49\"\n",
       "            frameborder=\"0\"\n",
       "            allowfullscreen\n",
       "            \n",
       "        ></iframe>\n",
       "        "
      ],
      "text/plain": [
       "<IPython.lib.display.IFrame>"
      ]
     },
     "execution_count": null,
     "metadata": {},
     "output_type": "execute_result"
    }
   ],
   "source": [
    "IFrame(src=\"https://www.kaggle.com/embed/danielliao/notebook3edc928f49?cellIds=4&kernelSessionId=104407182\", width = \"1200\", height=\"300\", \\\n",
    "       style=\"margin: 0 auto; width: 100%; max-width: 950px;\", frameborder=\"0\", scrolling=\"auto\", title=\"notebook3edc928f49\")"
   ]
  },
  {
   "cell_type": "markdown",
   "id": "a07d6677-021d-4be9-8a7e-1e5da8b5afff",
   "metadata": {},
   "source": [
    "2. when your Foo has a metaclass BaseMeta, if BaseMeta need to define its `__call__`, then Foo can't get signature from `__init__`."
   ]
  },
  {
   "cell_type": "code",
   "execution_count": null,
   "id": "383b2b43-615b-4f87-90e2-7f93be2a57d5",
   "metadata": {},
   "outputs": [],
   "source": [
    "class BaseMeta(type): \n",
    "    # using __new__ from type\n",
    "    def __call__(cls, *args, **kwargs): pass\n",
    "class Foo(metaclass=BaseMeta): \n",
    "    def __init__(self, d, e, f): pass\n",
    "\n",
    "test_sig(Foo, '(*args, **kwargs)')"
   ]
  },
  {
   "cell_type": "code",
   "execution_count": null,
   "id": "999386e4-e7bb-46f0-a71c-36e74d5c778e",
   "metadata": {},
   "outputs": [],
   "source": [
    "class BaseMeta(type): \n",
    "    def __new__(cls, name, bases, dict):\n",
    "        return super().__new__(cls, name, bases, dict) # using __new__ from type\n",
    "    def __call__(cls, *args, **kwargs): pass\n",
    "class Foo(metaclass=BaseMeta): \n",
    "    def __init__(self, d, e, f): pass\n",
    "\n",
    "test_sig(Foo, '(*args, **kwargs)')"
   ]
  },
  {
   "cell_type": "markdown",
   "id": "5c41a03f-6a02-4446-af64-def578dec626",
   "metadata": {},
   "source": [
    "Solution to problem 2: you need to inherit from FixSigMeta instead of type when constructing the metaclass to preserve the signature in `__init__`. Be careful not to override `__new__` when doing this:"
   ]
  },
  {
   "cell_type": "code",
   "execution_count": null,
   "id": "95a57b47-7a5e-41a4-9f3e-c30a00ed7f9d",
   "metadata": {},
   "outputs": [],
   "source": [
    "class BaseMeta(FixSigMeta): \n",
    "    # using __new__ of  FixSigMeta instead of type\n",
    "    def __call__(cls, *args, **kwargs): pass\n",
    "\n",
    "class Foo(metaclass=BaseMeta): # Base\n",
    "    def __init__(self, d, e, f): pass\n",
    "\n",
    "test_sig(Foo, '(d, e, f)')"
   ]
  },
  {
   "cell_type": "code",
   "execution_count": null,
   "id": "a97d39bd-dd72-4d78-8a13-34717f43c263",
   "metadata": {},
   "outputs": [],
   "source": [
    "class BaseMeta(FixSigMeta): \n",
    "    def __new__(cls, name, bases, dict): # not really overriding __new__, but still using FixSigMeta.__new__\n",
    "        return super().__new__(cls, name, bases, dict)\n",
    "    def __call__(cls, *args, **kwargs): pass\n",
    "\n",
    "class Foo(metaclass=BaseMeta): # Base\n",
    "    def __init__(self, d, e, f): pass\n",
    "\n",
    "test_sig(Foo, '(d, e, f)')"
   ]
  },
  {
   "cell_type": "markdown",
   "id": "d26e4270-ca34-4db1-b0db-870f098048fe",
   "metadata": {},
   "source": [
    "Note: if Base also defines `__new__`, then FixSigMeta can't help. "
   ]
  },
  {
   "cell_type": "code",
   "execution_count": null,
   "id": "d5ea0a0b-0400-49a3-935d-76dca257dadd",
   "metadata": {},
   "outputs": [],
   "source": [
    "class BaseMeta(FixSigMeta): \n",
    "    # __new__ comes from FixSigMeta\n",
    "    def __new__(cls, *args, **kwargs): pass # actually overriding __new__, not using FixSigMeta.__new__ anymore\n",
    "    def __call__(cls, *args, **kwargs): pass\n",
    "\n",
    "class Foo(metaclass=BaseMeta): # Base\n",
    "    def __init__(self, d, e, f): pass\n",
    "\n",
    "test_eq(type(Foo), type(None))"
   ]
  },
  {
   "cell_type": "markdown",
   "id": "af87dc91-b300-413d-a1cd-a8885aa3a6c8",
   "metadata": {},
   "source": [
    "Note: if Base also defines `__init__`, then FixSigMeta can still help. "
   ]
  },
  {
   "cell_type": "code",
   "execution_count": null,
   "id": "680266d7-aa63-4a59-bf57-497e96ce0826",
   "metadata": {},
   "outputs": [],
   "source": [
    "class BaseMeta(FixSigMeta): \n",
    "    # __new__ comes from FixSigMeta\n",
    "    def __init__(cls, *args, **kwargs): pass # overriding __init__ of FixSigMeta, is fine\n",
    "    def __call__(cls, *args, **kwargs): pass\n",
    "\n",
    "class Foo(metaclass=BaseMeta): # Base\n",
    "    def __init__(self, d, e, f): pass\n",
    "\n",
    "test_sig(Foo, '(d, e, f)')"
   ]
  },
  {
   "cell_type": "markdown",
   "id": "d7bc9a31",
   "metadata": {},
   "source": [
    "## Debugging `inspect.signature(Foo)` to find out how Foo use signature from `__init__`"
   ]
  },
  {
   "cell_type": "code",
   "execution_count": null,
   "id": "1cc3bd9d-af7c-4872-a881-27150ea8caac",
   "metadata": {},
   "outputs": [
    {
     "data": {
      "text/plain": [
       "<Signature (a, b, c)>"
      ]
     },
     "execution_count": null,
     "metadata": {},
     "output_type": "execute_result"
    }
   ],
   "source": [
    "class Foo:\n",
    "    def __init__(self, a, b, c): pass\n",
    "    \n",
    "inspect.signature(Foo)"
   ]
  },
  {
   "cell_type": "markdown",
   "id": "2ef09bb9-2d9d-455d-a71a-56c16d314eaf",
   "metadata": {},
   "source": [
    "### Finding out the real source code for `inspect.signature`"
   ]
  },
  {
   "cell_type": "code",
   "execution_count": null,
   "id": "1716d2c1-cae7-479c-a920-b99e36a34160",
   "metadata": {},
   "outputs": [],
   "source": [
    "def signature(obj, *, follow_wrapped=True):\n",
    "    \"\"\"Get a signature object for the passed callable.\"\"\"\n",
    "    return Signature.from_callable(obj, follow_wrapped=follow_wrapped)"
   ]
  },
  {
   "cell_type": "code",
   "execution_count": null,
   "id": "2b24cf18-71a0-41e4-8201-462a4938ae9a",
   "metadata": {},
   "outputs": [
    {
     "data": {
      "text/plain": [
       "\u001b[0;31mSignature:\u001b[0m \u001b[0minspect\u001b[0m\u001b[0;34m.\u001b[0m\u001b[0mSignature\u001b[0m\u001b[0;34m.\u001b[0m\u001b[0mfrom_callable\u001b[0m\u001b[0;34m(\u001b[0m\u001b[0mobj\u001b[0m\u001b[0;34m,\u001b[0m \u001b[0;34m*\u001b[0m\u001b[0;34m,\u001b[0m \u001b[0mfollow_wrapped\u001b[0m\u001b[0;34m=\u001b[0m\u001b[0;32mTrue\u001b[0m\u001b[0;34m)\u001b[0m\u001b[0;34m\u001b[0m\u001b[0;34m\u001b[0m\u001b[0m\n",
       "\u001b[0;31mSource:\u001b[0m   \n",
       "    \u001b[0;34m@\u001b[0m\u001b[0mclassmethod\u001b[0m\u001b[0;34m\u001b[0m\n",
       "\u001b[0;34m\u001b[0m    \u001b[0;32mdef\u001b[0m \u001b[0mfrom_callable\u001b[0m\u001b[0;34m(\u001b[0m\u001b[0mcls\u001b[0m\u001b[0;34m,\u001b[0m \u001b[0mobj\u001b[0m\u001b[0;34m,\u001b[0m \u001b[0;34m*\u001b[0m\u001b[0;34m,\u001b[0m \u001b[0mfollow_wrapped\u001b[0m\u001b[0;34m=\u001b[0m\u001b[0;32mTrue\u001b[0m\u001b[0;34m)\u001b[0m\u001b[0;34m:\u001b[0m\u001b[0;34m\u001b[0m\n",
       "\u001b[0;34m\u001b[0m        \u001b[0;34m\"\"\"Constructs Signature for the given callable object.\"\"\"\u001b[0m\u001b[0;34m\u001b[0m\n",
       "\u001b[0;34m\u001b[0m        \u001b[0;32mreturn\u001b[0m \u001b[0m_signature_from_callable\u001b[0m\u001b[0;34m(\u001b[0m\u001b[0mobj\u001b[0m\u001b[0;34m,\u001b[0m \u001b[0msigcls\u001b[0m\u001b[0;34m=\u001b[0m\u001b[0mcls\u001b[0m\u001b[0;34m,\u001b[0m\u001b[0;34m\u001b[0m\n",
       "\u001b[0;34m\u001b[0m                                        \u001b[0mfollow_wrapper_chains\u001b[0m\u001b[0;34m=\u001b[0m\u001b[0mfollow_wrapped\u001b[0m\u001b[0;34m)\u001b[0m\u001b[0;34m\u001b[0m\u001b[0;34m\u001b[0m\u001b[0m\n",
       "\u001b[0;31mFile:\u001b[0m      ~/mambaforge/lib/python3.9/inspect.py\n",
       "\u001b[0;31mType:\u001b[0m      method\n"
      ]
     },
     "metadata": {},
     "output_type": "display_data"
    }
   ],
   "source": [
    "inspect.Signature.from_callable??"
   ]
  },
  {
   "cell_type": "code",
   "execution_count": null,
   "id": "710154a5-c218-4f6d-ad69-7116a3106e1b",
   "metadata": {},
   "outputs": [
    {
     "data": {
      "text/plain": [
       "<Signature (a, b, c)>"
      ]
     },
     "execution_count": null,
     "metadata": {},
     "output_type": "execute_result"
    }
   ],
   "source": [
    "inspect._signature_from_callable(Foo, sigcls=inspect.Signature, follow_wrapper_chains=True)"
   ]
  },
  {
   "cell_type": "markdown",
   "id": "36b9af7d-863c-4d87-ab93-386fd34d9687",
   "metadata": {},
   "source": [
    "### Debugging `inspect._signature_from_callable`"
   ]
  },
  {
   "cell_type": "code",
   "execution_count": null,
   "id": "660e2b9d-9e8e-4baa-b7df-b555cb416652",
   "metadata": {},
   "outputs": [],
   "source": [
    "def _signature_from_callable(obj, *,\n",
    "                             follow_wrapper_chains=True,\n",
    "                             skip_bound_arg=True,\n",
    "                             sigcls):\n",
    "\n",
    "    \"\"\"Private helper function to get signature for arbitrary\n",
    "    callable objects.\n",
    "    \"\"\"\n",
    "\n",
    "    _get_signature_of = functools.partial(_signature_from_callable,\n",
    "                                follow_wrapper_chains=follow_wrapper_chains,\n",
    "                                skip_bound_arg=skip_bound_arg,\n",
    "                                sigcls=sigcls)\n",
    "\n",
    "    if not callable(obj):\n",
    "        raise TypeError('{!r} is not a callable object'.format(obj))\n",
    "\n",
    "    if isinstance(obj, types.MethodType):\n",
    "        # In this case we skip the first parameter of the underlying\n",
    "        # function (usually `self` or `cls`).\n",
    "        sig = _get_signature_of(obj.__func__)\n",
    "\n",
    "        if skip_bound_arg:\n",
    "            return _signature_bound_method(sig)\n",
    "        else:\n",
    "            return sig\n",
    "\n",
    "    # Was this function wrapped by a decorator?\n",
    "    if follow_wrapper_chains:\n",
    "        obj = unwrap(obj, stop=(lambda f: hasattr(f, \"__signature__\")))\n",
    "        if isinstance(obj, types.MethodType):\n",
    "            # If the unwrapped object is a *method*, we might want to\n",
    "            # skip its first parameter (self).\n",
    "            # See test_signature_wrapped_bound_method for details.\n",
    "            return _get_signature_of(obj)\n",
    "\n",
    "    try:\n",
    "        sig = obj.__signature__\n",
    "    except AttributeError:\n",
    "        pass\n",
    "    else:\n",
    "        if sig is not None:\n",
    "            if not isinstance(sig, Signature):\n",
    "                raise TypeError(\n",
    "                    'unexpected object {!r} in __signature__ '\n",
    "                    'attribute'.format(sig))\n",
    "            return sig\n",
    "\n",
    "    try:\n",
    "        partialmethod = obj._partialmethod\n",
    "    except AttributeError:\n",
    "        pass\n",
    "    else:\n",
    "        if isinstance(partialmethod, functools.partialmethod):\n",
    "            # Unbound partialmethod (see functools.partialmethod)\n",
    "            # This means, that we need to calculate the signature\n",
    "            # as if it's a regular partial object, but taking into\n",
    "            # account that the first positional argument\n",
    "            # (usually `self`, or `cls`) will not be passed\n",
    "            # automatically (as for boundmethods)\n",
    "\n",
    "            wrapped_sig = _get_signature_of(partialmethod.func)\n",
    "\n",
    "            sig = _signature_get_partial(wrapped_sig, partialmethod, (None,))\n",
    "            first_wrapped_param = tuple(wrapped_sig.parameters.values())[0]\n",
    "            if first_wrapped_param.kind is Parameter.VAR_POSITIONAL:\n",
    "                # First argument of the wrapped callable is `*args`, as in\n",
    "                # `partialmethod(lambda *args)`.\n",
    "                return sig\n",
    "            else:\n",
    "                sig_params = tuple(sig.parameters.values())\n",
    "                assert (not sig_params or\n",
    "                        first_wrapped_param is not sig_params[0])\n",
    "                new_params = (first_wrapped_param,) + sig_params\n",
    "                return sig.replace(parameters=new_params)\n",
    "\n",
    "    if isfunction(obj) or _signature_is_functionlike(obj):\n",
    "        # If it's a pure Python function, or an object that is duck type\n",
    "        # of a Python function (Cython functions, for instance), then:\n",
    "        return _signature_from_function(sigcls, obj,\n",
    "                                        skip_bound_arg=skip_bound_arg)\n",
    "\n",
    "    if _signature_is_builtin(obj):\n",
    "        return _signature_from_builtin(sigcls, obj,\n",
    "                                       skip_bound_arg=skip_bound_arg)\n",
    "\n",
    "    if isinstance(obj, functools.partial):\n",
    "        wrapped_sig = _get_signature_of(obj.func)\n",
    "        return _signature_get_partial(wrapped_sig, obj)\n",
    "\n",
    "    \n",
    "    dbprint(\"    if isinstance(obj, type):\", \"our example Foo is a simple class\", \"isinstance(obj, type)\", obj=obj)\n",
    "    sig = None\n",
    "    if isinstance(obj, type):\n",
    "        # obj is a class or a metaclass\n",
    "\n",
    "        # First, let's see if it has an overloaded __call__ defined\n",
    "        # in its metaclass\n",
    "        call = _signature_get_user_defined_method(type(obj), '__call__')\n",
    "        if call is not None:\n",
    "            sig = _get_signature_of(call)\n",
    "        else:\n",
    "            factory_method = None\n",
    "            new = _signature_get_user_defined_method(obj, '__new__')\n",
    "            init = _signature_get_user_defined_method(obj, '__init__')\n",
    "            # Now we check if the 'obj' class has an own '__new__' method\n",
    "            if '__new__' in obj.__dict__:\n",
    "                factory_method = new\n",
    "            # or an own '__init__' method\n",
    "            elif '__init__' in obj.__dict__:\n",
    "                factory_method = init\n",
    "            # If not, we take inherited '__new__' or '__init__', if present\n",
    "            elif new is not None:\n",
    "                factory_method = new\n",
    "            elif init is not None:\n",
    "                factory_method = init\n",
    "\n",
    "            if factory_method is not None:\n",
    "                sig = _get_signature_of(factory_method)\n",
    "\n",
    "        if sig is None:\n",
    "            # At this point we know, that `obj` is a class, with no user-\n",
    "            # defined '__init__', '__new__', or class-level '__call__'\n",
    "\n",
    "            for base in obj.__mro__[:-1]:\n",
    "                # Since '__text_signature__' is implemented as a\n",
    "                # descriptor that extracts text signature from the\n",
    "                # class docstring, if 'obj' is derived from a builtin\n",
    "                # class, its own '__text_signature__' may be 'None'.\n",
    "                # Therefore, we go through the MRO (except the last\n",
    "                # class in there, which is 'object') to find the first\n",
    "                # class with non-empty text signature.\n",
    "                try:\n",
    "                    text_sig = base.__text_signature__\n",
    "                except AttributeError:\n",
    "                    pass\n",
    "                else:\n",
    "                    if text_sig:\n",
    "                        # If 'base' class has a __text_signature__ attribute:\n",
    "                        # return a signature based on it\n",
    "                        return _signature_fromstr(sigcls, base, text_sig)\n",
    "\n",
    "            # No '__text_signature__' was found for the 'obj' class.\n",
    "            # Last option is to check if its '__init__' is\n",
    "            # object.__init__ or type.__init__.\n",
    "            if type not in obj.__mro__:\n",
    "                # We have a class (not metaclass), but no user-defined\n",
    "                # __init__ or __new__ for it\n",
    "                if (obj.__init__ is object.__init__ and\n",
    "                    obj.__new__ is object.__new__):\n",
    "                    # Return a signature of 'object' builtin.\n",
    "                    return sigcls.from_callable(object)\n",
    "                else:\n",
    "                    raise ValueError(\n",
    "                        'no signature found for builtin type {!r}'.format(obj))\n",
    "\n",
    "    elif not isinstance(obj, _NonUserDefinedCallables):\n",
    "        # An object with __call__\n",
    "        # We also check that the 'obj' is not an instance of\n",
    "        # _WrapperDescriptor or _MethodWrapper to avoid\n",
    "        # infinite recursion (and even potential segfault)\n",
    "        call = _signature_get_user_defined_method(type(obj), '__call__')\n",
    "        if call is not None:\n",
    "            try:\n",
    "                sig = _get_signature_of(call)\n",
    "            except ValueError as ex:\n",
    "                msg = 'no signature found for {!r}'.format(obj)\n",
    "                raise ValueError(msg) from ex\n",
    "\n",
    "    if sig is not None:\n",
    "        # For classes and objects we skip the first parameter of their\n",
    "        # __call__, __new__, or __init__ methods\n",
    "        if skip_bound_arg:\n",
    "            return _signature_bound_method(sig)\n",
    "        else:\n",
    "            return sig\n",
    "\n",
    "    if isinstance(obj, types.BuiltinFunctionType):\n",
    "        # Raise a nicer error message for builtins\n",
    "        msg = 'no signature found for builtin function {!r}'.format(obj)\n",
    "        raise ValueError(msg)\n",
    "\n",
    "    raise ValueError('callable {!r} is not supported by signature'.format(obj))"
   ]
  },
  {
   "cell_type": "code",
   "execution_count": null,
   "id": "b344b4fb-80b0-4ad7-b046-8439acdeb4f4",
   "metadata": {},
   "outputs": [
    {
     "name": "stdout",
     "output_type": "stream",
     "text": [
      "\n",
      "\n",
      "######################################################## source code with lines under investigation #########################################################\n",
      "\n",
      "\n",
      "class FixSigMeta(type):                                                                                                                                      \n",
      "    \"A metaclass that fixes the signature on classes that override `__new__`\"                                                                                \n",
      "    def __new__(cls, name, bases, dict):                                                                                                                     \n",
      "        res = super().__new__(cls, name, bases, dict)                                                                                                        \n",
      "        if res.__init__ is not object.__init__: res.__signature__ = _rm_self(inspect.signature(res.__init__))                                                \n",
      "        return res                                                                                                                                           \n",
      "                                                                                                                                                             \n"
     ]
    },
    {
     "ename": "TypeError",
     "evalue": "unsupported format string passed to NoneType.__format__",
     "output_type": "error",
     "traceback": [
      "\u001b[0;31m---------------------------------------------------------------------------\u001b[0m",
      "\u001b[0;31mTypeError\u001b[0m                                 Traceback (most recent call last)",
      "Input \u001b[0;32mIn [51]\u001b[0m, in \u001b[0;36m<cell line: 7>\u001b[0;34m()\u001b[0m\n\u001b[1;32m      5\u001b[0m \u001b[38;5;28;01mfrom\u001b[39;00m \u001b[38;5;21;01minspect\u001b[39;00m \u001b[38;5;28;01mimport\u001b[39;00m _signature_is_functionlike, _signature_is_builtin\n\u001b[1;32m      6\u001b[0m \u001b[38;5;66;03m# rewrite inspect.signature(Foo) in the following way for debugging easily here\u001b[39;00m\n\u001b[0;32m----> 7\u001b[0m \u001b[43m_signature_from_callable\u001b[49m\u001b[43m(\u001b[49m\u001b[43mFoo\u001b[49m\u001b[43m,\u001b[49m\u001b[43m \u001b[49m\u001b[43msigcls\u001b[49m\u001b[38;5;241;43m=\u001b[39;49m\u001b[43minspect\u001b[49m\u001b[38;5;241;43m.\u001b[39;49m\u001b[43mSignature\u001b[49m\u001b[43m,\u001b[49m\u001b[43m \u001b[49m\u001b[43mfollow_wrapper_chains\u001b[49m\u001b[38;5;241;43m=\u001b[39;49m\u001b[38;5;28;43;01mTrue\u001b[39;49;00m\u001b[43m)\u001b[49m\n",
      "Input \u001b[0;32mIn [48]\u001b[0m, in \u001b[0;36m_signature_from_callable\u001b[0;34m(obj, follow_wrapper_chains, skip_bound_arg, sigcls)\u001b[0m\n\u001b[1;32m     88\u001b[0m     wrapped_sig \u001b[38;5;241m=\u001b[39m _get_signature_of(obj\u001b[38;5;241m.\u001b[39mfunc)\n\u001b[1;32m     89\u001b[0m     \u001b[38;5;28;01mreturn\u001b[39;00m _signature_get_partial(wrapped_sig, obj)\n\u001b[0;32m---> 92\u001b[0m \u001b[43mdbprint\u001b[49m\u001b[43m(\u001b[49m\u001b[38;5;124;43m\"\u001b[39;49m\u001b[38;5;124;43m    if isinstance(obj, type):\u001b[39;49m\u001b[38;5;124;43m\"\u001b[39;49m\u001b[43m,\u001b[49m\u001b[43m \u001b[49m\u001b[38;5;124;43m\"\u001b[39;49m\u001b[38;5;124;43mour example Foo is a simple class\u001b[39;49m\u001b[38;5;124;43m\"\u001b[39;49m\u001b[43m,\u001b[49m\u001b[43m \u001b[49m\u001b[38;5;124;43m\"\u001b[39;49m\u001b[38;5;124;43misinstance(obj, type)\u001b[39;49m\u001b[38;5;124;43m\"\u001b[39;49m\u001b[43m,\u001b[49m\u001b[43m \u001b[49m\u001b[43mobj\u001b[49m\u001b[38;5;241;43m=\u001b[39;49m\u001b[43mobj\u001b[49m\u001b[43m)\u001b[49m\n\u001b[1;32m     93\u001b[0m sig \u001b[38;5;241m=\u001b[39m \u001b[38;5;28;01mNone\u001b[39;00m\n\u001b[1;32m     94\u001b[0m \u001b[38;5;28;01mif\u001b[39;00m \u001b[38;5;28misinstance\u001b[39m(obj, \u001b[38;5;28mtype\u001b[39m):\n\u001b[1;32m     95\u001b[0m     \u001b[38;5;66;03m# obj is a class or a metaclass\u001b[39;00m\n\u001b[1;32m     96\u001b[0m \n\u001b[1;32m     97\u001b[0m     \u001b[38;5;66;03m# First, let's see if it has an overloaded __call__ defined\u001b[39;00m\n\u001b[1;32m     98\u001b[0m     \u001b[38;5;66;03m# in its metaclass\u001b[39;00m\n",
      "File \u001b[0;32m~/Documents/debuggable/debuggable/utils.py:188\u001b[0m, in \u001b[0;36mdbprint\u001b[0;34m(src, cmt, *code, **env)\u001b[0m\n\u001b[1;32m    185\u001b[0m             \u001b[38;5;28mprint\u001b[39m(\u001b[38;5;124m'\u001b[39m\u001b[38;5;132;01m{:<157}\u001b[39;00m\u001b[38;5;124m'\u001b[39m\u001b[38;5;241m.\u001b[39mformat(l))\n\u001b[1;32m    187\u001b[0m     \u001b[38;5;66;03m# print out the example\u001b[39;00m\n\u001b[0;32m--> 188\u001b[0m     \u001b[38;5;28mprint\u001b[39m(\u001b[38;5;124;43m'\u001b[39;49m\u001b[38;5;132;43;01m{:<157}\u001b[39;49;00m\u001b[38;5;124;43m'\u001b[39;49m\u001b[38;5;241;43m.\u001b[39;49m\u001b[43mformat\u001b[49m\u001b[43m(\u001b[49m\u001b[43mdefaults\u001b[49m\u001b[38;5;241;43m.\u001b[39;49m\u001b[43meg\u001b[49m\u001b[43m)\u001b[49m)\n\u001b[1;32m    191\u001b[0m \u001b[38;5;66;03m# trial and error version for real code, still not quite why globals vs locals work in exec and eval\u001b[39;00m\n\u001b[1;32m    192\u001b[0m \u001b[38;5;28;01mfor\u001b[39;00m c \u001b[38;5;129;01min\u001b[39;00m code:\n",
      "\u001b[0;31mTypeError\u001b[0m: unsupported format string passed to NoneType.__format__"
     ]
    }
   ],
   "source": [
    "class Foo:\n",
    "    def __init__(self, a, b, c): pass\n",
    "\n",
    "from inspect import *\n",
    "from inspect import _signature_is_functionlike, _signature_is_builtin\n",
    "# rewrite inspect.signature(Foo) in the following way for debugging easily here\n",
    "_signature_from_callable(Foo, sigcls=inspect.Signature, follow_wrapper_chains=True)"
   ]
  },
  {
   "cell_type": "markdown",
   "id": "09b52fcf-e3ac-4fcf-8bfb-e514e2a65586",
   "metadata": {},
   "source": [
    "### debugging the error to understand the source"
   ]
  },
  {
   "cell_type": "markdown",
   "id": "c094f147",
   "metadata": {},
   "source": [
    "## Add srcline and dbprints"
   ]
  },
  {
   "cell_type": "code",
   "execution_count": null,
   "id": "dbc61e54-dc7d-4d2b-b4fe-6381eaf28153",
   "metadata": {},
   "outputs": [],
   "source": [
    "# with open(\"db/delegates\", \"rb\") as fp:   # Unpickling\n",
    "#   defaults.src2dbp.delegates = pickle.load(fp)"
   ]
  },
  {
   "cell_type": "code",
   "execution_count": null,
   "id": "3ed96978-45ca-4c0a-94c7-97587cb6df4f",
   "metadata": {},
   "outputs": [],
   "source": [
    "# srcdbps = defaults.src2dbp.delegates # user input\n",
    "srcdbps = []"
   ]
  },
  {
   "cell_type": "code",
   "execution_count": null,
   "id": "5e1329f9-316f-4153-b593-dbca4908426f",
   "metadata": {},
   "outputs": [
    {
     "name": "stdout",
     "output_type": "stream",
     "text": [
      "class FixSigMeta(type):\n",
      "    \"A metaclass that fixes the signature on classes that override `__new__`\"\n",
      "    def __new__(cls, name, bases, dict):\n",
      "        res = super().__new__(cls, name, bases, dict)                                                                                              ( 0 )     \n",
      "        if res.__init__ is not object.__init__: res.__signature__ = _rm_self(inspect.signature(res.__init__))                                      ( 1 )     \n",
      "        return res                                                                                                                                 ( 2 )     \n",
      "\n"
     ]
    }
   ],
   "source": [
    "displaysrc()"
   ]
  },
  {
   "cell_type": "code",
   "execution_count": null,
   "id": "40d73ad4-b57e-4002-9103-e44e44b9b948",
   "metadata": {},
   "outputs": [],
   "source": [
    "srcline = \"\"\"\n",
    "        s2 = {k:v.replace(kind=inspect.Parameter.KEYWORD_ONLY) for k,v in inspect.signature(to_f).parameters.items()\n",
    "              if v.default != inspect.Parameter.empty and k not in sigd and k not in but}\n",
    "\"\"\""
   ]
  },
  {
   "cell_type": "code",
   "execution_count": null,
   "id": "08a93d89-8311-4b6f-8b0c-ec3e1ad38c97",
   "metadata": {},
   "outputs": [
    {
     "data": {
      "text/plain": [
       "2"
      ]
     },
     "execution_count": null,
     "metadata": {},
     "output_type": "execute_result"
    }
   ],
   "source": [
    "len(defaults.src.split(srcline)) # must be 2 to be right"
   ]
  },
  {
   "cell_type": "code",
   "execution_count": null,
   "id": "479575ca-7b81-478d-b11c-5588ef5d6023",
   "metadata": {},
   "outputs": [],
   "source": []
  },
  {
   "cell_type": "code",
   "execution_count": null,
   "id": "7267ca82-ad26-41e3-8c99-f3a6efc10ce3",
   "metadata": {},
   "outputs": [],
   "source": [
    "dbcode = \"\"\"\n",
    "        dbprint(\"        s2 = {k:v.replace(kind=inspect.Parameter.KEYWORD_ONLY) for k,v in inspect.signature(to_f).parameters.items() if v.default != inspect.Parameter.empty and k not in sigd and k not in but}\", \\\n",
    "\"what it does: f take the params from to and put them into a dict, k is name, v is the param in Parameter class, and make their kind KEYWORD_ONLY.\", \\\n",
    "\"if callable(to_f):\\\\n\\\n",
    "    if bool(inspect.signature(to_f).parameters.items()):\\\\n\\\n",
    "        for k,v in inspect.signature(to_f).parameters.items():\\\\n\\\n",
    "            print(f'k:v => {k}:{v}, type(v): {type(v)}')\\\\n\\\n",
    "    else:\\\\n\\\n",
    "        print(f'inspect.signature(to_f).parameters.items() is empty: {not bool(inspect.signature(to_f).parameters.items())}')\\\\n\\\n",
    "else:\\\\n\\\n",
    "    print(f'to_f is callable: {callable(to_f)}, so inspect.signature(to_f) will cause error')\",\\\n",
    "to_f=to_f, k=k, but=but, sigd=sigd)\n",
    "\"\"\""
   ]
  },
  {
   "cell_type": "code",
   "execution_count": null,
   "id": "111ecaba-60e8-426e-ab75-67bc4b484c82",
   "metadata": {},
   "outputs": [],
   "source": [
    "srcdbps.append([(srcline, dbcode)])"
   ]
  },
  {
   "cell_type": "code",
   "execution_count": null,
   "id": "d8599304-dcae-4edb-8e87-6f417f8ce218",
   "metadata": {},
   "outputs": [],
   "source": [
    "srcline = \"        anno = {k:v for k,v in to_f.__annotations__.items() if k not in sigd and k not in but}\"\n",
    "dbcode = \"\"\"\n",
    "        dbprint(\"        anno = {k:v for k,v in to_f.__annotations__.items() if k not in sigd and k not in but}\", \\\n",
    "\"what it does: check to_f's annotations (dict), and only select params with their annotations wanted by f or from_f.\\\\n\\\n",
    "what is __annotations__: a:int, b:int=1 are annotations\\\\n\\\n",
    "for k,v in to_f.__annotations__.items(): print(f'k:v => {k}:{v}')\\\\n\\\n",
    "    if the iterator above is empty, then print won't get executed.\\\\n\\\n",
    "    run this:\\\\n\\\n",
    "    for k, v in {}.items(): print(f'k:v => {k}:{v}') \", \\\n",
    "\"hasattr(to_f, '__annotations__')\", \\\n",
    "\"if hasattr(to_f, '__annotations__'):\\\\n\\\n",
    "    if bool(to_f.__annotations__.items()) == False:\\\\n\\\n",
    "        print(f'to_f.__annotations__.items(): {to_f.__annotations__.items()}')\\\\n\\\n",
    "    else:\\\\n\\\n",
    "        for k, v in to_f.__annotations__.items():\\\\n\\\n",
    "            print(f'k:v => {k}:{v}')\\\\n\\\n",
    "else:\\\\n\\\n",
    "    print(f'We should expect error from the code of try-except.')\\\\n\\\n",
    "    try:\\\\n\\\n",
    "        to_f.__annotations__\\\\n\\\n",
    "    except AttributeError as e:\\\\n\\\n",
    "        print(e)\", \\\n",
    "but=but, k=k, sigd=sigd, to_f=to_f)\n",
    "\"\"\""
   ]
  },
  {
   "cell_type": "code",
   "execution_count": null,
   "id": "03ff06ee-6844-4e1b-ae56-bb27e4e0862f",
   "metadata": {},
   "outputs": [],
   "source": [
    "srcdbps.append([(srcline, dbcode)])"
   ]
  },
  {
   "cell_type": "code",
   "execution_count": null,
   "id": "53f7625d-d58e-419b-8fd2-d6f0874ddd1e",
   "metadata": {},
   "outputs": [],
   "source": [
    "srcline = \"\"\"\n",
    "        if to is None: to_f,from_f = f.__base__.__init__,f.__init__\n",
    "        else:          to_f,from_f = to.__init__ if isinstance(to,type) else to,f\n",
    "\"\"\"\n",
    "\n",
    "# watch out: to convert srcline into actual strings for the first arg in dbprint, use '\\\\n\\' instead of just '\\n'\n",
    "dbcode = \"\"\"\n",
    "\\n        dbprint(\"        if to is None: to_f,from_f = f.__base__.__init__,f.__init__\\\\n\\        else:          to_f,from_f = to.__init__ if isinstance(to,type) else to,f\",\\\n",
    "\"UseCase1: when to is superclass to f\\\\nUseCase2: when to is a class but not superclass to f. UseCase3: other combinations\",\\\n",
    "\"if to is None:\\\\n\\\n",
    "    to_f,from_f = f.__base__.__init__,f.__init__\\\\n\\\n",
    "else:\\\\n\\\n",
    "    to_f,from_f = to.__init__ if isinstance(to,type) else to,f\",\\\n",
    "\"to_f\", \"from_f\", \"hasattr(to_f, '__annotations__')\", \"hasattr(from_f, '__annotations__')\", \\\n",
    "f=f, to=to)\n",
    "\"\"\""
   ]
  },
  {
   "cell_type": "code",
   "execution_count": null,
   "id": "fc2fc30e-f4e2-400f-ab11-44640a4e4a7e",
   "metadata": {},
   "outputs": [],
   "source": [
    "srcdbps.append([(srcline, dbcode)])"
   ]
  },
  {
   "cell_type": "code",
   "execution_count": null,
   "id": "d0836165-fdb2-4ba1-8af8-d9f7704c4dec",
   "metadata": {},
   "outputs": [],
   "source": [
    "srcline = \"        if hasattr(from_f,\\'__delwrap__\\'): return f\"\n",
    "dbcode = \"\"\"\n",
    "        dbprint(\"if hasattr(from_f,'__delwrap__'): return f\", \\\n",
    "\"If f or from_f has __delwrap__, it means it's happy with all params and give up on **kwargs. So no more params needed from other `to`s\", \\\n",
    "\"from_f\", \"f\", \"hasattr(from_f, '__delwrap__')\", \"if hasattr(from_f,'__delwrap__'): return f\", from_f=from_f, f=f)\n",
    "\"\"\""
   ]
  },
  {
   "cell_type": "code",
   "execution_count": null,
   "id": "6294f84f-e78b-4d87-a4ae-a832a8e013d5",
   "metadata": {},
   "outputs": [],
   "source": [
    "srcdbps.append([(srcline, dbcode)])"
   ]
  },
  {
   "cell_type": "code",
   "execution_count": null,
   "id": "ef8b4de9-f917-41c8-ae81-95befee27d62",
   "metadata": {},
   "outputs": [],
   "source": [
    "# Watch out: using \\\\n instead of \\n inside a block\n",
    "srcline = \"\"\"\n",
    "        from_f = getattr(from_f,'__func__',from_f)\n",
    "        to_f = getattr(to_f,'__func__',to_f)\n",
    "\"\"\"\n",
    "dbcode = \"\"\"\n",
    "\\n        dbprint(\"        from_f = getattr(from_f,'__func__',from_f)\\\\n\\        to_f = getattr(to_f,'__func__',to_f)\",\\\n",
    "\"This line is for classmethod, as it is not callable, so inspect.signature(...) won't work, but it has __func__ to save\",\\\n",
    "\"f\", \"from_f\", \"type(from_f)\",\\\n",
    "\"try:\\\\n\\\n",
    "    inspect.signature(from_f)\\\\n\\\n",
    "except:\\\\n\\\n",
    "    print('error occurs')\\\\n\\\n",
    "    print(f'is from_f callable: {callable(from_f)}')\\\\n\\\n",
    "else:\\\\n\\\n",
    "    print(inspect.signature(from_f))\", \\\n",
    "\"hasattr(from_f, '__func__')\", \"from_f = getattr(from_f,'__func__',from_f)\", \"from_f\",\\\n",
    "\"to\", \"to_f\", \"type(to_f)\",\\\n",
    "\"try:\\\\n\\\n",
    "    inspect.signature(to_f)\\\\n\\\n",
    "except:\\\\n\\\n",
    "    print('error occurs')\\\\n\\\n",
    "    print(f'is to_f callable: {callable(to_f)}')\\\\n\\\n",
    "else:\\\\n\\\n",
    "    print(inspect.signature(to_f))\", \\\n",
    "\"hasattr(to_f, '__func__')\", \"to_f = getattr(to_f,'__func__',to_f)\", \"to_f\",\\\n",
    "from_f=from_f, to_f=to_f, f=f, to=to, srcline=srcline)\n",
    "\"\"\"\n",
    "# Importance: must include all necessary env into the dbprint function above. Note, we don't need inspect=inspect because utils has exported `import inspect`"
   ]
  },
  {
   "cell_type": "code",
   "execution_count": null,
   "id": "ef8c62a0-248f-4437-87d3-da1f12b35937",
   "metadata": {},
   "outputs": [],
   "source": [
    "srcdbps.append([(srcline, dbcode)])"
   ]
  },
  {
   "cell_type": "markdown",
   "id": "6b81286f-72f4-4afe-974e-fd928a0e1e3b",
   "metadata": {},
   "source": [
    "## Match scrdbps with right order"
   ]
  },
  {
   "cell_type": "code",
   "execution_count": null,
   "id": "6682b0fb-8c82-4537-90c3-90096105a98d",
   "metadata": {},
   "outputs": [
    {
     "name": "stdout",
     "output_type": "stream",
     "text": [
      "\n",
      "        s2 = {k:v.replace(kind=inspect.Parameter.KEYWORD_ONLY) for k,v in inspect.signature(to_f).parameters.items()\n",
      "              if v.default != inspect.Parameter.empty and k not in sigd and k not in but}\n",
      "\n",
      "        anno = {k:v for k,v in to_f.__annotations__.items() if k not in sigd and k not in but}\n",
      "\n",
      "        if to is None: to_f,from_f = f.__base__.__init__,f.__init__\n",
      "        else:          to_f,from_f = to.__init__ if isinstance(to,type) else to,f\n",
      "\n",
      "        if hasattr(from_f,'__delwrap__'): return f\n",
      "\n",
      "        from_f = getattr(from_f,'__func__',from_f)\n",
      "        to_f = getattr(to_f,'__func__',to_f)\n",
      "\n"
     ]
    }
   ],
   "source": [
    "for s in srcdbps:\n",
    "    print(s[0][0])"
   ]
  },
  {
   "cell_type": "code",
   "execution_count": null,
   "id": "b68c3bbf-d152-4284-9f73-49aab1771f43",
   "metadata": {},
   "outputs": [],
   "source": [
    "srcdbps = matchsrcorder(srcdbps)"
   ]
  },
  {
   "cell_type": "code",
   "execution_count": null,
   "id": "238d4929-adc6-4418-83f0-4131af6251b4",
   "metadata": {},
   "outputs": [
    {
     "name": "stdout",
     "output_type": "stream",
     "text": [
      "\n",
      "        if to is None: to_f,from_f = f.__base__.__init__,f.__init__\n",
      "        else:          to_f,from_f = to.__init__ if isinstance(to,type) else to,f\n",
      "\n",
      "\n",
      "        from_f = getattr(from_f,'__func__',from_f)\n",
      "        to_f = getattr(to_f,'__func__',to_f)\n",
      "\n",
      "        if hasattr(from_f,'__delwrap__'): return f\n",
      "\n",
      "        s2 = {k:v.replace(kind=inspect.Parameter.KEYWORD_ONLY) for k,v in inspect.signature(to_f).parameters.items()\n",
      "              if v.default != inspect.Parameter.empty and k not in sigd and k not in but}\n",
      "\n",
      "        anno = {k:v for k,v in to_f.__annotations__.items() if k not in sigd and k not in but}\n"
     ]
    }
   ],
   "source": [
    "for s in srcdbps:\n",
    "    print(s[0][0])"
   ]
  },
  {
   "cell_type": "markdown",
   "id": "f7e87527-8eeb-4f00-ab17-a616768c6354",
   "metadata": {},
   "source": [
    "## Save the debuggable source code"
   ]
  },
  {
   "cell_type": "code",
   "execution_count": null,
   "id": "5ccf3960-9c88-4ea1-b024-b94cca1ea3ea",
   "metadata": {},
   "outputs": [],
   "source": [
    "# save all the srclines with their dbcodes into defaults.\n",
    "defaults.src2dbp.delegates = srcdbps"
   ]
  },
  {
   "cell_type": "code",
   "execution_count": null,
   "id": "692832eb-0de1-414f-8248-a15bfb561f6f",
   "metadata": {},
   "outputs": [
    {
     "name": "stdout",
     "output_type": "stream",
     "text": [
      "def delegates(to:FunctionType=None, # Delegatee\n",
      "              keep=False, # Keep `kwargs` in decorated function?\n",
      "              but:list=None): # Exclude these parameters from signature\n",
      "    \"Decorator: replace `**kwargs` in signature with params from `to`\"\n",
      "    if but is None: but = []\n",
      "    def _f(f):\n",
      "\u001b[92m\u001b[0m\n",
      "        dbprint(\"        if to is None: to_f,from_f = f.__base__.__init__,f.__init__\\n\\        else:          to_f,from_f = to.__init__ if isinstance(to,type) else to,f\",\"UseCase1: when to is superclass to f\\nUseCase2: when to is a class but not superclass to f. UseCase3: other combinations\",\"if to is None:\\n    to_f,from_f = f.__base__.__init__,f.__init__\\nelse:\\n    to_f,from_f = to.__init__ if isinstance(to,type) else to,f\",\"to_f\", \"from_f\", \"hasattr(to_f, '__annotations__')\", \"hasattr(from_f, '__annotations__')\", f=f, to=to)\n",
      "\u001b[92m\u001b[0m\n",
      "\u001b[92m        if to is None: to_f,from_f = f.__base__.__init__,f.__init__\u001b[0m\n",
      "\u001b[92m        else:          to_f,from_f = to.__init__ if isinstance(to,type) else to,f\u001b[0m\n",
      "\u001b[92m\u001b[0m\n",
      "        dbprint(\"        from_f = getattr(from_f,'__func__',from_f)\\n\\        to_f = getattr(to_f,'__func__',to_f)\",\"This line is for classmethod, as it is not callable, so inspect.signature(...) won't work, but it has __func__ to save\",\"f\", \"from_f\", \"type(from_f)\",\"try:\\n    inspect.signature(from_f)\\nexcept:\\n    print('error occurs')\\n    print(f'is from_f callable: {callable(from_f)}')\\nelse:\\n    print(inspect.signature(from_f))\", \"hasattr(from_f, '__func__')\", \"from_f = getattr(from_f,'__func__',from_f)\", \"from_f\",\"to\", \"to_f\", \"type(to_f)\",\"try:\\n    inspect.signature(to_f)\\nexcept:\\n    print('error occurs')\\n    print(f'is to_f callable: {callable(to_f)}')\\nelse:\\n    print(inspect.signature(to_f))\", \"hasattr(to_f, '__func__')\", \"to_f = getattr(to_f,'__func__',to_f)\", \"to_f\",from_f=from_f, to_f=to_f, f=f, to=to, srcline=srcline)\n",
      "\u001b[92m\u001b[0m\n",
      "\u001b[92m        from_f = getattr(from_f,'__func__',from_f)\u001b[0m\n",
      "\u001b[92m        to_f = getattr(to_f,'__func__',to_f)\u001b[0m\n",
      "\u001b[92m\u001b[0m\n",
      "        dbprint(\"if hasattr(from_f,'__delwrap__'): return f\", \"If f or from_f has __delwrap__, it means it's happy with all params and give up on **kwargs. So no more params needed from other `to`s\", \"from_f\", \"f\", \"hasattr(from_f, '__delwrap__')\", \"if hasattr(from_f,'__delwrap__'): return f\", from_f=from_f, f=f)\n",
      "\u001b[92m        if hasattr(from_f,'__delwrap__'): return f\u001b[0m\n",
      "        sig = inspect.signature(from_f)\n",
      "        sigd = dict(sig.parameters)\n",
      "        k = sigd.pop('kwargs')\n",
      "        dbprint(\"        s2 = {k:v.replace(kind=inspect.Parameter.KEYWORD_ONLY) for k,v in inspect.signature(to_f).parameters.items() if v.default != inspect.Parameter.empty and k not in sigd and k not in but}\", \"what it does: f take the params from to and put them into a dict, k is name, v is the param in Parameter class, and make their kind KEYWORD_ONLY.\", \"if callable(to_f):\\n    if bool(inspect.signature(to_f).parameters.items()):\\n        for k,v in inspect.signature(to_f).parameters.items():\\n            print(f'k:v => {k}:{v}, type(v): {type(v)}')\\n    else:\\n        print(f'inspect.signature(to_f).parameters.items() is empty: {not bool(inspect.signature(to_f).parameters.items())}')\\nelse:\\n    print(f'to_f is callable: {callable(to_f)}, so inspect.signature(to_f) will cause error')\",to_f=to_f, k=k, but=but, sigd=sigd)\n",
      "\u001b[92m\u001b[0m\n",
      "\u001b[92m        s2 = {k:v.replace(kind=inspect.Parameter.KEYWORD_ONLY) for k,v in inspect.signature(to_f).parameters.items()\u001b[0m\n",
      "\u001b[92m              if v.default != inspect.Parameter.empty and k not in sigd and k not in but}\u001b[0m\n",
      "\u001b[92m\u001b[0m\n",
      "        dbprint(\"        anno = {k:v for k,v in to_f.__annotations__.items() if k not in sigd and k not in but}\", \"what it does: check to_f's annotations (dict), and only select params with their annotations wanted by f or from_f.\\nwhat is __annotations__: a:int, b:int=1 are annotations\\nfor k,v in to_f.__annotations__.items(): print(f'k:v => {k}:{v}')\\n    if the iterator above is empty, then print won't get executed.\\n    run this:\\n    for k, v in {}.items(): print(f'k:v => {k}:{v}') \", \"hasattr(to_f, '__annotations__')\", \"if hasattr(to_f, '__annotations__'):\\n    if bool(to_f.__annotations__.items()) == False:\\n        print(f'to_f.__annotations__.items(): {to_f.__annotations__.items()}')\\n    else:\\n        for k, v in to_f.__annotations__.items():\\n            print(f'k:v => {k}:{v}')\\nelse:\\n    print(f'We should expect error from the code of try-except.')\\n    try:\\n        to_f.__annotations__\\n    except AttributeError as e:\\n        print(e)\", but=but, k=k, sigd=sigd, to_f=to_f)\n",
      "\u001b[92m        anno = {k:v for k,v in to_f.__annotations__.items() if k not in sigd and k not in but}\u001b[0m\n",
      "        sigd.update(s2)\n",
      "        if keep: sigd['kwargs'] = k\n",
      "        else: from_f.__delwrap__ = to_f\n",
      "        from_f.__signature__ = sig.replace(parameters=sigd.values())\n",
      "        if hasattr(from_f, '__annotations__'): from_f.__annotations__.update(anno)\n",
      "\u001b[92m        return f\u001b[0m\n",
      "    return _f\n",
      "\u001b[92m\u001b[0m\n"
     ]
    }
   ],
   "source": [
    "# save the latest debuggable source code into defaults.src2dbp.delegatesdb\n",
    "# dbsrclines(dbsrc=True) \n",
    "displaysavedbsrc()"
   ]
  },
  {
   "cell_type": "code",
   "execution_count": null,
   "id": "b94c04c2-0d1c-4eb9-9473-5fa473249a6f",
   "metadata": {},
   "outputs": [],
   "source": [
    "with open(\"db/delegates\", \"wb\") as fp:   \n",
    "  pickle.dump(defaults.src2dbp.delegates, fp)\n",
    "\n",
    "with open(\"db/delegatesdb\", \"wb\") as fp:   \n",
    "  pickle.dump(defaults.src2dbp.delegatesdb, fp)"
   ]
  },
  {
   "cell_type": "markdown",
   "id": "d93f8685-39fc-42d9-a093-a2edcc7c547c",
   "metadata": {},
   "source": [
    "## Debugging one or more srclines"
   ]
  },
  {
   "cell_type": "code",
   "execution_count": null,
   "id": "e0287461-9666-4011-a5e1-fbbfa76d2794",
   "metadata": {},
   "outputs": [
    {
     "name": "stdout",
     "output_type": "stream",
     "text": [
      "def delegates(to:FunctionType=None, # Delegatee\n",
      "              keep=False, # Keep `kwargs` in decorated function?\n",
      "              but:list=None): # Exclude these parameters from signature\n",
      "    \"Decorator: replace `**kwargs` in signature with params from `to`\"\n",
      "    if but is None: but = []\n",
      "    def _f(f):\n",
      "        if to is None: to_f,from_f = f.__base__.__init__,f.__init__================================================================================( 0 )==0==\n",
      "        else:          to_f,from_f = to.__init__ if isinstance(to,type) else to,f==================================================================( 1 )==0==\n",
      "        from_f = getattr(from_f,'__func__',from_f)=================================================================================================( 2 )==1==\n",
      "        to_f = getattr(to_f,'__func__',to_f)=======================================================================================================( 3 )==1==\n",
      "        if hasattr(from_f,'__delwrap__'): return f=================================================================================================( 4 )==2==\n",
      "        sig = inspect.signature(from_f)                                                                                                            ( 5 )     \n",
      "        sigd = dict(sig.parameters)                                                                                                                ( 6 )     \n",
      "        k = sigd.pop('kwargs')                                                                                                                     ( 7 )     \n",
      "        s2 = {k:v.replace(kind=inspect.Parameter.KEYWORD_ONLY) for k,v in inspect.signature(to_f).parameters.items()===============================( 8 )==3==\n",
      "              if v.default != inspect.Parameter.empty and k not in sigd and k not in but}==========================================================( 9 )==3==\n",
      "        anno = {k:v for k,v in to_f.__annotations__.items() if k not in sigd and k not in but}====================================================( 10 )==4==\n",
      "        sigd.update(s2)                                                                                                                           ( 11 )     \n",
      "        if keep: sigd['kwargs'] = k                                                                                                               ( 12 )     \n",
      "        else: from_f.__delwrap__ = to_f                                                                                                           ( 13 )     \n",
      "        from_f.__signature__ = sig.replace(parameters=sigd.values())                                                                              ( 14 )     \n",
      "        if hasattr(from_f, '__annotations__'): from_f.__annotations__.update(anno)                                                                ( 15 )     \n",
      "        return f\n",
      "    return _f\n",
      "\n"
     ]
    }
   ],
   "source": [
    "displaysrc() # (0) refers to official srcline, =0= refer to the list index of tuple (srcline, dbprint) inside defaults.src2dbps.delegates"
   ]
  },
  {
   "cell_type": "markdown",
   "id": "fa1cb9ce-3027-49f1-8a86-703acb4857fe",
   "metadata": {},
   "source": [
    "To debug examples with errors"
   ]
  },
  {
   "cell_type": "code",
   "execution_count": null,
   "id": "e20412db-784b-444e-8f29-b57d0a03f48f",
   "metadata": {},
   "outputs": [
    {
     "name": "stdout",
     "output_type": "stream",
     "text": [
      "def delegates(to:FunctionType=None, # Delegatee\n",
      "              keep=False, # Keep `kwargs` in decorated function?\n",
      "              but:list=None): # Exclude these parameters from signature\n",
      "    \"Decorator: replace `**kwargs` in signature with params from `to`\"\n",
      "    if but is None: but = []\n",
      "    def _f(f):\u001b[92m\n",
      "\n",
      "        dbprint(\"        if to is None: to_f,from_f = f.__base__.__init__,f.__init__\\n\\        else:          to_f,from_f = to.__init__ if isinstance(to,type) else to,f\",\"UseCase1: when to is superclass to f\\nUseCase2: when to is a class but not superclass to f. UseCase3: other combinations\",\"if to is None:\\n    to_f,from_f = f.__base__.__init__,f.__init__\\nelse:\\n    to_f,from_f = to.__init__ if isinstance(to,type) else to,f\",\"to_f\", \"from_f\", \"hasattr(to_f, '__annotations__')\", \"hasattr(from_f, '__annotations__')\", f=f, to=to)\n",
      "\u001b[0m\u001b[93m\u001b[0m\u001b[91m\n",
      "        if to is None: to_f,from_f = f.__base__.__init__,f.__init__\n",
      "        else:          to_f,from_f = to.__init__ if isinstance(to,type) else to,f\n",
      "\u001b[0m        from_f = getattr(from_f,'__func__',from_f)\n",
      "        to_f = getattr(to_f,'__func__',to_f)\n",
      "        if hasattr(from_f,'__delwrap__'): return f\n",
      "        sig = inspect.signature(from_f)\n",
      "        sigd = dict(sig.parameters)\n",
      "        k = sigd.pop('kwargs')\n",
      "        \u001b[92m\n",
      "        dbprint(\"        s2 = {k:v.replace(kind=inspect.Parameter.KEYWORD_ONLY) for k,v in inspect.signature(to_f).parameters.items() if v.default != inspect.Parameter.empty and k not in sigd and k not in but}\", \"what it does: f take the params from to and put them into a dict, k is name, v is the param in Parameter class, and make their kind KEYWORD_ONLY.\", \"if callable(to_f):\\n    if bool(inspect.signature(to_f).parameters.items()):\\n        for k,v in inspect.signature(to_f).parameters.items():\\n            print(f'k:v => {k}:{v}, type(v): {type(v)}')\\n    else:\\n        print(f'inspect.signature(to_f).parameters.items() is empty: {not bool(inspect.signature(to_f).parameters.items())}')\\nelse:\\n    print(f'to_f is callable: {callable(to_f)}, so inspect.signature(to_f) will cause error')\",to_f=to_f, k=k, but=but, sigd=sigd)\n",
      "\u001b[0m\u001b[93m\n",
      "        return None\n",
      "\u001b[0m\u001b[91m\n",
      "        s2 = {k:v.replace(kind=inspect.Parameter.KEYWORD_ONLY) for k,v in inspect.signature(to_f).parameters.items()\n",
      "              if v.default != inspect.Parameter.empty and k not in sigd and k not in but}\n",
      "\u001b[0m\n",
      "        anno = {k:v for k,v in to_f.__annotations__.items() if k not in sigd and k not in but}\n",
      "        sigd.update(s2)\n",
      "        if keep: sigd['kwargs'] = k\n",
      "        else: from_f.__delwrap__ = to_f\n",
      "        from_f.__signature__ = sig.replace(parameters=sigd.values())\n",
      "        if hasattr(from_f, '__annotations__'): from_f.__annotations__.update(anno)\n",
      "        return f\n",
      "    return _f\n",
      "\n"
     ]
    }
   ],
   "source": [
    "delegates = dbsrclines([0,3], retn=True) # print out the debuggable source code under investgation"
   ]
  },
  {
   "cell_type": "code",
   "execution_count": null,
   "id": "9d15772c-d9e0-443c-97bc-7e554ca20797",
   "metadata": {},
   "outputs": [],
   "source": [
    "# delegates = dbsrclines([3]) # print out the debuggable source code under investgation"
   ]
  },
  {
   "cell_type": "code",
   "execution_count": null,
   "id": "7fe0607f-18ff-4d39-826b-409e741e1a34",
   "metadata": {},
   "outputs": [
    {
     "name": "stdout",
     "output_type": "stream",
     "text": [
      "\n",
      "\n",
      "######################################################## source code with lines under investigation #########################################################\n",
      "\n",
      "\n",
      "def delegates(to:FunctionType=None, # Delegatee                                                                                                              \n",
      "              keep=False, # Keep `kwargs` in decorated function?                                                                                             \n",
      "              but:list=None): # Exclude these parameters from signature                                                                                      \n",
      "    \"Decorator: replace `**kwargs` in signature with params from `to`\"                                                                                       \n",
      "    if but is None: but = []                                                                                                                                 \n",
      "    def _f(f):                                                                                                                                               \n",
      "        if to is None: to_f,from_f = f.__base__.__init__,f.__init__==========================================================================================\n",
      "        else:          to_f,from_f = to.__init__ if isinstance(to,type) else to,f============================================================================\n",
      "                                                                           \u001b[91mUseCase1: when to is superclass to f\n",
      "                                                                           UseCase2: when to is a class but not superclass to f. UseCase3: other combinations\u001b[0m\n",
      "        from_f = getattr(from_f,'__func__',from_f)                                                                                                           \n",
      "        to_f = getattr(to_f,'__func__',to_f)                                                                                                                 \n",
      "        if hasattr(from_f,'__delwrap__'): return f                                                                                                           \n",
      "        sig = inspect.signature(from_f)                                                                                                                      \n",
      "        sigd = dict(sig.parameters)                                                                                                                          \n",
      "        k = sigd.pop('kwargs')                                                                                                                               \n",
      "        s2 = {k:v.replace(kind=inspect.Parameter.KEYWORD_ONLY) for k,v in inspect.signature(to_f).parameters.items()                                         \n",
      "              if v.default != inspect.Parameter.empty and k not in sigd and k not in but}                                                                    \n",
      "        anno = {k:v for k,v in to_f.__annotations__.items() if k not in sigd and k not in but}                                                               \n",
      "        sigd.update(s2)                                                                                                                                      \n",
      "        if keep: sigd['kwargs'] = k                                                                                                                          \n",
      "        else: from_f.__delwrap__ = to_f                                                                                                                      \n",
      "        from_f.__signature__ = sig.replace(parameters=sigd.values())                                                                                         \n",
      "        if hasattr(from_f, '__annotations__'): from_f.__annotations__.update(anno)                                                                           \n",
      "        return f                                                                                                                                             \n",
      "    return _f                                                                                                                                                \n",
      "                                                                                                                                                             \n",
      "\n",
      "class Base(): \n",
      "    def __init__(self, a, b=1): pass \n",
      "class Other():\n",
      "    def __init__(self, e=1): pass\n",
      "\n",
      "@delegates()\n",
      "class Subcls(Base): # to as a superclass (Base),  to must have __init__, and __new__ won't do\n",
      "    def __init__(self, c, d=1, **kwargs): pass # f as class, should have __init__\n",
      "test_sig(Subcls, '(c, d=1, *, b=1)')\n",
      "\n",
      "\n",
      "\n",
      "if to is None:\n",
      "    to_f,from_f = f.__base__.__init__,f.__init__\n",
      "else:\n",
      "    to_f,from_f = to.__init__ if isinstance(to,type) else to,f                         \n",
      "                                                                                                                                  Running your code block => \n",
      "The code block printout => : \n",
      "\n",
      "\n",
      "                                                                                                       to_f => to_f : <function Base.__init__>\n",
      "\n",
      "\n",
      "                                                                                                 from_f => from_f : <function Subcls.__init__>\n",
      "\n",
      "\n",
      "                                                                                  hasattr(to_f, '__annotations__') => hasattr(to_f, '__annotations__') : True\n",
      "\n",
      "\n",
      "                                                                              hasattr(from_f, '__annotations__') => hasattr(from_f, '__annotations__') : True\n",
      "\n",
      "\n",
      "######################################################## source code with lines under investigation #########################################################\n",
      "\n",
      "\n",
      "def delegates(to:FunctionType=None, # Delegatee                                                                                                              \n",
      "              keep=False, # Keep `kwargs` in decorated function?                                                                                             \n",
      "              but:list=None): # Exclude these parameters from signature                                                                                      \n",
      "    \"Decorator: replace `**kwargs` in signature with params from `to`\"                                                                                       \n",
      "    if but is None: but = []                                                                                                                                 \n",
      "    def _f(f):                                                                                                                                               \n",
      "        if to is None: to_f,from_f = f.__base__.__init__,f.__init__                                                                                          \n",
      "        else:          to_f,from_f = to.__init__ if isinstance(to,type) else to,f                                                                            \n",
      "        from_f = getattr(from_f,'__func__',from_f)                                                                                                           \n",
      "        to_f = getattr(to_f,'__func__',to_f)                                                                                                                 \n",
      "        if hasattr(from_f,'__delwrap__'): return f                                                                                                           \n",
      "        sig = inspect.signature(from_f)                                                                                                                      \n",
      "        sigd = dict(sig.parameters)                                                                                                                          \n",
      "        k = sigd.pop('kwargs')                                                                                                                               \n",
      "        s2 = {k:v.replace(kind=inspect.Parameter.KEYWORD_ONLY) for k,v in inspect.signature(to_f).parameters.items()=========================================\n",
      "            \u001b[91mwhat it does: f take the params from to and put them into a dict, k is name, v is the param in Parameter class, and make their kind KEYWORD_ONLY.\u001b[0m\n",
      "              if v.default != inspect.Parameter.empty and k not in sigd and k not in but}====================================================================\n",
      "        anno = {k:v for k,v in to_f.__annotations__.items() if k not in sigd and k not in but}                                                               \n",
      "        sigd.update(s2)                                                                                                                                      \n",
      "        if keep: sigd['kwargs'] = k                                                                                                                          \n",
      "        else: from_f.__delwrap__ = to_f                                                                                                                      \n",
      "        from_f.__signature__ = sig.replace(parameters=sigd.values())                                                                                         \n",
      "        if hasattr(from_f, '__annotations__'): from_f.__annotations__.update(anno)                                                                           \n",
      "        return f                                                                                                                                             \n",
      "    return _f                                                                                                                                                \n",
      "                                                                                                                                                             \n",
      "\n",
      "class Base(): \n",
      "    def __init__(self, a, b=1): pass \n",
      "class Other():\n",
      "    def __init__(self, e=1): pass\n",
      "\n",
      "@delegates()\n",
      "class Subcls(Base): # to as a superclass (Base),  to must have __init__, and __new__ won't do\n",
      "    def __init__(self, c, d=1, **kwargs): pass # f as class, should have __init__\n",
      "test_sig(Subcls, '(c, d=1, *, b=1)')\n",
      "\n",
      "\n",
      "\n",
      "if callable(to_f):\n",
      "    if bool(inspect.signature(to_f).parameters.items()):\n",
      "        for k,v in inspect.signature(to_f).parameters.items():\n",
      "            print(f'k:v => {k}:{v}, type(v): {type(v)}')\n",
      "    else:\n",
      "        print(f'inspect.signature(to_f).parameters.items() is empty: {not bool(inspect.signature(to_f).parameters.items())}')\n",
      "else:\n",
      "    print(f'to_f is callable: {callable(to_f)}, so inspect.signature(to_f) will cause error')\n",
      "                                                                                                                                  Running your code block => \n",
      "The code block printout => : \n",
      "k:v => self:self, type(v): <class 'inspect.Parameter'>\n",
      "k:v => a:a, type(v): <class 'inspect.Parameter'>\n",
      "k:v => b:b=1, type(v): <class 'inspect.Parameter'>\n"
     ]
    }
   ],
   "source": [
    "defaults.eg = \"\"\"\n",
    "class Base(): \n",
    "    def __init__(self, a, b=1): pass \n",
    "class Other():\n",
    "    def __init__(self, e=1): pass\n",
    "\n",
    "@delegates()\n",
    "class Subcls(Base): # to as a superclass (Base),  to must have __init__, and __new__ won't do\n",
    "    def __init__(self, c, d=1, **kwargs): pass # f as class, should have __init__\n",
    "test_sig(Subcls, '(c, d=1, *, b=1)')\n",
    "\"\"\"\n",
    "\n",
    "class Base(): \n",
    "    def __init__(self, a, b=1): pass \n",
    "class Other():\n",
    "    def __init__(self, e=1): pass\n",
    "\n",
    "@delegates()\n",
    "class Subcls(Base): # to as a superclass (Base),  to must have __init__, and __new__ won't do\n",
    "    def __init__(self, c, d=1, **kwargs): pass # f as class, should have __init__\n",
    "# test_sig(Subcls, '(c, d=1, *, b=1)')"
   ]
  },
  {
   "cell_type": "code",
   "execution_count": null,
   "id": "98ffe5fe-f3e3-4e88-a58f-10f545e0d266",
   "metadata": {},
   "outputs": [
    {
     "name": "stdout",
     "output_type": "stream",
     "text": [
      "\n",
      "\n",
      "######################################################## source code with lines under investigation #########################################################\n",
      "\n",
      "\n",
      "def delegates(to:FunctionType=None, # Delegatee                                                                                                              \n",
      "              keep=False, # Keep `kwargs` in decorated function?                                                                                             \n",
      "              but:list=None): # Exclude these parameters from signature                                                                                      \n",
      "    \"Decorator: replace `**kwargs` in signature with params from `to`\"                                                                                       \n",
      "    if but is None: but = []                                                                                                                                 \n",
      "    def _f(f):                                                                                                                                               \n",
      "        if to is None: to_f,from_f = f.__base__.__init__,f.__init__==========================================================================================\n",
      "        else:          to_f,from_f = to.__init__ if isinstance(to,type) else to,f============================================================================\n",
      "                                                                           \u001b[91mUseCase1: when to is superclass to f\n",
      "                                                                           UseCase2: when to is a class but not superclass to f. UseCase3: other combinations\u001b[0m\n",
      "        from_f = getattr(from_f,'__func__',from_f)                                                                                                           \n",
      "        to_f = getattr(to_f,'__func__',to_f)                                                                                                                 \n",
      "        if hasattr(from_f,'__delwrap__'): return f                                                                                                           \n",
      "        sig = inspect.signature(from_f)                                                                                                                      \n",
      "        sigd = dict(sig.parameters)                                                                                                                          \n",
      "        k = sigd.pop('kwargs')                                                                                                                               \n",
      "        s2 = {k:v.replace(kind=inspect.Parameter.KEYWORD_ONLY) for k,v in inspect.signature(to_f).parameters.items()                                         \n",
      "              if v.default != inspect.Parameter.empty and k not in sigd and k not in but}                                                                    \n",
      "        anno = {k:v for k,v in to_f.__annotations__.items() if k not in sigd and k not in but}                                                               \n",
      "        sigd.update(s2)                                                                                                                                      \n",
      "        if keep: sigd['kwargs'] = k                                                                                                                          \n",
      "        else: from_f.__delwrap__ = to_f                                                                                                                      \n",
      "        from_f.__signature__ = sig.replace(parameters=sigd.values())                                                                                         \n",
      "        if hasattr(from_f, '__annotations__'): from_f.__annotations__.update(anno)                                                                           \n",
      "        return f                                                                                                                                             \n",
      "    return _f                                                                                                                                                \n",
      "                                                                                                                                                             \n",
      "\n",
      "class Base(): \n",
      "    def __new__(self, a, b=1): pass \n",
      "class Other():\n",
      "    def __init__(self, e=1): pass\n",
      "\n",
      "@delegates()\n",
      "class Subcls(Base): # to as a superclass (Base),  to must have __init__, and __new__ won't do\n",
      "    def __init__(self, c, d=1, **kwargs): pass # f as class, should have __init__\n",
      "test_sig(Subcls, '(c, d=1, *, b=1)')\n",
      "\n",
      "\n",
      "\n",
      "if to is None:\n",
      "    to_f,from_f = f.__base__.__init__,f.__init__\n",
      "else:\n",
      "    to_f,from_f = to.__init__ if isinstance(to,type) else to,f                         \n",
      "                                                                                                                                  Running your code block => \n",
      "The code block printout => : \n",
      "\n",
      "\n",
      "                                                                                                 to_f => to_f : <slot wrapper '__init__' of 'object' objects>\n",
      "\n",
      "\n",
      "                                                                                                 from_f => from_f : <function Subcls.__init__>\n",
      "\n",
      "\n",
      "                                                                                 hasattr(to_f, '__annotations__') => hasattr(to_f, '__annotations__') : False\n",
      "\n",
      "\n",
      "                                                                              hasattr(from_f, '__annotations__') => hasattr(from_f, '__annotations__') : True\n",
      "\n",
      "\n",
      "######################################################## source code with lines under investigation #########################################################\n",
      "\n",
      "\n",
      "def delegates(to:FunctionType=None, # Delegatee                                                                                                              \n",
      "              keep=False, # Keep `kwargs` in decorated function?                                                                                             \n",
      "              but:list=None): # Exclude these parameters from signature                                                                                      \n",
      "    \"Decorator: replace `**kwargs` in signature with params from `to`\"                                                                                       \n",
      "    if but is None: but = []                                                                                                                                 \n",
      "    def _f(f):                                                                                                                                               \n",
      "        if to is None: to_f,from_f = f.__base__.__init__,f.__init__                                                                                          \n",
      "        else:          to_f,from_f = to.__init__ if isinstance(to,type) else to,f                                                                            \n",
      "        from_f = getattr(from_f,'__func__',from_f)                                                                                                           \n",
      "        to_f = getattr(to_f,'__func__',to_f)                                                                                                                 \n",
      "        if hasattr(from_f,'__delwrap__'): return f                                                                                                           \n",
      "        sig = inspect.signature(from_f)                                                                                                                      \n",
      "        sigd = dict(sig.parameters)                                                                                                                          \n",
      "        k = sigd.pop('kwargs')                                                                                                                               \n",
      "        s2 = {k:v.replace(kind=inspect.Parameter.KEYWORD_ONLY) for k,v in inspect.signature(to_f).parameters.items()=========================================\n",
      "            \u001b[91mwhat it does: f take the params from to and put them into a dict, k is name, v is the param in Parameter class, and make their kind KEYWORD_ONLY.\u001b[0m\n",
      "              if v.default != inspect.Parameter.empty and k not in sigd and k not in but}====================================================================\n",
      "        anno = {k:v for k,v in to_f.__annotations__.items() if k not in sigd and k not in but}                                                               \n",
      "        sigd.update(s2)                                                                                                                                      \n",
      "        if keep: sigd['kwargs'] = k                                                                                                                          \n",
      "        else: from_f.__delwrap__ = to_f                                                                                                                      \n",
      "        from_f.__signature__ = sig.replace(parameters=sigd.values())                                                                                         \n",
      "        if hasattr(from_f, '__annotations__'): from_f.__annotations__.update(anno)                                                                           \n",
      "        return f                                                                                                                                             \n",
      "    return _f                                                                                                                                                \n",
      "                                                                                                                                                             \n",
      "\n",
      "class Base(): \n",
      "    def __new__(self, a, b=1): pass \n",
      "class Other():\n",
      "    def __init__(self, e=1): pass\n",
      "\n",
      "@delegates()\n",
      "class Subcls(Base): # to as a superclass (Base),  to must have __init__, and __new__ won't do\n",
      "    def __init__(self, c, d=1, **kwargs): pass # f as class, should have __init__\n",
      "test_sig(Subcls, '(c, d=1, *, b=1)')\n",
      "\n",
      "\n",
      "\n",
      "if callable(to_f):\n",
      "    if bool(inspect.signature(to_f).parameters.items()):\n",
      "        for k,v in inspect.signature(to_f).parameters.items():\n",
      "            print(f'k:v => {k}:{v}, type(v): {type(v)}')\n",
      "    else:\n",
      "        print(f'inspect.signature(to_f).parameters.items() is empty: {not bool(inspect.signature(to_f).parameters.items())}')\n",
      "else:\n",
      "    print(f'to_f is callable: {callable(to_f)}, so inspect.signature(to_f) will cause error')\n",
      "                                                                                                                                  Running your code block => \n",
      "The code block printout => : \n",
      "k:v => self:self, type(v): <class 'inspect.Parameter'>\n",
      "k:v => args:*args, type(v): <class 'inspect.Parameter'>\n",
      "k:v => kwargs:**kwargs, type(v): <class 'inspect.Parameter'>\n"
     ]
    }
   ],
   "source": [
    "defaults.eg = \"\"\"\n",
    "class Base(): \n",
    "    def __new__(self, a, b=1): pass \n",
    "class Other():\n",
    "    def __init__(self, e=1): pass\n",
    "\n",
    "@delegates()\n",
    "class Subcls(Base): # to as a superclass (Base),  to must have __init__, and __new__ won't do\n",
    "    def __init__(self, c, d=1, **kwargs): pass # f as class, should have __init__\n",
    "test_sig(Subcls, '(c, d=1, *, b=1)')\n",
    "\"\"\"\n",
    "\n",
    "class Base(): \n",
    "    def __new__(self, a, b=1): pass \n",
    "class Other():\n",
    "    def __init__(self, e=1): pass\n",
    "\n",
    "@delegates()\n",
    "class Subcls(Base): # to as a superclass (Base),  to must have __init__, and __new__ won't do\n",
    "    def __init__(self, c, d=1, **kwargs): pass # f as class, should have __init__\n",
    "# test_sig(Subcls, '(c, d=1, *, b=1)')"
   ]
  },
  {
   "cell_type": "code",
   "execution_count": null,
   "id": "64578a42-8e27-47c9-9a59-5ca204d0bcd4",
   "metadata": {},
   "outputs": [],
   "source": []
  },
  {
   "cell_type": "markdown",
   "id": "bd1fa5c7",
   "metadata": {},
   "source": [
    "#|hide\n",
    "## Sending to Obs"
   ]
  },
  {
   "cell_type": "code",
   "execution_count": null,
   "id": "bb5ffdf6",
   "metadata": {},
   "outputs": [
    {
     "name": "stdout",
     "output_type": "stream",
     "text": [
      "[jupytext] Reading /Users/Natsume/Documents/debuggable/fastcore/meta/00_delegates.ipynb in format ipynb\n",
      "[jupytext] Writing /Users/Natsume/Documents/debuggable/fastcore/meta/00_delegates.md\n"
     ]
    }
   ],
   "source": [
    "#|hide\n",
    "!jupytext --to md /Users/Natsume/Documents/debuggable/fastcore/meta/00_delegates.ipynb\n",
    "!mv /Users/Natsume/Documents/debuggable/fastcore/meta/00_delegates.md \\\n",
    "/Users/Natsume/Documents/divefastai/Debuggable/jupytext/fastcore/meta/"
   ]
  },
  {
   "cell_type": "code",
   "execution_count": null,
   "id": "0473e5d2",
   "metadata": {},
   "outputs": [
    {
     "name": "stdout",
     "output_type": "stream",
     "text": [
      "[NbConvertApp] Converting notebook /Users/Natsume/Documents/debuggable/index.ipynb to markdown\n",
      "[NbConvertApp] Writing 2074 bytes to /Users/Natsume/Documents/divefastai/Debuggable/nbconvert/index.md\n",
      "[NbConvertApp] Converting notebook /Users/Natsume/Documents/debuggable/utils.ipynb to markdown\n",
      "[NbConvertApp] Writing 190008 bytes to /Users/Natsume/Documents/divefastai/Debuggable/nbconvert/utils.md\n",
      "[NbConvertApp] Converting notebook /Users/Natsume/Documents/debuggable/fastcore/classes_metaclasses.ipynb to markdown\n",
      "[NbConvertApp] Writing 23234 bytes to /Users/Natsume/Documents/divefastai/Debuggable/nbconvert/classes_metaclasses.md\n",
      "[NbConvertApp] Converting notebook /Users/Natsume/Documents/debuggable/fastcore/meta/02_use_kwargs_dict.ipynb to markdown\n",
      "[NbConvertApp] Writing 3754 bytes to /Users/Natsume/Documents/divefastai/Debuggable/nbconvert/02_use_kwargs_dict.md\n",
      "[NbConvertApp] Converting notebook /Users/Natsume/Documents/debuggable/fastcore/meta/00_delegates.ipynb to markdown\n",
      "[NbConvertApp] Writing 38325 bytes to /Users/Natsume/Documents/divefastai/Debuggable/nbconvert/00_delegates.md\n",
      "[NbConvertApp] Converting notebook /Users/Natsume/Documents/debuggable/fastcore/meta/01_mk_param.ipynb to markdown\n",
      "[NbConvertApp] Writing 1992 bytes to /Users/Natsume/Documents/divefastai/Debuggable/nbconvert/01_mk_param.md\n",
      "[NbConvertApp] Converting notebook /Users/Natsume/Documents/debuggable/fastcore/findings/00F_delegates_keep.ipynb to markdown\n",
      "[NbConvertApp] Writing 14251 bytes to /Users/Natsume/Documents/divefastai/Debuggable/nbconvert/00F_delegates_keep.md\n"
     ]
    }
   ],
   "source": [
    "#|hide\n",
    "!jupyter nbconvert --config /Users/Natsume/Documents/mynbcfg.py --to markdown \\\n",
    "--output-dir /Users/Natsume/Documents/divefastai/Debuggable/nbconvert"
   ]
  },
  {
   "cell_type": "code",
   "execution_count": null,
   "id": "f6ee14d3-1555-4dec-818c-0116583a05d4",
   "metadata": {},
   "outputs": [],
   "source": []
  },
  {
   "cell_type": "code",
   "execution_count": null,
   "id": "d1c6d80a-8bec-4e32-b2e7-4500b7dec3e3",
   "metadata": {},
   "outputs": [],
   "source": []
  }
 ],
 "metadata": {
  "kernelspec": {
   "display_name": "Python 3 (ipykernel)",
   "language": "python",
   "name": "python3"
  }
 },
 "nbformat": 4,
 "nbformat_minor": 5
}
