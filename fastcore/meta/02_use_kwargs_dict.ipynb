{
 "cells": [
  {
   "cell_type": "markdown",
   "id": "2f7b45e1",
   "metadata": {},
   "source": [
    "# fastcore.meta.use_kwargs_dict"
   ]
  },
  {
   "cell_type": "code",
   "execution_count": null,
   "id": "e1744c0a",
   "metadata": {},
   "outputs": [],
   "source": [
    "from fastcore.imports import *\n",
    "from fastcore.meta import *\n",
    "from fastcore.test import *\n",
    "import inspect\n",
    "from debuggable.utils import dbprint, defaults, whichversion, defaults\n",
    "from pprint import pprint\n",
    "import ast\n",
    "from datetime import date"
   ]
  },
  {
   "cell_type": "code",
   "execution_count": null,
   "id": "b0cea041",
   "metadata": {},
   "outputs": [],
   "source": [
    "from fastcore.meta import _mk_param"
   ]
  },
  {
   "cell_type": "code",
   "execution_count": null,
   "id": "aa877e06",
   "metadata": {},
   "outputs": [],
   "source": [
    "today = date.today()\n",
    "print(\"Today's date:\", today)"
   ]
  },
  {
   "cell_type": "code",
   "execution_count": null,
   "id": "7ca0abdf",
   "metadata": {},
   "outputs": [],
   "source": [
    "!pip install -U fastcore\n",
    "whichversion('fastcore')"
   ]
  },
  {
   "cell_type": "markdown",
   "id": "01b63911",
   "metadata": {},
   "source": [
    "## Source"
   ]
  },
  {
   "cell_type": "code",
   "execution_count": null,
   "id": "968a800b",
   "metadata": {},
   "outputs": [],
   "source": [
    "use_kwargs_dict??"
   ]
  },
  {
   "cell_type": "code",
   "execution_count": null,
   "id": "518534e3",
   "metadata": {},
   "outputs": [],
   "source": [
    "def use_kwargs_dict(keep=False, **kwargs):\n",
    "    \"Decorator: replace `**kwargs` in signature with `names` params\" \n",
    "    \"Replacing a signature's `**kwargs` with parameters created with a dictionary\\\n",
    "    like {name1:value1, name2:value2}.\"\n",
    "    \n",
    "    # What is a decorator? it's a func which defines another func _f and then return _f.\n",
    "    # What is special about the _f func? it's a func which modifies another func f and return f\n",
    "    def _f(f):\n",
    "        \n",
    "        # get the signature of function f, and assign it to sig\n",
    "        dbprint(\"sig = inspect.signature(f)\", \"f\", \"inspect.signature(f)\", \"sig = inspect.signature(f)\", f=f, inspect=inspect)\n",
    "        sig = inspect.signature(f)\n",
    "        \n",
    "        # get all the parameters of sig, and turn them into a dictionary\n",
    "        dbprint(\"sigd = dict(sig.parameters)\", \"sig.parameters\", \"dict(sig.parameters)\", \"sigd = dict(sig.parameters)\", sig=sig)\n",
    "        sigd = dict(sig.parameters)\n",
    "        \n",
    "        # remove/pop the item with key `kwargs` out of the dictionary sigd\n",
    "        dbprint(\"k = sigd.pop('kwargs')\", \"sigd\", \"k = sigd.pop('kwargs')\", \"sigd\", \"sigd['kwargs'] = k\", sigd=sigd)\n",
    "        k = sigd.pop('kwargs')\n",
    "        \n",
    "        # Openning the input dictionary **kwargs, create a new dictionary s2 to store params created based on the dict kwargs\n",
    "        dbprint(\"s2 = {n:_mk_param(n,d) for n,d in kwargs.items() if n not in sigd}\", \"kwargs\", \"sigd\", \\\n",
    "                \"for n,d in kwargs.items():\\n    print(f'n: {n}, d: {d}')\\n    if n not in sigd:\\n        print(f'{n}: {_mk_param(n,d)}')\",\\\n",
    "                \"s2 = {n:_mk_param(n,d) for n,d in kwargs.items() if n not in sigd}\", kwargs=kwargs, _mk_param=_mk_param)\n",
    "        s2 = {n:_mk_param(n,d) for n,d in kwargs.items() if n not in sigd}\n",
    " \n",
    "        dbprint(\"sigd.update(s2)\", \"s2\", \"sigd.update(s2)\", s2=s2)\n",
    "        sigd.update(s2)\n",
    "        \n",
    "        if keep: sigd['kwargs'] = k\n",
    "        f.__signature__ = sig.replace(parameters=sigd.values())\n",
    "        return f\n",
    "    return _f"
   ]
  },
  {
   "cell_type": "code",
   "execution_count": null,
   "id": "762fb9b1",
   "metadata": {},
   "outputs": [],
   "source": [
    "from fastcore.meta import use_kwargs_dict as ukd\n",
    "defaults.src = inspect.getsource(ukd)\n",
    "defaults.deb = inspect.getsource(use_kwargs_dict)\n",
    "defaults.checksource()"
   ]
  },
  {
   "cell_type": "markdown",
   "id": "3e656ef7",
   "metadata": {},
   "source": [
    "## Example"
   ]
  },
  {
   "cell_type": "markdown",
   "id": "64ec2161",
   "metadata": {},
   "source": [
    "# Replace all **kwargs with named arguments like so:"
   ]
  },
  {
   "cell_type": "code",
   "execution_count": null,
   "id": "b6281a3e",
   "metadata": {},
   "outputs": [],
   "source": [
    "defaults.eg=\"\"\"\n",
    "@use_kwargs_dict(y=1,z=None)\n",
    "def foo(a, b=1, **kwargs): pass\n",
    "\n",
    "test_sig(foo, '(a, b=1, *, y=1, z=None)')\n",
    "\"\"\""
   ]
  },
  {
   "cell_type": "code",
   "execution_count": null,
   "id": "7d3320d0",
   "metadata": {},
   "outputs": [],
   "source": [
    "@use_kwargs_dict(y=1,z=None)\n",
    "def foo(a, b=1, **kwargs): pass\n",
    "\n",
    "test_sig(foo, '(a, b=1, *, y=1, z=None)')"
   ]
  },
  {
   "cell_type": "markdown",
   "id": "40bbc3d3",
   "metadata": {},
   "source": [
    "Add named arguments, but optionally keep **kwargs by setting keep=True:"
   ]
  },
  {
   "cell_type": "code",
   "execution_count": null,
   "id": "af3c6ce7",
   "metadata": {},
   "outputs": [],
   "source": [
    "defaults.eg=\"\"\"\n",
    "@use_kwargs_dict(y=1,z=None, keep=True)\n",
    "def foo(a, b=1, **kwargs): pass\n",
    "\n",
    "test_sig(foo, '(a, b=1, *, y=1, z=None, **kwargs)')\n",
    "\"\"\""
   ]
  },
  {
   "cell_type": "code",
   "execution_count": null,
   "id": "e02af7f2",
   "metadata": {},
   "outputs": [],
   "source": [
    "@use_kwargs_dict(y=1,z=None, keep=True)\n",
    "def foo(a, b=1, **kwargs): pass\n",
    "\n",
    "test_sig(foo, '(a, b=1, *, y=1, z=None, **kwargs)')"
   ]
  },
  {
   "cell_type": "markdown",
   "id": "bd0ddd26",
   "metadata": {},
   "source": [
    "#|hide\n",
    "## Sending to Obs"
   ]
  },
  {
   "cell_type": "code",
   "execution_count": null,
   "id": "06312c0f",
   "metadata": {},
   "outputs": [],
   "source": [
    "#|hide\n",
    "!jupytext --to md /Users/Natsume/Documents/debuggable/fastcore/meta/02_use_kwargs_dict.ipynb\n",
    "!mv /Users/Natsume/Documents/debuggable/fastcore/meta/02_use_kwargs_dict.md \\\n",
    "/Users/Natsume/Documents/divefastai/Debuggable/jupytext/fastcore/"
   ]
  },
  {
   "cell_type": "code",
   "execution_count": null,
   "id": "b00858e5",
   "metadata": {},
   "outputs": [],
   "source": [
    "#|hide\n",
    "!jupyter nbconvert --config /Users/Natsume/Documents/mynbcfg.py --to markdown \\\n",
    "--output-dir /Users/Natsume/Documents/divefastai/Debuggable/nbconvert"
   ]
  },
  {
   "cell_type": "code",
   "execution_count": null,
   "id": "5d58eb78",
   "metadata": {},
   "outputs": [],
   "source": []
  },
  {
   "cell_type": "code",
   "execution_count": null,
   "id": "2485bcd0",
   "metadata": {},
   "outputs": [],
   "source": []
  }
 ],
 "metadata": {
  "kernelspec": {
   "display_name": "Python 3 (ipykernel)",
   "language": "python",
   "name": "python3"
  }
 },
 "nbformat": 4,
 "nbformat_minor": 5
}
