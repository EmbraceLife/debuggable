{
 "cells": [
  {
   "cell_type": "markdown",
   "id": "979c2e97",
   "metadata": {},
   "source": [
    "# fastcore_meta"
   ]
  },
  {
   "cell_type": "markdown",
   "id": "aeb092bc",
   "metadata": {},
   "source": [
    "## Delegates"
   ]
  },
  {
   "cell_type": "markdown",
   "id": "08fd166a",
   "metadata": {},
   "source": [
    "### Import libraries"
   ]
  },
  {
   "cell_type": "code",
   "execution_count": null,
   "id": "694d0ab2",
   "metadata": {},
   "outputs": [],
   "source": [
    "#|default_exp fastcoremeta"
   ]
  },
  {
   "cell_type": "code",
   "execution_count": null,
   "id": "8b1b5c16",
   "metadata": {},
   "outputs": [],
   "source": [
    "#|export\n",
    "from fastcore.meta import *\n",
    "from fastcore.test import *\n",
    "import inspect\n",
    "from pprint import pprint"
   ]
  },
  {
   "cell_type": "code",
   "execution_count": null,
   "id": "d9c29f8e",
   "metadata": {},
   "outputs": [],
   "source": [
    "from nbdev.showdoc import *\n",
    "from IPython.display import IFrame"
   ]
  },
  {
   "cell_type": "markdown",
   "id": "755d7701",
   "metadata": {},
   "source": [
    "### Reading the doc"
   ]
  },
  {
   "cell_type": "markdown",
   "id": "25e43697",
   "metadata": {},
   "source": [
    "#### how-sig: access signature, quick doc and full doc"
   ]
  },
  {
   "cell_type": "code",
   "execution_count": null,
   "id": "e0925c2e",
   "metadata": {},
   "outputs": [
    {
     "name": "stdout",
     "output_type": "stream",
     "text": [
      "<Signature (to: function = None, keep=False, but: list = None, verbose=True)>\n",
      "'Decorator: replace `**kwargs` in signature with params from `to`'\n"
     ]
    }
   ],
   "source": [
    "#|echo: false\n",
    "pprint(inspect.signature(delegates))\n",
    "pprint(inspect.getdoc(delegates))"
   ]
  },
  {
   "cell_type": "code",
   "execution_count": null,
   "id": "faec565f",
   "metadata": {},
   "outputs": [
    {
     "data": {
      "text/html": [
       "\n",
       "        <iframe\n",
       "            width=\"1200\"\n",
       "            height=\"500\"\n",
       "            src=\"https://fastcore.fast.ai/meta.html#delegates\"\n",
       "            frameborder=\"0\"\n",
       "            allowfullscreen\n",
       "            \n",
       "        ></iframe>\n",
       "        "
      ],
      "text/plain": [
       "<IPython.lib.display.IFrame>"
      ]
     },
     "execution_count": null,
     "metadata": {},
     "output_type": "execute_result"
    }
   ],
   "source": [
    "#|echo: false\n",
    "IFrame(\"https://fastcore.fast.ai/meta.html#delegates\", 1200,500)"
   ]
  },
  {
   "cell_type": "markdown",
   "id": "bf0335f6",
   "metadata": {},
   "source": [
    "#### how-assert: use `assert`\n",
    "more [examples](https://realpython.com/python-testing/)"
   ]
  },
  {
   "cell_type": "markdown",
   "id": "d3a39ac0",
   "metadata": {},
   "source": [
    "```python\n",
    "assert foo(c=1, a=1) == 7\n",
    "```"
   ]
  },
  {
   "cell_type": "markdown",
   "id": "cf3f4276",
   "metadata": {},
   "source": [
    "#### how-delegates: Which params passed to `f` from `to` in source?"
   ]
  },
  {
   "cell_type": "markdown",
   "id": "7fe42397",
   "metadata": {},
   "source": [
    "- only keyword params (with default values) are delegated to `foo` from `baz`\n",
    "- params (both positional and keyword) from `foo` suffice to fill positional params of `baz`\n"
   ]
  },
  {
   "cell_type": "markdown",
   "id": "e7770913",
   "metadata": {},
   "source": [
    "#### how-deletates: when params in `f` conflict with kwargs of `to`"
   ]
  },
  {
   "cell_type": "code",
   "execution_count": null,
   "id": "4e1d09b5",
   "metadata": {},
   "outputs": [
    {
     "data": {
      "text/plain": [
       "(<Signature (d, a, *, b=2, c=3)>, <Signature (c, a, *, b=2)>)"
      ]
     },
     "execution_count": null,
     "metadata": {},
     "output_type": "execute_result"
    }
   ],
   "source": [
    "def baz(a, b=2, c=3): return a + b + c\n",
    "\n",
    "@delegates(baz)\n",
    "def foo1(d, a, **kwargs): # both b=2, c=3 are kept\n",
    "    return d + baz(a, **kwargs)\n",
    "\n",
    "@delegates(baz)\n",
    "def foo2(c, a, **kwargs): # c in foo2 replaces c=3 in baz, only b=2 is kept\n",
    "    return c + baz(a, **kwargs)\n",
    "\n",
    "inspect.signature(foo1), inspect.signature(foo2) "
   ]
  },
  {
   "cell_type": "markdown",
   "id": "b171b94f",
   "metadata": {},
   "source": [
    "#### how-sig: `test_sig`"
   ]
  },
  {
   "cell_type": "code",
   "execution_count": null,
   "id": "3145ccb3",
   "metadata": {},
   "outputs": [],
   "source": [
    "test_sig(foo2, '(c, a, *, b=2)')"
   ]
  },
  {
   "cell_type": "markdown",
   "id": "6c80db7d",
   "metadata": {},
   "source": [
    "#### how-delegates: on classmethod and instant method"
   ]
  },
  {
   "cell_type": "code",
   "execution_count": null,
   "id": "61c18fa7",
   "metadata": {},
   "outputs": [],
   "source": [
    "class _T():\n",
    "    @classmethod\n",
    "    def foo(cls, a=1, b=2):\n",
    "        pass\n",
    "    \n",
    "    @classmethod\n",
    "    @delegates(foo)\n",
    "    def bar(cls, c=3, **kwargs):\n",
    "        pass"
   ]
  },
  {
   "cell_type": "code",
   "execution_count": null,
   "id": "da164dae",
   "metadata": {},
   "outputs": [
    {
     "data": {
      "text/plain": [
       "<Signature (c=3, *, a=1, b=2)>"
      ]
     },
     "execution_count": null,
     "metadata": {},
     "output_type": "execute_result"
    }
   ],
   "source": [
    "t = _T()\n",
    "inspect.signature(t.bar)"
   ]
  },
  {
   "cell_type": "code",
   "execution_count": null,
   "id": "4b26818c",
   "metadata": {},
   "outputs": [],
   "source": [
    "class _T():\n",
    "    def foo(cls, a=1, b=2):\n",
    "        pass\n",
    "    \n",
    "    @delegates(foo)\n",
    "    def bar(cls, c=3, **kwargs):\n",
    "        pass"
   ]
  },
  {
   "cell_type": "code",
   "execution_count": null,
   "id": "a13ab30d",
   "metadata": {},
   "outputs": [
    {
     "data": {
      "text/plain": [
       "<Signature (c=3, *, a=1, b=2)>"
      ]
     },
     "execution_count": null,
     "metadata": {},
     "output_type": "execute_result"
    }
   ],
   "source": [
    "t = _T()\n",
    "inspect.signature(t.bar)"
   ]
  },
  {
   "cell_type": "markdown",
   "id": "2cc0817f",
   "metadata": {},
   "source": [
    "#### how-delegates: on super class or `__init__` func in fact"
   ]
  },
  {
   "cell_type": "code",
   "execution_count": null,
   "id": "263c420e",
   "metadata": {},
   "outputs": [],
   "source": [
    "class BaseFoo:\n",
    "    def __init__(self, e, c=2): pass\n",
    "\n",
    "class Foo(BaseFoo):\n",
    "    def __init__(self, a, b=1, **kwargs): super().__init__(**kwargs)\n",
    "\n",
    "test_sig(Foo, '(a, b=1, **kwargs)')"
   ]
  },
  {
   "cell_type": "code",
   "execution_count": null,
   "id": "eabe6bad",
   "metadata": {},
   "outputs": [],
   "source": [
    "class BaseFoo:\n",
    "    def __init__(self, e, c=2): pass\n",
    "\n",
    "@delegates()# since no argument was passsed here we delegate to the superclass\n",
    "class Foo(BaseFoo):\n",
    "    def __init__(self, a, b=1, **kwargs): super().__init__(**kwargs)\n",
    "\n",
    "test_sig(Foo, '(a, b=1, *, c=2)')"
   ]
  },
  {
   "cell_type": "markdown",
   "id": "d652d031",
   "metadata": {},
   "source": [
    "#### how-delegates: on other class"
   ]
  },
  {
   "cell_type": "code",
   "execution_count": null,
   "id": "817569c0",
   "metadata": {},
   "outputs": [],
   "source": [
    "class BaseFoo:\n",
    "    def __init__(self, e, c=2): pprint(locals())\n",
    "\n",
    "class OtherFoo:\n",
    "    def __init__(self, d, f=1): pprint(locals())\n",
    "\n",
    "@delegates(OtherFoo)# since no argument was passsed here we delegate to the superclass\n",
    "class Foo(BaseFoo):\n",
    "    def __init__(self, a, b=1, **kwargs): \n",
    "        pprint(locals())\n",
    "        super().__init__(**kwargs)\n",
    "\n",
    "# inspect.signature(Foo)\n",
    "test_sig(Foo, '(a, b=1, *, f=1)')"
   ]
  },
  {
   "cell_type": "code",
   "execution_count": null,
   "id": "7537d3b3",
   "metadata": {},
   "outputs": [
    {
     "name": "stdout",
     "output_type": "stream",
     "text": [
      "{'__class__': <class '__main__.Foo'>,\n",
      " 'a': 1,\n",
      " 'b': 1,\n",
      " 'kwargs': {'f': 1},\n",
      " 'self': <__main__.Foo object>}\n",
      "__init__() got an unexpected keyword argument 'f'\n"
     ]
    }
   ],
   "source": [
    "try:        \n",
    "    f = Foo(1,1,f=1)\n",
    "except TypeError as e:\n",
    "    print(e)"
   ]
  },
  {
   "cell_type": "markdown",
   "id": "da9fd5b5",
   "metadata": {},
   "source": [
    "#### how-delegates: before its time"
   ]
  },
  {
   "cell_type": "code",
   "execution_count": null,
   "id": "7ef81cfc",
   "metadata": {},
   "outputs": [],
   "source": [
    "def low(a:int, b:int=1): pass\n",
    "def mid(c:int, d:int=1, **kwargs): low(c, **kwargs) + d\n",
    "def high(e:int, f:int=1, **kwargs): mid(e, **kwargs) + f"
   ]
  },
  {
   "cell_type": "code",
   "execution_count": null,
   "id": "d212f2af",
   "metadata": {},
   "outputs": [
    {
     "name": "stdout",
     "output_type": "stream",
     "text": [
      "low: \n",
      "<Signature (a: int, b: int = 1)>\n",
      "mid: \n",
      "<Signature (c: int, d: int = 1, **kwargs)>\n",
      "high: \n",
      "<Signature (e: int, f: int = 1, **kwargs)>\n"
     ]
    }
   ],
   "source": [
    "print(\"low: \")\n",
    "pprint(inspect.signature(low))\n",
    "print(\"mid: \")\n",
    "pprint(inspect.signature(mid))\n",
    "print(\"high: \")\n",
    "pprint(inspect.signature(high))"
   ]
  },
  {
   "cell_type": "markdown",
   "id": "8afac310",
   "metadata": {},
   "source": [
    "#### how-delegates: under its reign"
   ]
  },
  {
   "cell_type": "code",
   "execution_count": null,
   "id": "f287eaef",
   "metadata": {},
   "outputs": [],
   "source": [
    "def low(a:int, b:int=1): pass\n",
    "@delegates(low)\n",
    "def mid(c:int, d:int=1, **kwargs): low(c, **kwargs) + d\n",
    "@delegates(mid)\n",
    "def high(e:int, f:int=1, **kwargs): mid(e, **kwargs) + f"
   ]
  },
  {
   "cell_type": "code",
   "execution_count": null,
   "id": "3b993d7d",
   "metadata": {},
   "outputs": [
    {
     "name": "stdout",
     "output_type": "stream",
     "text": [
      "low: \n",
      "<Signature (a: int, b: int = 1)>\n",
      "mid: \n",
      "<Signature (c: int, d: int = 1, *, b: int = 1)>\n",
      "high: \n",
      "<Signature (e: int, f: int = 1, *, d: int = 1, b: int = 1)>\n"
     ]
    }
   ],
   "source": [
    "print(\"low: \")\n",
    "pprint(inspect.signature(low))\n",
    "print(\"mid: \")\n",
    "pprint(inspect.signature(mid))\n",
    "print(\"high: \")\n",
    "pprint(inspect.signature(high))"
   ]
  },
  {
   "cell_type": "markdown",
   "id": "f0d3da02",
   "metadata": {},
   "source": [
    "#### how-show_doc: `show_doc` can even informs you which kwargs are passed to other funcs"
   ]
  },
  {
   "cell_type": "markdown",
   "id": "f5d61347",
   "metadata": {},
   "source": [
    "#### how-delegates: use `keep=True` and `but`"
   ]
  },
  {
   "cell_type": "code",
   "execution_count": null,
   "id": "237ac5e2",
   "metadata": {},
   "outputs": [
    {
     "name": "stdout",
     "output_type": "stream",
     "text": [
      "<Signature (e: int, f: int = 1, *, d: int = 1, **kwargs)>\n"
     ]
    }
   ],
   "source": [
    "@delegates(mid, keep=True, but=['b'])\n",
    "def high(e:int, f:int=1, **kwargs): mid(e, **kwargs) + f\n",
    "pprint(inspect.signature(high))"
   ]
  },
  {
   "cell_type": "markdown",
   "id": "a8678336",
   "metadata": {},
   "source": [
    "#### how-delegates: without `@`"
   ]
  },
  {
   "cell_type": "markdown",
   "id": "1ca02c13",
   "metadata": {},
   "source": [
    "Using `delegates??` to get its source code\n",
    "\n",
    "```python\n",
    "def delegates(to=None, keep=False, but=None):\n",
    "    \"Decorator: replace `**kwargs` in signature with params from `to`\"\n",
    "    if but is None: but = []\n",
    "    def _f(f):\n",
    "        if to is None: to_f,from_f = f.__base__.__init__,f.__init__\n",
    "        else:          to_f,from_f = to.__init__ if isinstance(to,type) else to,f\n",
    "        from_f = getattr(from_f,'__func__',from_f)\n",
    "        to_f = getattr(to_f,'__func__',to_f)\n",
    "        if hasattr(from_f,'__delwrap__'): return f\n",
    "        sig = inspect.signature(from_f)\n",
    "        sigd = dict(sig.parameters)\n",
    "        k = sigd.pop('kwargs')\n",
    "        s2 = {k:v for k,v in inspect.signature(to_f).parameters.items()\n",
    "              if v.default != inspect.Parameter.empty and k not in sigd and k not in but}\n",
    "        sigd.update(s2)\n",
    "        if keep: sigd['kwargs'] = k\n",
    "        else: from_f.__delwrap__ = to_f\n",
    "        from_f.__signature__ = sig.replace(parameters=sigd.values())\n",
    "        return f\n",
    "    return _f\n",
    "```"
   ]
  },
  {
   "cell_type": "code",
   "execution_count": null,
   "id": "d31af6e5",
   "metadata": {},
   "outputs": [],
   "source": [
    "def low(a:int, b:int=1): return a + b\n",
    "def mid(c:int, d:int=1, **kwargs): return low(c, **kwargs) + d"
   ]
  },
  {
   "cell_type": "code",
   "execution_count": null,
   "id": "2d11b0c4",
   "metadata": {},
   "outputs": [
    {
     "name": "stdout",
     "output_type": "stream",
     "text": [
      "3\n"
     ]
    },
    {
     "data": {
      "text/plain": [
       "<Signature (c: int, d: int = 1, **kwargs)>"
      ]
     },
     "execution_count": null,
     "metadata": {},
     "output_type": "execute_result"
    }
   ],
   "source": [
    "print(mid(1))\n",
    "inspect.signature(mid)"
   ]
  },
  {
   "cell_type": "code",
   "execution_count": null,
   "id": "689e79ad",
   "metadata": {},
   "outputs": [
    {
     "name": "stdout",
     "output_type": "stream",
     "text": [
      "3\n"
     ]
    },
    {
     "data": {
      "text/plain": [
       "<Signature (c: int, d: int = 1, *, b: int = 1)>"
      ]
     },
     "execution_count": null,
     "metadata": {},
     "output_type": "execute_result"
    }
   ],
   "source": [
    "_f = delegates(low)\n",
    "mid = _f(mid)\n",
    "print(mid(1))\n",
    "\n",
    "inspect.signature(mid)"
   ]
  },
  {
   "cell_type": "markdown",
   "id": "518fb30b",
   "metadata": {},
   "source": [
    "`@delegates(low)` is equivalent to the first two lines in cell above"
   ]
  },
  {
   "cell_type": "markdown",
   "id": "78917c64",
   "metadata": {},
   "source": [
    "### The anatomy of `delegates`"
   ]
  },
  {
   "cell_type": "markdown",
   "id": "cfb64ad6",
   "metadata": {},
   "source": [
    "#### Examples"
   ]
  },
  {
   "cell_type": "markdown",
   "id": "4cf634ef",
   "metadata": {},
   "source": [
    "Function example"
   ]
  },
  {
   "cell_type": "code",
   "execution_count": null,
   "id": "9efc414d",
   "metadata": {},
   "outputs": [],
   "source": [
    "def low(a:int, b:int=1): return a + b\n",
    "def mid(c:int, d:int=1, **kwargs): return low(c, **kwargs) + d\n",
    "def high(e:int, f:int=1, **kwargs): return mid(e, **kwargs) + f"
   ]
  },
  {
   "cell_type": "markdown",
   "id": "259dcbb3",
   "metadata": {},
   "source": [
    "Class example"
   ]
  },
  {
   "cell_type": "code",
   "execution_count": null,
   "id": "427204d8",
   "metadata": {},
   "outputs": [],
   "source": [
    "class BaseFoo:\n",
    "    def __init__(self, e, c=2): pass\n",
    "\n",
    "class OtherFoo:\n",
    "    def __init__(self, d, f=1): pass\n",
    "\n",
    "class Foo(BaseFoo):\n",
    "    def __init__(self, a, b=1, **kwargs): super().__init__(**kwargs)"
   ]
  },
  {
   "cell_type": "markdown",
   "id": "778bcc34",
   "metadata": {},
   "source": [
    "```python\n",
    "def delegates(to=None, keep=False, but=None):\n",
    "    \"Decorator: replace `**kwargs` in signature with params from `to`\"\n",
    "    if but is None: but = []\n",
    "    def _f(f):\n",
    "        if to is None: to_f,from_f = f.__base__.__init__,f.__init__\n",
    "        else:          to_f,from_f = to.__init__ if isinstance(to,type) else to,f\n",
    "        from_f = getattr(from_f,'__func__',from_f)\n",
    "        to_f = getattr(to_f,'__func__',to_f)\n",
    "        if hasattr(from_f,'__delwrap__'): return f\n",
    "        sig = inspect.signature(from_f)\n",
    "        sigd = dict(sig.parameters)\n",
    "        k = sigd.pop('kwargs')\n",
    "        s2 = {k:v for k,v in inspect.signature(to_f).parameters.items()\n",
    "              if v.default != inspect.Parameter.empty and k not in sigd and k not in but}\n",
    "        sigd.update(s2)\n",
    "        if keep: sigd['kwargs'] = k\n",
    "        else: from_f.__delwrap__ = to_f\n",
    "        from_f.__signature__ = sig.replace(parameters=sigd.values())\n",
    "        return f\n",
    "    return _f\n",
    "```"
   ]
  },
  {
   "cell_type": "markdown",
   "id": "1c5a05cb",
   "metadata": {},
   "source": [
    "#### Params and inputs"
   ]
  },
  {
   "cell_type": "markdown",
   "id": "3af05af6",
   "metadata": {},
   "source": [
    "```python\n",
    "def delegates(to=None, keep=False, but=None):\n",
    "    \"Decorator: replace `**kwargs` in signature with params from `to`\"\n",
    "    if but is None: but = []\n",
    "```"
   ]
  },
  {
   "cell_type": "code",
   "execution_count": null,
   "id": "02d24da1",
   "metadata": {},
   "outputs": [],
   "source": [
    "# def delegates(to=None, keep=False, but=None):\n",
    "#     \"Decorator: replace `**kwargs` in signature with params from `to`\"\n",
    "to=mid     # `to` is the func to delegate its kwargs with default values to `f` func\n",
    "keep=False # whether to keep `**kwargs` inside `f` signature or not\n",
    "but=None   # which default kwargs to remove from `f` signature\n",
    "if but is None: but = [] # if not None, but should be a list type"
   ]
  },
  {
   "cell_type": "markdown",
   "id": "a0d0645d",
   "metadata": {},
   "source": [
    "#### Prepare `to` and `f`"
   ]
  },
  {
   "cell_type": "markdown",
   "id": "f10db246",
   "metadata": {},
   "source": [
    "```python\n",
    "...\n",
    "    def _f(f):\n",
    "        if to is None: to_f,from_f = f.__base__.__init__,f.__init__\n",
    "        else:          to_f,from_f = to.__init__ if isinstance(to,type) else to,f\n",
    "        from_f = getattr(from_f,'__func__',from_f)\n",
    "        to_f = getattr(to_f,'__func__',to_f)\n",
    "        ....\n",
    "```"
   ]
  },
  {
   "cell_type": "markdown",
   "id": "ff62797c",
   "metadata": {},
   "source": [
    "What can `to` and `f` be?\n",
    "- function\n",
    "- class method, instant method\n",
    "- class\n",
    "- type?"
   ]
  },
  {
   "cell_type": "markdown",
   "id": "4d7d687b",
   "metadata": {},
   "source": [
    "When dealing with class and superclass"
   ]
  },
  {
   "cell_type": "code",
   "execution_count": null,
   "id": "d73c2fbd",
   "metadata": {},
   "outputs": [
    {
     "data": {
      "text/plain": [
       "(<function __main__.BaseFoo.__init__(self, e, c=2)>,\n",
       " <function __main__.Foo.__init__(self, a, b=1, **kwargs)>)"
      ]
     },
     "execution_count": null,
     "metadata": {},
     "output_type": "execute_result"
    }
   ],
   "source": [
    "to = None\n",
    "f = Foo\n",
    "if to is None: to_f,from_f = f.__base__.__init__,f.__init__ # use delegates on class\n",
    "to_f, from_f"
   ]
  },
  {
   "cell_type": "markdown",
   "id": "79a72a6d",
   "metadata": {},
   "source": [
    "#### how-attr: get attr by name or else: `getattr`"
   ]
  },
  {
   "cell_type": "code",
   "execution_count": null,
   "id": "896365d7",
   "metadata": {},
   "outputs": [
    {
     "data": {
      "text/plain": [
       "(<function __main__.BaseFoo.__init__(self, e, c=2)>,\n",
       " <function __main__.Foo.__init__(self, a, b=1, **kwargs)>)"
      ]
     },
     "execution_count": null,
     "metadata": {},
     "output_type": "execute_result"
    }
   ],
   "source": [
    "from_f = getattr(from_f,'__func__',from_f)\n",
    "to_f = getattr(to_f,'__func__',to_f); to_f, from_f"
   ]
  },
  {
   "cell_type": "markdown",
   "id": "45f88fc4",
   "metadata": {},
   "source": [
    "#### how-code: assign values to a tuple `else: to_f,from_f = to.__init__ if isinstance(to,type) else to,f`"
   ]
  },
  {
   "cell_type": "code",
   "execution_count": null,
   "id": "ebbc1a98",
   "metadata": {},
   "outputs": [
    {
     "name": "stdout",
     "output_type": "stream",
     "text": [
      "3 34 34\n"
     ]
    }
   ],
   "source": [
    "to = 1\n",
    "f = 34\n",
    "if True: to_f,from_f = 3 if to == 1 else to,f \n",
    "print(to_f, from_f, f)"
   ]
  },
  {
   "cell_type": "code",
   "execution_count": null,
   "id": "5df42dc7",
   "metadata": {},
   "outputs": [
    {
     "name": "stdout",
     "output_type": "stream",
     "text": [
      "3 34 34\n"
     ]
    }
   ],
   "source": [
    "to = 1\n",
    "f = 34\n",
    "if True: \n",
    "    if to == 1: \n",
    "        to_f = 3\n",
    "        from_f = f\n",
    "    else: \n",
    "        to_f = to\n",
    "        from_f = f\n",
    "print(to_f, from_f, f)"
   ]
  },
  {
   "cell_type": "markdown",
   "id": "170e9853",
   "metadata": {},
   "source": [
    "#### how-class: check object is a class `isinstance(to, type) == True`\n",
    "how-type: learn more of [type](https://hyp.is/nean3hlREe2QFO-_fpoP7g/stackoverflow.com/questions/100003/what-are-metaclasses-in-python)"
   ]
  },
  {
   "cell_type": "code",
   "execution_count": null,
   "id": "0ed15280",
   "metadata": {},
   "outputs": [
    {
     "name": "stdout",
     "output_type": "stream",
     "text": [
      "True\n"
     ]
    },
    {
     "data": {
      "text/plain": [
       "(<function __main__.OtherFoo.__init__(self, d, f=1)>, __main__.Foo)"
      ]
     },
     "execution_count": null,
     "metadata": {},
     "output_type": "execute_result"
    }
   ],
   "source": [
    "to = OtherFoo\n",
    "f = Foo\n",
    "print(isinstance(to,type))\n",
    "# if isinstance(to,type): to_f,from_f = to.__init__ \n",
    "if to is None: to_f,from_f = f.__base__.__init__,f.__init__ # use delegates on class\n",
    "else:          to_f,from_f = to.__init__ if isinstance(to,type) else to,f \n",
    "to_f, from_f"
   ]
  },
  {
   "cell_type": "code",
   "execution_count": null,
   "id": "ed6937c7",
   "metadata": {},
   "outputs": [
    {
     "data": {
      "text/plain": [
       "(<function __main__.OtherFoo.__init__(self, d, f=1)>, __main__.Foo)"
      ]
     },
     "execution_count": null,
     "metadata": {},
     "output_type": "execute_result"
    }
   ],
   "source": [
    "from_f = getattr(from_f,'__func__',from_f)\n",
    "to_f = getattr(to_f,'__func__',to_f);  to_f, from_f"
   ]
  },
  {
   "cell_type": "markdown",
   "id": "1f0f64bc",
   "metadata": {},
   "source": [
    "Working with function"
   ]
  },
  {
   "cell_type": "code",
   "execution_count": null,
   "id": "7414ef3c",
   "metadata": {},
   "outputs": [
    {
     "data": {
      "text/plain": [
       "(<function __main__.low(a: int, b: int = 1)>,\n",
       " <function __main__.mid(c: int, d: int = 1, **kwargs)>)"
      ]
     },
     "execution_count": null,
     "metadata": {},
     "output_type": "execute_result"
    }
   ],
   "source": [
    "# def _f(f):\n",
    "to = low\n",
    "f = mid\n",
    "if to is None: to_f,from_f = f.__base__.__init__,f.__init__ # use delegates on class\n",
    "else:          to_f,from_f = to.__init__ if isinstance(to,type) else to,f \n",
    "                                         # secret use of delegates on type\n",
    "                                         # finally delegates on functions\n",
    "to_f, from_f"
   ]
  },
  {
   "cell_type": "code",
   "execution_count": null,
   "id": "5e7ca998",
   "metadata": {},
   "outputs": [
    {
     "data": {
      "text/plain": [
       "(<function __main__.low(a: int, b: int = 1)>,\n",
       " <function __main__.mid(c: int, d: int = 1, **kwargs)>)"
      ]
     },
     "execution_count": null,
     "metadata": {},
     "output_type": "execute_result"
    }
   ],
   "source": [
    "from_f = getattr(from_f,'__func__',from_f)\n",
    "to_f = getattr(to_f,'__func__',to_f);  to_f, from_f"
   ]
  },
  {
   "cell_type": "markdown",
   "id": "2fee536c",
   "metadata": {},
   "source": [
    "#### Make sure no delegates apply to `f` without `**kwargs`\n",
    "\n",
    "see when `__delwrap__` attr is set below."
   ]
  },
  {
   "cell_type": "markdown",
   "id": "67d6fa8d",
   "metadata": {},
   "source": [
    "```python\n",
    "if hasattr(from_f,'__delwrap__'): return f # don't do it more than once\n",
    "```"
   ]
  },
  {
   "cell_type": "markdown",
   "id": "ad03f23b",
   "metadata": {},
   "source": [
    "#### How-attr: whether a function has an attr or not: `hasattr`"
   ]
  },
  {
   "cell_type": "code",
   "execution_count": null,
   "id": "47403058",
   "metadata": {},
   "outputs": [
    {
     "data": {
      "text/plain": [
       "True"
      ]
     },
     "execution_count": null,
     "metadata": {},
     "output_type": "execute_result"
    }
   ],
   "source": [
    "hasattr(from_f,'__delwrap__') == False"
   ]
  },
  {
   "cell_type": "code",
   "execution_count": null,
   "id": "be751b67",
   "metadata": {},
   "outputs": [
    {
     "name": "stdout",
     "output_type": "stream",
     "text": [
      "<Signature (c: int, d: int = 1, **kwargs)>\n"
     ]
    },
    {
     "data": {
      "text/plain": [
       "True"
      ]
     },
     "execution_count": null,
     "metadata": {},
     "output_type": "execute_result"
    }
   ],
   "source": [
    "pprint(inspect.signature(from_f))\n",
    "hasattr(from_f,'__signature__') == False"
   ]
  },
  {
   "cell_type": "markdown",
   "id": "f31f9c06",
   "metadata": {},
   "source": [
    "Function Example"
   ]
  },
  {
   "cell_type": "code",
   "execution_count": null,
   "id": "12b526f1",
   "metadata": {},
   "outputs": [
    {
     "data": {
      "text/plain": [
       "<Signature (c, d: int = 1, *, b: int = 1)>"
      ]
     },
     "execution_count": null,
     "metadata": {},
     "output_type": "execute_result"
    }
   ],
   "source": [
    "def low(a, b:int=1): pass\n",
    "@delegates(low)\n",
    "def mid(c, d:int=1, **kwargs): pass\n",
    "inspect.signature(mid)"
   ]
  },
  {
   "cell_type": "code",
   "execution_count": null,
   "id": "98de8a27",
   "metadata": {},
   "outputs": [
    {
     "data": {
      "text/plain": [
       "(<function __main__.low(a, b: int = 1)>, True)"
      ]
     },
     "execution_count": null,
     "metadata": {},
     "output_type": "execute_result"
    }
   ],
   "source": [
    "mid.__delwrap__, hasattr(mid, '__delwrap__')"
   ]
  },
  {
   "cell_type": "markdown",
   "id": "85806550",
   "metadata": {},
   "source": [
    "Class Example"
   ]
  },
  {
   "cell_type": "code",
   "execution_count": null,
   "id": "76d4e86a",
   "metadata": {},
   "outputs": [
    {
     "data": {
      "text/plain": [
       "<Signature (a, b=1, *, c=2)>"
      ]
     },
     "execution_count": null,
     "metadata": {},
     "output_type": "execute_result"
    }
   ],
   "source": [
    "class BaseFoo:\n",
    "    def __init__(self, e, c=2): pass\n",
    "\n",
    "@delegates()# since no argument was passsed here we delegate to the superclass\n",
    "class Foo(BaseFoo):\n",
    "    def __init__(self, a, b=1, **kwargs): super().__init__(**kwargs)\n",
    "        \n",
    "inspect.signature(Foo)"
   ]
  },
  {
   "cell_type": "code",
   "execution_count": null,
   "id": "d37ef888",
   "metadata": {},
   "outputs": [
    {
     "data": {
      "text/plain": [
       "(<function __main__.BaseFoo.__init__(self, e, c=2)>, True)"
      ]
     },
     "execution_count": null,
     "metadata": {},
     "output_type": "execute_result"
    }
   ],
   "source": [
    "Foo.__init__.__delwrap__, hasattr(Foo.__init__, '__delwrap__')"
   ]
  },
  {
   "cell_type": "markdown",
   "id": "a9bbe04d",
   "metadata": {},
   "source": [
    "#### apply `fastcore.delegates` multiple times to a func when `keep=True`\n",
    "\n",
    "You could do it with no `@`, but no useful usecases for it."
   ]
  },
  {
   "cell_type": "code",
   "execution_count": null,
   "id": "e9b5dc86",
   "metadata": {},
   "outputs": [
    {
     "data": {
      "text/plain": [
       "<Signature (c, d: int = 1, **kwargs)>"
      ]
     },
     "execution_count": null,
     "metadata": {},
     "output_type": "execute_result"
    }
   ],
   "source": [
    "def low(a, b:int=1): pass\n",
    "def mid(c, d:int=1, **kwargs): pass\n",
    "inspect.signature(mid)"
   ]
  },
  {
   "cell_type": "code",
   "execution_count": null,
   "id": "75a8eda1",
   "metadata": {},
   "outputs": [],
   "source": [
    "mid1 = delegates(low, keep=True)(mid)\n",
    "test_sig(mid, '(c, d: int = 1, *, b: int = 1, **kwargs)')\n",
    "def low1(a1, b1:int=1): pass\n",
    "mid2 = delegates(low1, keep=True)(mid)\n",
    "test_sig(mid, '(c, d: int = 1, *, b: int = 1, b1: int = 1, **kwargs)')"
   ]
  },
  {
   "cell_type": "markdown",
   "id": "d090de42",
   "metadata": {},
   "source": [
    "#### Remove `**kwargs` and add kwargs with default"
   ]
  },
  {
   "cell_type": "markdown",
   "id": "dd4c63e5",
   "metadata": {},
   "source": [
    "```python\n",
    "...\n",
    "    def _f(f):\n",
    "        ...\n",
    "        \n",
    "        sig = inspect.signature(from_f)\n",
    "        sigd = dict(sig.parameters)\n",
    "        k = sigd.pop('kwargs')\n",
    "        s2 = {k:v for k,v in inspect.signature(to_f).parameters.items()\n",
    "              if v.default != inspect.Parameter.empty and k not in sigd and k not in but}\n",
    "        sigd.update(s2)\n",
    "\n",
    "        ...\n",
    "        return f\n",
    "    return _f\n",
    "```"
   ]
  },
  {
   "cell_type": "markdown",
   "id": "8c6cc598",
   "metadata": {},
   "source": [
    "#### how-dict: pop out an item by key name `**kwargs`"
   ]
  },
  {
   "cell_type": "code",
   "execution_count": null,
   "id": "89bdf4a4",
   "metadata": {},
   "outputs": [
    {
     "name": "stdout",
     "output_type": "stream",
     "text": [
      "(c: int, d: int = 1, **kwargs) \n",
      "\n",
      "{'c': <Parameter \"c: int\">,\n",
      " 'd': <Parameter \"d: int = 1\">,\n",
      " 'kwargs': <Parameter \"**kwargs\">}\n",
      "\n",
      "<Parameter \"**kwargs\">\n",
      "<Signature (c: int, d: int = 1, **kwargs)>\n",
      "{'c': <Parameter \"c: int\">, 'd': <Parameter \"d: int = 1\">}\n"
     ]
    }
   ],
   "source": [
    "sig = inspect.signature(from_f) # get signature\n",
    "print(sig, \"\\n\")\n",
    "\n",
    "sigd = dict(sig.parameters) # turn signature into a dict\n",
    "pprint(sigd)\n",
    "k = sigd.pop('kwargs') # take **kwargs parameter out of the dict and keep it\n",
    "\n",
    "print(\"\")\n",
    "pprint(k) # **kwargs parameter\n",
    "pprint(sig) # unchanged\n",
    "pprint(sigd) # changed"
   ]
  },
  {
   "cell_type": "markdown",
   "id": "99d08925",
   "metadata": {},
   "source": [
    "#### how-try-except: When `f` has no `**kwargs`, KeyError occurs"
   ]
  },
  {
   "cell_type": "code",
   "execution_count": null,
   "id": "ec03e150",
   "metadata": {},
   "outputs": [
    {
     "name": "stdout",
     "output_type": "stream",
     "text": [
      "when mid has no **kwargs parameter in its signature, fastcore.delegates will throw an KeyError: 'kwargs'\n"
     ]
    }
   ],
   "source": [
    "def low(a, b:int=1): pass\n",
    "\n",
    "try:\n",
    "    @delegates(low)\n",
    "    def mid(c, d:int=1): pass\n",
    "except KeyError as e:\n",
    "    print(f\"when mid has no **kwargs parameter in its signature, fastcore.delegates will throw an KeyError: {e}\")"
   ]
  },
  {
   "cell_type": "markdown",
   "id": "fac7587f",
   "metadata": {},
   "source": [
    "#### get default kwargs from `to`"
   ]
  },
  {
   "cell_type": "markdown",
   "id": "0afb2aa7",
   "metadata": {},
   "source": [
    "Those kwargs must meet 3 conditions\n",
    "- have default values or `!= inspect.Parameter.empty`\n",
    "- not conflict with parameters in `f`\n",
    "- not in the list of `but`"
   ]
  },
  {
   "cell_type": "code",
   "execution_count": null,
   "id": "3d75036b",
   "metadata": {},
   "outputs": [
    {
     "name": "stdout",
     "output_type": "stream",
     "text": [
      "mappingproxy(OrderedDict([('c', <Parameter \"c\">),\n",
      "                          ('d', <Parameter \"d: int = 1\">),\n",
      "                          ('kwargs', <Parameter \"**kwargs\">)]))\n"
     ]
    },
    {
     "data": {
      "text/plain": [
       "{'e': <Parameter \"e: int = 1\">}"
      ]
     },
     "execution_count": null,
     "metadata": {},
     "output_type": "execute_result"
    }
   ],
   "source": [
    "def low(a, b:int=1, c:int=2, e:int=1): pass\n",
    "def mid(c, d:int=1, **kwargs): pass\n",
    "to_f = low\n",
    "sig = inspect.signature(mid)\n",
    "pprint(sig.parameters)\n",
    "sigd = dict(sig.parameters) # Note: sig.parameters\n",
    "k = sigd.pop(\"kwargs\")\n",
    "but = ['b']\n",
    "s2 = {k:v for k,v in inspect.signature(to_f).parameters.items()\n",
    "      if v.default != inspect.Parameter.empty and k not in sigd and k not in but}; \n",
    "s2 # is empty dict because c is part of `mid` too, b is in the `but` list"
   ]
  },
  {
   "cell_type": "markdown",
   "id": "266a8a9d",
   "metadata": {},
   "source": [
    "#### how-inspect.Signature: replace parameter's kind to `Parameter.KEYWORD_ONLY`"
   ]
  },
  {
   "cell_type": "code",
   "execution_count": null,
   "id": "554c5ed0",
   "metadata": {},
   "outputs": [
    {
     "data": {
      "text/plain": [
       "<_ParameterKind.KEYWORD_ONLY: 3>"
      ]
     },
     "execution_count": null,
     "metadata": {},
     "output_type": "execute_result"
    }
   ],
   "source": [
    "s2 = {name: param.replace(kind=inspect.Parameter.KEYWORD_ONLY) for name, param in s2.items()} \n",
    "s2['e'].kind   \n",
    "    "
   ]
  },
  {
   "cell_type": "markdown",
   "id": "090b6117",
   "metadata": {},
   "source": [
    "#### how-inspect.Parameter: empty default value with `inspect.Parameter.empty`"
   ]
  },
  {
   "cell_type": "markdown",
   "id": "f11bb9e3",
   "metadata": {},
   "source": [
    "```python\n",
    "if v.default != inspect.Parameter.empty\n",
    "```"
   ]
  },
  {
   "cell_type": "markdown",
   "id": "a9de152f",
   "metadata": {},
   "source": [
    "#### how-dict: update: add additional items into a dict"
   ]
  },
  {
   "cell_type": "code",
   "execution_count": null,
   "id": "eeb988e6",
   "metadata": {},
   "outputs": [
    {
     "data": {
      "text/plain": [
       "{'c': <Parameter \"c\">,\n",
       " 'd': <Parameter \"d: int = 1\">,\n",
       " 'e': <Parameter \"e: int = 1\">}"
      ]
     },
     "execution_count": null,
     "metadata": {},
     "output_type": "execute_result"
    }
   ],
   "source": [
    "sigd.update(s2); sigd"
   ]
  },
  {
   "cell_type": "markdown",
   "id": "d06d6e2f",
   "metadata": {},
   "source": [
    "#### If `keep=True`, then add `**kwargs` back to `from_f`'s signature"
   ]
  },
  {
   "cell_type": "markdown",
   "id": "100663b7",
   "metadata": {},
   "source": [
    "```python\n",
    "...\n",
    "    def _f(f):\n",
    "        ...\n",
    "        if keep: sigd['kwargs'] = k\n",
    "        else: from_f.__delwrap__ = to_f\n",
    "        from_f.__signature__ = sig.replace(parameters=sigd.values())\n",
    "        return f\n",
    "    return _f\n",
    "```"
   ]
  },
  {
   "cell_type": "code",
   "execution_count": null,
   "id": "3c9c2cc4",
   "metadata": {},
   "outputs": [
    {
     "data": {
      "text/plain": [
       "False"
      ]
     },
     "execution_count": null,
     "metadata": {},
     "output_type": "execute_result"
    }
   ],
   "source": [
    "def low(a, b=1): pass\n",
    "def mid(c, d, **kwargs): pass\n",
    "hasattr(mid, '__signature__')"
   ]
  },
  {
   "cell_type": "code",
   "execution_count": null,
   "id": "2715e4dd",
   "metadata": {},
   "outputs": [
    {
     "data": {
      "text/plain": [
       "True"
      ]
     },
     "execution_count": null,
     "metadata": {},
     "output_type": "execute_result"
    }
   ],
   "source": [
    "def low(a, b=1): pass\n",
    "@delegates(low)\n",
    "def mid(c, d, **kwargs): pass\n",
    "hasattr(mid, '__signature__')"
   ]
  },
  {
   "cell_type": "markdown",
   "id": "c09fc36c",
   "metadata": {},
   "source": [
    "#### If `keep=False`, do `from_f.setattr(\"__delwrap__\", to_f)`"
   ]
  },
  {
   "cell_type": "markdown",
   "id": "7447fe67",
   "metadata": {},
   "source": [
    "#### how-attr: two ways of setting attr: `setattr` or `from_f.__signature__= ...`"
   ]
  },
  {
   "cell_type": "code",
   "execution_count": null,
   "id": "53bebccd",
   "metadata": {},
   "outputs": [
    {
     "name": "stdout",
     "output_type": "stream",
     "text": [
      "'function' object has no attribute '__delwrap__'\n"
     ]
    },
    {
     "data": {
      "text/plain": [
       "(<function __main__.low(a, b: int = 1, c: int = 2, e: int = 1)>,\n",
       " <function __main__.mid(c: int, d: int = 1, **kwargs)>)"
      ]
     },
     "execution_count": null,
     "metadata": {},
     "output_type": "execute_result"
    }
   ],
   "source": [
    "try: \n",
    "    from_f.__delwrap__\n",
    "except AttributeError as e:\n",
    "    print(e)\n",
    "    \n",
    "to_f, from_f"
   ]
  },
  {
   "cell_type": "code",
   "execution_count": null,
   "id": "a141a3fc",
   "metadata": {},
   "outputs": [
    {
     "data": {
      "text/plain": [
       "<function __main__.low(a, b: int = 1, c: int = 2, e: int = 1)>"
      ]
     },
     "execution_count": null,
     "metadata": {},
     "output_type": "execute_result"
    }
   ],
   "source": [
    "keep = False\n",
    "if keep == False: from_f.__delwrap__ = to_f # another way to set attr\n",
    "from_f.__delwrap__"
   ]
  },
  {
   "cell_type": "markdown",
   "id": "766b953b",
   "metadata": {},
   "source": [
    "#### how-attr: set and delete an attr"
   ]
  },
  {
   "cell_type": "code",
   "execution_count": null,
   "id": "cb2706ff",
   "metadata": {},
   "outputs": [
    {
     "name": "stdout",
     "output_type": "stream",
     "text": [
      "a\n",
      "b\n",
      "no more\n"
     ]
    }
   ],
   "source": [
    "def tst(): pass\n",
    "tst.__setattr__(\"__delwrap__\", \"a\")\n",
    "print(tst.__delwrap__)\n",
    "tst.__delwrap__ = \"b\"\n",
    "print(tst.__delwrap__)\n",
    "tst.__delattr__(\"__delwrap__\")\n",
    "try: \n",
    "    print(tst.__delwrap__)\n",
    "except: \n",
    "    print(\"no more\")"
   ]
  },
  {
   "cell_type": "markdown",
   "id": "7e947d0f",
   "metadata": {},
   "source": [
    "#### Replace the new args dict with the old args in the signature of `from_f`"
   ]
  },
  {
   "cell_type": "code",
   "execution_count": null,
   "id": "4db59f65",
   "metadata": {},
   "outputs": [
    {
     "data": {
      "text/plain": [
       "{'c': <Parameter \"c\">,\n",
       " 'd': <Parameter \"d: int = 1\">,\n",
       " 'e': <Parameter \"e: int = 1\">}"
      ]
     },
     "execution_count": null,
     "metadata": {},
     "output_type": "execute_result"
    }
   ],
   "source": [
    "sigd"
   ]
  },
  {
   "cell_type": "markdown",
   "id": "9850a8be",
   "metadata": {},
   "source": [
    "#### how-dict: get all items (key and value) of a dict"
   ]
  },
  {
   "cell_type": "code",
   "execution_count": null,
   "id": "8904eee9",
   "metadata": {},
   "outputs": [
    {
     "data": {
      "text/plain": [
       "dict_items([('c', <Parameter \"c\">), ('d', <Parameter \"d: int = 1\">), ('e', <Parameter \"e: int = 1\">)])"
      ]
     },
     "execution_count": null,
     "metadata": {},
     "output_type": "execute_result"
    }
   ],
   "source": [
    "sigd.items()"
   ]
  },
  {
   "cell_type": "markdown",
   "id": "5c5adfd6",
   "metadata": {},
   "source": [
    "#### how-dict: get only values of a dict"
   ]
  },
  {
   "cell_type": "code",
   "execution_count": null,
   "id": "887cfe0a",
   "metadata": {},
   "outputs": [
    {
     "data": {
      "text/plain": [
       "dict_values([<Parameter \"c\">, <Parameter \"d: int = 1\">, <Parameter \"e: int = 1\">])"
      ]
     },
     "execution_count": null,
     "metadata": {},
     "output_type": "execute_result"
    }
   ],
   "source": [
    "sigd.values()"
   ]
  },
  {
   "cell_type": "markdown",
   "id": "5ed1b6df",
   "metadata": {},
   "source": [
    "#### how-inspect: getdoc and Signature.replace"
   ]
  },
  {
   "cell_type": "code",
   "execution_count": null,
   "id": "5b377c46",
   "metadata": {},
   "outputs": [
    {
     "name": "stdout",
     "output_type": "stream",
     "text": [
      "('Creates a customized copy of the Signature.\\n'\n",
      " \"Pass 'parameters' and/or 'return_annotation' arguments\\n\"\n",
      " 'to override them in the new copy.')\n"
     ]
    }
   ],
   "source": [
    "pprint(inspect.getdoc(sig.replace))"
   ]
  },
  {
   "cell_type": "code",
   "execution_count": null,
   "id": "e139dc60",
   "metadata": {},
   "outputs": [
    {
     "name": "stdout",
     "output_type": "stream",
     "text": [
      "'function' object has no attribute '__signature__'\n"
     ]
    },
    {
     "data": {
      "text/plain": [
       "<function __main__.mid(c: int, d: int = 1, **kwargs)>"
      ]
     },
     "execution_count": null,
     "metadata": {},
     "output_type": "execute_result"
    }
   ],
   "source": [
    "try:\n",
    "    from_f.__signature__\n",
    "except AttributeError as e:\n",
    "    print(e)\n",
    "\n",
    "from_f"
   ]
  },
  {
   "cell_type": "code",
   "execution_count": null,
   "id": "4bbed850",
   "metadata": {},
   "outputs": [
    {
     "name": "stdout",
     "output_type": "stream",
     "text": [
      "<Signature (c, d: int = 1, *, e: int = 1)>\n"
     ]
    }
   ],
   "source": [
    "from_f.__signature__ = sig.replace(parameters=sigd.values())\n",
    "pprint(from_f.__signature__)"
   ]
  },
  {
   "cell_type": "code",
   "execution_count": null,
   "id": "ed2824d2",
   "metadata": {},
   "outputs": [
    {
     "data": {
      "text/plain": [
       "<function __main__.mid(c, d: int = 1, *, e: int = 1)>"
      ]
     },
     "execution_count": null,
     "metadata": {},
     "output_type": "execute_result"
    }
   ],
   "source": [
    "from_f"
   ]
  },
  {
   "cell_type": "code",
   "execution_count": null,
   "id": "d17655bf",
   "metadata": {},
   "outputs": [],
   "source": [
    "# return _f"
   ]
  },
  {
   "cell_type": "markdown",
   "id": "6ceaae9f",
   "metadata": {},
   "source": [
    "### problem-delegates: What may go wrong when `keep=True` and func `low` has no `**kwargs`"
   ]
  },
  {
   "cell_type": "code",
   "execution_count": null,
   "id": "bee8da54",
   "metadata": {},
   "outputs": [],
   "source": [
    "def low(a:int,   \n",
    "        b:int=1, \n",
    "       ):\n",
    "    print(\"the locals of low: \")\n",
    "    pprint(locals())\n",
    "    return a + b\n",
    "\n",
    "@delegates(low)\n",
    "def mid(c:int,   \n",
    "        d:int=1, \n",
    "        **kwargs \n",
    "       ):\n",
    "    print(\"the locals of mid: \")\n",
    "    pprint(locals())\n",
    "    return low(c, **kwargs) + d\n",
    "\n",
    "@delegates(mid)\n",
    "def high(e:int,   \n",
    "         f:int=1, \n",
    "         **kwargs \n",
    "        ):\n",
    "    print(\"the locals of high: \")\n",
    "    pprint(locals())\n",
    "    return mid(e, **kwargs) + f"
   ]
  },
  {
   "cell_type": "code",
   "execution_count": null,
   "id": "05039d23",
   "metadata": {},
   "outputs": [
    {
     "name": "stdout",
     "output_type": "stream",
     "text": [
      "the locals of mid: \n",
      "{'c': 2, 'd': 1, 'kwargs': {'b': 1}}\n",
      "the locals of low: \n",
      "{'a': 2, 'b': 1}\n"
     ]
    },
    {
     "data": {
      "text/plain": [
       "4"
      ]
     },
     "execution_count": null,
     "metadata": {},
     "output_type": "execute_result"
    }
   ],
   "source": [
    "mid(c=2,d=1,b=1) # use shift + tab"
   ]
  },
  {
   "cell_type": "code",
   "execution_count": null,
   "id": "31990b4c",
   "metadata": {},
   "outputs": [
    {
     "name": "stdout",
     "output_type": "stream",
     "text": [
      "the locals of high: \n",
      "{'e': 2, 'f': 1, 'kwargs': {'b': 1, 'd': 1}}\n",
      "the locals of mid: \n",
      "{'c': 2, 'd': 1, 'kwargs': {'b': 1}}\n",
      "the locals of low: \n",
      "{'a': 2, 'b': 1}\n"
     ]
    },
    {
     "data": {
      "text/plain": [
       "5"
      ]
     },
     "execution_count": null,
     "metadata": {},
     "output_type": "execute_result"
    }
   ],
   "source": [
    "high(e=2,f=1,d=1,b=1) "
   ]
  },
  {
   "cell_type": "markdown",
   "id": "58be61a4",
   "metadata": {},
   "source": [
    "When `keep=True`, we can assume the user of `delegates` would like to make `**kwargs` visible and use additional keyword args at some point. \n",
    "\n",
    "But when `low` has no `**kwargs`, and any additional kwargs (e.g. `g=1`) introduced will cause `low`to throw a TypeError. See example below."
   ]
  },
  {
   "cell_type": "code",
   "execution_count": null,
   "id": "a690db64",
   "metadata": {},
   "outputs": [],
   "source": [
    "def low(a:int,   \n",
    "        b:int=1, \n",
    "       ):\n",
    "    print(\"the locals of low: \")\n",
    "    pprint(locals())\n",
    "    return a + b\n",
    "@delegates(low, keep=True)\n",
    "def mid(c:int,   \n",
    "        d:int=1, \n",
    "        **kwargs \n",
    "       ):\n",
    "    print(\"the locals of mid: \")\n",
    "    pprint(locals())\n",
    "    return low(c, **kwargs) + d\n",
    "@delegates(mid, keep=True)\n",
    "def high(e:int,   \n",
    "         f:int=1, \n",
    "         **kwargs \n",
    "        ):\n",
    "    print(\"the locals of high: \")\n",
    "    pprint(locals())\n",
    "    return mid(e, **kwargs) + f"
   ]
  },
  {
   "cell_type": "code",
   "execution_count": null,
   "id": "773a5bca",
   "metadata": {},
   "outputs": [
    {
     "name": "stdout",
     "output_type": "stream",
     "text": [
      "the locals of high: \n",
      "{'e': 2, 'f': 1, 'kwargs': {'b': 1, 'd': 1, 'g': 1}}\n",
      "the locals of mid: \n",
      "{'c': 2, 'd': 1, 'kwargs': {'b': 1, 'g': 1}}\n",
      "low() got an unexpected keyword argument 'g'\n"
     ]
    }
   ],
   "source": [
    "try: \n",
    "    high(e=2,f=1,d=1,b=1,g=1) # shift + tab to see **kwargs available\n",
    "except TypeError as e: \n",
    "    print(e)"
   ]
  },
  {
   "cell_type": "markdown",
   "id": "8b1bb1d2",
   "metadata": {},
   "source": [
    "After inserting `**kwargs` into function `low`, `g=1` is happily accepted by `low` in `kwargs`."
   ]
  },
  {
   "cell_type": "code",
   "execution_count": null,
   "id": "57437f59",
   "metadata": {},
   "outputs": [
    {
     "name": "stdout",
     "output_type": "stream",
     "text": [
      "the locals of high: \n",
      "{'e': 2, 'f': 1, 'kwargs': {'b': 1, 'd': 1, 'g': 1}}\n",
      "the locals of mid: \n",
      "{'c': 2, 'd': 1, 'kwargs': {'b': 1, 'g': 1}}\n",
      "the locals of low: \n",
      "{'a': 2, 'b': 1, 'kwargs': {'g': 1}}\n"
     ]
    }
   ],
   "source": [
    "def low(a:int, b:int=2, **kwargs): \n",
    "    print(\"the locals of low: \")\n",
    "    pprint(locals())\n",
    "    return a + b\n",
    "test_eq(high(e=2,f=1,d=1,b=1,g=1),5) "
   ]
  },
  {
   "cell_type": "markdown",
   "id": "c2158035",
   "metadata": {},
   "source": [
    "Wouldn't it be nicer if we can remind or warn the `delegates` user that `low` with no `**kwargs` will cause error when you set `keep=True`?"
   ]
  },
  {
   "cell_type": "markdown",
   "id": "ca921d95",
   "metadata": {},
   "source": [
    "### fastai makes no mistake like this"
   ]
  },
  {
   "cell_type": "markdown",
   "id": "939f8485",
   "metadata": {},
   "source": [
    "See below the [one](https://github.com/fastai/fastai/blob/825c27624e4f6612fc0ce87769d9238d0ab96bab/fastai/torch_core.py#L40) of a few [examples](https://github.com/fastai/fastai/search?q=delegates+%22keep%3DTrue%22) when fastai uses `keep=True` I have found on August 11 2022.\n",
    "\n",
    "how-delegates: correct way of using `keep=True`: pay attention to the first line and last line of the code block below"
   ]
  },
  {
   "cell_type": "markdown",
   "id": "df86f858",
   "metadata": {},
   "source": [
    "```python\n",
    "@delegates(plt.subplots, keep=True)\n",
    "def subplots(\n",
    "    nrows:int=1, # Number of rows in returned axes grid\n",
    "    ncols:int=1, # Number of columns in returned axes grid\n",
    "    figsize:tuple=None, # Width, height in inches of the returned figure \n",
    "    imsize:int=3, # Size (in inches) of images that will be displayed in the returned figure\n",
    "    suptitle:str=None, # Title to be set to returned figure\n",
    "    **kwargs\n",
    ") -> (plt.Figure, plt.Axes): # Returns both fig and ax as a tuple \n",
    "    \"Returns a figure and set of subplots to display images of `imsize` inches\"\n",
    "    if figsize is None: \n",
    "        h=nrows*imsize if suptitle is None or imsize>2 else nrows*imsize+0.6 #https://github.com/matplotlib/matplotlib/issues/5355\n",
    "        figsize=(ncols*imsize, h)\n",
    "    fig,ax = plt.subplots(nrows, ncols, figsize=figsize, **kwargs) # must have **kwargs here\n",
    "```"
   ]
  },
  {
   "cell_type": "markdown",
   "id": "494cd216",
   "metadata": {},
   "source": [
    "### tinker-delegates: warn user the lowest level `to` has no `**kwargs`, don't pass expected params"
   ]
  },
  {
   "cell_type": "markdown",
   "id": "d76f6356",
   "metadata": {},
   "source": [
    "#### how-try-except: replace the combination of `if else` + `hasattr`"
   ]
  },
  {
   "cell_type": "markdown",
   "id": "46946766",
   "metadata": {},
   "source": [
    "#### how-attr: every func has an attr `__name__`"
   ]
  },
  {
   "cell_type": "code",
   "execution_count": null,
   "id": "5cc96e2c",
   "metadata": {},
   "outputs": [],
   "source": [
    "#|export\n",
    "def delegates_v1(to=None, # delegates `to` to replace `**kwargs` with its own params\n",
    "              keep=False, # keep `**kwargs` in the signature or not\n",
    "              but:list=None): # leave out certain params from the signature\n",
    "    \"\"\"\n",
    "        Decorator: replace `**kwargs` in signature with params from `to`. If `keep=True`and `to` has no `**kwargs` in its signature, a warning of TypeError will be generated.\n",
    "    \"\"\"\n",
    "    if but is None: but = []\n",
    "    def _f(f):\n",
    "        if to is None: to_f,from_f = f.__base__.__init__,f.__init__\n",
    "        else:          to_f,from_f = to.__init__ if isinstance(to,type) else to,f\n",
    "        from_f = getattr(from_f,'__func__',from_f)\n",
    "        to_f = getattr(to_f,'__func__',to_f)\n",
    "        if hasattr(from_f,'__delwrap__'): return f\n",
    "        sig = inspect.signature(from_f)\n",
    "        sigd = dict(sig.parameters)\n",
    "        k = sigd.pop('kwargs')\n",
    "            \n",
    "        s2 = {k:v for k,v in inspect.signature(to_f).parameters.items()\n",
    "              if v.default != inspect.Parameter.empty and k not in sigd and k not in but}\n",
    "        sigd.update(s2)\n",
    "\n",
    "        \"\"\"\n",
    "        if to_f has no attr 'lowest_func_no_kwargs', \n",
    "        then this to_f must be the first or the lowest function;\n",
    "        if this to_f has no **kwargs as parameter, then we set the value of attr 'lowest_func_no_kwargs'\n",
    "        to be to_f itself in string format\n",
    "        if this to_f has **kwargs as parameter, then set the value of the attr as None\n",
    "        \"\"\"\n",
    "        sigt = inspect.signature(to_f)  # get signature of mid\n",
    "        sigtd = dict(sigt.parameters)  # make signature a dict\n",
    "        try:\n",
    "            from_f.__setattr__(\"lowest_func_no_kwargs\", to_f.lowest_func_no_kwargs)\n",
    "        except:\n",
    "            if sigtd.get('kwargs') == None: \n",
    "                to_f.__setattr__(\"lowest_func_no_kwargs\", f'{to_f.__name__}')\n",
    "            else:\n",
    "                to_f.__setattr__(\"lowest_func_no_kwargs\", None)\n",
    "            from_f.__setattr__(\"lowest_func_no_kwargs\", to_f.lowest_func_no_kwargs)\n",
    "        \n",
    "        if keep: \n",
    "            if to_f.lowest_func_no_kwargs != None:  # check lowest_no_kwargs\n",
    "                print(f\"Warning: adding extra kwargs to {from_f.__name__} will cause TypeError to {to_f.lowest_func_no_kwargs}\\n\")\n",
    "            sigd['kwargs'] = k\n",
    "        else: from_f.__delwrap__ = to_f\n",
    "        from_f.__signature__ = sig.replace(parameters=sigd.values())\n",
    "        return f\n",
    "    return _f"
   ]
  },
  {
   "cell_type": "markdown",
   "id": "e9cdf856",
   "metadata": {},
   "source": [
    "#### examples of v_1"
   ]
  },
  {
   "cell_type": "code",
   "execution_count": null,
   "id": "3c7a36dc",
   "metadata": {},
   "outputs": [
    {
     "name": "stdout",
     "output_type": "stream",
     "text": [
      "Warning: adding extra kwargs to mid will cause TypeError to low\n",
      "\n"
     ]
    }
   ],
   "source": [
    "def low(a:int, b:int=1): pass\n",
    "\n",
    "@delegates_v1(low, keep=True)\n",
    "def mid(c:int, d:int=1, **kwargs): pass"
   ]
  },
  {
   "cell_type": "code",
   "execution_count": null,
   "id": "5e51198d",
   "metadata": {},
   "outputs": [
    {
     "name": "stdout",
     "output_type": "stream",
     "text": [
      "Warning: adding extra kwargs to high will cause TypeError to low\n",
      "\n"
     ]
    }
   ],
   "source": [
    "@delegates_v1(mid, keep=True)\n",
    "def high(e:int, f:int=1, **kwargs): pass"
   ]
  },
  {
   "cell_type": "markdown",
   "id": "e1962d70",
   "metadata": {},
   "source": [
    "### problem-delegates: params from `to` act as KEYWORD_ONLY but its type says otherwirse"
   ]
  },
  {
   "cell_type": "code",
   "execution_count": null,
   "id": "e95c01e4",
   "metadata": {},
   "outputs": [],
   "source": [
    "import fastcore.meta as fm"
   ]
  },
  {
   "cell_type": "code",
   "execution_count": null,
   "id": "4f6d2dba",
   "metadata": {},
   "outputs": [],
   "source": [
    "def low(a, b:int=1): pass\n",
    "@fm.delegates(low, keep=True)\n",
    "def mid(c, d:int=1, **kwargs): pass"
   ]
  },
  {
   "cell_type": "code",
   "execution_count": null,
   "id": "9fff216e",
   "metadata": {},
   "outputs": [
    {
     "data": {
      "text/plain": [
       "<Signature (c, d: int = 1, *, b: int = 1, **kwargs)>"
      ]
     },
     "execution_count": null,
     "metadata": {},
     "output_type": "execute_result"
    }
   ],
   "source": [
    "inspect.signature(mid)"
   ]
  },
  {
   "cell_type": "markdown",
   "id": "a5409e6e",
   "metadata": {},
   "source": [
    "The signature above indicate that `b` from `low` is `POSITIONAL_OR_KEYWORD` kind. However, if you run `b` as so, it causes a TypeError like below."
   ]
  },
  {
   "cell_type": "code",
   "execution_count": null,
   "id": "4c329a03",
   "metadata": {},
   "outputs": [
    {
     "name": "stdout",
     "output_type": "stream",
     "text": [
      "mid() takes from 1 to 2 positional arguments but 3 were given\n"
     ]
    }
   ],
   "source": [
    "try: \n",
    "    mid(1,1,1)\n",
    "except TypeError as e:\n",
    "    print(e)"
   ]
  },
  {
   "cell_type": "markdown",
   "id": "f6c92fc7",
   "metadata": {},
   "source": [
    "#### how-inspect: check param kind\n",
    "\n",
    "`b` in practice is a `KEYWORD_ONLY` param but when its type checked it is not."
   ]
  },
  {
   "cell_type": "code",
   "execution_count": null,
   "id": "0f0ccdd4",
   "metadata": {},
   "outputs": [
    {
     "data": {
      "text/plain": [
       "{'c': <_ParameterKind.POSITIONAL_OR_KEYWORD: 1>,\n",
       " 'd': <_ParameterKind.POSITIONAL_OR_KEYWORD: 1>,\n",
       " 'b': <_ParameterKind.KEYWORD_ONLY: 3>,\n",
       " 'kwargs': <_ParameterKind.VAR_KEYWORD: 4>}"
      ]
     },
     "execution_count": null,
     "metadata": {},
     "output_type": "execute_result"
    }
   ],
   "source": [
    "{p.name: p.kind for p in inspect.signature(mid).parameters.values()}"
   ]
  },
  {
   "cell_type": "markdown",
   "id": "838b2b61",
   "metadata": {},
   "source": [
    "### tinker-delegates: printing a warning message about param kind"
   ]
  },
  {
   "cell_type": "markdown",
   "id": "f894eff8",
   "metadata": {},
   "source": [
    "Let's make `Core.delegates_v2` to print a message for users to use params from `to` as Keyword only params"
   ]
  },
  {
   "cell_type": "code",
   "execution_count": null,
   "id": "2cd43aea",
   "metadata": {},
   "outputs": [
    {
     "data": {
      "text/plain": [
       "['a', 'b']"
      ]
     },
     "execution_count": null,
     "metadata": {},
     "output_type": "execute_result"
    }
   ],
   "source": [
    "s = {'a':1, 'b':2}\n",
    "[i for i in s.keys()]"
   ]
  },
  {
   "cell_type": "code",
   "execution_count": null,
   "id": "53ba08bb",
   "metadata": {},
   "outputs": [],
   "source": [
    "#|export\n",
    "def delegates_v2(to=None, # delegates `to` to replace `**kwargs` with its own params\n",
    "              keep=False, # keep `**kwargs` in the signature or not\n",
    "              but:list=None): # leave out certain params from the signature\n",
    "    \"Compared with v1, delegates_v2 func add a feature to remind users that params from `to` are keyword-only params for `f`.\"\n",
    "\n",
    "    if but is None: but = []\n",
    "    def _f(f):\n",
    "        if to is None: to_f,from_f = f.__base__.__init__,f.__init__\n",
    "        else:          to_f,from_f = to.__init__ if isinstance(to,type) else to,f\n",
    "        from_f = getattr(from_f,'__func__',from_f)\n",
    "        to_f = getattr(to_f,'__func__',to_f)\n",
    "        if hasattr(from_f,'__delwrap__'): return f\n",
    "        sig = inspect.signature(from_f)\n",
    "        sigd = dict(sig.parameters)\n",
    "        k = sigd.pop('kwargs')\n",
    "            \n",
    "        s2 = {k:v for k,v in inspect.signature(to_f).parameters.items()\n",
    "              if v.default != inspect.Parameter.empty and k not in sigd and k not in but}\n",
    "        sigd.update(s2)\n",
    "        \"\"\"\n",
    "        put s2's keys into a list\n",
    "        print a warning message: from_f has the s2's keys as Keyword Only params\n",
    "        \"\"\"\n",
    "        keyword_only_list = [i for i in s2.keys()]\n",
    "        print(f\"{from_f.__name__} has {keyword_only_list} as keyword only params, not to be used as positional.\")\n",
    "\n",
    "        \"\"\"\n",
    "        if to_f has no attr 'lowest_func_no_kwargs', \n",
    "        then this to_f must be the first or the lowest function;\n",
    "        if this to_f has no **kwargs as parameter, then we set the value of attr 'lowest_func_no_kwargs'\n",
    "        to be to_f itself in string format\n",
    "        if this to_f has **kwargs as parameter, then set the value of the attr as None\n",
    "        \"\"\"\n",
    "        sigt = inspect.signature(to_f)  # get signature of mid\n",
    "        sigtd = dict(sigt.parameters)  # make signature a dict\n",
    "        try:\n",
    "            from_f.__setattr__(\"lowest_func_no_kwargs\", to_f.lowest_func_no_kwargs)\n",
    "        except:\n",
    "            if sigtd.get('kwargs') == None: \n",
    "                to_f.__setattr__(\"lowest_func_no_kwargs\", f'{to_f.__name__}')\n",
    "            else:\n",
    "                to_f.__setattr__(\"lowest_func_no_kwargs\", None)\n",
    "            from_f.__setattr__(\"lowest_func_no_kwargs\", to_f.lowest_func_no_kwargs)\n",
    "        \n",
    "        if keep: \n",
    "            if to_f.lowest_func_no_kwargs != None:  # check lowest_no_kwargs\n",
    "                print(f\"Warning: adding extra kwargs to {from_f.__name__} will cause TypeError to {to_f.lowest_func_no_kwargs}\\n\")\n",
    "            sigd['kwargs'] = k\n",
    "        else: from_f.__delwrap__ = to_f\n",
    "        from_f.__signature__ = sig.replace(parameters=sigd.values())\n",
    "        return f\n",
    "    return _f"
   ]
  },
  {
   "cell_type": "markdown",
   "id": "416bf422",
   "metadata": {},
   "source": [
    "#### delegates_v2 examples"
   ]
  },
  {
   "cell_type": "code",
   "execution_count": null,
   "id": "dd5397bf",
   "metadata": {},
   "outputs": [
    {
     "name": "stdout",
     "output_type": "stream",
     "text": [
      "mid has ['b'] as keyword only params, not to be used as positional.\n",
      "Warning: adding extra kwargs to mid will cause TypeError to low\n",
      "\n",
      "high has ['d', 'b'] as keyword only params, not to be used as positional.\n",
      "Warning: adding extra kwargs to high will cause TypeError to low\n",
      "\n"
     ]
    }
   ],
   "source": [
    "def low(a, b:int=1): pass\n",
    "@delegates_v2(low, keep=True)\n",
    "def mid(c, d:int=1, **kwargs): pass\n",
    "@delegates_v2(mid, keep=True)\n",
    "def high(e, f:int=1, **kwargs): pass"
   ]
  },
  {
   "cell_type": "code",
   "execution_count": null,
   "id": "4eda5808",
   "metadata": {},
   "outputs": [
    {
     "data": {
      "text/plain": [
       "{'c': <_ParameterKind.POSITIONAL_OR_KEYWORD: 1>,\n",
       " 'd': <_ParameterKind.POSITIONAL_OR_KEYWORD: 1>,\n",
       " 'b': <_ParameterKind.POSITIONAL_OR_KEYWORD: 1>,\n",
       " 'kwargs': <_ParameterKind.VAR_KEYWORD: 4>}"
      ]
     },
     "execution_count": null,
     "metadata": {},
     "output_type": "execute_result"
    }
   ],
   "source": [
    "{p.name: p.kind for p in inspect.signature(mid).parameters.values()}"
   ]
  },
  {
   "cell_type": "code",
   "execution_count": null,
   "id": "71f2d163",
   "metadata": {},
   "outputs": [
    {
     "name": "stdout",
     "output_type": "stream",
     "text": [
      "mid() takes from 1 to 2 positional arguments but 3 were given\n"
     ]
    }
   ],
   "source": [
    "try: \n",
    "    mid(1,1,1)\n",
    "except TypeError as e:\n",
    "    print(e)"
   ]
  },
  {
   "cell_type": "markdown",
   "id": "15546d33",
   "metadata": {},
   "source": [
    "### tinker-delegates: change parameter type to `Parameter.KEYWORD_ONLY`"
   ]
  },
  {
   "cell_type": "code",
   "execution_count": null,
   "id": "d599a873",
   "metadata": {},
   "outputs": [],
   "source": [
    "#|export\n",
    "def delegates_v3(to=None, # delegates `to` to replace `**kwargs` with its own params\n",
    "              keep=False, # keep `**kwargs` in the signature or not\n",
    "              but:list=None): # leave out certain params from the signature\n",
    "    \"Compared with v1, delegates_v2 func add a feature to remind users that params from `to` are keyword-only params for `f`.\"\n",
    "\n",
    "    if but is None: but = []\n",
    "    def _f(f):\n",
    "        if to is None: to_f,from_f = f.__base__.__init__,f.__init__\n",
    "        else:          to_f,from_f = to.__init__ if isinstance(to,type) else to,f\n",
    "        from_f = getattr(from_f,'__func__',from_f)\n",
    "        to_f = getattr(to_f,'__func__',to_f)\n",
    "        if hasattr(from_f,'__delwrap__'): return f\n",
    "        sig = inspect.signature(from_f)\n",
    "        sigd = dict(sig.parameters)\n",
    "        k = sigd.pop('kwargs')\n",
    "            \n",
    "        s2 = {k:v for k,v in inspect.signature(to_f).parameters.items()\n",
    "              if v.default != inspect.Parameter.empty and k not in sigd and k not in but}\n",
    "        \"\"\"\n",
    "        Change type from POSITIONAL_OR_KEYWORD to KEYWORD_ONLY for all parameters in s2\n",
    "        \"\"\"\n",
    "        s2 = {name: param.replace(kind=inspect.Parameter.KEYWORD_ONLY) for name, param in s2.items()} \n",
    "        \n",
    "        sigd.update(s2)\n",
    "        \"\"\"\n",
    "        put s2's keys into a list\n",
    "        print a warning message: from_f has the s2's keys as Keyword Only params\n",
    "        \"\"\"\n",
    "        keyword_only_list = [i for i in s2.keys()]\n",
    "        print(f\"{from_f.__name__} has {keyword_only_list} as keyword only params, not to be used as positional.\")\n",
    "\n",
    "        \"\"\"\n",
    "        if to_f has no attr 'lowest_func_no_kwargs', \n",
    "        then this to_f must be the first or the lowest function;\n",
    "        if this to_f has no **kwargs as parameter, then we set the value of attr 'lowest_func_no_kwargs'\n",
    "        to be to_f itself in string format\n",
    "        if this to_f has **kwargs as parameter, then set the value of the attr as None\n",
    "        \"\"\"\n",
    "        sigt = inspect.signature(to_f)  # get signature of mid\n",
    "        sigtd = dict(sigt.parameters)  # make signature a dict\n",
    "        try:\n",
    "            from_f.__setattr__(\"lowest_func_no_kwargs\", to_f.lowest_func_no_kwargs)\n",
    "        except:\n",
    "            if sigtd.get('kwargs') == None: \n",
    "                to_f.__setattr__(\"lowest_func_no_kwargs\", f'{to_f.__name__}')\n",
    "            else:\n",
    "                to_f.__setattr__(\"lowest_func_no_kwargs\", None)\n",
    "            from_f.__setattr__(\"lowest_func_no_kwargs\", to_f.lowest_func_no_kwargs)\n",
    "        \n",
    "        if keep: \n",
    "            if to_f.lowest_func_no_kwargs != None:  # check lowest_no_kwargs\n",
    "                print(f\"Warning: adding extra kwargs to {from_f.__name__} will cause TypeError to {to_f.lowest_func_no_kwargs}\\n\")\n",
    "            sigd['kwargs'] = k\n",
    "        else: from_f.__delwrap__ = to_f\n",
    "        from_f.__signature__ = sig.replace(parameters=sigd.values())\n",
    "        return f\n",
    "    return _f"
   ]
  },
  {
   "cell_type": "markdown",
   "id": "4e7cbd3e",
   "metadata": {},
   "source": [
    "### contribute-delegates: [PR](https://app.reviewnb.com/fastai/fastcore/pull/459/) accepted on August 11 2022"
   ]
  },
  {
   "cell_type": "markdown",
   "id": "298310a9",
   "metadata": {},
   "source": [
    "By adding a single line of code below the line where `s2` occurs.\n",
    "```python\n",
    "# Change type from POSITIONAL_OR_KEYWORD to KEYWORD_ONLY for all parameters in s2\n",
    "s2 = {name: param.replace(kind=inspect.Parameter.KEYWORD_ONLY) for name, param in s2.items()} \n",
    "```"
   ]
  },
  {
   "cell_type": "markdown",
   "id": "9dce49ae",
   "metadata": {},
   "source": [
    "With Jeremy's [help](https://github.com/fastai/fastcore/pull/459#discussion_r942706390), I have shortened the code by simply modifying the line started with `s2=`"
   ]
  },
  {
   "cell_type": "code",
   "execution_count": null,
   "id": "03da91fd",
   "metadata": {},
   "outputs": [],
   "source": [
    "def delegates(to=None, keep=False, but=None):\n",
    "    \"Decorator: replace `**kwargs` in signature with params from `to`\"\n",
    "    if but is None: but = []\n",
    "    def _f(f):\n",
    "        if to is None: to_f,from_f = f.__base__.__init__,f.__init__\n",
    "        else:          to_f,from_f = to.__init__ if isinstance(to,type) else to,f\n",
    "        from_f = getattr(from_f,'__func__',from_f)\n",
    "        to_f = getattr(to_f,'__func__',to_f)\n",
    "        if hasattr(from_f,'__delwrap__'): return f\n",
    "        sig = inspect.signature(from_f)\n",
    "        sigd = dict(sig.parameters)\n",
    "        k = sigd.pop('kwargs')\n",
    "        s2 = {k:v.replace(kind=inspect.Parameter.KEYWORD_ONLY) for k,v in inspect.signature(to_f).parameters.items()\n",
    "              if v.default != inspect.Parameter.empty and k not in sigd and k not in but}\n",
    "        sigd.update(s2)\n",
    "        if keep: sigd['kwargs'] = k\n",
    "        else: from_f.__delwrap__ = to_f\n",
    "        from_f.__signature__ = sig.replace(parameters=sigd.values())\n",
    "        return f\n",
    "    return _f"
   ]
  },
  {
   "cell_type": "code",
   "execution_count": null,
   "id": "9ad0ff88",
   "metadata": {},
   "outputs": [],
   "source": [
    "def low(a, b:int=1): pass\n",
    "@delegates(low, keep=True)\n",
    "def mid(c, d:int=1, **kwargs): pass\n",
    "@delegates(mid, keep=True)\n",
    "def high(e, f:int=1, **kwargs): pass"
   ]
  },
  {
   "cell_type": "code",
   "execution_count": null,
   "id": "4a7b5fdf",
   "metadata": {},
   "outputs": [
    {
     "data": {
      "text/plain": [
       "{'c': <_ParameterKind.POSITIONAL_OR_KEYWORD: 1>,\n",
       " 'd': <_ParameterKind.POSITIONAL_OR_KEYWORD: 1>,\n",
       " 'b': <_ParameterKind.KEYWORD_ONLY: 3>,\n",
       " 'kwargs': <_ParameterKind.VAR_KEYWORD: 4>}"
      ]
     },
     "execution_count": null,
     "metadata": {},
     "output_type": "execute_result"
    }
   ],
   "source": [
    "{p.name: p.kind for p in inspect.signature(mid).parameters.values()}"
   ]
  },
  {
   "cell_type": "code",
   "execution_count": null,
   "id": "04e8f662",
   "metadata": {},
   "outputs": [
    {
     "data": {
      "text/plain": [
       "<Signature (c, d: int = 1, *, b: int = 1, **kwargs)>"
      ]
     },
     "execution_count": null,
     "metadata": {},
     "output_type": "execute_result"
    }
   ],
   "source": [
    "inspect.signature(mid)"
   ]
  },
  {
   "cell_type": "markdown",
   "id": "1833c3af",
   "metadata": {},
   "source": [
    "## _mk_param\n",
    "\n",
    "how-parameter: How to make a parameter"
   ]
  },
  {
   "cell_type": "markdown",
   "id": "edd04714",
   "metadata": {},
   "source": [
    "### how-import: What does `from fastcore.meta import *` mean"
   ]
  },
  {
   "cell_type": "markdown",
   "id": "e041094b",
   "metadata": {},
   "source": [
    "`from fastcore.meta import *` won't give you everything inside `meta` module but a selective group contained in a list `__all__`, to use the unselected ones, you can: \n",
    "```python\n",
    "import fastcore.met as fm\n",
    "```\n",
    "and use `fm. + tab` to check out everything."
   ]
  },
  {
   "cell_type": "code",
   "execution_count": null,
   "id": "8c397f3a",
   "metadata": {},
   "outputs": [
    {
     "name": "stdout",
     "output_type": "stream",
     "text": [
      "head: /Users/Natsume/mambaforge/lib/python3.9/site-packages/fastcore/meta.py: No such file or directory\n"
     ]
    }
   ],
   "source": [
    "!head /Users/Natsume/mambaforge/lib/python3.9/site-packages/fastcore/meta.py"
   ]
  },
  {
   "cell_type": "markdown",
   "id": "8386b528",
   "metadata": {},
   "source": [
    "### `_mk_param` examples"
   ]
  },
  {
   "cell_type": "code",
   "execution_count": null,
   "id": "58f04c0b",
   "metadata": {},
   "outputs": [],
   "source": [
    "from fastcore.meta import _mk_param"
   ]
  },
  {
   "cell_type": "code",
   "execution_count": null,
   "id": "98d10ac8",
   "metadata": {},
   "outputs": [
    {
     "data": {
      "text/plain": [
       "(<Parameter \"b=None\">, <Parameter \"b=1\">)"
      ]
     },
     "execution_count": null,
     "metadata": {},
     "output_type": "execute_result"
    }
   ],
   "source": [
    "_mk_param('b'), _mk_param('b', 1)"
   ]
  },
  {
   "cell_type": "markdown",
   "id": "a58f27c2",
   "metadata": {},
   "source": [
    "### `_mk_param` source"
   ]
  },
  {
   "cell_type": "code",
   "execution_count": null,
   "id": "40528059",
   "metadata": {},
   "outputs": [],
   "source": [
    "def _mk_param(n,d=None): return inspect.Parameter(n, inspect.Parameter.KEYWORD_ONLY, default=d)"
   ]
  },
  {
   "cell_type": "markdown",
   "id": "9f7c7278",
   "metadata": {},
   "source": [
    "```python\n",
    "def _mk_param(n,d=None): return inspect.Parameter(n, inspect.Parameter.KEYWORD_ONLY, default=d)\n",
    "```"
   ]
  },
  {
   "cell_type": "markdown",
   "id": "1ce6d4cb",
   "metadata": {},
   "source": [
    "### `_mk_param` anatomy"
   ]
  },
  {
   "cell_type": "markdown",
   "id": "b4c632e4",
   "metadata": {},
   "source": [
    "#### how-inspect: get signature"
   ]
  },
  {
   "cell_type": "code",
   "execution_count": null,
   "id": "98d1e022",
   "metadata": {},
   "outputs": [
    {
     "data": {
      "text/plain": [
       "<Signature (name, kind, *, default, annotation)>"
      ]
     },
     "execution_count": null,
     "metadata": {},
     "output_type": "execute_result"
    }
   ],
   "source": [
    "inspect.signature(inspect.Parameter)"
   ]
  },
  {
   "cell_type": "markdown",
   "id": "8614f16b",
   "metadata": {},
   "source": [
    "#### how-inspect: getdoc"
   ]
  },
  {
   "cell_type": "code",
   "execution_count": null,
   "id": "879fa254",
   "metadata": {},
   "outputs": [
    {
     "name": "stdout",
     "output_type": "stream",
     "text": [
      "('Represents a parameter in a function signature.\\n'\n",
      " '\\n'\n",
      " 'Has the following public attributes:\\n'\n",
      " '\\n'\n",
      " '* name : str\\n'\n",
      " '    The name of the parameter as a string.\\n'\n",
      " '* default : object\\n'\n",
      " '    The default value for the parameter if specified.  If the\\n'\n",
      " '    parameter has no default value, this attribute is set to\\n'\n",
      " '    `Parameter.empty`.\\n'\n",
      " '* annotation\\n'\n",
      " '    The annotation for the parameter if specified.  If the\\n'\n",
      " '    parameter has no annotation, this attribute is set to\\n'\n",
      " '    `Parameter.empty`.\\n'\n",
      " '* kind : str\\n'\n",
      " '    Describes how argument values are bound to the parameter.\\n'\n",
      " '    Possible values: `Parameter.POSITIONAL_ONLY`,\\n'\n",
      " '    `Parameter.POSITIONAL_OR_KEYWORD`, `Parameter.VAR_POSITIONAL`,\\n'\n",
      " '    `Parameter.KEYWORD_ONLY`, `Parameter.VAR_KEYWORD`.')\n"
     ]
    }
   ],
   "source": [
    "pprint(inspect.getdoc(inspect.Parameter))"
   ]
  },
  {
   "cell_type": "markdown",
   "id": "d98b29f9",
   "metadata": {},
   "source": [
    "#### how-inspect: create Parameter"
   ]
  },
  {
   "cell_type": "code",
   "execution_count": null,
   "id": "b04ffaf2",
   "metadata": {},
   "outputs": [
    {
     "data": {
      "text/plain": [
       "(inspect.Parameter, <Parameter \"b=None\">)"
      ]
     },
     "execution_count": null,
     "metadata": {},
     "output_type": "execute_result"
    }
   ],
   "source": [
    "p = inspect.Parameter(\"b\", inspect.Parameter.KEYWORD_ONLY, default=None)\n",
    "type(p), p"
   ]
  },
  {
   "cell_type": "markdown",
   "id": "15c29a19",
   "metadata": {},
   "source": [
    "### "
   ]
  },
  {
   "cell_type": "code",
   "execution_count": null,
   "id": "f73da6f2",
   "metadata": {},
   "outputs": [],
   "source": []
  },
  {
   "cell_type": "code",
   "execution_count": null,
   "id": "cb37df2a",
   "metadata": {},
   "outputs": [],
   "source": []
  },
  {
   "cell_type": "markdown",
   "id": "9185016d",
   "metadata": {},
   "source": [
    "## "
   ]
  },
  {
   "cell_type": "markdown",
   "id": "dbf15868",
   "metadata": {},
   "source": [
    "## use_kwargs_dict\n",
    "how-kwargs: replace `**kwargs` with a dict of params"
   ]
  },
  {
   "cell_type": "markdown",
   "id": "21377c70",
   "metadata": {},
   "source": [
    "### `use_kwargs_dic` source"
   ]
  },
  {
   "cell_type": "code",
   "execution_count": null,
   "id": "d6557c44",
   "metadata": {},
   "outputs": [],
   "source": [
    "def use_kwargs_dict(keep=False, **kwargs):\n",
    "    \"Decorator: replace `**kwargs` in signature with `names` params\"\n",
    "    def _f(f):\n",
    "        sig = inspect.signature(f)\n",
    "        sigd = dict(sig.parameters)\n",
    "        k = sigd.pop('kwargs')\n",
    "        s2 = {n:_mk_param(n,d) for n,d in kwargs.items() if n not in sigd}\n",
    "        sigd.update(s2)\n",
    "        if keep: sigd['kwargs'] = k\n",
    "        f.__signature__ = sig.replace(parameters=sigd.values())\n",
    "        return f\n",
    "    return _f"
   ]
  },
  {
   "cell_type": "markdown",
   "id": "41e43f38",
   "metadata": {},
   "source": [
    "#### how-code: put `for in` and `if else` in a single line"
   ]
  },
  {
   "cell_type": "markdown",
   "id": "64ef3dd2",
   "metadata": {},
   "source": [
    "```python\n",
    "s2 = {n:_mk_param(n,d) for n,d in kwargs.items() if n not in sigd}\n",
    "```"
   ]
  },
  {
   "cell_type": "markdown",
   "id": "241c4810",
   "metadata": {},
   "source": [
    "#### most attributes like `__signature__`, `__func__` are added by decorators"
   ]
  },
  {
   "cell_type": "code",
   "execution_count": null,
   "id": "baaef419",
   "metadata": {},
   "outputs": [
    {
     "data": {
      "text/plain": [
       "False"
      ]
     },
     "execution_count": null,
     "metadata": {},
     "output_type": "execute_result"
    }
   ],
   "source": [
    "def foo(a, b=1, **kwargs): pass\n",
    "hasattr(foo, '__signature__')"
   ]
  },
  {
   "cell_type": "code",
   "execution_count": null,
   "id": "0894b7bf",
   "metadata": {},
   "outputs": [
    {
     "data": {
      "text/plain": [
       "True"
      ]
     },
     "execution_count": null,
     "metadata": {},
     "output_type": "execute_result"
    }
   ],
   "source": [
    "@use_kwargs_dict(y=1,z=None)\n",
    "def foo(a, b=1, **kwargs): pass\n",
    "hasattr(foo, '__signature__')"
   ]
  },
  {
   "cell_type": "markdown",
   "id": "9448bc81",
   "metadata": {},
   "source": [
    "### `use_kwargs_dict` examples"
   ]
  },
  {
   "cell_type": "markdown",
   "id": "249d4a28",
   "metadata": {},
   "source": [
    "Replace all **kwargs with named arguments like so:"
   ]
  },
  {
   "cell_type": "code",
   "execution_count": null,
   "id": "69f64e95",
   "metadata": {},
   "outputs": [],
   "source": [
    "@use_kwargs_dict(y=1,z=None)\n",
    "def foo(a, b=1, **kwargs): pass\n",
    "\n",
    "test_sig(foo, '(a, b=1, *, y=1, z=None)')"
   ]
  },
  {
   "cell_type": "markdown",
   "id": "8c8ead14",
   "metadata": {},
   "source": [
    "Add named arguments, but optionally keep **kwargs by setting keep=True:"
   ]
  },
  {
   "cell_type": "code",
   "execution_count": null,
   "id": "f021446f",
   "metadata": {},
   "outputs": [],
   "source": [
    "@use_kwargs_dict(y=1,z=None, keep=True)\n",
    "def foo(a, b=1, **kwargs): pass\n",
    "\n",
    "test_sig(foo, '(a, b=1, *, y=1, z=None, **kwargs)')"
   ]
  },
  {
   "cell_type": "code",
   "execution_count": null,
   "id": "790753c1",
   "metadata": {},
   "outputs": [],
   "source": []
  },
  {
   "cell_type": "markdown",
   "id": "ef907082",
   "metadata": {},
   "source": [
    "## "
   ]
  },
  {
   "cell_type": "markdown",
   "id": "879f97d4",
   "metadata": {},
   "source": [
    "## use_kwargs\n",
    "how-kwargs: to replace `**kwargs` with a list of param names. `use_kwargs`"
   ]
  },
  {
   "cell_type": "markdown",
   "id": "caa8299e",
   "metadata": {},
   "source": [
    "### `use_kwargs` source"
   ]
  },
  {
   "cell_type": "code",
   "execution_count": null,
   "id": "084f8bd5",
   "metadata": {},
   "outputs": [],
   "source": [
    "def use_kwargs(names, keep=False):\n",
    "    \"Decorator: replace `**kwargs` in signature with `names` params\"\n",
    "    def _f(f):\n",
    "        sig = inspect.signature(f)\n",
    "        sigd = dict(sig.parameters)\n",
    "        k = sigd.pop('kwargs')\n",
    "        s2 = {n:_mk_param(n) for n in names if n not in sigd}\n",
    "        sigd.update(s2)\n",
    "        if keep: sigd['kwargs'] = k\n",
    "        f.__signature__ = sig.replace(parameters=sigd.values())\n",
    "        return f\n",
    "    return _f"
   ]
  },
  {
   "cell_type": "markdown",
   "id": "9cd9884b",
   "metadata": {},
   "source": [
    "### `use_kwargs` examples"
   ]
  },
  {
   "cell_type": "markdown",
   "id": "89608d69",
   "metadata": {},
   "source": [
    "use_kwargs is different than use_kwargs_dict as it only replaces **kwargs with named parameters without any default values:"
   ]
  },
  {
   "cell_type": "code",
   "execution_count": null,
   "id": "080c6fdc",
   "metadata": {},
   "outputs": [
    {
     "data": {
      "text/plain": [
       "<Signature (a, b=1, *, y=None, z=None)>"
      ]
     },
     "execution_count": null,
     "metadata": {},
     "output_type": "execute_result"
    }
   ],
   "source": [
    "@use_kwargs(['y', 'z'])\n",
    "def foo(a, b=1, **kwargs): pass\n",
    "\n",
    "test_sig(foo, '(a, b=1, *, y=None, z=None)')\n",
    "inspect.signature(foo)"
   ]
  },
  {
   "cell_type": "code",
   "execution_count": null,
   "id": "db27e275",
   "metadata": {},
   "outputs": [
    {
     "name": "stdout",
     "output_type": "stream",
     "text": [
      "foo() takes from 1 to 2 positional arguments but 3 were given\n"
     ]
    }
   ],
   "source": [
    "try:\n",
    "    foo(1,1,1)\n",
    "except TypeError as e:\n",
    "    print(e)\n",
    "assert foo(1,1,y=1) == foo(1,1,y=1,z=None)"
   ]
  },
  {
   "cell_type": "markdown",
   "id": "a9cb27b9",
   "metadata": {},
   "source": [
    "You may optionally keep the `**kwargs` argument in your signature by setting `keep=True`:"
   ]
  },
  {
   "cell_type": "code",
   "execution_count": null,
   "id": "a193d087",
   "metadata": {},
   "outputs": [],
   "source": [
    "@use_kwargs(['y', 'z'], keep=True)\n",
    "def foo(a, *args, b=1, **kwargs): pprint(locals())\n",
    "test_sig(foo, '(a, *args, b=1, y=None, z=None, **kwargs)')"
   ]
  },
  {
   "cell_type": "markdown",
   "id": "ee35e2c1",
   "metadata": {},
   "source": [
    "### how-code: how `*args` in signature behave?"
   ]
  },
  {
   "cell_type": "code",
   "execution_count": null,
   "id": "92f88b1d",
   "metadata": {},
   "outputs": [
    {
     "name": "stdout",
     "output_type": "stream",
     "text": [
      "{'a': 1, 'args': ([1],), 'b': 1, 'kwargs': {'y': 1}}\n"
     ]
    }
   ],
   "source": [
    "foo(1,[1],y=1)"
   ]
  },
  {
   "cell_type": "code",
   "execution_count": null,
   "id": "8fb7b5f5",
   "metadata": {},
   "outputs": [
    {
     "name": "stdout",
     "output_type": "stream",
     "text": [
      "{'a': 1, 'args': ([1, 1],), 'b': 1, 'kwargs': {'y': 1}}\n"
     ]
    }
   ],
   "source": [
    "foo(1,[1,1],y=1)"
   ]
  },
  {
   "cell_type": "code",
   "execution_count": null,
   "id": "bab662bf",
   "metadata": {},
   "outputs": [
    {
     "name": "stdout",
     "output_type": "stream",
     "text": [
      "{'a': 1, 'args': (1, 1), 'b': 1, 'kwargs': {'y': 1}}\n"
     ]
    }
   ],
   "source": [
    "foo(1,1,1,y=1)"
   ]
  },
  {
   "cell_type": "code",
   "execution_count": null,
   "id": "559f2dce",
   "metadata": {},
   "outputs": [
    {
     "name": "stdout",
     "output_type": "stream",
     "text": [
      "{'a': 1, 'args': (1, 1), 'b': 1, 'kwargs': {'y': 1}}\n"
     ]
    }
   ],
   "source": [
    "foo(1,1,1,b=1,y=1)"
   ]
  },
  {
   "cell_type": "markdown",
   "id": "8c8f85a4",
   "metadata": {},
   "source": [
    "## "
   ]
  },
  {
   "cell_type": "markdown",
   "id": "5e840e17",
   "metadata": {},
   "source": [
    "## test_sig\n",
    "how-test: signature"
   ]
  },
  {
   "cell_type": "markdown",
   "id": "03cabcd7",
   "metadata": {},
   "source": [
    "### `test_sig` source"
   ]
  },
  {
   "cell_type": "code",
   "execution_count": null,
   "id": "88f68539",
   "metadata": {},
   "outputs": [],
   "source": [
    "def test_sig(f, b):\n",
    "    \"Test the signature of an object\"\n",
    "    test_eq(str(inspect.signature(f)), b)"
   ]
  },
  {
   "cell_type": "markdown",
   "id": "4410a521",
   "metadata": {},
   "source": [
    "### `test_sig` examples"
   ]
  },
  {
   "cell_type": "code",
   "execution_count": null,
   "id": "85a1d612",
   "metadata": {},
   "outputs": [],
   "source": [
    "def func_1(h,i,j): pass\n",
    "def func_2(h,i=3, j=[5,6]): pass\n",
    "\n",
    "class T:\n",
    "    def __init__(self, a, b): pass\n",
    "\n",
    "test_sig(func_1, '(h, i, j)')\n",
    "test_sig(func_2, '(h, i=3, j=[5, 6])')\n",
    "test_sig(T, '(a, b)')"
   ]
  },
  {
   "cell_type": "markdown",
   "id": "0ae6de7d",
   "metadata": {},
   "source": [
    "### `test_sig` anatomy"
   ]
  },
  {
   "cell_type": "code",
   "execution_count": null,
   "id": "65ee1aca",
   "metadata": {},
   "outputs": [
    {
     "data": {
      "text/plain": [
       "<Signature (a, b)>"
      ]
     },
     "execution_count": null,
     "metadata": {},
     "output_type": "execute_result"
    }
   ],
   "source": [
    "inspect.signature(T)"
   ]
  },
  {
   "cell_type": "markdown",
   "id": "12871a0a",
   "metadata": {},
   "source": [
    "#### how-str: turn signature into string"
   ]
  },
  {
   "cell_type": "code",
   "execution_count": null,
   "id": "64c76dbe",
   "metadata": {},
   "outputs": [
    {
     "data": {
      "text/plain": [
       "'(a, b)'"
      ]
     },
     "execution_count": null,
     "metadata": {},
     "output_type": "execute_result"
    }
   ],
   "source": [
    "str(inspect.signature(T))"
   ]
  },
  {
   "cell_type": "code",
   "execution_count": null,
   "id": "d04b5a94",
   "metadata": {},
   "outputs": [
    {
     "data": {
      "text/plain": [
       "<Signature (h, i=3, j=[5, 6])>"
      ]
     },
     "execution_count": null,
     "metadata": {},
     "output_type": "execute_result"
    }
   ],
   "source": [
    "inspect.signature(func_2)"
   ]
  },
  {
   "cell_type": "code",
   "execution_count": null,
   "id": "54ee6b56",
   "metadata": {},
   "outputs": [
    {
     "data": {
      "text/plain": [
       "'(h, i=3, j=[5, 6])'"
      ]
     },
     "execution_count": null,
     "metadata": {},
     "output_type": "execute_result"
    }
   ],
   "source": [
    "str(inspect.signature(func_2))"
   ]
  },
  {
   "cell_type": "code",
   "execution_count": null,
   "id": "59b7f153",
   "metadata": {},
   "outputs": [],
   "source": [
    "test_eq(str(inspect.signature(func_2)), '(h, i=3, j=[5, 6])')"
   ]
  },
  {
   "cell_type": "code",
   "execution_count": null,
   "id": "30712f27",
   "metadata": {},
   "outputs": [],
   "source": [
    "assert str(inspect.signature(func_2)) == '(h, i=3, j=[5, 6])' "
   ]
  },
  {
   "cell_type": "code",
   "execution_count": null,
   "id": "ab004bb7",
   "metadata": {},
   "outputs": [],
   "source": []
  },
  {
   "cell_type": "markdown",
   "id": "5c800d3c",
   "metadata": {},
   "source": [
    "## "
   ]
  },
  {
   "cell_type": "markdown",
   "id": "42ce0d1b",
   "metadata": {},
   "source": [
    "## `_rm_self`\n",
    "how-inspect/how-self: remove `self` in signature"
   ]
  },
  {
   "cell_type": "markdown",
   "id": "eecc2af4",
   "metadata": {},
   "source": [
    "### `_rm_self` source"
   ]
  },
  {
   "cell_type": "code",
   "execution_count": null,
   "id": "e4a60768",
   "metadata": {},
   "outputs": [],
   "source": [
    "def _rm_self(sig):\n",
    "    sigd = dict(sig.parameters)\n",
    "    sigd.pop('self')\n",
    "    return sig.replace(parameters=sigd.values())"
   ]
  },
  {
   "cell_type": "markdown",
   "id": "0ff67f7a",
   "metadata": {},
   "source": [
    "### `_rm_self` examples"
   ]
  },
  {
   "cell_type": "code",
   "execution_count": null,
   "id": "96018c1f",
   "metadata": {},
   "outputs": [],
   "source": [
    "class Base:\n",
    "    def __init__(self, a, b:int=1, **kwargs): pass\n",
    "    def test(self, c, d): pass"
   ]
  },
  {
   "cell_type": "code",
   "execution_count": null,
   "id": "101b32ab",
   "metadata": {},
   "outputs": [
    {
     "data": {
      "text/plain": [
       "<Signature (self, a, b: int = 1, **kwargs)>"
      ]
     },
     "execution_count": null,
     "metadata": {},
     "output_type": "execute_result"
    }
   ],
   "source": [
    "inspect.signature(Base.__init__)"
   ]
  },
  {
   "cell_type": "code",
   "execution_count": null,
   "id": "bd8f42b1",
   "metadata": {},
   "outputs": [
    {
     "data": {
      "text/plain": [
       "<Signature (a, b: int = 1, **kwargs)>"
      ]
     },
     "execution_count": null,
     "metadata": {},
     "output_type": "execute_result"
    }
   ],
   "source": [
    "_rm_self(inspect.signature(Base.__init__))"
   ]
  },
  {
   "cell_type": "code",
   "execution_count": null,
   "id": "776e266f",
   "metadata": {},
   "outputs": [
    {
     "data": {
      "text/plain": [
       "<Signature (self, c, d)>"
      ]
     },
     "execution_count": null,
     "metadata": {},
     "output_type": "execute_result"
    }
   ],
   "source": [
    "inspect.signature(Base.test)"
   ]
  },
  {
   "cell_type": "code",
   "execution_count": null,
   "id": "f844ecd2",
   "metadata": {},
   "outputs": [
    {
     "data": {
      "text/plain": [
       "<Signature (c, d)>"
      ]
     },
     "execution_count": null,
     "metadata": {},
     "output_type": "execute_result"
    }
   ],
   "source": [
    "_rm_self(inspect.signature(Base.test))"
   ]
  },
  {
   "cell_type": "markdown",
   "id": "54984c32",
   "metadata": {},
   "source": [
    "### `_rm_self` anatomy"
   ]
  },
  {
   "cell_type": "code",
   "execution_count": null,
   "id": "775d1715",
   "metadata": {},
   "outputs": [
    {
     "data": {
      "text/plain": [
       "<Signature (self, a, b: int = 1, **kwargs)>"
      ]
     },
     "execution_count": null,
     "metadata": {},
     "output_type": "execute_result"
    }
   ],
   "source": [
    "sig = inspect.signature(Base.__init__)\n",
    "sig"
   ]
  },
  {
   "cell_type": "code",
   "execution_count": null,
   "id": "23dffd59",
   "metadata": {},
   "outputs": [
    {
     "data": {
      "text/plain": [
       "{'self': <Parameter \"self\">,\n",
       " 'a': <Parameter \"a\">,\n",
       " 'b': <Parameter \"b: int = 1\">,\n",
       " 'kwargs': <Parameter \"**kwargs\">}"
      ]
     },
     "execution_count": null,
     "metadata": {},
     "output_type": "execute_result"
    }
   ],
   "source": [
    "sigd = dict(sig.parameters)\n",
    "sigd"
   ]
  },
  {
   "cell_type": "code",
   "execution_count": null,
   "id": "218cda8a",
   "metadata": {},
   "outputs": [
    {
     "data": {
      "text/plain": [
       "{'a': <Parameter \"a\">,\n",
       " 'b': <Parameter \"b: int = 1\">,\n",
       " 'kwargs': <Parameter \"**kwargs\">}"
      ]
     },
     "execution_count": null,
     "metadata": {},
     "output_type": "execute_result"
    }
   ],
   "source": [
    "sigd.pop('self')\n",
    "sigd"
   ]
  },
  {
   "cell_type": "code",
   "execution_count": null,
   "id": "a63e24c5",
   "metadata": {},
   "outputs": [
    {
     "data": {
      "text/plain": [
       "dict_values([<Parameter \"a\">, <Parameter \"b: int = 1\">, <Parameter \"**kwargs\">])"
      ]
     },
     "execution_count": null,
     "metadata": {},
     "output_type": "execute_result"
    }
   ],
   "source": [
    "sigd.values()"
   ]
  },
  {
   "cell_type": "code",
   "execution_count": null,
   "id": "1bb41755",
   "metadata": {},
   "outputs": [
    {
     "data": {
      "text/plain": [
       "<Signature (a, b: int = 1, **kwargs)>"
      ]
     },
     "execution_count": null,
     "metadata": {},
     "output_type": "execute_result"
    }
   ],
   "source": [
    "sig.replace(parameters=sigd.values())"
   ]
  },
  {
   "cell_type": "markdown",
   "id": "a101ff86",
   "metadata": {},
   "source": [
    "## "
   ]
  },
  {
   "cell_type": "markdown",
   "id": "46f75d19",
   "metadata": {},
   "source": [
    "## FixSigMeta"
   ]
  },
  {
   "cell_type": "markdown",
   "id": "c972ca08",
   "metadata": {},
   "source": [
    "A metaclass that fixes the signature on classes that override `__new__`\n",
    "\n",
    "When you inherit from a class that defines `__new__`, or a metaclass that defines `__call__`, the signature of your `__init__` method is obfuscated such that tab completion no longer works. FixSigMeta fixes this issue and restores signatures.\n",
    "\n",
    "To understand what `FixSigMeta` does, it is useful to inspect an object's signature. You can inspect the signature of an object with `inspect.signature`:"
   ]
  },
  {
   "cell_type": "markdown",
   "id": "8da3a3a8",
   "metadata": {},
   "source": [
    "Interesting! `FixSigMeta??` won't give us the source code, neither can `inspect.getsource` on it."
   ]
  },
  {
   "cell_type": "markdown",
   "id": "ee9c3d82",
   "metadata": {},
   "source": [
    "### `FixSigMeta` examples"
   ]
  },
  {
   "cell_type": "markdown",
   "id": "f83b4d9a",
   "metadata": {},
   "source": [
    "#### examples not really working effectively"
   ]
  },
  {
   "cell_type": "code",
   "execution_count": null,
   "id": "44c5bed2",
   "metadata": {},
   "outputs": [
    {
     "data": {
      "text/plain": [
       "<Signature (a, b, c)>"
      ]
     },
     "execution_count": null,
     "metadata": {},
     "output_type": "execute_result"
    }
   ],
   "source": [
    "class T:\n",
    "    def __init__(self, a, b, c): pass\n",
    "    \n",
    "inspect.signature(T)"
   ]
  },
  {
   "cell_type": "markdown",
   "id": "3868a18c",
   "metadata": {},
   "source": [
    "This corresponds to tab completion working in the normal way:"
   ]
  },
  {
   "cell_type": "markdown",
   "id": "12eae6e8",
   "metadata": {},
   "source": [
    "`T() + shift + tab` can provide the following info on the function \n",
    "```\n",
    "Init signature: T(a, b, c)\n",
    "Docstring:      <no docstring>\n",
    "Type:           type\n",
    "```\n",
    "\n",
    "What is the signature of `T.__init__`"
   ]
  },
  {
   "cell_type": "markdown",
   "id": "8910bce2",
   "metadata": {},
   "source": [
    "However, when you inherhit from a class that defines `__new__` or a metaclass that defines `__call__` this obfuscates the signature by overriding your class with the signature of `__new__`, which prevents tab completion from displaying useful information:"
   ]
  },
  {
   "cell_type": "code",
   "execution_count": null,
   "id": "4df3ea82",
   "metadata": {},
   "outputs": [],
   "source": [
    "class Foo:\n",
    "    def __new__(self, **args): pass\n",
    "    \n",
    "class Bar(Foo):\n",
    "    def __init__(self, d, e, f): pass"
   ]
  },
  {
   "cell_type": "code",
   "execution_count": null,
   "id": "2d822193",
   "metadata": {},
   "outputs": [
    {
     "name": "stdout",
     "output_type": "stream",
     "text": [
      "<Signature (**args)>\n",
      "<Signature (self, **args)>\n"
     ]
    }
   ],
   "source": [
    "pprint(inspect.signature(Foo))\n",
    "pprint(inspect.signature(Foo.__new__))"
   ]
  },
  {
   "cell_type": "code",
   "execution_count": null,
   "id": "db145a5d",
   "metadata": {},
   "outputs": [
    {
     "name": "stdout",
     "output_type": "stream",
     "text": [
      "<Signature (d, e, f)>\n",
      "<Signature (self, **args)>\n",
      "<Signature (self, d, e, f)>\n"
     ]
    }
   ],
   "source": [
    "pprint(inspect.signature(Bar))\n",
    "pprint(inspect.signature(Bar.__new__))\n",
    "pprint(inspect.signature(Bar.__init__))"
   ]
  },
  {
   "cell_type": "markdown",
   "id": "dbc24330",
   "metadata": {},
   "source": [
    "Finally, the signature and tab completion can be restored by inheriting from the metaclass `FixSigMeta` as shown below:"
   ]
  },
  {
   "cell_type": "markdown",
   "id": "62d08817",
   "metadata": {},
   "source": [
    "#### how-FixSigMeta: when inherit a class override `__new__`\n"
   ]
  },
  {
   "cell_type": "code",
   "execution_count": null,
   "id": "450a8b7d",
   "metadata": {},
   "outputs": [],
   "source": [
    "#|export\n",
    "class FixSigMeta(type):\n",
    "    \"A metaclass that fixes the signature on classes that override `__new__` of `type`\"\n",
    "    def __new__(cls, name, bases, dict):\n",
    "        print(\"============================\\nrunning metaclass FixSigMeta.__new__\\n\")\n",
    "        print(f\"local variables are:\\n\")\n",
    "        pprint(locals())\n",
    "        \n",
    "        # create new obj using type.__new__\n",
    "        res = super().__new__(cls, name, bases, dict)\n",
    "        print(f\"\\nUsing type.__new__ to create a class instance of type: {res}\")\n",
    "        \n",
    "        pprint(f\"{res.__name__}'s type should and is: {type(res)}\")\n",
    "        print(f\"\\n{res.__name__}'s inheritance tree: {res.__mro__}\")\n",
    "        print(f\"In other words, {res.__name__}'s bases are: {res.__bases__}\\n\")\n",
    "        print(f\"\\ndoes {res.__name__} have attr `__signature__`:{hasattr(res, '__signature__')}\")\n",
    "        pprint(inspect.signature(res))\n",
    "        \n",
    "        \n",
    "        print(f\"if {res.__name__} has its own __init__, then update with __init__'s signature\")\n",
    "        if res.__init__ is not object.__init__: res.__signature__ = _rm_self(inspect.signature(res.__init__))\n",
    "        if hasattr(res, '__signature__'):\n",
    "            print(f\"\\nnow, {res.__name__}.__signature__ becomes:{res.__signature__}\")\n",
    "        \n",
    "        print(\"\\nend of metaclass FixSigMeta.__new__\\n============================\")\n",
    "        return res # and the object is passed on"
   ]
  },
  {
   "cell_type": "code",
   "execution_count": null,
   "id": "b9f75b53",
   "metadata": {},
   "outputs": [
    {
     "name": "stdout",
     "output_type": "stream",
     "text": [
      "=================================We are in the context of Bar: \n",
      "\n",
      "============================\n",
      "running metaclass FixSigMeta.__new__\n",
      "\n",
      "local variables are:\n",
      "\n",
      "{'__class__': <class '__main__.FixSigMeta'>,\n",
      " 'bases': (<class '__main__.Foo'>,),\n",
      " 'cls': <class '__main__.FixSigMeta'>,\n",
      " 'dict': {'__init__': <function Bar.__init__>,\n",
      "          '__module__': '__main__',\n",
      "          '__qualname__': 'Bar'},\n",
      " 'name': 'Bar'}\n",
      "\n",
      "Using type.__new__ to create a class instance of type: <class '__main__.Bar'>\n",
      "\"Bar's type should and is: <class '__main__.FixSigMeta'>\"\n",
      "\n",
      "Bar's inheritance tree: (<class '__main__.Bar'>, <class '__main__.Foo'>, <class 'object'>)\n",
      "In other words, Bar's bases are: (<class '__main__.Foo'>,)\n",
      "\n",
      "\n",
      "does Bar have attr `__signature__`:False\n",
      "<Signature (d, e, f)>\n",
      "if Bar has its own __init__, then update with __init__'s signature\n",
      "\n",
      "now, Bar.__signature__ becomes:(d, e, f)\n",
      "\n",
      "end of metaclass FixSigMeta.__new__\n",
      "============================\n"
     ]
    }
   ],
   "source": [
    "class Foo:\n",
    "    def __new__(cls, *args): # to create an instance of class Foo\n",
    "        print(\"============================\\nRunning Foo.__new__\")\n",
    "        \n",
    "        print(f\"local variables inside Foo.__new__:\\n\")\n",
    "        pprint(locals())\n",
    "        print(f\"cls.__class__ is: {cls.__class__}\")\n",
    "        \n",
    "        print(\"\\nwhat is super():\\n\")\n",
    "        pprint(super())\n",
    "        res = super().__new__(cls) # equivalent to object.__new__(cls), \n",
    "        # it is to create an object of class Bar whose superclass is Foo\n",
    "        print(f\"super().__new__ created: {res}\\n\")\n",
    "\n",
    "        return res\n",
    "    \n",
    "# FixSigMeta is called here to create Bar class, not to create instance of Bar\n",
    "class Bar(Foo, metaclass=FixSigMeta): \n",
    "    # running Foo.__new__ here\n",
    "    print(f\"=================================We are in the context of Bar: \\n\")\n",
    "    \n",
    "    def __init__(self, d, e, f): \n",
    "        print(\"\\n==================================\\n we are inside Bar.__init__\")\n",
    "        print(f\"local variables available to Bar.__init__:\\n\")\n",
    "        pprint(locals())"
   ]
  },
  {
   "cell_type": "code",
   "execution_count": null,
   "id": "432b40ef",
   "metadata": {},
   "outputs": [],
   "source": [
    "test_eq(isinstance(Bar, FixSigMeta), True) # FixSigMeta created Bar\n",
    "test_eq(isinstance(Bar, Foo), False) \n",
    "test_eq(issubclass(Bar, Foo), True) # Bar inherited from Foo\n",
    "test_eq(issubclass(Foo, object), True)"
   ]
  },
  {
   "cell_type": "code",
   "execution_count": null,
   "id": "d813a4d3",
   "metadata": {},
   "outputs": [
    {
     "name": "stdout",
     "output_type": "stream",
     "text": [
      "============================\n",
      "Running Foo.__new__\n",
      "local variables inside Foo.__new__:\n",
      "\n",
      "{'__class__': <class '__main__.Foo'>,\n",
      " 'args': (1, 2, 3),\n",
      " 'cls': <class '__main__.Bar'>}\n",
      "cls.__class__ is: <class '__main__.FixSigMeta'>\n",
      "\n",
      "what is super():\n",
      "\n",
      "<super: <class 'Foo'>, <Bar object>>\n",
      "super().__new__ created: <__main__.Bar object>\n",
      "\n",
      "\n",
      "==================================\n",
      " we are inside Bar.__init__\n",
      "local variables available to Bar.__init__:\n",
      "\n",
      "{'d': 1, 'e': 2, 'f': 3, 'self': <__main__.Bar object>}\n"
     ]
    }
   ],
   "source": [
    "# When creating an instance of Bar\n",
    "# It will not run FixSigMeta.__new__, but run FixSigMeta.__call__ (not specified) \n",
    "# as a result, inside Bar it inherits and runs Foo.__new__, \n",
    "# and then inherits and overrides Foo.__init__ with Bar.__init__\n",
    "b = Bar(1,2,3) "
   ]
  },
  {
   "cell_type": "markdown",
   "id": "a4af378e",
   "metadata": {},
   "source": [
    "#### how-FixSigMeta: when inherit a metaclass to override `__call__`\n",
    "\n",
    "If you need to define a metaclass that overrides `__call__` (as done in `PrePostInitMeta`), you need to inherit from `FixSigMeta` instead of `type` when constructing the metaclass to preserve the signature in `__init__`. Be careful not to override `__new__` when doing this:"
   ]
  },
  {
   "cell_type": "code",
   "execution_count": null,
   "id": "a7094db5",
   "metadata": {},
   "outputs": [],
   "source": [
    "class TestMeta(FixSigMeta): # making a subclass of FixSigMeta, which overrides __call__\n",
    "    # __new__ comes from FixSigMeta\n",
    "    def __call__(cls, *args, **kwargs): pass\n",
    "    "
   ]
  },
  {
   "cell_type": "code",
   "execution_count": null,
   "id": "a32c7caa",
   "metadata": {},
   "outputs": [
    {
     "name": "stdout",
     "output_type": "stream",
     "text": [
      "============================\n",
      "running metaclass FixSigMeta.__new__\n",
      "\n",
      "local variables are:\n",
      "\n",
      "{'__class__': <class '__main__.FixSigMeta'>,\n",
      " 'bases': (),\n",
      " 'cls': <class '__main__.TestMeta'>,\n",
      " 'dict': {'__init__': <function T.__init__>,\n",
      "          '__module__': '__main__',\n",
      "          '__qualname__': 'T'},\n",
      " 'name': 'T'}\n",
      "\n",
      "Using type.__new__ to create a class instance of type: <class '__main__.T'>\n",
      "\"T's type should and is: <class '__main__.TestMeta'>\"\n",
      "\n",
      "T's inheritance tree: (<class '__main__.T'>, <class 'object'>)\n",
      "In other words, T's bases are: (<class 'object'>,)\n",
      "\n",
      "\n",
      "does T have attr `__signature__`:False\n",
      "<Signature (*args, **kwargs)>\n",
      "if T has its own __init__, then update with __init__'s signature\n",
      "\n",
      "now, T.__signature__ becomes:(a, b)\n",
      "\n",
      "end of metaclass FixSigMeta.__new__\n",
      "============================\n"
     ]
    }
   ],
   "source": [
    "class T(metaclass=TestMeta):\n",
    "    def __init__(self, a, b): pass\n",
    "    "
   ]
  },
  {
   "cell_type": "code",
   "execution_count": null,
   "id": "c5a193c0",
   "metadata": {},
   "outputs": [],
   "source": [
    "test_sig(T, '(a, b)')"
   ]
  },
  {
   "cell_type": "markdown",
   "id": "2349327d",
   "metadata": {},
   "source": [
    "On the other hand, if you fail to inherit from `FixSigMeta` when inheriting from a metaclass that overrides `__call__`, your signature will reflect that of `__call__` instead (which is often undesirable):"
   ]
  },
  {
   "cell_type": "code",
   "execution_count": null,
   "id": "bdec5d19",
   "metadata": {},
   "outputs": [],
   "source": [
    "class GenericMeta(type): # create a metaclass from type and overrides both __new__ and __call_\n",
    "    \"A boilerplate metaclass that doesn't do anything for testing.\"\n",
    "    \n",
    "    def __new__(cls, name, bases, dict):\n",
    "        print(\"============================\\nrunning metaclass GenericMeta.__new__\\n\")\n",
    "        print(f\"local variables available to GenericMeta.__new__:\\n\")\n",
    "        pprint(locals())\n",
    "        \n",
    "        res = super().__new__(cls, name, bases, dict) # run type.__new__()\n",
    "        print(f\"\\ntype.__new__ created: {res}\")\n",
    "        pprint(f\"{res.__name__}'s type is {type(res)}\")\n",
    "        print(f\"\\n{res.__name__}'s inheritance tree: {res.__mro__}\")\n",
    "        print(f\"\\ndoes {res.__name__} have attr `__signature__`:{hasattr(res, '__signature__')}\")\n",
    "        pprint(inspect.signature(res))\n",
    "        print(f\"{res.__name__}'s bases are: {res.__bases__}\\n\")\n",
    "        \n",
    "        return res\n",
    "    \n",
    "    def __call__(cls, *args, **kwargs): print(\"==========================\\nrunning GenericMeta.__call__\")"
   ]
  },
  {
   "cell_type": "code",
   "execution_count": null,
   "id": "caa6afe0",
   "metadata": {},
   "outputs": [
    {
     "name": "stdout",
     "output_type": "stream",
     "text": [
      "============================\n",
      "running metaclass GenericMeta.__new__\n",
      "\n",
      "local variables available to GenericMeta.__new__:\n",
      "\n",
      "{'__class__': <class '__main__.GenericMeta'>,\n",
      " 'bases': (),\n",
      " 'cls': <class '__main__.GenericMeta'>,\n",
      " 'dict': {'__init__': <function T2.__init__>,\n",
      "          '__module__': '__main__',\n",
      "          '__qualname__': 'T2'},\n",
      " 'name': 'T2'}\n",
      "\n",
      "type.__new__ created: <class '__main__.T2'>\n",
      "\"T2's type is <class '__main__.GenericMeta'>\"\n",
      "\n",
      "T2's inheritance tree: (<class '__main__.T2'>, <class 'object'>)\n",
      "\n",
      "does T2 have attr `__signature__`:False\n",
      "<Signature (*args, **kwargs)>\n",
      "T2's bases are: (<class 'object'>,)\n",
      "\n"
     ]
    }
   ],
   "source": [
    "class T2(metaclass=GenericMeta):\n",
    "    def __init__(self, a, b): pass"
   ]
  },
  {
   "cell_type": "code",
   "execution_count": null,
   "id": "6478364d",
   "metadata": {},
   "outputs": [
    {
     "name": "stdout",
     "output_type": "stream",
     "text": [
      "==========================\n",
      "running GenericMeta.__call__\n"
     ]
    }
   ],
   "source": [
    "T2() # to instantiate an object of T2 class, GenericMeta.__call__ is called under the scene"
   ]
  },
  {
   "cell_type": "code",
   "execution_count": null,
   "id": "2942ca4e",
   "metadata": {},
   "outputs": [
    {
     "name": "stdout",
     "output_type": "stream",
     "text": [
      "============================\n",
      "running metaclass GenericMeta.__new__\n",
      "\n",
      "local variables available to GenericMeta.__new__:\n",
      "\n",
      "{'__class__': <class '__main__.GenericMeta'>,\n",
      " 'bases': (),\n",
      " 'cls': <class '__main__.GenericMeta'>,\n",
      " 'dict': {'__init__': <function T2.__init__>,\n",
      "          '__module__': '__main__',\n",
      "          '__qualname__': 'T2'},\n",
      " 'name': 'T2'}\n",
      "============================\n",
      "running metaclass FixSigMeta.__new__\n",
      "\n",
      "local variables are:\n",
      "\n",
      "{'__class__': <class '__main__.FixSigMeta'>,\n",
      " 'bases': (),\n",
      " 'cls': <class '__main__.GenericMeta'>,\n",
      " 'dict': {'__init__': <function T2.__init__>,\n",
      "          '__module__': '__main__',\n",
      "          '__qualname__': 'T2'},\n",
      " 'name': 'T2'}\n",
      "\n",
      "Using type.__new__ to create a class instance of type: <class '__main__.T2'>\n",
      "\"T2's type should and is: <class '__main__.GenericMeta'>\"\n",
      "\n",
      "T2's inheritance tree: (<class '__main__.T2'>, <class 'object'>)\n",
      "In other words, T2's bases are: (<class 'object'>,)\n",
      "\n",
      "\n",
      "does T2 have attr `__signature__`:False\n",
      "<Signature (*args, **kwargs)>\n",
      "if T2 has its own __init__, then update with __init__'s signature\n",
      "\n",
      "now, T2.__signature__ becomes:(a, b)\n",
      "\n",
      "end of metaclass FixSigMeta.__new__\n",
      "============================\n",
      "\n",
      "type.__new__ created: <class '__main__.T2'>\n",
      "\"T2's type is <class '__main__.GenericMeta'>\"\n",
      "\n",
      "T2's inheritance tree: (<class '__main__.T2'>, <class 'object'>)\n",
      "\n",
      "does T2 have attr `__signature__`:True\n",
      "<Signature (a, b)>\n",
      "T2's bases are: (<class 'object'>,)\n",
      "\n"
     ]
    }
   ],
   "source": [
    "class GenericMeta(FixSigMeta): # make GenericMeta a subclass of metaclass FixSigMeta\n",
    "    \"A boilerplate metaclass that doesn't do anything for testing.\"\n",
    "    def __new__(cls, name, bases, dict):\n",
    "        print(\"============================\\nrunning metaclass GenericMeta.__new__\\n\")\n",
    "        print(f\"local variables available to GenericMeta.__new__:\\n\")\n",
    "        pprint(locals())\n",
    "        \n",
    "        res = super().__new__(cls, name, bases, dict) # run type.__new__()\n",
    "        print(f\"\\ntype.__new__ created: {res}\")\n",
    "        pprint(f\"{res.__name__}'s type is {type(res)}\")\n",
    "        print(f\"\\n{res.__name__}'s inheritance tree: {res.__mro__}\")\n",
    "        print(f\"\\ndoes {res.__name__} have attr `__signature__`:{hasattr(res, '__signature__')}\")\n",
    "        pprint(inspect.signature(res))\n",
    "        print(f\"{res.__name__}'s bases are: {res.__bases__}\\n\")\n",
    "        \n",
    "        return res\n",
    "    \n",
    "    \n",
    "    def __call__(cls, *args, **kwargs): print(\"==========================\\nrunning GenericMeta.__call__\")\n",
    "\n",
    "class T2(metaclass=GenericMeta): # create T2 class as an instance of GenericMeta class\n",
    "    def __init__(self, a, b): pass\n",
    "\n",
    "test_sig(T2, '(a, b)')"
   ]
  },
  {
   "cell_type": "code",
   "execution_count": null,
   "id": "d0030cfb",
   "metadata": {},
   "outputs": [],
   "source": [
    "FixSigMeta??"
   ]
  },
  {
   "cell_type": "markdown",
   "id": "6daa0c7b",
   "metadata": {},
   "source": [
    "## "
   ]
  },
  {
   "cell_type": "markdown",
   "id": "e0d68371",
   "metadata": {},
   "source": [
    "## PrePostInitMeta"
   ]
  },
  {
   "cell_type": "markdown",
   "id": "f9a44889",
   "metadata": {},
   "source": [
    "### Relations between PrePostInitMeta and FixSigMeta"
   ]
  },
  {
   "cell_type": "code",
   "execution_count": null,
   "id": "129af4a4",
   "metadata": {},
   "outputs": [
    {
     "name": "stdout",
     "output_type": "stream",
     "text": [
      "==================\n",
      "Running inside PrePostInitMeta\n",
      "\n",
      "PrePostInitMeta will inherit __new__ and __init__ from FixSigMeta\n",
      "====================end of PrePostInitMeta class\n"
     ]
    }
   ],
   "source": [
    "#|export\n",
    "class PrePostInitMeta(FixSigMeta): # make a subclass of metaclass FixSigMeta, is now a metaclass\n",
    "    \"A metaclass that calls optional `__pre_init__` and `__post_init__` methods\"\n",
    "    \n",
    "    print(f\"==================\\nRunning inside PrePostInitMeta\\n\")\n",
    "    print(f\"PrePostInitMeta will inherit __new__ and __init__ from FixSigMeta\")\n",
    "    \n",
    "    # override the metaclass FixSigMeta.__call__\n",
    "    def __call__(cls, *args, **kwargs):\n",
    "        print(f\"==================\\nRunning PrePostInitMeta.__call__\\n\")\n",
    "        print(f\"local variables:\")\n",
    "        pprint(locals())\n",
    "        \n",
    "        # let the cls to create an object instance based on cls, and assign obj to res\n",
    "        res = cls.__new__(cls) # res is a class\n",
    "        print(f\"\\nTask 1 running res = {cls.__name__}.__new__(cls) to create an obj instance of {cls.__name__}: {res}\")\n",
    "        \n",
    "        if type(res)==cls: # if res is an instance of cls\n",
    "            \n",
    "            print(f\"\\nTask 2: \\nif {res.__class__.__name__} object is an instance of {cls.__name__} and \\\n",
    "{res.__class__.__name__} has '__pre_init__' attr, then run {res.__class__.__name__}.__pre_init__ on the object.\")\n",
    "            # if the instance class has __pre__init__, then run this func\n",
    "            if hasattr(res,'__pre_init__'): res.__pre_init__(*args,**kwargs)\n",
    "                \n",
    "            print(f\"\\nTask 3: \\nif {res.__class__.__name__} object is an instance of {cls.__name__}, \\\n",
    "then run {res.__class__.__name__}.__init__ on the object.\")\n",
    "            res.__init__(*args,**kwargs) # call res.__init__\n",
    "            \n",
    "       \n",
    "            print(f\"\\nTask 4: \\nif {res.__class__.__name__} object is an instance of {cls.__name__} and \\\n",
    "{res.__class__.__name__} has '__post_init__' attr, then run {res.__class__.__name__}.__post_init__ on the object.\")\n",
    "            if hasattr(res,'__post_init__'): res.__post_init__(*args,**kwargs)\n",
    "\n",
    "            print(f\"\\nfinally, return the initialized object of class {res.__class__.__name__}\")\n",
    "            print(f\"====================end of PrePostInitMeta.__call__\")\n",
    "            return res # return obj\n",
    "    print(f\"====================end of PrePostInitMeta class\")"
   ]
  },
  {
   "cell_type": "code",
   "execution_count": null,
   "id": "5ee3831d",
   "metadata": {},
   "outputs": [
    {
     "data": {
      "text/plain": [
       "True"
      ]
     },
     "execution_count": null,
     "metadata": {},
     "output_type": "execute_result"
    }
   ],
   "source": [
    "type(PrePostInitMeta) == PrePostInitMeta.__class__ == type"
   ]
  },
  {
   "cell_type": "code",
   "execution_count": null,
   "id": "eee6bc02",
   "metadata": {},
   "outputs": [
    {
     "data": {
      "text/plain": [
       "(__main__.FixSigMeta,)"
      ]
     },
     "execution_count": null,
     "metadata": {},
     "output_type": "execute_result"
    }
   ],
   "source": [
    "PrePostInitMeta.__bases__ # so will inherit __new__, __init__ from FixSigMeta"
   ]
  },
  {
   "cell_type": "code",
   "execution_count": null,
   "id": "1dd5bb0c",
   "metadata": {},
   "outputs": [
    {
     "data": {
      "text/plain": [
       "(__main__.PrePostInitMeta, __main__.FixSigMeta, type, object)"
      ]
     },
     "execution_count": null,
     "metadata": {},
     "output_type": "execute_result"
    }
   ],
   "source": [
    "PrePostInitMeta.__mro__"
   ]
  },
  {
   "cell_type": "code",
   "execution_count": null,
   "id": "913df689",
   "metadata": {},
   "outputs": [
    {
     "data": {
      "text/plain": [
       "(__main__.FixSigMeta, type, object)"
      ]
     },
     "execution_count": null,
     "metadata": {},
     "output_type": "execute_result"
    }
   ],
   "source": [
    "FixSigMeta.__mro__"
   ]
  },
  {
   "cell_type": "code",
   "execution_count": null,
   "id": "04c25242",
   "metadata": {},
   "outputs": [],
   "source": []
  },
  {
   "cell_type": "markdown",
   "id": "88e80c48",
   "metadata": {},
   "source": [
    "### `PrePostInitMeta` examples"
   ]
  },
  {
   "cell_type": "markdown",
   "id": "fcacb12d",
   "metadata": {},
   "source": [
    "A metaclass that calls optional `__pre_init__` and `__post_init__` methods `__pre_init__` and `__post_init__` are useful for initializing variables or performing tasks prior to or after `__init__` being called, respectively. Fore example:"
   ]
  },
  {
   "cell_type": "code",
   "execution_count": null,
   "id": "4433ddb2",
   "metadata": {},
   "outputs": [
    {
     "name": "stdout",
     "output_type": "stream",
     "text": [
      "\n",
      "===============Running inside _T\n",
      "\n",
      "============================\n",
      "running metaclass FixSigMeta.__new__\n",
      "\n",
      "local variables are:\n",
      "\n",
      "{'__class__': <class '__main__.FixSigMeta'>,\n",
      " 'bases': (),\n",
      " 'cls': <class '__main__.PrePostInitMeta'>,\n",
      " 'dict': {'__init__': <function _T.__init__>,\n",
      "          '__module__': '__main__',\n",
      "          '__post_init__': <function _T.__post_init__>,\n",
      "          '__pre_init__': <function _T.__pre_init__>,\n",
      "          '__qualname__': '_T'},\n",
      " 'name': '_T'}\n",
      "\n",
      "Using type.__new__ to create a class instance of type: <class '__main__._T'>\n",
      "\"_T's type should and is: <class '__main__.PrePostInitMeta'>\"\n",
      "\n",
      "_T's inheritance tree: (<class '__main__._T'>, <class 'object'>)\n",
      "In other words, _T's bases are: (<class 'object'>,)\n",
      "\n",
      "\n",
      "does _T have attr `__signature__`:False\n",
      "<Signature (*args, **kwargs)>\n",
      "if _T has its own __init__, then update with __init__'s signature\n",
      "\n",
      "now, _T.__signature__ becomes:(b=0)\n",
      "\n",
      "end of metaclass FixSigMeta.__new__\n",
      "============================\n"
     ]
    }
   ],
   "source": [
    "# When creating an instance class by metaclass PrePostInitMeta, \n",
    "# PrePostInitMeta.__new__ is called, but PrePostInitMeta inherit __new__ from FixSigMeta\n",
    "# so FixSigMeta.__new__ is actually called below\n",
    "\n",
    "# _T is inherited from object and will use object.__new__ and object.__init__ \n",
    "# _T needs to create its own instance objects\n",
    "\n",
    "# _T builts its own 3 instance methods which all related to __init__\n",
    "\n",
    "# todo: export my debugging version of FixSigMeta to the library\n",
    "# todo: maybe the first problem of delegates do need attention\n",
    "class _T(metaclass=PrePostInitMeta):\n",
    "    print(\"\\n===============Running inside _T\\n\")\n",
    "    def __pre_init__(self):  \n",
    "        print(\"====Running inside _T.__pre_init__\\n\")\n",
    "        self.a  = 0; \n",
    "    def __init__(self,b=0):  \n",
    "        self.b = self.a + 1; assert self.b==1\n",
    "        print(\"====Running inside _T.__init__\\n\")\n",
    "    def __post_init__(self): \n",
    "        self.c = self.b + 2; assert self.c==3\n",
    "        print(\"====Running inside _T.__post_init__\\n\")"
   ]
  },
  {
   "cell_type": "code",
   "execution_count": null,
   "id": "8c086162",
   "metadata": {},
   "outputs": [
    {
     "name": "stdout",
     "output_type": "stream",
     "text": [
      "==================\n",
      "Running PrePostInitMeta.__call__\n",
      "\n",
      "local variables:\n",
      "{'args': (), 'cls': <class '__main__._T'>, 'kwargs': {}}\n",
      "\n",
      "Task 1 running res = _T.__new__(cls) to create an obj instance of _T: <__main__._T object>\n",
      "\n",
      "Task 2: \n",
      "if _T object is an instance of _T and _T has '__pre_init__' attr, then run _T.__pre_init__ on the object.\n",
      "====Running inside _T.__pre_init__\n",
      "\n",
      "\n",
      "Task 3: \n",
      "if _T object is an instance of _T, then run _T.__init__ on the object.\n",
      "====Running inside _T.__init__\n",
      "\n",
      "\n",
      "Task 4: \n",
      "if _T object is an instance of _T and _T has '__post_init__' attr, then run _T.__post_init__ on the object.\n",
      "====Running inside _T.__post_init__\n",
      "\n",
      "\n",
      "finally, return the initialized object of class _T\n",
      "====================end of PrePostInitMeta.__call__\n"
     ]
    }
   ],
   "source": [
    "# when _T is instantiated, _T's metaclass'__call__ (i.e., PrePostInitMeta.__call__) is called \n",
    "# _T.__class__.__call__ in general will use _T.__new__ and _T.__init__ \n",
    "# to create and initialize an instance object of _T.\n",
    "\n",
    "# PrePostInitMeta.__call__: has a particular way of creating and initializing an object\n",
    "# using _T.__new__, _T.__init__, and _T.__pre_init__, _T.__post_init__ \n",
    "\n",
    "t = _T() # only instantiate an object, to do so, PrePostInitMeta.__call__ is called"
   ]
  },
  {
   "cell_type": "code",
   "execution_count": null,
   "id": "7b6b467f",
   "metadata": {},
   "outputs": [],
   "source": [
    "test_eq(t.a, 0) # set with __pre_init__\n",
    "test_eq(t.b, 1) # set with __init__\n",
    "test_eq(t.c, 3) # set with __post_init__"
   ]
  },
  {
   "cell_type": "markdown",
   "id": "0268c075",
   "metadata": {},
   "source": [
    "how-prepostinitmeta: One use for PrePostInitMeta is avoiding the __super__().__init__() boilerplate associated with subclassing, such as used in AutoInit."
   ]
  },
  {
   "cell_type": "code",
   "execution_count": null,
   "id": "c0a992e4",
   "metadata": {},
   "outputs": [],
   "source": []
  },
  {
   "cell_type": "markdown",
   "id": "c10416c4",
   "metadata": {},
   "source": [
    "## "
   ]
  },
  {
   "cell_type": "markdown",
   "id": "90ba63f6",
   "metadata": {},
   "source": [
    "## `AutoInit`"
   ]
  },
  {
   "cell_type": "markdown",
   "id": "5e724a00",
   "metadata": {},
   "source": [
    "how-super: a good [answer](https://stackoverflow.com/questions/576169/understanding-python-super-with-init-methods) on `super` and a [great guide](https://rhettinger.wordpress.com/2011/05/26/super-considered-super/)? and see `PrePostInitMeta` and `AutoInit` make it even better! "
   ]
  },
  {
   "cell_type": "markdown",
   "id": "3b94500b",
   "metadata": {},
   "source": [
    "### `AutoInit` source"
   ]
  },
  {
   "cell_type": "code",
   "execution_count": null,
   "id": "d329d528",
   "metadata": {},
   "outputs": [
    {
     "name": "stdout",
     "output_type": "stream",
     "text": [
      "\n",
      "=========Running inside AutoInit class\n",
      "\n",
      "============================\n",
      "running metaclass FixSigMeta.__new__\n",
      "\n",
      "local variables are:\n",
      "\n",
      "{'__class__': <class '__main__.FixSigMeta'>,\n",
      " 'bases': (),\n",
      " 'cls': <class '__main__.PrePostInitMeta'>,\n",
      " 'dict': {'__classcell__': <cell at 0x110bbbaf0: empty>,\n",
      "          '__doc__': 'Same as `object`, but no need for subclasses to call '\n",
      "                     '`super().__init__`',\n",
      "          '__module__': '__main__',\n",
      "          '__pre_init__': <function AutoInit.__pre_init__>,\n",
      "          '__qualname__': 'AutoInit'},\n",
      " 'name': 'AutoInit'}\n",
      "\n",
      "Using type.__new__ to create a class instance of type: <class '__main__.AutoInit'>\n",
      "\"AutoInit's type should and is: <class '__main__.PrePostInitMeta'>\"\n",
      "\n",
      "AutoInit's inheritance tree: (<class '__main__.AutoInit'>, <class 'object'>)\n",
      "In other words, AutoInit's bases are: (<class 'object'>,)\n",
      "\n",
      "\n",
      "does AutoInit have attr `__signature__`:False\n",
      "<Signature (*args, **kwargs)>\n",
      "if AutoInit has its own __init__, then update with __init__'s signature\n",
      "\n",
      "end of metaclass FixSigMeta.__new__\n",
      "============================\n"
     ]
    }
   ],
   "source": [
    "#|export\n",
    "# AutoInit is a class created by metaclass PrePostInitMeta, not type\n",
    "# AutoInit inherit from object, not PrePostInitMeta\n",
    "# when AutoInit makes an object instance, \n",
    "# the PrePostInitMeta.__call__ makes use of __pre_init__, __init__, __post_init__ of AutoInit\n",
    "# if AutoInit has them\n",
    "\n",
    "# but right now, only PrePostInitMeta.__new__ is called to create a class instance of itself\n",
    "# AntoInit is not a metaclass, but a class instance of PrePostInitMeta\n",
    "class AutoInit(metaclass=PrePostInitMeta):\n",
    "    \"Same as `object`, but no need for subclasses to call `super().__init__`\"\n",
    "    \n",
    "    print(f\"\\n=========Running inside AutoInit class\\n\")\n",
    "    \n",
    "    def __pre_init__(self, *args, **kwargs): \n",
    "        print(f\"\\n====Running inside AutoInit.__pre_init__: \\n\")\n",
    "        \n",
    "        super().__init__(*args, **kwargs)\n",
    "        print(f\"Now, object.__init__ is called to initialize, so that subclasses of AutoInit \\\n",
    "        not need to run this line of code.\")"
   ]
  },
  {
   "cell_type": "markdown",
   "id": "777ae469",
   "metadata": {},
   "source": [
    "### `AutoInit` examples\n",
    "\n",
    "how-prepostinitmeta: in fastai [code](https://github.com/fastai/fastai/search?q=PrePostInitMeta)"
   ]
  },
  {
   "cell_type": "markdown",
   "id": "f6fbc18d",
   "metadata": {},
   "source": [
    "how-autoinit: use `AutoInit` in real life. This is normally used as a mixin, eg:"
   ]
  },
  {
   "cell_type": "code",
   "execution_count": null,
   "id": "c4498114",
   "metadata": {},
   "outputs": [
    {
     "name": "stdout",
     "output_type": "stream",
     "text": [
      "============Running inside TestChild class:\n",
      "\n",
      "============================\n",
      "running metaclass FixSigMeta.__new__\n",
      "\n",
      "local variables are:\n",
      "\n",
      "{'__class__': <class '__main__.FixSigMeta'>,\n",
      " 'bases': (<class '__main__.AutoInit'>, <class '__main__.TestParent'>),\n",
      " 'cls': <class '__main__.PrePostInitMeta'>,\n",
      " 'dict': {'__init__': <function TestChild.__init__>,\n",
      "          '__module__': '__main__',\n",
      "          '__qualname__': 'TestChild'},\n",
      " 'name': 'TestChild'}\n",
      "\n",
      "Using type.__new__ to create a class instance of type: <class '__main__.TestChild'>\n",
      "\"TestChild's type should and is: <class '__main__.PrePostInitMeta'>\"\n",
      "\n",
      "TestChild's inheritance tree: (<class '__main__.TestChild'>, <class '__main__.AutoInit'>, <class '__main__.TestParent'>, <class 'object'>)\n",
      "In other words, TestChild's bases are: (<class '__main__.AutoInit'>, <class '__main__.TestParent'>)\n",
      "\n",
      "\n",
      "does TestChild have attr `__signature__`:False\n",
      "<Signature (*args, **kwargs)>\n",
      "if TestChild has its own __init__, then update with __init__'s signature\n",
      "\n",
      "now, TestChild.__signature__ becomes:()\n",
      "\n",
      "end of metaclass FixSigMeta.__new__\n",
      "============================\n"
     ]
    }
   ],
   "source": [
    "class TestParent():\n",
    "    def __init__(self): self.h = 10\n",
    "        \n",
    "class TestChild(AutoInit, TestParent): # how AutoInit used as mixin\n",
    "    print(f\"============Running inside TestChild class:\\n\")\n",
    "    def __init__(self): \n",
    "        self.k = self.h + 2 # No More worry about super().__init__ \n",
    "        print(f\"====running TestChild.__init__\\n\")\n",
    "    "
   ]
  },
  {
   "cell_type": "code",
   "execution_count": null,
   "id": "d6993220",
   "metadata": {},
   "outputs": [
    {
     "name": "stdout",
     "output_type": "stream",
     "text": [
      "==================\n",
      "Running PrePostInitMeta.__call__\n",
      "\n",
      "local variables:\n",
      "{'args': (), 'cls': <class '__main__.TestChild'>, 'kwargs': {}}\n",
      "\n",
      "Task 1 running res = TestChild.__new__(cls) to create an obj instance of TestChild: <__main__.TestChild object>\n",
      "\n",
      "Task 2: \n",
      "if TestChild object is an instance of TestChild and TestChild has '__pre_init__' attr, then run TestChild.__pre_init__ on the object.\n",
      "\n",
      "====Running inside AutoInit.__pre_init__: \n",
      "\n",
      "Now, object.__init__ is called to initialize, so that subclasses of AutoInit         not need to run this line of code.\n",
      "\n",
      "Task 3: \n",
      "if TestChild object is an instance of TestChild, then run TestChild.__init__ on the object.\n",
      "====running TestChild.__init__\n",
      "\n",
      "\n",
      "Task 4: \n",
      "if TestChild object is an instance of TestChild and TestChild has '__post_init__' attr, then run TestChild.__post_init__ on the object.\n",
      "\n",
      "finally, return the initialized object of class TestChild\n",
      "====================end of PrePostInitMeta.__call__\n"
     ]
    }
   ],
   "source": [
    "t = TestChild()\n",
    "test_eq(t.h, 10) # h=10 is initialized in the parent class\n",
    "test_eq(t.k, 12)"
   ]
  },
  {
   "cell_type": "markdown",
   "id": "4d595127",
   "metadata": {},
   "source": [
    "how-class: how-metaclass: a great answer on [class](https://stackoverflow.com/questions/100003/what-are-metaclasses-in-python/6581949#6581949) and on [metaclass](https://hyp.is/Z7kBshlQEe25MUNPsjGP0w/stackoverflow.com/questions/100003/what-are-metaclasses-in-python)"
   ]
  },
  {
   "cell_type": "markdown",
   "id": "fe68f579",
   "metadata": {},
   "source": [
    "## "
   ]
  },
  {
   "cell_type": "markdown",
   "id": "2ac78af3",
   "metadata": {},
   "source": [
    "## "
   ]
  },
  {
   "cell_type": "markdown",
   "id": "5c207ecc",
   "metadata": {},
   "source": [
    "#|hide\n",
    "## Export"
   ]
  },
  {
   "cell_type": "code",
   "execution_count": null,
   "id": "98b73ac5",
   "metadata": {},
   "outputs": [],
   "source": [
    "#|hide\n",
    "from nbdev import nbdev_export\n",
    "nbdev_export()"
   ]
  },
  {
   "cell_type": "markdown",
   "id": "3a648b0c",
   "metadata": {},
   "source": [
    "#|hide\n",
    "## Sending to Obs"
   ]
  },
  {
   "cell_type": "code",
   "execution_count": null,
   "id": "a0320434",
   "metadata": {},
   "outputs": [
    {
     "name": "stdout",
     "output_type": "stream",
     "text": [
      "[jupytext] Reading /Users/Natsume/Documents/debuggable/fastcore/00_delegates.ipynb in format ipynb\n",
      "[jupytext] Writing /Users/Natsume/Documents/debuggable/fastcore/00_delegates.md\n"
     ]
    }
   ],
   "source": [
    "#|hide\n",
    "!jupytext --to md /Users/Natsume/Documents/debuggable/fastcore/00_delegates.ipynb\n",
    "!mv /Users/Natsume/Documents/debuggable/fastcore/00_delegates.md \\\n",
    "/Users/Natsume/Documents/divefastai/Debuggable/jupytext/fastcore/"
   ]
  },
  {
   "cell_type": "code",
   "execution_count": null,
   "id": "c6da1a92",
   "metadata": {},
   "outputs": [
    {
     "name": "stdout",
     "output_type": "stream",
     "text": [
      "[NbConvertApp] Converting notebook /Users/Natsume/Documents/debuggable/index.ipynb to markdown\n",
      "[NbConvertApp] Writing 7680 bytes to /Users/Natsume/Documents/divefastai/Debuggable/nbconvert/index.md\n",
      "[NbConvertApp] Converting notebook /Users/Natsume/Documents/debuggable/utils.ipynb to markdown\n",
      "[NbConvertApp] Writing 14526 bytes to /Users/Natsume/Documents/divefastai/Debuggable/nbconvert/utils.md\n",
      "[NbConvertApp] Converting notebook /Users/Natsume/Documents/debuggable/fastcore/delegates_keep.ipynb to markdown\n",
      "[NbConvertApp] Writing 11469 bytes to /Users/Natsume/Documents/divefastai/Debuggable/nbconvert/delegates_keep.md\n",
      "[NbConvertApp] Converting notebook /Users/Natsume/Documents/debuggable/fastcore/00_delegates.ipynb to markdown\n",
      "[NbConvertApp] Writing 69707 bytes to /Users/Natsume/Documents/divefastai/Debuggable/nbconvert/00_delegates.md\n",
      "[NbConvertApp] Converting notebook /Users/Natsume/Documents/debuggable/fastcore/classes_metaclasses.ipynb to markdown\n",
      "[NbConvertApp] Writing 27393 bytes to /Users/Natsume/Documents/divefastai/Debuggable/nbconvert/classes_metaclasses.md\n"
     ]
    }
   ],
   "source": [
    "!jupyter nbconvert --config /Users/Natsume/Documents/mynbcfg.py --to markdown \\\n",
    "--output-dir /Users/Natsume/Documents/divefastai/Debuggable/nbconvert"
   ]
  },
  {
   "cell_type": "code",
   "execution_count": null,
   "id": "14f4a0c7",
   "metadata": {},
   "outputs": [],
   "source": []
  }
 ],
 "metadata": {
  "kernelspec": {
   "display_name": "Python 3 (ipykernel)",
   "language": "python",
   "name": "python3"
  }
 },
 "nbformat": 4,
 "nbformat_minor": 5
}
