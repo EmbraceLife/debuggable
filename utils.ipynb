{
 "cells": [
  {
   "cell_type": "code",
   "execution_count": null,
   "id": "447471b6",
   "metadata": {},
   "outputs": [],
   "source": [
    "#|default_exp utils"
   ]
  },
  {
   "cell_type": "markdown",
   "id": "3abafec8",
   "metadata": {},
   "source": [
    "# debuggable utils\n",
    "build useful functions along the way for experiments"
   ]
  },
  {
   "cell_type": "markdown",
   "id": "138ab02f",
   "metadata": {},
   "source": [
    "## Find out everything about a module"
   ]
  },
  {
   "cell_type": "code",
   "execution_count": null,
   "id": "4f00a0e5",
   "metadata": {},
   "outputs": [],
   "source": [
    "#|export\n",
    "from inspect import getmembers, isfunction, isclass, isbuiltin, getsource\n",
    "import os.path, pkgutil\n",
    "from pprint import pprint\n",
    "import re\n",
    "import ast\n",
    "import inspect\n",
    "from fastcore.meta import *\n",
    "from fastcore.imports import *"
   ]
  },
  {
   "cell_type": "code",
   "execution_count": null,
   "id": "38b3cca2",
   "metadata": {},
   "outputs": [],
   "source": [
    "import fastcore.meta as fm\n",
    "import fastai.basics as fb\n",
    "from nbdev.showdoc import *"
   ]
  },
  {
   "cell_type": "code",
   "execution_count": null,
   "id": "933b4c8b",
   "metadata": {},
   "outputs": [],
   "source": [
    "#|export\n",
    "def whatinside(mo, # module, e.g., `import fastcore.all as fa`, use `fa` here\n",
    "               dun:bool=False, # print all items in __all__\n",
    "               func:bool=False, # print all user defined functions\n",
    "               clas:bool=False, # print all class objects\n",
    "               bltin:bool=False, # print all builtin funcs or methods\n",
    "               lib:bool=False, # print all the modules of the library it belongs to\n",
    "               cal:bool=False # print all callables\n",
    "             ): \n",
    "    'Check what inside a module: __all__, functions, classes, builtins, and callables'\n",
    "    dun_all = len(mo.__all__) if hasattr(mo, \"__all__\") else 0\n",
    "    funcs = getmembers(mo, isfunction)\n",
    "    classes = getmembers(mo, isclass)\n",
    "    builtins = getmembers(mo, isbuiltin)\n",
    "    callables = getmembers(mo, callable)\n",
    "    pkgpath = os.path.dirname(mo.__file__)\n",
    "    print(f\"{mo.__name__} has: \\n{dun_all} items in its __all__, and \\n{len(funcs)} user defined functions, \\n{len(classes)} classes or class objects, \\n{len(builtins)} builtin funcs and methods, and\\n{len(callables)} callables.\\n\")  \n",
    "    if hasattr(mo, \"__all__\") and dun: pprint(mo.__all__)\n",
    "    if func: \n",
    "        print(f'The user defined functions are:')\n",
    "        pprint([i[0] for i in funcs])\n",
    "    if clas: \n",
    "        print(f'The class objects are:')\n",
    "        pprint([i[0] for i in classes])\n",
    "    if bltin: \n",
    "        print(f'The builtin functions or methods are:')\n",
    "        pprint([i[0] for i in builtins])\n",
    "    if cal: \n",
    "        print(f'The callables are: ')\n",
    "        pprint([i[0] for i in callables])\n",
    "    if lib: \n",
    "        modules = [name for _, name, _ in pkgutil.iter_modules([pkgpath])]\n",
    "        print(f'The library has {len(modules)} modules')\n",
    "        pprint(modules)"
   ]
  },
  {
   "cell_type": "markdown",
   "id": "d2fef52f",
   "metadata": {},
   "source": [
    "```python\n",
    "\n",
    "def whatinside(mo, # module, e.g., `import fastcore.all as fa`, use `fa` here\n",
    "               dun:bool=False, # print all items in __all__\n",
    "               func:bool=False, # print all user defined functions\n",
    "               clas:bool=False, # print all class objects\n",
    "               bltin:bool=False, # print all builtin funcs or methods\n",
    "               lib:bool=False, # print all the modules of the library it belongs to\n",
    "               cal:bool=False # print all callables\n",
    "             ): \n",
    "    'Check what inside a module: __all__, functions, classes, builtins, and callables'\n",
    "    dun_all = len(mo.__all__) if hasattr(mo, \"__all__\") else 0\n",
    "    funcs = getmembers(mo, isfunction)\n",
    "    classes = getmembers(mo, isclass)\n",
    "    builtins = getmembers(mo, isbuiltin)\n",
    "    callables = getmembers(mo, callable)\n",
    "    pkgpath = os.path.dirname(mo.__file__)\n",
    "    print(f\"{mo.__name__} has: \\n{dun_all} items in its __all__, and \\n{len(funcs)} user defined functions, \\n{len(classes)} classes or class objects, \\n{len(builtins)} builtin funcs and methods, and\\n{len(callables)} callables.\\n\")  \n",
    "    if hasattr(mo, \"__all__\") and dun: pprint(mo.__all__)\n",
    "    if func: \n",
    "        print(f'The user defined functions are:')\n",
    "        pprint([i[0] for i in funcs])\n",
    "    if clas: \n",
    "        print(f'The class objects are:')\n",
    "        pprint([i[0] for i in classes])\n",
    "    if bltin: \n",
    "        print(f'The builtin functions or methods are:')\n",
    "        pprint([i[0] for i in builtins])\n",
    "    if cal: \n",
    "        print(f'The callables are: ')\n",
    "        pprint([i[0] for i in callables])\n",
    "    if lib: \n",
    "        modules = [name for _, name, _ in pkgutil.iter_modules([pkgpath])]\n",
    "        print(f'The library has {len(modules)} modules')\n",
    "        pprint(modules)\n",
    "```"
   ]
  },
  {
   "cell_type": "code",
   "execution_count": null,
   "id": "d8e21917",
   "metadata": {},
   "outputs": [
    {
     "name": "stdout",
     "output_type": "stream",
     "text": [
      "fastcore.meta has: \n",
      "13 items in its __all__, and \n",
      "43 user defined functions, \n",
      "19 classes or class objects, \n",
      "2 builtin funcs and methods, and\n",
      "74 callables.\n",
      "\n",
      "The user defined functions are:\n",
      "['_funcs_kwargs',\n",
      " '_mk_param',\n",
      " '_rm_self',\n",
      " 'all_equal',\n",
      " 'anno_dict',\n",
      " 'any_is_instance',\n",
      " 'array_equal',\n",
      " 'contextmanager',\n",
      " 'copy',\n",
      " 'delegates',\n",
      " 'df_equal',\n",
      " 'empty2none',\n",
      " 'equals',\n",
      " 'funcs_kwargs',\n",
      " 'in_colab',\n",
      " 'in_ipython',\n",
      " 'in_jupyter',\n",
      " 'in_notebook',\n",
      " 'ipython_shell',\n",
      " 'is_close',\n",
      " 'is_coll',\n",
      " 'is_iter',\n",
      " 'isinstance_str',\n",
      " 'method',\n",
      " 'nequals',\n",
      " 'noop',\n",
      " 'noops',\n",
      " 'remove_prefix',\n",
      " 'remove_suffix',\n",
      " 'test',\n",
      " 'test_close',\n",
      " 'test_eq',\n",
      " 'test_eq_type',\n",
      " 'test_fail',\n",
      " 'test_fig_exists',\n",
      " 'test_is',\n",
      " 'test_ne',\n",
      " 'test_shuffled',\n",
      " 'test_sig',\n",
      " 'test_stdout',\n",
      " 'test_warns',\n",
      " 'use_kwargs',\n",
      " 'use_kwargs_dict']\n"
     ]
    }
   ],
   "source": [
    "whatinside(fm, func=True)"
   ]
  },
  {
   "cell_type": "code",
   "execution_count": null,
   "id": "c807b3c9",
   "metadata": {},
   "outputs": [
    {
     "name": "stdout",
     "output_type": "stream",
     "text": [
      "fastai.basics has: \n",
      "0 items in its __all__, and \n",
      "430 user defined functions, \n",
      "237 classes or class objects, \n",
      "4 builtin funcs and methods, and\n",
      "696 callables.\n",
      "\n",
      "The builtin functions or methods are:\n",
      "['array', 'as_tensor', 'reduce', 'warn']\n"
     ]
    }
   ],
   "source": [
    "whatinside(fb, bltin=True)"
   ]
  },
  {
   "cell_type": "code",
   "execution_count": null,
   "id": "006e230a",
   "metadata": {},
   "outputs": [
    {
     "name": "stdout",
     "output_type": "stream",
     "text": [
      "fastai.basics has: \n",
      "0 items in its __all__, and \n",
      "430 user defined functions, \n",
      "237 classes or class objects, \n",
      "4 builtin funcs and methods, and\n",
      "696 callables.\n",
      "\n",
      "The library has 24 modules\n",
      "['_modidx',\n",
      " '_nbdev',\n",
      " '_pytorch_doc',\n",
      " 'basics',\n",
      " 'callback',\n",
      " 'collab',\n",
      " 'data',\n",
      " 'distributed',\n",
      " 'fp16_utils',\n",
      " 'imports',\n",
      " 'interpret',\n",
      " 'layers',\n",
      " 'learner',\n",
      " 'losses',\n",
      " 'medical',\n",
      " 'metrics',\n",
      " 'optimizer',\n",
      " 'tabular',\n",
      " 'test_utils',\n",
      " 'text',\n",
      " 'torch_basics',\n",
      " 'torch_core',\n",
      " 'torch_imports',\n",
      " 'vision']\n"
     ]
    }
   ],
   "source": [
    "whatinside(fb, lib=True)"
   ]
  },
  {
   "cell_type": "markdown",
   "id": "4c2a7864",
   "metadata": {},
   "source": [
    "## Find out the version of a library"
   ]
  },
  {
   "cell_type": "markdown",
   "id": "eae0be65",
   "metadata": {},
   "source": [
    "### `whichversion` source"
   ]
  },
  {
   "cell_type": "code",
   "execution_count": null,
   "id": "3ae381a8",
   "metadata": {},
   "outputs": [],
   "source": [
    "#|export\n",
    "from importlib.metadata import version, metadata, distribution\n",
    "from platform import python_version "
   ]
  },
  {
   "cell_type": "code",
   "execution_count": null,
   "id": "8dc80ffb",
   "metadata": {},
   "outputs": [],
   "source": [
    "#|export\n",
    "def whichversion(libname:str, # library name\n",
    "                req:bool=False, # print lib requirements \n",
    "                file:bool=False): # print all lib files\n",
    "    \"Give you library version and other basic info.\"\n",
    "    if libname=='python':\n",
    "        print(f\"python: {python_version()}\")\n",
    "    else: \n",
    "        print(f\"{metadata(libname)['Name']}: {version(libname)} \\n{metadata(libname)['Summary']}\\\n",
    "    \\n{metadata(libname)['Author']} \\n{metadata(libname)['Home-page']} \\\n",
    "    \\npython_version: {metadata(libname)['Requires-Python']} \\\n",
    "    \\n{distribution(libname).locate_file(libname)}\")\n",
    "\n",
    "    if req: \n",
    "        print(f\"\\n{libname} requires: \")\n",
    "        pprint(distribution(libname).requires)\n",
    "    if file: \n",
    "        print(f\"\\n{libname} has: \")\n",
    "        pprint(distribution(libname).files)\n",
    "    "
   ]
  },
  {
   "cell_type": "code",
   "execution_count": null,
   "id": "5528734d",
   "metadata": {},
   "outputs": [
    {
     "name": "stdout",
     "output_type": "stream",
     "text": [
      "('def whichversion(libname:str, # library name\\n'\n",
      " '                req:bool=False, # print lib requirements \\n'\n",
      " '                file:bool=False): # print all lib files\\n'\n",
      " '    \"Give you library version and other basic info.\"\\n'\n",
      " \"    if libname=='python':\\n\"\n",
      " '        print(f\"python: {python_version()}\")\\n'\n",
      " '    else: \\n'\n",
      " '        print(f\"{metadata(libname)[\\'Name\\']}: {version(libname)} '\n",
      " \"\\\\n{metadata(libname)['Summary']}\\\\\\n\"\n",
      " \"    \\\\n{metadata(libname)['Author']} \\\\n{metadata(libname)['Home-page']} \\\\\\n\"\n",
      " \"    \\\\npython_version: {metadata(libname)['Requires-Python']} \\\\\\n\"\n",
      " '    \\\\n{distribution(libname).locate_file(libname)}\")\\n'\n",
      " '\\n'\n",
      " '    if req: \\n'\n",
      " '        print(f\"\\\\n{libname} requires: \")\\n'\n",
      " '        pprint(distribution(libname).requires)\\n'\n",
      " '    if file: \\n'\n",
      " '        print(f\"\\\\n{libname} has: \")\\n'\n",
      " '        pprint(distribution(libname).files)\\n')\n"
     ]
    }
   ],
   "source": [
    "pprint(getsource(whichversion))"
   ]
  },
  {
   "cell_type": "markdown",
   "id": "31b9c47b",
   "metadata": {},
   "source": [
    "```python\n",
    "from importlib.metadata import version, metadata, distribution\n",
    "from platform import python_version \n",
    "\n",
    "def whichversion(libname:str, # library name\n",
    "                req:bool=False, # print lib requirements \n",
    "                file:bool=False): # print all lib files\n",
    "    \"Give you library version and other basic info.\"\n",
    "    if libname=='python':\n",
    "        print(f\"python: {python_version()}\")\n",
    "    else: \n",
    "        print(f\"{metadata(libname)['Name']}: {version(libname)} \\n{metadata(libname)['Summary']}\\\n",
    "    \\n{metadata(libname)['Author']} \\n{metadata(libname)['Home-page']} \\\n",
    "    \\npython_version: {metadata(libname)['Requires-Python']} \\\n",
    "    \\n{distribution(libname).locate_file(libname)}\")\n",
    "\n",
    "    if req: \n",
    "        print(f\"\\n{libname} requires: \")\n",
    "        pprint(distribution(libname).requires)\n",
    "    if file: \n",
    "        print(f\"\\n{libname} has: \")\n",
    "        pprint(distribution(libname).files)\n",
    "```"
   ]
  },
  {
   "cell_type": "markdown",
   "id": "6a215015",
   "metadata": {},
   "source": [
    "#### How to break a line in python code\n",
    "\n",
    "see the code above"
   ]
  },
  {
   "cell_type": "markdown",
   "id": "f9c10592",
   "metadata": {},
   "source": [
    "### `whichversion` examples"
   ]
  },
  {
   "cell_type": "code",
   "execution_count": null,
   "id": "9d75e0dd",
   "metadata": {},
   "outputs": [
    {
     "name": "stdout",
     "output_type": "stream",
     "text": [
      "python: 3.9.13\n"
     ]
    }
   ],
   "source": [
    "whichversion('python')"
   ]
  },
  {
   "cell_type": "code",
   "execution_count": null,
   "id": "bf6cfe72",
   "metadata": {},
   "outputs": [
    {
     "name": "stdout",
     "output_type": "stream",
     "text": [
      "fastcore: 1.5.22 \n",
      "Python supercharged for fastai development    \n",
      "Jeremy Howard and Sylvain Gugger \n",
      "https://github.com/fastai/fastcore/     \n",
      "python_version: >=3.7     \n",
      "/Users/Natsume/mambaforge/lib/python3.9/site-packages/fastcore\n"
     ]
    }
   ],
   "source": [
    "whichversion('fastcore')"
   ]
  },
  {
   "cell_type": "code",
   "execution_count": null,
   "id": "2f35bb65",
   "metadata": {},
   "outputs": [
    {
     "name": "stdout",
     "output_type": "stream",
     "text": [
      "nbdev: 2.2.6 \n",
      "Create delightful software with Jupyter Notebooks    \n",
      "Jeremy Howard and Hamel Husain \n",
      "https://github.com/fastai/nbdev     \n",
      "python_version: >=3.7     \n",
      "/Users/Natsume/mambaforge/lib/python3.9/site-packages/nbdev\n"
     ]
    }
   ],
   "source": [
    "whichversion('nbdev')"
   ]
  },
  {
   "cell_type": "code",
   "execution_count": null,
   "id": "70595894",
   "metadata": {},
   "outputs": [
    {
     "name": "stdout",
     "output_type": "stream",
     "text": [
      "nbdev: 2.2.6 \n",
      "Create delightful software with Jupyter Notebooks    \n",
      "Jeremy Howard and Hamel Husain \n",
      "https://github.com/fastai/nbdev     \n",
      "python_version: >=3.7     \n",
      "/Users/Natsume/mambaforge/lib/python3.9/site-packages/nbdev\n",
      "\n",
      "nbdev requires: \n",
      "['fastcore (>=1.5.19)',\n",
      " 'execnb (>=0.0.10)',\n",
      " 'astunparse',\n",
      " 'ghapi',\n",
      " 'PyYAML',\n",
      " 'asttokens ; python_version==\"3.7\"',\n",
      " \"nbdev-numpy ; extra == 'dev'\",\n",
      " \"nbdev-stdlib ; extra == 'dev'\",\n",
      " \"pandas ; extra == 'dev'\",\n",
      " \"matplotlib ; extra == 'dev'\",\n",
      " \"black ; extra == 'dev'\"]\n"
     ]
    }
   ],
   "source": [
    "whichversion('nbdev', req=True)"
   ]
  },
  {
   "cell_type": "code",
   "execution_count": null,
   "id": "b814a7b7",
   "metadata": {},
   "outputs": [
    {
     "name": "stdout",
     "output_type": "stream",
     "text": [
      "nbdev: 2.2.6 \n",
      "Create delightful software with Jupyter Notebooks    \n",
      "Jeremy Howard and Hamel Husain \n",
      "https://github.com/fastai/nbdev     \n",
      "python_version: >=3.7     \n",
      "/Users/Natsume/mambaforge/lib/python3.9/site-packages/nbdev\n",
      "\n",
      "nbdev has: \n",
      "[PackagePath('../../../bin/nbdev_bump_version'),\n",
      " PackagePath('../../../bin/nbdev_changelog'),\n",
      " PackagePath('../../../bin/nbdev_clean'),\n",
      " PackagePath('../../../bin/nbdev_conda'),\n",
      " PackagePath('../../../bin/nbdev_create_config'),\n",
      " PackagePath('../../../bin/nbdev_deploy'),\n",
      " PackagePath('../../../bin/nbdev_docs'),\n",
      " PackagePath('../../../bin/nbdev_export'),\n",
      " PackagePath('../../../bin/nbdev_filter'),\n",
      " PackagePath('../../../bin/nbdev_fix'),\n",
      " PackagePath('../../../bin/nbdev_help'),\n",
      " PackagePath('../../../bin/nbdev_install'),\n",
      " PackagePath('../../../bin/nbdev_install_hooks'),\n",
      " PackagePath('../../../bin/nbdev_install_quarto'),\n",
      " PackagePath('../../../bin/nbdev_merge'),\n",
      " PackagePath('../../../bin/nbdev_migrate'),\n",
      " PackagePath('../../../bin/nbdev_new'),\n",
      " PackagePath('../../../bin/nbdev_prepare'),\n",
      " PackagePath('../../../bin/nbdev_preview'),\n",
      " PackagePath('../../../bin/nbdev_pypi'),\n",
      " PackagePath('../../../bin/nbdev_quarto'),\n",
      " PackagePath('../../../bin/nbdev_readme'),\n",
      " PackagePath('../../../bin/nbdev_release_both'),\n",
      " PackagePath('../../../bin/nbdev_release_gh'),\n",
      " PackagePath('../../../bin/nbdev_release_git'),\n",
      " PackagePath('../../../bin/nbdev_sidebar'),\n",
      " PackagePath('../../../bin/nbdev_test'),\n",
      " PackagePath('../../../bin/nbdev_trust'),\n",
      " PackagePath('../../../bin/nbdev_update'),\n",
      " PackagePath('nbdev-2.2.6.dist-info/INSTALLER'),\n",
      " PackagePath('nbdev-2.2.6.dist-info/LICENSE'),\n",
      " PackagePath('nbdev-2.2.6.dist-info/METADATA'),\n",
      " PackagePath('nbdev-2.2.6.dist-info/RECORD'),\n",
      " PackagePath('nbdev-2.2.6.dist-info/REQUESTED'),\n",
      " PackagePath('nbdev-2.2.6.dist-info/WHEEL'),\n",
      " PackagePath('nbdev-2.2.6.dist-info/entry_points.txt'),\n",
      " PackagePath('nbdev-2.2.6.dist-info/top_level.txt'),\n",
      " PackagePath('nbdev/__init__.py'),\n",
      " PackagePath('nbdev/__pycache__/__init__.cpython-39.pyc'),\n",
      " PackagePath('nbdev/__pycache__/_modidx.cpython-39.pyc'),\n",
      " PackagePath('nbdev/__pycache__/clean.cpython-39.pyc'),\n",
      " PackagePath('nbdev/__pycache__/cli.cpython-39.pyc'),\n",
      " PackagePath('nbdev/__pycache__/config.cpython-39.pyc'),\n",
      " PackagePath('nbdev/__pycache__/doclinks.cpython-39.pyc'),\n",
      " PackagePath('nbdev/__pycache__/export.cpython-39.pyc'),\n",
      " PackagePath('nbdev/__pycache__/extract_attachments.cpython-39.pyc'),\n",
      " PackagePath('nbdev/__pycache__/frontmatter.cpython-39.pyc'),\n",
      " PackagePath('nbdev/__pycache__/imports.cpython-39.pyc'),\n",
      " PackagePath('nbdev/__pycache__/maker.cpython-39.pyc'),\n",
      " PackagePath('nbdev/__pycache__/merge.cpython-39.pyc'),\n",
      " PackagePath('nbdev/__pycache__/migrate.cpython-39.pyc'),\n",
      " PackagePath('nbdev/__pycache__/mkdocs.cpython-39.pyc'),\n",
      " PackagePath('nbdev/__pycache__/process.cpython-39.pyc'),\n",
      " PackagePath('nbdev/__pycache__/processors.cpython-39.pyc'),\n",
      " PackagePath('nbdev/__pycache__/qmd.cpython-39.pyc'),\n",
      " PackagePath('nbdev/__pycache__/quarto.cpython-39.pyc'),\n",
      " PackagePath('nbdev/__pycache__/release.cpython-39.pyc'),\n",
      " PackagePath('nbdev/__pycache__/showdoc.cpython-39.pyc'),\n",
      " PackagePath('nbdev/__pycache__/sync.cpython-39.pyc'),\n",
      " PackagePath('nbdev/__pycache__/test.cpython-39.pyc'),\n",
      " PackagePath('nbdev/__pycache__/tutorial.cpython-39.pyc'),\n",
      " PackagePath('nbdev/_modidx.py'),\n",
      " PackagePath('nbdev/clean.py'),\n",
      " PackagePath('nbdev/cli.py'),\n",
      " PackagePath('nbdev/config.py'),\n",
      " PackagePath('nbdev/doclinks.py'),\n",
      " PackagePath('nbdev/export.py'),\n",
      " PackagePath('nbdev/extract_attachments.py'),\n",
      " PackagePath('nbdev/frontmatter.py'),\n",
      " PackagePath('nbdev/imports.py'),\n",
      " PackagePath('nbdev/maker.py'),\n",
      " PackagePath('nbdev/merge.py'),\n",
      " PackagePath('nbdev/migrate.py'),\n",
      " PackagePath('nbdev/mkdocs.py'),\n",
      " PackagePath('nbdev/process.py'),\n",
      " PackagePath('nbdev/processors.py'),\n",
      " PackagePath('nbdev/qmd.py'),\n",
      " PackagePath('nbdev/quarto.py'),\n",
      " PackagePath('nbdev/release.py'),\n",
      " PackagePath('nbdev/showdoc.py'),\n",
      " PackagePath('nbdev/sync.py'),\n",
      " PackagePath('nbdev/test.py'),\n",
      " PackagePath('nbdev/tutorial.py')]\n"
     ]
    }
   ],
   "source": [
    "whichversion('nbdev', file=True)"
   ]
  },
  {
   "cell_type": "markdown",
   "id": "d657b48a",
   "metadata": {},
   "source": [
    "## print out info during debugging\n",
    "\n",
    "Nice [tutorial](https://realpython.com/python-eval-function/) on how to use `eval`"
   ]
  },
  {
   "cell_type": "code",
   "execution_count": null,
   "id": "6f7a9ea3",
   "metadata": {},
   "outputs": [
    {
     "data": {
      "text/plain": [
       "\u001b[0;31mSignature:\u001b[0m \u001b[0meval\u001b[0m\u001b[0;34m(\u001b[0m\u001b[0msource\u001b[0m\u001b[0;34m,\u001b[0m \u001b[0mglobals\u001b[0m\u001b[0;34m=\u001b[0m\u001b[0;32mNone\u001b[0m\u001b[0;34m,\u001b[0m \u001b[0mlocals\u001b[0m\u001b[0;34m=\u001b[0m\u001b[0;32mNone\u001b[0m\u001b[0;34m,\u001b[0m \u001b[0;34m/\u001b[0m\u001b[0;34m)\u001b[0m\u001b[0;34m\u001b[0m\u001b[0;34m\u001b[0m\u001b[0m\n",
       "\u001b[0;31mDocstring:\u001b[0m\n",
       "Evaluate the given source in the context of globals and locals.\n",
       "\n",
       "The source may be a string representing a Python expression\n",
       "or a code object as returned by compile().\n",
       "The globals must be a dictionary and locals can be any mapping,\n",
       "defaulting to the current globals and locals.\n",
       "If only globals is given, locals defaults to it.\n",
       "\u001b[0;31mType:\u001b[0m      builtin_function_or_method\n"
      ]
     },
     "metadata": {},
     "output_type": "display_data"
    }
   ],
   "source": [
    "eval?"
   ]
  },
  {
   "cell_type": "code",
   "execution_count": null,
   "id": "20314c55",
   "metadata": {},
   "outputs": [
    {
     "data": {
      "text/plain": [
       "\u001b[0;31mSignature:\u001b[0m \u001b[0mexec\u001b[0m\u001b[0;34m(\u001b[0m\u001b[0msource\u001b[0m\u001b[0;34m,\u001b[0m \u001b[0mglobals\u001b[0m\u001b[0;34m=\u001b[0m\u001b[0;32mNone\u001b[0m\u001b[0;34m,\u001b[0m \u001b[0mlocals\u001b[0m\u001b[0;34m=\u001b[0m\u001b[0;32mNone\u001b[0m\u001b[0;34m,\u001b[0m \u001b[0;34m/\u001b[0m\u001b[0;34m)\u001b[0m\u001b[0;34m\u001b[0m\u001b[0;34m\u001b[0m\u001b[0m\n",
       "\u001b[0;31mDocstring:\u001b[0m\n",
       "Execute the given source in the context of globals and locals.\n",
       "\n",
       "The source may be a string representing one or more Python statements\n",
       "or a code object as returned by compile().\n",
       "The globals must be a dictionary and locals can be any mapping,\n",
       "defaulting to the current globals and locals.\n",
       "If only globals is given, locals defaults to it.\n",
       "\u001b[0;31mType:\u001b[0m      builtin_function_or_method\n"
      ]
     },
     "metadata": {},
     "output_type": "display_data"
    }
   ],
   "source": [
    "exec?"
   ]
  },
  {
   "cell_type": "markdown",
   "id": "e87ceef4",
   "metadata": {},
   "source": [
    "### dbprint to display evalutaion"
   ]
  },
  {
   "cell_type": "code",
   "execution_count": null,
   "id": "f2367cee",
   "metadata": {},
   "outputs": [],
   "source": [
    "def dbprint(name:str, *code, **env):\n",
    "    print(f\"\\n{name}:==============================\")\n",
    "    for c in code:\n",
    "        if \"=\" in c:\n",
    "            exec(c)\n",
    "            variable = c.partition(\"=\")[0]\n",
    "            print(f\"{c} => {variable}: {eval(variable)}\")\n",
    "        else: \n",
    "            print(f\"{c}: {eval(c, {}, {**env})}\")"
   ]
  },
  {
   "cell_type": "code",
   "execution_count": null,
   "id": "247cc0b4",
   "metadata": {},
   "outputs": [],
   "source": [
    "def low(a, b=1): pass\n",
    "def mid(c, d=1, **kwargs): pass\n",
    "from_f = mid\n",
    "to_f = low"
   ]
  },
  {
   "cell_type": "code",
   "execution_count": null,
   "id": "59610907",
   "metadata": {},
   "outputs": [
    {
     "name": "stdout",
     "output_type": "stream",
     "text": [
      "\n",
      "getattr(from_f,'__func__',from_f):==============================\n",
      "k = hasattr(from_f, '__func__') => k : False\n",
      "hasattr(to_f, '__func__'): False\n",
      "to_f: <function low>\n",
      "from_f: <function mid>\n"
     ]
    }
   ],
   "source": [
    "dbprint(\"getattr(from_f,'__func__',from_f)\", \"k = hasattr(from_f, '__func__')\", \"hasattr(to_f, '__func__')\", \"to_f\", \"from_f\", from_f=from_f, to_f=to_f)"
   ]
  },
  {
   "cell_type": "code",
   "execution_count": null,
   "id": "e6824e9a",
   "metadata": {},
   "outputs": [
    {
     "name": "stdout",
     "output_type": "stream",
     "text": [
      "\n",
      "getattr(from_f,'__func__',from_f):==============================\n",
      "hasattr(from_f, '__func__'): False\n",
      "hasattr(to_f, '__func__'): False\n",
      "to_f: <function test.<locals>.t2>\n",
      "from_f: <function test.<locals>.t1>\n"
     ]
    }
   ],
   "source": [
    "def test():\n",
    "    def t1(): pass\n",
    "    def t2(): pass\n",
    "    from_f = t1\n",
    "    to_f = t2\n",
    "    dbprint(\"getattr(from_f,'__func__',from_f)\", \"hasattr(from_f, '__func__')\", \"hasattr(to_f, '__func__')\", \"to_f\", \"from_f\", from_f=from_f, to_f=to_f)\n",
    "\n",
    "test()"
   ]
  },
  {
   "cell_type": "markdown",
   "id": "bed17a42",
   "metadata": {},
   "source": [
    "### dbprint to handle assignment too"
   ]
  },
  {
   "cell_type": "code",
   "execution_count": null,
   "id": "4a43eac1",
   "metadata": {},
   "outputs": [
    {
     "data": {
      "text/plain": [
       "True"
      ]
     },
     "execution_count": null,
     "metadata": {},
     "output_type": "execute_result"
    }
   ],
   "source": [
    "\"=\" in \"a = 1\""
   ]
  },
  {
   "cell_type": "code",
   "execution_count": null,
   "id": "2acb9192",
   "metadata": {},
   "outputs": [
    {
     "name": "stdout",
     "output_type": "stream",
     "text": [
      "['AutoInit', 'BasicHtmlRenderer', 'BasicMarkdownRenderer', 'BuiltinFunctionType', 'BuiltinMethodType', 'BypassNewMeta', 'Dict', 'DocmentTbl', 'FixSigMeta', 'FunctionType', 'Generator', 'IN_COLAB', 'IN_IPYTHON', 'IN_JUPYTER', 'IN_NOTEBOOK', 'In', 'Iterable', 'Iterator', 'List', 'MethodDescriptorType', 'MethodType', 'MethodWrapperType', 'NewChkMeta', 'NoneType', 'Optional', 'Out', 'Path', 'PrePostInitMeta', 'Sequence', 'Set', 'ShowDocRenderer', 'SimpleNamespace', 'Tuple', 'Union', 'WrapperDescriptorType', '_', '_22', '__', '___', '__builtin__', '__builtins__', '__doc__', '__loader__', '__name__', '__package__', '__spec__', '_dh', '_i', '_i1', '_i10', '_i11', '_i12', '_i13', '_i14', '_i15', '_i16', '_i17', '_i18', '_i19', '_i2', '_i20', '_i21', '_i22', '_i23', '_i3', '_i4', '_i5', '_i6', '_i7', '_i8', '_i9', '_ih', '_ii', '_iii', '_oh', 'acos', 'acosh', 'all_equal', 'anno_dict', 'any_is_instance', 'array_equal', 'asin', 'asinh', 'ast', 'atan', 'atan2', 'atanh', 'attrgetter', 'ceil', 'colab_link', 'comb', 'copysign', 'cos', 'cosh', 'dbprint', 'degrees', 'delegates', 'df_equal', 'dist', 'distribution', 'doc', 'e', 'empty2none', 'enum', 'equals', 'erf', 'erfc', 'exit', 'exp', 'expm1', 'fabs', 'factorial', 'fb', 'floor', 'fm', 'fmod', 'frexp', 'from_f', 'fsum', 'funcs_kwargs', 'functools', 'gamma', 'gcd', 'get_ipython', 'getmembers', 'getsource', 'hypot', 'in_colab', 'in_ipython', 'in_jupyter', 'in_notebook', 'inf', 'inspect', 'io', 'ipython_shell', 'is_coll', 'is_iter', 'isbuiltin', 'isclass', 'isclose', 'isfinite', 'isfunction', 'isinf', 'isinstance_str', 'isnan', 'isqrt', 'itemgetter', 'itertools', 'lcm', 'ldexp', 'lgamma', 'log', 'log10', 'log1p', 'log2', 'low', 'math', 'metadata', 'method', 'mid', 'modf', 'nan', 'nextafter', 'noop', 'noops', 'operator', 'os', 'partial', 'perm', 'pi', 'pkgutil', 'pow', 'pprint', 'prod', 'python_version', 'quit', 'radians', 're', 'reduce', 'remainder', 'remove_prefix', 'remove_suffix', 'show_doc', 'showdoc_nm', 'sin', 'sinh', 'sqrt', 'string_classes', 'sys', 'tan', 'tanh', 'tau', 'test', 'test_sig', 'to_f', 'trunc', 'typing', 'ulp', 'use_kwargs', 'use_kwargs_dict', 'version', 'warn', 'warnings', 'whatinside', 'whichversion']\n"
     ]
    }
   ],
   "source": [
    "from math import *\n",
    "exec(\"print(dir())\", globals())\n"
   ]
  },
  {
   "cell_type": "code",
   "execution_count": null,
   "id": "180a2c60",
   "metadata": {},
   "outputs": [
    {
     "name": "stdout",
     "output_type": "stream",
     "text": [
      "['c', 'dir', 'print', 'sum']\n"
     ]
    }
   ],
   "source": [
    "from math import *\n",
    "exec(\"print(dir())\", {}, {\"sum\": sum, \"print\": print, \"dir\": dir, \"c\": 1})\n"
   ]
  },
  {
   "cell_type": "code",
   "execution_count": null,
   "id": "35f0b5dc",
   "metadata": {},
   "outputs": [
    {
     "name": "stdout",
     "output_type": "stream",
     "text": [
      "['c', 'dir', 'print', 'sum']\n"
     ]
    }
   ],
   "source": [
    "from math import *\n",
    "exec(\"print(dir())\", {\"__builtins__\" : __builtin__}, {\"sum\": sum, \"print\": print, \"dir\": dir, \"c\": 1})"
   ]
  },
  {
   "cell_type": "code",
   "execution_count": null,
   "id": "cf830714",
   "metadata": {},
   "outputs": [
    {
     "name": "stdout",
     "output_type": "stream",
     "text": [
      "['c', 'dir', 'print', 'sum']\n"
     ]
    }
   ],
   "source": [
    "from math import *\n",
    "exec(\"print(dir())\", globals(), {\"sum\": sum, \"print\": print, \"dir\": dir, \"c\": 1})\n"
   ]
  },
  {
   "cell_type": "code",
   "execution_count": null,
   "id": "2f3e4be0",
   "metadata": {},
   "outputs": [
    {
     "data": {
      "text/plain": [
       "6"
      ]
     },
     "execution_count": null,
     "metadata": {},
     "output_type": "execute_result"
    }
   ],
   "source": [
    "exec(\"e = 2 + 4\")\n",
    "eval(\"e\")"
   ]
  },
  {
   "cell_type": "code",
   "execution_count": null,
   "id": "fe94509e",
   "metadata": {},
   "outputs": [
    {
     "data": {
      "text/plain": [
       "11"
      ]
     },
     "execution_count": null,
     "metadata": {},
     "output_type": "execute_result"
    }
   ],
   "source": [
    "exec(\"c = 2 + 9\", globals())\n",
    "eval(\"c\")"
   ]
  },
  {
   "cell_type": "code",
   "execution_count": null,
   "id": "66bd142c",
   "metadata": {},
   "outputs": [
    {
     "data": {
      "text/plain": [
       "12"
      ]
     },
     "execution_count": null,
     "metadata": {},
     "output_type": "execute_result"
    }
   ],
   "source": [
    "exec(\"d = 2 + 10\", globals(), locals())\n",
    "eval(\"d\")"
   ]
  },
  {
   "cell_type": "code",
   "execution_count": null,
   "id": "2a501de8",
   "metadata": {},
   "outputs": [
    {
     "data": {
      "text/plain": [
       "5"
      ]
     },
     "execution_count": null,
     "metadata": {},
     "output_type": "execute_result"
    }
   ],
   "source": [
    "exec(\"z = 2 + g\", globals(), locals().update({'g':3}))\n",
    "eval(\"z\")"
   ]
  },
  {
   "cell_type": "code",
   "execution_count": null,
   "id": "b8f0dcee",
   "metadata": {},
   "outputs": [
    {
     "data": {
      "text/plain": [
       "11"
      ]
     },
     "execution_count": null,
     "metadata": {},
     "output_type": "execute_result"
    }
   ],
   "source": [
    "exec(\"c = 2 + f\", globals(), {'f':3})\n",
    "eval(\"c\")"
   ]
  },
  {
   "cell_type": "code",
   "execution_count": null,
   "id": "582c0bdd",
   "metadata": {},
   "outputs": [
    {
     "data": {
      "text/plain": [
       "5"
      ]
     },
     "execution_count": null,
     "metadata": {},
     "output_type": "execute_result"
    }
   ],
   "source": [
    "exec(\"c = 2 + f\", globals(), locals().update({'f':3}))\n",
    "eval(\"c\")"
   ]
  },
  {
   "cell_type": "code",
   "execution_count": null,
   "id": "e5c14409",
   "metadata": {},
   "outputs": [
    {
     "data": {
      "text/plain": [
       "6"
      ]
     },
     "execution_count": null,
     "metadata": {},
     "output_type": "execute_result"
    }
   ],
   "source": [
    "exec(\"c = 2 + f\", globals().update({'f':4}), locals())\n",
    "eval(\"c\")"
   ]
  },
  {
   "cell_type": "code",
   "execution_count": null,
   "id": "8196e424",
   "metadata": {},
   "outputs": [
    {
     "name": "stdout",
     "output_type": "stream",
     "text": [
      "['__builtins__']\n"
     ]
    }
   ],
   "source": [
    "exec(\"print (dir())\",{})"
   ]
  },
  {
   "cell_type": "code",
   "execution_count": null,
   "id": "cc2e7617",
   "metadata": {},
   "outputs": [
    {
     "name": "stdout",
     "output_type": "stream",
     "text": [
      "['a', 'b']\n"
     ]
    }
   ],
   "source": [
    "exec (\"print (dir())\",{}, {'a':1, 'b':2})"
   ]
  },
  {
   "cell_type": "code",
   "execution_count": null,
   "id": "3589fd0a",
   "metadata": {},
   "outputs": [
    {
     "name": "stdout",
     "output_type": "stream",
     "text": [
      "['a', 'b']\n"
     ]
    }
   ],
   "source": [
    "exec (\"print (dir())\", {'c':3}, {'a':1, 'b':2})"
   ]
  },
  {
   "cell_type": "code",
   "execution_count": null,
   "id": "0276f03c",
   "metadata": {},
   "outputs": [
    {
     "data": {
      "text/plain": [
       "True"
      ]
     },
     "execution_count": null,
     "metadata": {},
     "output_type": "execute_result"
    }
   ],
   "source": [
    "'f' in locals()"
   ]
  },
  {
   "cell_type": "code",
   "execution_count": null,
   "id": "009bb9f5",
   "metadata": {},
   "outputs": [],
   "source": [
    "locals().update({'f':1})"
   ]
  },
  {
   "cell_type": "code",
   "execution_count": null,
   "id": "a769c8f7",
   "metadata": {},
   "outputs": [
    {
     "data": {
      "text/plain": [
       "True"
      ]
     },
     "execution_count": null,
     "metadata": {},
     "output_type": "execute_result"
    }
   ],
   "source": [
    "'f' in locals()"
   ]
  },
  {
   "cell_type": "markdown",
   "id": "3d30cd40",
   "metadata": {},
   "source": [
    "### The simple working version"
   ]
  },
  {
   "cell_type": "code",
   "execution_count": null,
   "id": "eb9515f2",
   "metadata": {},
   "outputs": [],
   "source": [
    "def dbprint(name:str, *code, **env):\n",
    "    print(f\"\\n{name}:==============================\")\n",
    "    for c in code:\n",
    "        if \"=\" in c: # updated to handle assignment\n",
    "            exec(c, globals(), locals().update(env)) \n",
    "            variable = c.partition(\"=\")[0]\n",
    "            print(f\"{c} => {variable}: {eval(variable)}\")\n",
    "        else: \n",
    "            print(f\"{c}: {eval(c, {}, {**env})}\") # working version"
   ]
  },
  {
   "cell_type": "code",
   "execution_count": null,
   "id": "4966e51a",
   "metadata": {},
   "outputs": [],
   "source": [
    "def dbprint(name:str, *code, **env):\n",
    "    print(f\"\\n{name}:==============================\")\n",
    "    for c in code:\n",
    "        if \"=\" in c: # updated to handle assignment\n",
    "            exec(c, globals(), locals().update(env)) \n",
    "            variable = c.partition(\"=\")[0]\n",
    "            print(f\"{c} => {variable}: {eval(variable)}\")\n",
    "        else: \n",
    "            print(f\"{c}: {eval(c, globals(), locals().update(env))}\") # problematic\n",
    "            # print(f\"{c}: {eval(c, globals().update(env), locals().update(env))}\")"
   ]
  },
  {
   "cell_type": "code",
   "execution_count": null,
   "id": "384ac92c",
   "metadata": {},
   "outputs": [
    {
     "name": "stdout",
     "output_type": "stream",
     "text": [
      "\n",
      "test assignment with exec and eval:==============================\n",
      "k = 1 + 2 + a => k : 13\n"
     ]
    }
   ],
   "source": [
    "a = 10\n",
    "string = \"string\"\n",
    "dbprint(\"test assignment with exec and eval\", \"k = 1 + 2 + a\", a = a, string=string)"
   ]
  },
  {
   "cell_type": "code",
   "execution_count": null,
   "id": "3d55b981",
   "metadata": {},
   "outputs": [
    {
     "name": "stdout",
     "output_type": "stream",
     "text": [
      "\n",
      "test assignment with exec and eval:==============================\n",
      "1 + 2 + a: 13\n"
     ]
    }
   ],
   "source": [
    "a = 10\n",
    "string = \"string\"\n",
    "dbprint(\"test assignment with exec and eval\", \"1 + 2 + a\", a = a, string=string)"
   ]
  },
  {
   "cell_type": "code",
   "execution_count": null,
   "id": "3fadf438",
   "metadata": {},
   "outputs": [
    {
     "name": "stdout",
     "output_type": "stream",
     "text": [
      "\n",
      "getattr(from_f,'__func__',from_f):==============================\n",
      "hasattr(from_f, '__func__'): False\n",
      "hasattr(to_f, '__func__'): False\n",
      "to_f: <function low>\n",
      "from_f: <function mid>\n"
     ]
    }
   ],
   "source": [
    "def test():\n",
    "    def t1(): pass\n",
    "    def t2(): pass\n",
    "    from_f = t1\n",
    "    to_f = t2\n",
    "    dbprint(\"getattr(from_f,'__func__',from_f)\", \"hasattr(from_f, '__func__')\", \"hasattr(to_f, '__func__')\", \"to_f\", \"from_f\", from_f=from_f, to_f=to_f)\n",
    "\n",
    "test()"
   ]
  },
  {
   "cell_type": "code",
   "execution_count": null,
   "id": "5f4c7736",
   "metadata": {},
   "outputs": [],
   "source": [
    "def low(a, b=1): pass\n",
    "def mid(c, d=1, **kwargs): pass\n",
    "from_f = mid\n",
    "to_f = low"
   ]
  },
  {
   "cell_type": "code",
   "execution_count": null,
   "id": "c250f371",
   "metadata": {},
   "outputs": [
    {
     "name": "stdout",
     "output_type": "stream",
     "text": [
      "\n",
      "getattr(from_f,'__func__',from_f):==============================\n",
      "k = hasattr(from_f, '__func__') => k : False\n",
      "hasattr(to_f, '__func__'): False\n",
      "to_f: <function low>\n",
      "from_f: <function mid>\n"
     ]
    }
   ],
   "source": [
    "dbprint(\"getattr(from_f,'__func__',from_f)\", \"k = hasattr(from_f, '__func__')\", \"hasattr(to_f, '__func__')\", \"to_f\", \"from_f\", from_f=from_f, to_f=to_f)"
   ]
  },
  {
   "cell_type": "markdown",
   "id": "b8290130",
   "metadata": {},
   "source": [
    "### A working version but slightly longer"
   ]
  },
  {
   "cell_type": "code",
   "execution_count": null,
   "id": "0ebaef48",
   "metadata": {},
   "outputs": [],
   "source": [
    "def dbprint(name:str, *code, **env):\n",
    "    print(f\"\\n{name}:==============================\")\n",
    "    for c in code:\n",
    "        if \"=\" in c: # updated to handle assignment\n",
    "            exec(c, globals(), locals().update(env)) \n",
    "            variable = c.partition(\"=\")[0]\n",
    "            print(f\"{c} => {variable}: {eval(variable)}\")\n",
    "        else: \n",
    "            # print(f\"{c}: {eval(c, globals().update(env), locals().update(env))}\") # working too\n",
    "            print(f\"{c}: {eval(c, globals().update(env))}\") # working too"
   ]
  },
  {
   "cell_type": "code",
   "execution_count": null,
   "id": "da063633",
   "metadata": {},
   "outputs": [
    {
     "name": "stdout",
     "output_type": "stream",
     "text": [
      "\n",
      "test assignment with exec and eval:==============================\n",
      "k = 1 + 2 + a => k : 13\n"
     ]
    }
   ],
   "source": [
    "a = 10\n",
    "string = \"string\"\n",
    "dbprint(\"test assignment with exec and eval\", \"k = 1 + 2 + a\", a = a, string=string)"
   ]
  },
  {
   "cell_type": "code",
   "execution_count": null,
   "id": "5dbd9850",
   "metadata": {},
   "outputs": [
    {
     "name": "stdout",
     "output_type": "stream",
     "text": [
      "\n",
      "test assignment with exec and eval:==============================\n",
      "1 + 2 + a: 13\n"
     ]
    }
   ],
   "source": [
    "a = 10\n",
    "string = \"string\"\n",
    "dbprint(\"test assignment with exec and eval\", \"1 + 2 + a\", a = a, string=string)"
   ]
  },
  {
   "cell_type": "code",
   "execution_count": null,
   "id": "e5567a3d",
   "metadata": {},
   "outputs": [
    {
     "name": "stdout",
     "output_type": "stream",
     "text": [
      "\n",
      "getattr(from_f,'__func__',from_f):==============================\n",
      "hasattr(from_f, '__func__'): False\n",
      "hasattr(to_f, '__func__'): False\n",
      "to_f: <function test.<locals>.t2>\n",
      "from_f: <function test.<locals>.t1>\n"
     ]
    }
   ],
   "source": [
    "def test():\n",
    "    def t1(): pass\n",
    "    def t2(): pass\n",
    "    from_f = t1\n",
    "    to_f = t2\n",
    "    dbprint(\"getattr(from_f,'__func__',from_f)\", \"hasattr(from_f, '__func__')\", \"hasattr(to_f, '__func__')\", \"to_f\", \"from_f\", from_f=from_f, to_f=to_f)\n",
    "\n",
    "test()"
   ]
  },
  {
   "cell_type": "code",
   "execution_count": null,
   "id": "c7ed5833",
   "metadata": {},
   "outputs": [],
   "source": [
    "def low(a, b=1): pass\n",
    "def mid(c, d=1, **kwargs): pass\n",
    "from_f = mid\n",
    "to_f = low"
   ]
  },
  {
   "cell_type": "code",
   "execution_count": null,
   "id": "7be9f4f1",
   "metadata": {},
   "outputs": [
    {
     "name": "stdout",
     "output_type": "stream",
     "text": [
      "\n",
      "getattr(from_f,'__func__',from_f):==============================\n",
      "k = hasattr(from_f, '__func__') => k : False\n",
      "hasattr(to_f, '__func__'): False\n",
      "to_f: <function low>\n",
      "from_f: <function mid>\n"
     ]
    }
   ],
   "source": [
    "dbprint(\"getattr(from_f,'__func__',from_f)\", \"k = hasattr(from_f, '__func__')\", \"hasattr(to_f, '__func__')\", \"to_f\", \"from_f\", from_f=from_f, to_f=to_f)"
   ]
  },
  {
   "cell_type": "markdown",
   "id": "83871346",
   "metadata": {},
   "source": [
    "### exec and eval's locals has priority over global"
   ]
  },
  {
   "cell_type": "code",
   "execution_count": null,
   "id": "bec32649",
   "metadata": {},
   "outputs": [
    {
     "data": {
      "text/plain": [
       "False"
      ]
     },
     "execution_count": null,
     "metadata": {},
     "output_type": "execute_result"
    }
   ],
   "source": [
    "'x' in globals()"
   ]
  },
  {
   "cell_type": "code",
   "execution_count": null,
   "id": "494d706b",
   "metadata": {},
   "outputs": [
    {
     "data": {
      "text/plain": [
       "False"
      ]
     },
     "execution_count": null,
     "metadata": {},
     "output_type": "execute_result"
    }
   ],
   "source": [
    "'x' in locals()"
   ]
  },
  {
   "cell_type": "code",
   "execution_count": null,
   "id": "60335b32",
   "metadata": {},
   "outputs": [
    {
     "data": {
      "text/plain": [
       "0"
      ]
     },
     "execution_count": null,
     "metadata": {},
     "output_type": "execute_result"
    }
   ],
   "source": [
    "globals()['x'] = 0\n",
    "globals()['x']"
   ]
  },
  {
   "cell_type": "code",
   "execution_count": null,
   "id": "eb3cf120",
   "metadata": {},
   "outputs": [
    {
     "data": {
      "text/plain": [
       "1"
      ]
     },
     "execution_count": null,
     "metadata": {},
     "output_type": "execute_result"
    }
   ],
   "source": [
    "locals()['x'] = 1\n",
    "locals()['x']"
   ]
  },
  {
   "cell_type": "code",
   "execution_count": null,
   "id": "98b0f8b4",
   "metadata": {},
   "outputs": [
    {
     "data": {
      "text/plain": [
       "1"
      ]
     },
     "execution_count": null,
     "metadata": {},
     "output_type": "execute_result"
    }
   ],
   "source": [
    "globals()['x']"
   ]
  },
  {
   "cell_type": "code",
   "execution_count": null,
   "id": "04f1f8c4",
   "metadata": {},
   "outputs": [
    {
     "data": {
      "text/plain": [
       "2"
      ]
     },
     "execution_count": null,
     "metadata": {},
     "output_type": "execute_result"
    }
   ],
   "source": [
    "exec(\"x = x + 1\", globals())\n",
    "eval(\"x\")"
   ]
  },
  {
   "cell_type": "code",
   "execution_count": null,
   "id": "1899dbf9",
   "metadata": {},
   "outputs": [
    {
     "data": {
      "text/plain": [
       "3"
      ]
     },
     "execution_count": null,
     "metadata": {},
     "output_type": "execute_result"
    }
   ],
   "source": [
    "exec(\"x = x + 1\", globals(), locals())\n",
    "eval(\"x\")"
   ]
  },
  {
   "cell_type": "code",
   "execution_count": null,
   "id": "e873f93e",
   "metadata": {},
   "outputs": [
    {
     "data": {
      "text/plain": [
       "11"
      ]
     },
     "execution_count": null,
     "metadata": {},
     "output_type": "execute_result"
    }
   ],
   "source": [
    "exec(\"x = x + 1\", globals(), locals().update({'x':10}))\n",
    "eval(\"x\")"
   ]
  },
  {
   "cell_type": "code",
   "execution_count": null,
   "id": "cb9672ee",
   "metadata": {},
   "outputs": [
    {
     "data": {
      "text/plain": [
       "11"
      ]
     },
     "execution_count": null,
     "metadata": {},
     "output_type": "execute_result"
    }
   ],
   "source": [
    "exec(\"x = x + 1\", globals().update({'x':20}), locals().update({'x':10}))\n",
    "eval(\"x\")"
   ]
  },
  {
   "cell_type": "code",
   "execution_count": null,
   "id": "7843b920",
   "metadata": {},
   "outputs": [
    {
     "data": {
      "text/plain": [
       "21"
      ]
     },
     "execution_count": null,
     "metadata": {},
     "output_type": "execute_result"
    }
   ],
   "source": [
    "exec(\"x = x + 1\", globals().update({'x':20}))\n",
    "eval(\"x\")"
   ]
  },
  {
   "cell_type": "code",
   "execution_count": null,
   "id": "b323d9a9",
   "metadata": {},
   "outputs": [],
   "source": [
    "def dbprint(name:str, *code, **env):\n",
    "    print(f\"\\n{name}:==============================\")\n",
    "    for c in code:\n",
    "        if \"=\" in c: # updated to handle assignment\n",
    "            exec(c, globals(), locals().update(env)) \n",
    "            variable = c.partition(\"=\")[0]\n",
    "            print(f\"{c} => {variable}: {eval(variable)}\")\n",
    "        else: \n",
    "            # print(f\"{c}: {eval(c, globals().update(env), locals().update(env))}\") # working too\n",
    "            # print(f\"{c}: {eval(c, globals().update(env))}\") # working too\n",
    "            print(f\"{c}: {eval(c, globals(), locals().update(env))}\") # working too"
   ]
  },
  {
   "cell_type": "code",
   "execution_count": null,
   "id": "38ddc8a5",
   "metadata": {},
   "outputs": [
    {
     "name": "stdout",
     "output_type": "stream",
     "text": [
      "\n",
      "test assignment with exec and eval:==============================\n",
      "k = 1 + 2 + a => k : 13\n"
     ]
    }
   ],
   "source": [
    "a = 10\n",
    "string = \"string\"\n",
    "dbprint(\"test assignment with exec and eval\", \"k = 1 + 2 + a\", a = a, string=string)"
   ]
  },
  {
   "cell_type": "code",
   "execution_count": null,
   "id": "201c35d7",
   "metadata": {},
   "outputs": [
    {
     "name": "stdout",
     "output_type": "stream",
     "text": [
      "\n",
      "test assignment with exec and eval:==============================\n",
      "1 + 2 + a: 8\n"
     ]
    }
   ],
   "source": [
    "a = 5\n",
    "string = \"string\"\n",
    "dbprint(\"test assignment with exec and eval\", \"1 + 2 + a\", a = a, string=string)"
   ]
  },
  {
   "cell_type": "code",
   "execution_count": null,
   "id": "95b88e9f",
   "metadata": {},
   "outputs": [
    {
     "data": {
      "text/plain": [
       "<function __main__.mid(c, d=1, **kwargs)>"
      ]
     },
     "execution_count": null,
     "metadata": {},
     "output_type": "execute_result"
    }
   ],
   "source": [
    "globals()['from_f']"
   ]
  },
  {
   "cell_type": "code",
   "execution_count": null,
   "id": "4d8204ee",
   "metadata": {},
   "outputs": [
    {
     "data": {
      "text/plain": [
       "<function __main__.mid(c, d=1, **kwargs)>"
      ]
     },
     "execution_count": null,
     "metadata": {},
     "output_type": "execute_result"
    }
   ],
   "source": [
    "locals()['from_f']"
   ]
  },
  {
   "cell_type": "code",
   "execution_count": null,
   "id": "cbab72d3",
   "metadata": {},
   "outputs": [
    {
     "name": "stdout",
     "output_type": "stream",
     "text": [
      "\n",
      "getattr(from_f,'__func__',from_f):==============================\n",
      "hasattr(from_f, '__func__'): False\n",
      "hasattr(to_f, '__func__'): False\n",
      "to_f: <function t2>\n",
      "from_f: <function t1>\n"
     ]
    }
   ],
   "source": [
    "def t1(): pass\n",
    "def t2(): pass\n",
    "from_f = t1\n",
    "to_f = t2\n",
    "dbprint(\"getattr(from_f,'__func__',from_f)\", \"hasattr(from_f, '__func__')\", \"hasattr(to_f, '__func__')\", \"to_f\", \"from_f\", from_f=t1, to_f=t2)\n"
   ]
  },
  {
   "cell_type": "code",
   "execution_count": null,
   "id": "207754b7",
   "metadata": {},
   "outputs": [],
   "source": [
    "def low(a, b=1): pass\n",
    "def mid(c, d=1, **kwargs): pass\n",
    "from_f = mid\n",
    "to_f = low"
   ]
  },
  {
   "cell_type": "code",
   "execution_count": null,
   "id": "29333dc7",
   "metadata": {},
   "outputs": [
    {
     "name": "stdout",
     "output_type": "stream",
     "text": [
      "\n",
      "getattr(from_f,'__func__',from_f):==============================\n",
      "k = hasattr(from_f, '__func__') => k : False\n",
      "hasattr(to_f, '__func__'): False\n",
      "to_f: <function low>\n",
      "from_f: <function mid>\n"
     ]
    }
   ],
   "source": [
    "dbprint(\"getattr(from_f,'__func__',from_f)\", \"k = hasattr(from_f, '__func__')\", \"hasattr(to_f, '__func__')\", \"to_f\", \"from_f\", from_f=from_f, to_f=to_f)"
   ]
  },
  {
   "cell_type": "markdown",
   "id": "c37cb11e",
   "metadata": {},
   "source": [
    "### A trial and error version \n",
    "\n",
    "All the versions above seem working for the tests above, but the following one works for the real debugging codes"
   ]
  },
  {
   "cell_type": "code",
   "execution_count": null,
   "id": "0ed041ba",
   "metadata": {},
   "outputs": [],
   "source": [
    "def dbprint(name:str, *code, **env): \n",
    "    print(f\"\\n{name}:==============================\")\n",
    "    \n",
    "    # trial and error version for real code, still not quite why globals vs locals work in exec and eval\n",
    "    for c in code:\n",
    "        \n",
    "        # handle assignment\n",
    "        if \"=\" in c: \n",
    "            # print('k' in locals())\n",
    "            exec(c, globals().update(env)) \n",
    "            # print('k' in locals())\n",
    "            variable = c.partition(\"=\")[0]\n",
    "            print(f\"{c} => {variable}: {eval(variable)}\")\n",
    "        \n",
    "        # handle evaluation\n",
    "        else: \n",
    "            print(f\"{c}: {eval(c, globals().update(env))}\") \n",
    "            \n",
    "        # the benefit of using global().update(env) is \n",
    "        # to ensure we don't need to include the same env for the second time\n"
   ]
  },
  {
   "cell_type": "markdown",
   "id": "58c4b521",
   "metadata": {},
   "source": [
    "### to differentiate between assignment and != and =="
   ]
  },
  {
   "cell_type": "code",
   "execution_count": null,
   "id": "71d362da",
   "metadata": {},
   "outputs": [],
   "source": [
    "def dbprint(src:str, # the source to debug in str\n",
    "            *code,   # a number of codes to run, each code is in str, e.g., \"a + b\", \"c = a - b\"\n",
    "            **env):  # a number of stuff needed to run the code, e.g. var1 = var1, func1 = func1\n",
    "    \"Insert and run your codes and give readable output during debugging. Caution: \\\n",
    "    avoid using the same variable name used in both global and local scopes, e.g., \\\n",
    "    use `k` in the func and use `k` again inside a for loop inside the func.\"\n",
    "    \n",
    "    print(f\"\\n{src}:==============================\")\n",
    "    \n",
    "    # trial and error version for real code, still not quite why globals vs locals work in exec and eval\n",
    "    for c in code:\n",
    "        \n",
    "        # handle assignment\n",
    "        if \" = \" in c: # make sure assignment and !== and == are differentiated\n",
    "            \n",
    "            # print('k' in locals())\n",
    "            exec(c, globals().update(env)) \n",
    "            # print('k' in locals())\n",
    "            variable = c.partition(\" = \")[0]\n",
    "            print(f\"{c} => {variable}: {eval(variable)}\")\n",
    "        \n",
    "        # handle evaluation\n",
    "        else: \n",
    "            print(f\"{c}: {eval(c, globals().update(env))}\") \n",
    "            \n",
    "        # the benefit of using global().update(env) is \n",
    "        # to ensure we don't need to include the same env for the second time\n"
   ]
  },
  {
   "cell_type": "code",
   "execution_count": null,
   "id": "42fd5018",
   "metadata": {},
   "outputs": [
    {
     "data": {
      "text/plain": [
       "'k.__delopt__'"
      ]
     },
     "execution_count": null,
     "metadata": {},
     "output_type": "execute_result"
    }
   ],
   "source": [
    "\"k.__delopt__ = {...}\".partition(\" = \")[0]"
   ]
  },
  {
   "cell_type": "code",
   "execution_count": null,
   "id": "2c0bed63",
   "metadata": {},
   "outputs": [
    {
     "name": "stdout",
     "output_type": "stream",
     "text": [
      "\n",
      "tests = and != in the same line:==============================\n",
      "a = 5 == 4 => a: False\n"
     ]
    }
   ],
   "source": [
    "dbprint(\"tests = and != in the same line\", \"a = 5 == 4\")"
   ]
  },
  {
   "cell_type": "code",
   "execution_count": null,
   "id": "b9f78331",
   "metadata": {},
   "outputs": [
    {
     "name": "stdout",
     "output_type": "stream",
     "text": [
      "\n",
      "tests = and != in the same line:==============================\n",
      "a = 5 != 4 => a: True\n"
     ]
    }
   ],
   "source": [
    "dbprint(\"tests = and != in the same line\", \"a = 5 != 4\")"
   ]
  },
  {
   "cell_type": "markdown",
   "id": "60dee9aa",
   "metadata": {},
   "source": [
    "### handle if statement"
   ]
  },
  {
   "cell_type": "code",
   "execution_count": null,
   "id": "873eed1b",
   "metadata": {},
   "outputs": [],
   "source": [
    "def dbprint(src:str, # the source to debug in str\n",
    "            *code,   # a number of codes to run, each code is in str, e.g., \"a + b\", \"c = a - b\"\n",
    "            **env):  # a number of stuff needed to run the code, e.g. var1 = var1, func1 = func1\n",
    "    \"Insert and run your codes and give readable output during debugging. Caution: \\\n",
    "    avoid using the same variable name used in both global and local scopes, e.g., \\\n",
    "    use `k` in the func and use `k` again inside a for loop inside the func.\"\n",
    "    \n",
    "    print(f\"\\n{src}:==============================\")\n",
    "    \n",
    "    # trial and error version for real code, still not quite why globals vs locals work in exec and eval\n",
    "    for c in code:\n",
    "        \n",
    "        # handle assignment\n",
    "        if \" = \" in c: # make sure assignment and !== and == are differentiated\n",
    "            \n",
    "            # print('k' in locals())\n",
    "            exec(c, globals().update(env)) \n",
    "            # print('k' in locals())\n",
    "            variable = c.partition(\" = \")[0]\n",
    "            print(f\"{c} => {variable}: {eval(variable)}\")\n",
    "            \n",
    "        # handle if statement\n",
    "        # Note: do insert code like this : `if abc == def: print(abc)`, print is a must\n",
    "        elif \"if\" in c: \n",
    "            cond = re.search('if (.*?):', c).group(1)\n",
    "            if eval(cond):\n",
    "                print(f\"{c} => \")\n",
    "                exec(c, globals().update(env))\n",
    "        \n",
    "        # handle evaluation\n",
    "        else: \n",
    "            print(f\"{c}: {eval(c, globals().update(env))}\") \n",
    "            \n",
    "        # the benefit of using global().update(env) is \n",
    "        # to ensure we don't need to include the same env for the second time\n"
   ]
  },
  {
   "cell_type": "code",
   "execution_count": null,
   "id": "3acfc7db",
   "metadata": {},
   "outputs": [
    {
     "name": "stdout",
     "output_type": "stream",
     "text": [
      "100\n"
     ]
    }
   ],
   "source": [
    "x = 100\n",
    "exec(\"if x: print(x)\")"
   ]
  },
  {
   "cell_type": "code",
   "execution_count": null,
   "id": "2814c56e",
   "metadata": {},
   "outputs": [
    {
     "data": {
      "text/plain": [
       "'abc == def'"
      ]
     },
     "execution_count": null,
     "metadata": {},
     "output_type": "execute_result"
    }
   ],
   "source": [
    "import re\n",
    "\n",
    "c = 'if abc == def: print()'\n",
    "\n",
    "cond = re.search('if (.*?):', c).group(1)\n",
    "cond"
   ]
  },
  {
   "cell_type": "markdown",
   "id": "8bf62278",
   "metadata": {},
   "source": [
    "### Handle for in loop and in-block printing"
   ]
  },
  {
   "cell_type": "code",
   "execution_count": null,
   "id": "1b7e41b7",
   "metadata": {},
   "outputs": [],
   "source": [
    "#|export\n",
    "def checksource():\n",
    "    lst = defaults.src.split('\\n')\n",
    "    for l in lst: \n",
    "\n",
    "        if l.strip() in defaults.deb:\n",
    "            print('{:<157}'.format(l))\n",
    "        else: \n",
    "            print('{:=<157}'.format(l))\n",
    "    defaults.deb = None # make sure defaults.deb set to None for later debugging srcode."
   ]
  },
  {
   "cell_type": "code",
   "execution_count": null,
   "id": "dd63ff11",
   "metadata": {},
   "outputs": [],
   "source": [
    "#|export\n",
    "defaults = type('defaults', (object,), {'block': False, # whether inside a block of code investigation or not\n",
    "                                     'src': None, # store the source code of the functiong being debugged\n",
    "                                     'deb': None, # store the debuggable source code\n",
    "                                     'checksource': checksource, # check and display how official source code differs from debuggable\n",
    "                                     'eg': None, # save an example in str\n",
    "                                     'margin': 157, # for align to the right\n",
    "                                     'multi': False, # debugging multiline source codes\n",
    "                                     'src2dbp': type('fastcore.meta', (object,), {'delegates': [], # a list of lists of (srcline, dbcode) \n",
    "                                                                                  'delegatesdb': None, # the debuggable source\n",
    "                                                                                 }) # store a list of (srcline, dbcode)\n",
    "                                    }) "
   ]
  },
  {
   "cell_type": "code",
   "execution_count": null,
   "id": "8f2e4745-526d-48bc-b632-bb5ba5446c31",
   "metadata": {},
   "outputs": [],
   "source": [
    "defaults.src2dbp.delegates.append(('ab', 'cd'))"
   ]
  },
  {
   "cell_type": "code",
   "execution_count": null,
   "id": "dd6061f7-1180-4b7f-bd0b-c05e73536026",
   "metadata": {},
   "outputs": [
    {
     "data": {
      "text/plain": [
       "[('ab', 'cd')]"
      ]
     },
     "execution_count": null,
     "metadata": {},
     "output_type": "execute_result"
    }
   ],
   "source": [
    "defaults.src2dbp.delegates"
   ]
  },
  {
   "cell_type": "code",
   "execution_count": null,
   "id": "859cfd41",
   "metadata": {},
   "outputs": [],
   "source": [
    "def dbprint(src:str, # the source to debug in str\n",
    "            *code,   # a number of codes to run, each code is in str, e.g., \"a + b\", \"c = a - b\"\n",
    "            **env\n",
    "           ):  # a number of stuff needed to run the code, e.g. var1 = var1, func1 = func1\n",
    "    \"Insert and run your codes and give readable output during debugging. Caution 1: \\\n",
    "    avoid using the same variable name used in both global and local scopes, e.g., \\\n",
    "    use `k` in the func and use `k` again inside a for loop inside the func.\\\n",
    "    Caution 2: make sure the include all the necessary env variables to avoid \\\n",
    "    the same variable with different values from different scopes.\"\n",
    "    \n",
    "    # whether dbprint is working inside a for in loop or any kind of a loop\n",
    "    if defaults.block == True:\n",
    "        print(f\"\\n{src}:===inside a block===\") # inside a block\n",
    "    else:\n",
    "        print(f\"\\n{src}:================================================================================\") \n",
    "    \n",
    "    # trial and error version for real code, still not quite why globals vs locals work in exec and eval\n",
    "    for c in code:\n",
    "        \n",
    "        # handle assignment\n",
    "        if \" = \" in c: # make sure assignment and !== and == are differentiated\n",
    "            \n",
    "            # print('k' in locals())\n",
    "            exec(c, globals().update(env)) \n",
    "            # print('k' in locals())\n",
    "            variable = c.partition(\" = \")[0]\n",
    "            print(f\"{c} => {variable}: {eval(variable)}\")\n",
    "            \n",
    "        # handle if statement\n",
    "        # Note: do insert code like this : `if abc == def: print(abc)`, print is a must\n",
    "        elif \"if\" in c: \n",
    "            cond = re.search('if (.*?):', c).group(1)\n",
    "            \n",
    "            # when code in string is like 'if abc == def:'\n",
    "            if c.endswith(':'):\n",
    "                \n",
    "                # print ... \n",
    "                print(f\"{c} => {cond}: {eval(cond)}\")      \n",
    "                \n",
    "            # when code in string is like 'if abc == def: print(...)'\n",
    "            else: \n",
    "                # if the cond is true, then print ...\n",
    "                if eval(cond):\n",
    "                    \n",
    "                    # \"if abc == def: print(abc)\".split(': ', 2)[1] to get 'print(abc)'\n",
    "                    printc = c.split(': ', 1)[1]\n",
    "                    print(f\"{c} => {printc} : \")\n",
    "                    exec(c, globals().update(env))\n",
    "                    \n",
    "                # if cond is false, then print ...\n",
    "                else: \n",
    "                    print(f\"{c} => {cond}: {eval(cond)}\")\n",
    "                \n",
    "                \n",
    "        # handle for in statement\n",
    "        elif \"for \" in c and \" in \" in c: \n",
    "            \n",
    "            # if the code in string is like 'for k, v in abc:'\n",
    "            if c.endswith(':'):\n",
    "                \n",
    "                # get the substring between 'for ' and ' in', which is like 'k, v'\n",
    "                variables = re.search('for (.*?) in', c).group(1)\n",
    "                \n",
    "                # if variables has a substring like ', ' inside\n",
    "                if (', ') in variables: \n",
    "                    \n",
    "                    # split it by ', ' into a list of substrings\n",
    "                    vl = variables.split(', ')\n",
    "                    key = vl[0]\n",
    "                    value = vl[1]\n",
    "                    \n",
    "                    # make sure key and value will get evaluated first before exec run\n",
    "                    c1 = c + \" print(f'{key}:{eval(key)}, {value}:{eval(value)}')\" \n",
    "                    print(f\"{c} => \")          \n",
    "                    exec(c1, globals().update(env))\n",
    "                \n",
    "                else:\n",
    "                    c1 = c + \" print(f'item:{variables}')\"\n",
    "                    print(f\"{c} => \")          \n",
    "                    exec(c1, globals().update(env))\n",
    "                    \n",
    "\n",
    "            else: \n",
    "                print(f\"{c} => \")          \n",
    "                exec(c, globals().update(env))\n",
    "        \n",
    "        \n",
    "        # handle evaluation\n",
    "        else: \n",
    "            print(f\"{c} => {eval(c, globals().update(env))}\") \n",
    "            \n",
    "        # the benefit of using global().update(env) is \n",
    "        # to ensure we don't need to include the same env for the second time"
   ]
  },
  {
   "cell_type": "markdown",
   "id": "dab00635",
   "metadata": {},
   "source": [
    "### clean up the format for readability"
   ]
  },
  {
   "cell_type": "code",
   "execution_count": null,
   "id": "b48dede6",
   "metadata": {},
   "outputs": [],
   "source": [
    "def dbprint(src:str, # the source to debug in str\n",
    "            *code,   # a number of codes to run, each code is in str, e.g., \"a + b\", \"c = a - b\"\n",
    "            **env\n",
    "           ):  # a number of stuff needed to run the code, e.g. var1 = var1, func1 = func1\n",
    "    \"Insert and run your codes and give readable output during debugging. Caution 1: \\\n",
    "    avoid using the same variable name used in both global and local scopes, e.g., \\\n",
    "    use `k` in the func and use `k` again inside a for loop inside the func.\\\n",
    "    Caution 2: make sure the include all the necessary env variables to avoid \\\n",
    "    the same variable with different values from different scopes.\"\n",
    "    \n",
    "    # whether dbprint is working inside a for in loop or any kind of a loop\n",
    "    if defaults.block == True:\n",
    "        print(f\"\\n{src}:===inside a block===\") # inside a block\n",
    "    else:\n",
    "        print(f\"\\n{src}:================================================================================\") \n",
    "    \n",
    "    # trial and error version for real code, still not quite why globals vs locals work in exec and eval\n",
    "    for c in code:\n",
    "        \n",
    "        # handle assignment\n",
    "        if \" = \" in c: # make sure assignment and !== and == are differentiated\n",
    "            \n",
    "            # print('k' in locals())\n",
    "            exec(c, globals().update(env)) \n",
    "            # print('k' in locals())\n",
    "            variable = c.partition(\" = \")[0]\n",
    "            print(f\"{c} => {variable}: {eval(variable)}\")\n",
    "            \n",
    "        # handle if statement\n",
    "        # Note: do insert code like this : `if abc == def: print(abc)`, print is a must\n",
    "        elif \"if\" in c: \n",
    "            cond = re.search('if (.*?):', c).group(1)\n",
    "            \n",
    "            # when code in string is like 'if abc == def:'\n",
    "            if c.endswith(':'):\n",
    "                \n",
    "                # print ... \n",
    "                print(f\"{c} => {cond}: {eval(cond)}\")      \n",
    "                \n",
    "            # when code in string is like 'if abc == def: print(...)'\n",
    "            else: \n",
    "                # if the cond is true, then print ...\n",
    "                if eval(cond):\n",
    "                    \n",
    "                    # \"if abc == def: print(abc)\".split(': ', 2)[1] to get 'print(abc)'\n",
    "                    printc = c.split(': ', 1)[1]\n",
    "                    print(f\"{c} => {printc} : \")\n",
    "                    exec(c, globals().update(env))\n",
    "                    \n",
    "                # if cond is false, then print ...\n",
    "                else: \n",
    "                    print(f\"{c} => {cond}: {eval(cond)}\")\n",
    "                \n",
    "                \n",
    "        # handle for in statement\n",
    "        elif \"for \" in c and \" in \" in c: \n",
    "            \n",
    "            # if the code in string is like 'for k, v in abc:'\n",
    "            if c.endswith(':'):\n",
    "                \n",
    "                # get the substring between 'for ' and ' in', which is like 'k, v'\n",
    "                variables = re.search('for (.*?) in', c).group(1)\n",
    "                \n",
    "                # if variables has a substring like ', ' inside\n",
    "                if (', ') in variables: \n",
    "                    \n",
    "                    # split it by ', ' into a list of substrings\n",
    "                    vl = variables.split(', ')\n",
    "                    key = vl[0]\n",
    "                    value = vl[1]\n",
    "                    \n",
    "                    # make sure key and value will get evaluated first before exec run\n",
    "                    # printc is for exec to run\n",
    "                    printc = \"print(f'{key}:{eval(key)}, {type(eval(key))} ; {value}:{eval(value)}, {type(eval(value))}')\" \n",
    "                    # printmsg is for reader to understand with ease\n",
    "                    printmsg = \"print(f'key: {key}, {type(key)} ; value: {value}, {type(value)}')\"\n",
    "                    c1 = c + \" \" + printc\n",
    "                    print(f\"{c} => {printmsg} : \")          \n",
    "                    exec(c1, globals().update(env))\n",
    "                \n",
    "                else:\n",
    "                    printc = \"print(f'{variables} : {eval(variables)}')\"\n",
    "                    printmsg = \"print(f'i : {variables}')\"\n",
    "                    c1 = c + \" \" + printc\n",
    "                    print(f\"{c} => {printmsg} : \")          \n",
    "                    exec(c1, globals().update(env))\n",
    "                    \n",
    "            # if the code in string is like 'for k, v in abc: print(abc)'\n",
    "            else:                 \n",
    "                # \"for k, v in abc: print(k)\".split(': ', 1)[1] to get 'print(k)'\n",
    "                printc = c.split(': ', 1)[1]\n",
    "                print(f\"{c} => {printc} : \")\n",
    "                exec(c, globals().update(env))\n",
    "        \n",
    "        \n",
    "        # handle evaluation\n",
    "        else: \n",
    "            print(f\"{c} : {eval(c, globals().update(env))}\") \n",
    "            \n",
    "        # the benefit of using global().update(env) is \n",
    "        # to ensure we don't need to include the same env for the second time"
   ]
  },
  {
   "cell_type": "markdown",
   "id": "9517510f",
   "metadata": {},
   "source": [
    "### Add a few more caution messages for avoiding unnecessary errors in using dbprint"
   ]
  },
  {
   "cell_type": "code",
   "execution_count": null,
   "id": "74b5dc87",
   "metadata": {},
   "outputs": [],
   "source": [
    "def dbprint(src:str, # the source to debug in str\n",
    "            *code,   # a number of codes to run, each code is in str, e.g., \"a + b\", \"c = a - b\"\n",
    "            **env\n",
    "           ):  # a number of stuff needed to run the code, e.g. var1 = var1, func1 = func1\n",
    "    \"Insert and run your codes and give readable output during debugging. Caution 1: \\\n",
    "    avoid using the same variable name used in both global and local scopes, e.g., \\\n",
    "    use `k` in the func and use `k` again inside a for loop inside the func.\\\n",
    "    Caution 2: make sure to include all the necessary env variables to avoid \\\n",
    "    the same variable with different values from different scopes. Caution 3: when an env variable is updated, \\\n",
    "    then you need to includ it again in the next dbprint. Caution 4: be strict on the spaces, e.g., `for k, v in` \\\n",
    "    and `a = createsth(...)`\"\n",
    "    \n",
    "    # whether dbprint is working inside a for in loop or any kind of a loop\n",
    "    if defaults.block == True:\n",
    "        print(f\"\\n{src}:===inside a block===\") # inside a block\n",
    "    else:\n",
    "        print(f\"\\n{src}:================================================================================\") \n",
    "    \n",
    "    # trial and error version for real code, still not quite why globals vs locals work in exec and eval\n",
    "    for c in code:\n",
    "        \n",
    "        # handle assignment\n",
    "        if \" = \" in c: # make sure assignment and !== and == are differentiated\n",
    "            \n",
    "            # print('k' in locals())\n",
    "            exec(c, globals().update(env)) \n",
    "            # print('k' in locals())\n",
    "            variable = c.partition(\" = \")[0]\n",
    "            print(f\"{c} => {variable}: {eval(variable)}\")\n",
    "            \n",
    "        # handle if statement\n",
    "        # Note: do insert code like this : `if abc == def: print(abc)`, print is a must\n",
    "        elif \"if\" in c: \n",
    "            cond = re.search('if (.*?):', c).group(1)\n",
    "            \n",
    "            # when code in string is like 'if abc == def:'\n",
    "            if c.endswith(':'):\n",
    "                \n",
    "                # print ... \n",
    "                print(f\"{c} => {cond}: {eval(cond)}\")      \n",
    "                \n",
    "            # when code in string is like 'if abc == def: print(...)'\n",
    "            else: \n",
    "                # if the cond is true, then print ...\n",
    "                if eval(cond):\n",
    "                    \n",
    "                    # \"if abc == def: print(abc)\".split(': ', 2)[1] to get 'print(abc)'\n",
    "                    printc = c.split(': ', 1)[1]\n",
    "                    print(f\"{c} => {printc} : \")\n",
    "                    exec(c, globals().update(env))\n",
    "                    \n",
    "                # if cond is false, then print ...\n",
    "                else: \n",
    "                    print(f\"{c} => {cond}: {eval(cond)}\")\n",
    "                \n",
    "                \n",
    "        # handle for in statement\n",
    "        elif \"for \" in c and \" in \" in c: \n",
    "            \n",
    "            # if the code in string is like 'for k, v in abc:'\n",
    "            if c.endswith(':'):\n",
    "                \n",
    "                # get the substring between 'for ' and ' in', which is like 'k, v'\n",
    "                variables = re.search('for (.*?) in', c).group(1)\n",
    "                \n",
    "                # if variables has a substring like ', ' inside\n",
    "                if (', ') in variables: \n",
    "                    \n",
    "                    # split it by ', ' into a list of substrings\n",
    "                    vl = variables.split(', ')\n",
    "                    key = vl[0]\n",
    "                    value = vl[1]\n",
    "                    \n",
    "                    # make sure key and value will get evaluated first before exec run\n",
    "                    # printc is for exec to run\n",
    "                    printc = \"print(f'{key}:{eval(key)}, {type(eval(key))} ; {value}:{eval(value)}, {type(eval(value))}')\" \n",
    "                    # printmsg is for reader to understand with ease\n",
    "                    printmsg = \"print(f'key: {key}, {type(key)} ; value: {value}, {type(value)}')\"\n",
    "                    c1 = c + \" \" + printc\n",
    "                    print(f\"{c} => {printmsg} : \")          \n",
    "                    exec(c1, globals().update(env))\n",
    "                \n",
    "                else:\n",
    "                    printc = \"print(f'{variables} : {eval(variables)}')\"\n",
    "                    printmsg = \"print(f'i : {variables}')\"\n",
    "                    c1 = c + \" \" + printc\n",
    "                    print(f\"{c} => {printmsg} : \")          \n",
    "                    exec(c1, globals().update(env))\n",
    "                    \n",
    "            # if the code in string is like 'for k, v in abc: print(abc)'\n",
    "            else:                 \n",
    "                # \"for k, v in abc: print(k)\".split(': ', 1)[1] to get 'print(k)'\n",
    "                printc = c.split(': ', 1)[1]\n",
    "                print(f\"{c} => {printc} : \")\n",
    "                exec(c, globals().update(env))\n",
    "        \n",
    "        \n",
    "        # handle evaluation\n",
    "        else: \n",
    "            print(f\"{c} : {eval(c, globals().update(env))}\") \n",
    "            \n",
    "        # the benefit of using global().update(env) is \n",
    "        # to ensure we don't need to include the same env for the second time"
   ]
  },
  {
   "cell_type": "markdown",
   "id": "ea52cdef",
   "metadata": {},
   "source": [
    "### Make the output more distinguishable between in and out of code block"
   ]
  },
  {
   "cell_type": "code",
   "execution_count": null,
   "id": "183f77fa",
   "metadata": {},
   "outputs": [],
   "source": [
    "def dbprint(src:str, # the source to debug in str\n",
    "            *code,   # a number of codes to run, each code is in str, e.g., \"a + b\", \"c = a - b\"\n",
    "            **env\n",
    "           ):  # a number of stuff needed to run the code, e.g. var1 = var1, func1 = func1\n",
    "    \"Insert and run your codes and give readable output during debugging. Caution 1: \\\n",
    "    avoid using the same variable name used in both global and local scopes, e.g., \\\n",
    "    use `k` in the func and use `k` again inside a for loop inside the func.\\\n",
    "    Caution 2: make sure to include all the necessary env variables to avoid \\\n",
    "    the same variable with different values from different scopes. Caution 3: when an env variable is updated, \\\n",
    "    then you need to includ it again in the next dbprint. Caution 4: be strict on the spaces, e.g., `for k, v in` \\\n",
    "    and `a = createsth(...)`\"\n",
    "    \n",
    "    # whether dbprint is working inside a for in loop or any kind of a loop\n",
    "    if defaults.block == True:\n",
    "        print('{:>157}'.format(\"===inside a block===\"))\n",
    "    else:\n",
    "        print('{:>157}'.format(\"===================================================\"))\n",
    "    \n",
    "    print(f\"\\n{src} <===== source code =======\") \n",
    "    \n",
    "    # trial and error version for real code, still not quite why globals vs locals work in exec and eval\n",
    "    for c in code:\n",
    "        \n",
    "        # handle assignment\n",
    "        if \" = \" in c: # make sure assignment and !== and == are differentiated\n",
    "            \n",
    "            # print('k' in locals())\n",
    "            exec(c, globals().update(env)) \n",
    "            # print('k' in locals())\n",
    "            variable = c.partition(\" = \")[0]\n",
    "            print(f\"{c} => {variable}: {eval(variable)}\")\n",
    "            \n",
    "        # handle if statement\n",
    "        # Note: do insert code like this : `if abc == def: print(abc)`, print is a must\n",
    "        elif \"if\" in c: \n",
    "            cond = re.search('if (.*?):', c).group(1)\n",
    "            \n",
    "            # when code in string is like 'if abc == def:'\n",
    "            if c.endswith(':'):\n",
    "                \n",
    "                # print ... \n",
    "                print(f\"{c} => {cond}: {eval(cond)}\")      \n",
    "                \n",
    "            # when code in string is like 'if abc == def: print(...)'\n",
    "            else: \n",
    "                # if the cond is true, then print ...\n",
    "                if eval(cond):\n",
    "                    \n",
    "                    # \"if abc == def: print(abc)\".split(': ', 2)[1] to get 'print(abc)'\n",
    "                    printc = c.split(': ', 1)[1]\n",
    "                    print(f\"{c} => {printc} : \")\n",
    "                    exec(c, globals().update(env))\n",
    "                    \n",
    "                # if cond is false, then print ...\n",
    "                else: \n",
    "                    print(f\"{c} => {cond}: {eval(cond)}\")\n",
    "                \n",
    "                \n",
    "        # handle for in statement\n",
    "        elif \"for \" in c and \" in \" in c: \n",
    "            \n",
    "            # if the code in string is like 'for k, v in abc:'\n",
    "            if c.endswith(':'):\n",
    "                \n",
    "                # get the substring between 'for ' and ' in', which is like 'k, v'\n",
    "                variables = re.search('for (.*?) in', c).group(1)\n",
    "                \n",
    "                # if variables has a substring like ', ' inside\n",
    "                if (', ') in variables: \n",
    "                    \n",
    "                    # split it by ', ' into a list of substrings\n",
    "                    vl = variables.split(', ')\n",
    "                    key = vl[0]\n",
    "                    value = vl[1]\n",
    "                    \n",
    "                    # make sure key and value will get evaluated first before exec run\n",
    "                    # printc is for exec to run\n",
    "                    printc = \"print(f'{key}:{eval(key)}, {type(eval(key))} ; {value}:{eval(value)}, {type(eval(value))}')\" \n",
    "                    # printmsg is for reader to understand with ease\n",
    "                    printmsg = \"print(f'key: {key}, {type(key)} ; value: {value}, {type(value)}')\"\n",
    "                    c1 = c + \" \" + printc\n",
    "                    print(f\"{c} => {printmsg} : \")          \n",
    "                    exec(c1, globals().update(env))\n",
    "                \n",
    "                else:\n",
    "                    printc = \"print(f'{variables} : {eval(variables)}')\"\n",
    "                    printmsg = \"print(f'i : {variables}')\"\n",
    "                    c1 = c + \" \" + printc\n",
    "                    print(f\"{c} => {printmsg} : \")          \n",
    "                    exec(c1, globals().update(env))\n",
    "                    \n",
    "            # if the code in string is like 'for k, v in abc: print(abc)'\n",
    "            else:                 \n",
    "                # \"for k, v in abc: print(k)\".split(': ', 1)[1] to get 'print(k)'\n",
    "                printc = c.split(': ', 1)[1]\n",
    "                print(f\"{c} => {printc} : \")\n",
    "                exec(c, globals().update(env))\n",
    "        \n",
    "        \n",
    "        # handle evaluation\n",
    "        else: \n",
    "            print(f\"{c} : {eval(c, globals().update(env))}\") \n",
    "            \n",
    "        # the benefit of using global().update(env) is \n",
    "        # to ensure we don't need to include the same env for the second time"
   ]
  },
  {
   "cell_type": "code",
   "execution_count": null,
   "id": "908a1759",
   "metadata": {},
   "outputs": [
    {
     "name": "stdout",
     "output_type": "stream",
     "text": [
      "                                                                                                                                         ====================\n"
     ]
    }
   ],
   "source": [
    "src = \"this is a piece of code\"\n",
    "# 157\n",
    "endline = '{:>157}'.format(\"====================\")\n",
    "\n",
    "print(endline)\n",
    "# print(f\"\\n{src} =====> {endline}\") \n"
   ]
  },
  {
   "cell_type": "code",
   "execution_count": null,
   "id": "e212839f",
   "metadata": {},
   "outputs": [
    {
     "name": "stdout",
     "output_type": "stream",
     "text": [
      "a line of code<<<<<<<<<<<<<<<<<<<<<<<<<<<<<<<<<<<<<<<<<<<<<<<<<<<<<<<<<<<<<<<<<<<<<<<<<<<<<<<<<<<<<<<<<<<<<<<<<<<<<<<<<<<<<<<<<<<<<<<<<<<<<<<<<<<<<<<<<<<<<\n"
     ]
    }
   ],
   "source": [
    "\n",
    "text = '{0:{fill}{align}155}'.format(\"a line of code\", fill='<', align='<')\n",
    "print(text)"
   ]
  },
  {
   "cell_type": "markdown",
   "id": "7f61a18a",
   "metadata": {},
   "source": [
    "### adding features to handle a block of code execution"
   ]
  },
  {
   "cell_type": "code",
   "execution_count": null,
   "id": "8c5e670c",
   "metadata": {},
   "outputs": [],
   "source": [
    "def dbprint(src:str, # the source to debug in str\n",
    "            *code,   # a number of codes to run, each code is in str, e.g., \"a + b\", \"c = a - b\"\n",
    "            **env\n",
    "           ):  # a number of stuff needed to run the code, e.g. var1 = var1, func1 = func1\n",
    "    \"Insert and run your codes and give readable output during debugging. Caution 1: \\\n",
    "    avoid using the same variable name used in both global and local scopes, e.g., \\\n",
    "    use `k` in the func and use `k` again inside a for loop inside the func.\\\n",
    "    Caution 2: make sure to include all the necessary env variables to avoid \\\n",
    "    the same variable with different values from different scopes. Caution 3: when an env variable is updated, \\\n",
    "    then you need to includ it again in the next dbprint. Caution 4: be strict on the spaces, e.g., `for k, v in` \\\n",
    "    and `a = createsth(...)`\"\n",
    "    \n",
    "    # whether dbprint is working inside a for in loop or any kind of a loop\n",
    "    if defaults.block == True:\n",
    "        print('{:>157}'.format(\"===inside a block===\"))\n",
    "    else:\n",
    "        print('{:>157}'.format(\"===================================================\"))\n",
    "    \n",
    "    # print out markers for a block of source and a line source code \n",
    "    if \"\\n\" in src: \n",
    "        print(src)\n",
    "        print('{:^157}'.format(\"================== a block of source codes =====================\"))\n",
    "    else:\n",
    "        print(src + \"<===== source code =======\") \n",
    "    \n",
    "    # trial and error version for real code, still not quite why globals vs locals work in exec and eval\n",
    "    for c in code:\n",
    "        \n",
    "        # handle a block of code\n",
    "        if \"\\n\" in c: \n",
    "            block = ast.parse(c, mode='exec')\n",
    "            exec(compile(block, '<string>', mode='exec'), globals().update(env))\n",
    "        \n",
    "        # handle assignment\n",
    "        elif \" = \" in c: # make sure assignment and !== and == are differentiated\n",
    "            \n",
    "            # print('k' in locals())\n",
    "            exec(c, globals().update(env)) \n",
    "            # print('k' in locals())\n",
    "            variable = c.partition(\" = \")[0]\n",
    "            print(f\"{c} => {variable}: {eval(variable)}\")\n",
    "            \n",
    "        # handle if statement\n",
    "        # Note: do insert code like this : `if abc == def: print(abc)`, print is a must\n",
    "        elif \"if\" in c: \n",
    "            cond = re.search('if (.*?):', c).group(1)\n",
    "            \n",
    "            # when code in string is like 'if abc == def:'\n",
    "            if c.endswith(':'):\n",
    "                \n",
    "                # print ... \n",
    "                print(f\"{c} => {cond}: {eval(cond)}\")      \n",
    "                \n",
    "            # when code in string is like 'if abc == def: print(...)'\n",
    "            else: \n",
    "                # if the cond is true, then print ...\n",
    "                if eval(cond):\n",
    "                    \n",
    "                    # \"if abc == def: print(abc)\".split(': ', 2)[1] to get 'print(abc)'\n",
    "                    printc = c.split(': ', 1)[1]\n",
    "                    print(f\"{c} => {printc} : \")\n",
    "                    exec(c, globals().update(env))\n",
    "                    \n",
    "                # if cond is false, then print ...\n",
    "                else: \n",
    "                    print(f\"{c} => {cond}: {eval(cond)}\")\n",
    "                \n",
    "                \n",
    "        # handle for in statement\n",
    "        elif \"for \" in c and \" in \" in c: \n",
    "            \n",
    "            # if the code in string is like 'for k, v in abc:'\n",
    "            if c.endswith(':'):\n",
    "                \n",
    "                # get the substring between 'for ' and ' in', which is like 'k, v'\n",
    "                variables = re.search('for (.*?) in', c).group(1)\n",
    "                \n",
    "                # if variables has a substring like ', ' inside\n",
    "                if (', ') in variables: \n",
    "                    \n",
    "                    # split it by ', ' into a list of substrings\n",
    "                    vl = variables.split(', ')\n",
    "                    key = vl[0]\n",
    "                    value = vl[1]\n",
    "                    \n",
    "                    # make sure key and value will get evaluated first before exec run\n",
    "                    # printc is for exec to run\n",
    "                    printc = \"print(f'{key}:{eval(key)}, {type(eval(key))} ; {value}:{eval(value)}, {type(eval(value))}')\" \n",
    "                    # printmsg is for reader to understand with ease\n",
    "                    printmsg = \"print(f'key: {key}, {type(key)} ; value: {value}, {type(value)}')\"\n",
    "                    c1 = c + \" \" + printc\n",
    "                    print(f\"{c} => {printmsg} : \")          \n",
    "                    exec(c1, globals().update(env))\n",
    "                \n",
    "                else:\n",
    "                    printc = \"print(f'{variables} : {eval(variables)}')\"\n",
    "                    printmsg = \"print(f'i : {variables}')\"\n",
    "                    c1 = c + \" \" + printc\n",
    "                    print(f\"{c} => {printmsg} : \")          \n",
    "                    exec(c1, globals().update(env))\n",
    "                    \n",
    "            # if the code in string is like 'for k, v in abc: print(abc)'\n",
    "            else:                 \n",
    "                # \"for k, v in abc: print(k)\".split(': ', 1)[1] to get 'print(k)'\n",
    "                printc = c.split(': ', 1)[1]\n",
    "                print(f\"{c} => {printc} : \")\n",
    "                exec(c, globals().update(env))\n",
    "        \n",
    "        \n",
    "        # handle evaluation\n",
    "        else: \n",
    "            print(f\"{c} : {eval(c, globals().update(env))}\") \n",
    "            \n",
    "        # the benefit of using global().update(env) is \n",
    "        # to ensure we don't need to include the same env for the second time"
   ]
  },
  {
   "cell_type": "code",
   "execution_count": null,
   "id": "a9876c68",
   "metadata": {},
   "outputs": [],
   "source": [
    "import ast\n",
    "c =\"\"\"\n",
    "a = 1\n",
    "b = 2\n",
    "c = a + b\n",
    "\"\"\"\n",
    "block = ast.parse(c, mode='exec')\n",
    "exec(compile(block, '<string>', mode='exec'))"
   ]
  },
  {
   "cell_type": "code",
   "execution_count": null,
   "id": "96b83dfa",
   "metadata": {},
   "outputs": [
    {
     "data": {
      "text/plain": [
       "2"
      ]
     },
     "execution_count": null,
     "metadata": {},
     "output_type": "execute_result"
    }
   ],
   "source": [
    "b"
   ]
  },
  {
   "cell_type": "markdown",
   "id": "381122f0",
   "metadata": {},
   "source": [
    "### add feature to print out source code in both line and block to the right end of the page"
   ]
  },
  {
   "cell_type": "code",
   "execution_count": null,
   "id": "d4ed0e29",
   "metadata": {},
   "outputs": [],
   "source": [
    "def dbprint(src:str, # the source to debug in str\n",
    "            *code,   # a number of codes to run, each code is in str, e.g., \"a + b\", \"c = a - b\"\n",
    "            **env\n",
    "           ):  # a number of stuff needed to run the code, e.g. var1 = var1, func1 = func1\n",
    "    \"Insert and run your codes and give readable output during debugging. Caution 1: \\\n",
    "    avoid using the same variable name used in both global and local scopes, e.g., \\\n",
    "    use `k` in the func and use `k` again inside a for loop inside the func.\\\n",
    "    Caution 2: make sure to include all the necessary env variables to avoid \\\n",
    "    the same variable with different values from different scopes. Caution 3: when an env variable is updated, \\\n",
    "    then you need to includ it again in the next dbprint. Caution 4: be strict on the spaces, e.g., `for k, v in` \\\n",
    "    and `a = createsth(...)`\"\n",
    "    \n",
    "    # whether dbprint is working inside a for in loop or any kind of a loop\n",
    "    if defaults.block == True:\n",
    "        print('{:>157}'.format(\"===inside a block===\"))\n",
    "        print('{:>157}'.format(src))\n",
    "\n",
    "    else:\n",
    "        print('{:>157}'.format(\"===================================================\"))\n",
    "        print('{:>157}'.format(src))        \n",
    "    \n",
    "    # print out markers for a block of source and a line source code \n",
    "    if \"\\n\" in src: \n",
    "        # print(src)\n",
    "        # print('{:^157}'.format(\"================== a block of source codes =====================\"))\n",
    "        # print('{:>157}'.format(src))    \n",
    "        lst = src.split('\\n')\n",
    "        for l in lst: \n",
    "            print('{:>157}'.format(l))\n",
    "            \n",
    "    else:\n",
    "        print(src + \"<===== source code =======\") \n",
    "    \n",
    "    # trial and error version for real code, still not quite why globals vs locals work in exec and eval\n",
    "    for c in code:\n",
    "        \n",
    "        # handle a block of code\n",
    "        if \"\\n\" in c: \n",
    "            block = ast.parse(c, mode='exec')\n",
    "            exec(compile(block, '<string>', mode='exec'), globals().update(env))\n",
    "        \n",
    "        # handle assignment\n",
    "        elif \" = \" in c: # make sure assignment and !== and == are differentiated\n",
    "            \n",
    "            # print('k' in locals())\n",
    "            exec(c, globals().update(env)) \n",
    "            # print('k' in locals())\n",
    "            variable = c.partition(\" = \")[0]\n",
    "            print(f\"{c} => {variable}: {eval(variable)}\")\n",
    "            \n",
    "        # handle if statement\n",
    "        # Note: do insert code like this : `if abc == def: print(abc)`, print is a must\n",
    "        elif \"if\" in c: \n",
    "            cond = re.search('if (.*?):', c).group(1)\n",
    "            \n",
    "            # when code in string is like 'if abc == def:'\n",
    "            if c.endswith(':'):\n",
    "                \n",
    "                # print ... \n",
    "                print(f\"{c} => {cond}: {eval(cond)}\")      \n",
    "                \n",
    "            # when code in string is like 'if abc == def: print(...)'\n",
    "            else: \n",
    "                # if the cond is true, then print ...\n",
    "                if eval(cond):\n",
    "                    \n",
    "                    # \"if abc == def: print(abc)\".split(': ', 2)[1] to get 'print(abc)'\n",
    "                    printc = c.split(': ', 1)[1]\n",
    "                    print(f\"{c} => {printc} : \")\n",
    "                    exec(c, globals().update(env))\n",
    "                    \n",
    "                # if cond is false, then print ...\n",
    "                else: \n",
    "                    print(f\"{c} => {cond}: {eval(cond)}\")\n",
    "                \n",
    "                \n",
    "        # handle for in statement\n",
    "        elif \"for \" in c and \" in \" in c: \n",
    "            \n",
    "            # if the code in string is like 'for k, v in abc:'\n",
    "            if c.endswith(':'):\n",
    "                \n",
    "                # get the substring between 'for ' and ' in', which is like 'k, v'\n",
    "                variables = re.search('for (.*?) in', c).group(1)\n",
    "                \n",
    "                # if variables has a substring like ', ' inside\n",
    "                if (', ') in variables: \n",
    "                    \n",
    "                    # split it by ', ' into a list of substrings\n",
    "                    vl = variables.split(', ')\n",
    "                    key = vl[0]\n",
    "                    value = vl[1]\n",
    "                    \n",
    "                    # make sure key and value will get evaluated first before exec run\n",
    "                    # printc is for exec to run\n",
    "                    printc = \"print(f'{key}:{eval(key)}, {type(eval(key))} ; {value}:{eval(value)}, {type(eval(value))}')\" \n",
    "                    # printmsg is for reader to understand with ease\n",
    "                    printmsg = \"print(f'key: {key}, {type(key)} ; value: {value}, {type(value)}')\"\n",
    "                    c1 = c + \" \" + printc\n",
    "                    print(f\"{c} => {printmsg} : \")          \n",
    "                    exec(c1, globals().update(env))\n",
    "                \n",
    "                else:\n",
    "                    printc = \"print(f'{variables} : {eval(variables)}')\"\n",
    "                    printmsg = \"print(f'i : {variables}')\"\n",
    "                    c1 = c + \" \" + printc\n",
    "                    print(f\"{c} => {printmsg} : \")          \n",
    "                    exec(c1, globals().update(env))\n",
    "                    \n",
    "            # if the code in string is like 'for k, v in abc: print(abc)'\n",
    "            else:                 \n",
    "                # \"for k, v in abc: print(k)\".split(': ', 1)[1] to get 'print(k)'\n",
    "                printc = c.split(': ', 1)[1]\n",
    "                print(f\"{c} => {printc} : \")\n",
    "                exec(c, globals().update(env))\n",
    "        \n",
    "        \n",
    "        # handle evaluation\n",
    "        else: \n",
    "            print(f\"{c} : {eval(c, globals().update(env))}\") \n",
    "            \n",
    "        # the benefit of using global().update(env) is \n",
    "        # to ensure we don't need to include the same env for the second time"
   ]
  },
  {
   "cell_type": "code",
   "execution_count": null,
   "id": "6ff6cc3f",
   "metadata": {},
   "outputs": [
    {
     "name": "stdout",
     "output_type": "stream",
     "text": [
      "                                                                                                                                                             \n",
      "                                                                                                                                              if to is None: \n",
      "                                                                                                                 to_f,from_f = f.__base__.__init__,f.__init__\n",
      "                                                                                                                                              else:          \n",
      "                                                                                                   to_f,from_f = to.__init__ if isinstance(to,type) else to,f\n",
      "                                                                                                                                                             \n"
     ]
    }
   ],
   "source": [
    "blocks = \"\"\"\n",
    "if to is None: \n",
    "    to_f,from_f = f.__base__.__init__,f.__init__\n",
    "else:          \n",
    "    to_f,from_f = to.__init__ if isinstance(to,type) else to,f\n",
    "        \"\"\"\n",
    "lst = blocks.split('\\n')\n",
    "for l in lst: \n",
    "    print('{:>157}'.format(l))"
   ]
  },
  {
   "cell_type": "markdown",
   "id": "4c13d888",
   "metadata": {},
   "source": [
    "### add feature: if `abc` from `for k, v in abc:` is empty, then skip the current iteration"
   ]
  },
  {
   "cell_type": "code",
   "execution_count": null,
   "id": "541f4f1f",
   "metadata": {},
   "outputs": [],
   "source": [
    "def dbprint(src:str, # the source to debug in str\n",
    "            *code,   # a number of codes to run, each code is in str, e.g., \"a + b\", \"c = a - b\"\n",
    "            **env\n",
    "           ):  # a number of stuff needed to run the code, e.g. var1 = var1, func1 = func1\n",
    "    \"Insert and run your codes and give readable output during debugging. Caution 1: \\\n",
    "    avoid using the same variable name used in both global and local scopes, e.g., \\\n",
    "    use `k` in the func and use `k` again inside a for loop inside the func.\\\n",
    "    Caution 2: make sure to include all the necessary env variables to avoid \\\n",
    "    the same variable with different values from different scopes. Caution 3: when an env variable is updated, \\\n",
    "    then you need to includ it again in the next dbprint. Caution 4: be strict on the spaces, e.g., `for k, v in` \\\n",
    "    and `a = createsth(...)`\"\n",
    "    \n",
    "    # whether dbprint is working inside a for in loop or any kind of a loop\n",
    "    if defaults.block == True:\n",
    "        print('{:>157}'.format(\"===inside a block===\"))\n",
    "        print('{:>157}'.format(src))\n",
    "        print(src + \"<===== source code =======\") \n",
    "\n",
    "    else:\n",
    "        print('{:>157}'.format(\"===================================================\"))\n",
    "\n",
    "    \n",
    "        # print out markers for a block of source and a line source code \n",
    "        if \"\\n\" in src: \n",
    "            lst = src.split('\\n')\n",
    "            for l in lst: \n",
    "                print('{:>157}'.format(l))\n",
    "            print(src + \"<===== source code =======\") \n",
    "            print('{:^157}'.format(\"<===== source code =======\"))\n",
    "\n",
    "        else:\n",
    "            print('{:>157}'.format(src))        \n",
    "            print(src + \"<===== source code =======\") \n",
    "    \n",
    "    # trial and error version for real code, still not quite why globals vs locals work in exec and eval\n",
    "    for c in code:\n",
    "        \n",
    "        # handle a block of code\n",
    "        if \"\\n\" in c: \n",
    "            block = ast.parse(c, mode='exec')\n",
    "            exec(compile(block, '<string>', mode='exec'), globals().update(env))\n",
    "        \n",
    "        # handle assignment\n",
    "        elif \" = \" in c: # make sure assignment and !== and == are differentiated\n",
    "            \n",
    "            # print('k' in locals())\n",
    "            exec(c, globals().update(env)) \n",
    "            # print('k' in locals())\n",
    "            variable = c.partition(\" = \")[0]\n",
    "            print(f\"{c} => {variable}: {eval(variable)}\")\n",
    "            \n",
    "        # handle if statement\n",
    "        # Note: do insert code like this : `if abc == def: print(abc)`, print is a must\n",
    "        elif \"if\" in c: \n",
    "            cond = re.search('if (.*?):', c).group(1)\n",
    "            \n",
    "            # when code in string is like 'if abc == def:'\n",
    "            if c.endswith(':'):\n",
    "                \n",
    "                # print ... \n",
    "                print(f\"{c} => {cond}: {eval(cond)}\")      \n",
    "                \n",
    "            # when code in string is like 'if abc == def: print(...)'\n",
    "            else: \n",
    "                # if the cond is true, then print ...\n",
    "                if eval(cond):\n",
    "                    \n",
    "                    # \"if abc == def: print(abc)\".split(': ', 2)[1] to get 'print(abc)'\n",
    "                    printc = c.split(': ', 1)[1]\n",
    "                    print(f\"{c} => {printc} : \")\n",
    "                    exec(c, globals().update(env))\n",
    "                    \n",
    "                # if cond is false, then print ...\n",
    "                else: \n",
    "                    print(f\"{c} => {cond}: {eval(cond)}\")\n",
    "                \n",
    "                \n",
    "        # handle for in statement\n",
    "        elif \"for \" in c and \" in \" in c:           \n",
    "            \n",
    "            # in example like 'for k, v in abc:' or `for k, v in abc: print(...)`, if abc is empty\n",
    "            # step 1: access abc\n",
    "            # get the substring between 'in ' and ':', which is like 'abc'\n",
    "            abc = re.search('in (.*?):', c).group(1)\n",
    "            # if abc is empty dict or list: print and pass\n",
    "            if bool(abc): \n",
    "                print(f'{c} => {abc} is an emtpy {type(eval(abc))}')\n",
    "                continue \n",
    "                # The break statement can be used if you need to break out of a for or while loop and move onto the next section of code.\n",
    "                # The continue statement can be used if you need to skip the current iteration of a for or while loop and move onto the next iteration.\n",
    "            \n",
    "            # if the code in string is like 'for k, v in abc:', there is no more code after `:`\n",
    "            if c.endswith(':'):\n",
    "                \n",
    "                # get the substring between 'for ' and ' in', which is like 'k, v'\n",
    "                variables = re.search('for (.*?) in', c).group(1)\n",
    "                \n",
    "                # if variables has a substring like ', ' inside\n",
    "                if (', ') in variables: \n",
    "                    \n",
    "                    # split it by ', ' into a list of substrings\n",
    "                    vl = variables.split(', ')\n",
    "                    key = vl[0]\n",
    "                    value = vl[1]\n",
    "                    \n",
    "                    # make sure key and value will get evaluated first before exec run\n",
    "                    # printc is for exec to run\n",
    "                    printc = \"print(f'{key}:{eval(key)}, {type(eval(key))} ; {value}:{eval(value)}, {type(eval(value))}')\" \n",
    "                    # printmsg is for reader to understand with ease\n",
    "                    printmsg = \"print(f'key: {key}, {type(key)} ; value: {value}, {type(value)}')\"\n",
    "                    c1 = c + \" \" + printc\n",
    "                    print(f\"{c} => {printmsg} : \")          \n",
    "                    exec(c1, globals().update(env))\n",
    "                \n",
    "                else:\n",
    "                    printc = \"print(f'{variables} : {eval(variables)}')\"\n",
    "                    printmsg = \"print(f'i : {variables}')\"\n",
    "                    c1 = c + \" \" + printc\n",
    "                    print(f\"{c} => {printmsg} : \")          \n",
    "                    exec(c1, globals().update(env))\n",
    "                    \n",
    "            # if the code in string is like 'for k, v in abc: print(abc)'\n",
    "            else:                 \n",
    "                # \"for k, v in abc: print(k)\".split(': ', 1)[1] to get 'print(k)'\n",
    "                printc = c.split(': ', 1)[1]\n",
    "                print(f\"{c} => {printc} : \")\n",
    "                exec(c, globals().update(env)) # we can't use eval to run `for in` loop, but exec can.\n",
    "            ### Note: we shall not use the expression like `for k, v in abc print(abc)`\n",
    "            ### Note: we shall not use the expression like `for k, v in abc if k == def`\n",
    "        \n",
    "        \n",
    "        # handle evaluation\n",
    "        else: \n",
    "            print(f\"{c} : {eval(c, globals().update(env))}\") \n",
    "            \n",
    "        # the benefit of using global().update(env) is \n",
    "        # to ensure we don't need to include the same env for the second time"
   ]
  },
  {
   "cell_type": "code",
   "execution_count": null,
   "id": "cacfaf12",
   "metadata": {},
   "outputs": [
    {
     "data": {
      "text/plain": [
       "True"
      ]
     },
     "execution_count": null,
     "metadata": {},
     "output_type": "execute_result"
    }
   ],
   "source": [
    "dict1 = {'a':1}\n",
    "lst1 = [1]\n",
    "bool(dict1)"
   ]
  },
  {
   "cell_type": "code",
   "execution_count": null,
   "id": "60e578ce",
   "metadata": {},
   "outputs": [
    {
     "data": {
      "text/plain": [
       "False"
      ]
     },
     "execution_count": null,
     "metadata": {},
     "output_type": "execute_result"
    }
   ],
   "source": [
    "dict1 = {}\n",
    "lst1 = []\n",
    "bool(dict1)"
   ]
  },
  {
   "cell_type": "markdown",
   "id": "ec07cfc1",
   "metadata": {},
   "source": [
    "### nicer output spacing"
   ]
  },
  {
   "cell_type": "code",
   "execution_count": null,
   "id": "3f2494e7",
   "metadata": {},
   "outputs": [],
   "source": [
    "def dbprint(src:str, # the source to debug in str\n",
    "            *code,   # a number of codes to run, each code is in str, e.g., \"a + b\", \"c = a - b\"\n",
    "            **env\n",
    "           ):  # a number of stuff needed to run the code, e.g. var1 = var1, func1 = func1\n",
    "    \"Insert and run your codes and give readable output during debugging. Caution 1: \\\n",
    "    avoid using the same variable name used in both global and local scopes, e.g., \\\n",
    "    use `k` in the func and use `k` again inside a for loop inside the func.\\\n",
    "    Caution 2: make sure to include all the necessary env variables to avoid \\\n",
    "    the same variable with different values from different scopes. Caution 3: when an env variable is updated, \\\n",
    "    then you need to includ it again in the next dbprint. Caution 4: be strict on the spaces, e.g., `for k, v in` \\\n",
    "    and `a = createsth(...)`\"\n",
    "    \n",
    "    # whether dbprint is working inside a for in loop or any kind of a loop\n",
    "    if defaults.block == True:\n",
    "        print('\\n')\n",
    "        print('{:>157}'.format(\"===inside a block===\"))\n",
    "        print('{:>157}'.format(src))\n",
    "        print('\\n')\n",
    "        print(src + \"<===== source code =======\") \n",
    "\n",
    "    else:\n",
    "        print('\\n')\n",
    "        print('{:>157}'.format(\"===================================================\"))\n",
    "\n",
    "    \n",
    "        # print out markers for a block of source and a line source code \n",
    "        if \"\\n\" in src: \n",
    "            lst = src.split('\\n')\n",
    "            for l in lst: \n",
    "                print('{:>157}'.format(l))\n",
    "            print('\\n')\n",
    "\n",
    "            print('{:^157}'.format(\"<===== source code =======\"))\n",
    "            print(src) \n",
    "            print('\\n')\n",
    "\n",
    "        else:\n",
    "            print('{:>157}'.format(src))        \n",
    "            print(src + \"<===== source code =======\") \n",
    "    \n",
    "    # trial and error version for real code, still not quite why globals vs locals work in exec and eval\n",
    "    for c in code:\n",
    "        print(\"\\n\")\n",
    "        \n",
    "        # handle a block of code\n",
    "        if \"\\n\" in c: \n",
    "            print(f\"{c} => \")\n",
    "            block = ast.parse(c, mode='exec')\n",
    "            exec(compile(block, '<string>', mode='exec'), globals().update(env))\n",
    "        \n",
    "        # handle assignment\n",
    "        elif \" = \" in c: # make sure assignment and !== and == are differentiated\n",
    "            \n",
    "            # print('k' in locals())\n",
    "            exec(c, globals().update(env)) \n",
    "            # print('k' in locals())\n",
    "            variable = c.partition(\" = \")[0]\n",
    "            print(f\"{c} => {variable}: {eval(variable)}\")\n",
    "            \n",
    "        # handle if statement\n",
    "        # Note: do insert code like this : `if abc == def: print(abc)`, print is a must\n",
    "        elif \"if\" in c: \n",
    "            cond = re.search('if (.*?):', c).group(1)\n",
    "            \n",
    "            # when code in string is like 'if abc == def:'\n",
    "            if c.endswith(':'):\n",
    "                \n",
    "                # print ... \n",
    "                print(f\"{c} => {cond}: {eval(cond)}\")      \n",
    "                \n",
    "            # when code in string is like 'if abc == def: print(...)'\n",
    "            else: \n",
    "                # if the cond is true, then print ...\n",
    "                if eval(cond):\n",
    "                    \n",
    "                    # \"if abc == def: print(abc)\".split(': ', 2)[1] to get 'print(abc)'\n",
    "                    printc = c.split(': ', 1)[1]\n",
    "                    print(f\"{c} => {printc} : \")\n",
    "                    exec(c, globals().update(env))\n",
    "                    \n",
    "                # if cond is false, then print ...\n",
    "                else: \n",
    "                    print(f\"{c} => {cond}: {eval(cond)}\")\n",
    "                \n",
    "                \n",
    "        # handle for in statement\n",
    "        elif \"for \" in c and \" in \" in c:           \n",
    "            \n",
    "            # in example like 'for k, v in abc:' or `for k, v in abc: print(...)`, if abc is empty\n",
    "            # step 1: access abc\n",
    "            # get the substring between 'in ' and ':', which is like 'abc'\n",
    "            abc = re.search('in (.*?):', c).group(1)\n",
    "            # if abc is empty dict or list: print and pass\n",
    "            if bool(abc): \n",
    "                print(f'{c} => {abc} is an emtpy {type(eval(abc))}')\n",
    "                continue \n",
    "                # The break statement can be used if you need to break out of a for or while loop and move onto the next section of code.\n",
    "                # The continue statement can be used if you need to skip the current iteration of a for or while loop and move onto the next iteration.\n",
    "            \n",
    "            # if the code in string is like 'for k, v in abc:', there is no more code after `:`\n",
    "            if c.endswith(':'):\n",
    "                \n",
    "                # get the substring between 'for ' and ' in', which is like 'k, v'\n",
    "                variables = re.search('for (.*?) in', c).group(1)\n",
    "                \n",
    "                # if variables has a substring like ', ' inside\n",
    "                if (', ') in variables: \n",
    "                    \n",
    "                    # split it by ', ' into a list of substrings\n",
    "                    vl = variables.split(', ')\n",
    "                    key = vl[0]\n",
    "                    value = vl[1]\n",
    "                    \n",
    "                    # make sure key and value will get evaluated first before exec run\n",
    "                    # printc is for exec to run\n",
    "                    printc = \"print(f'{key}:{eval(key)}, {type(eval(key))} ; {value}:{eval(value)}, {type(eval(value))}')\" \n",
    "                    # printmsg is for reader to understand with ease\n",
    "                    printmsg = \"print(f'key: {key}, {type(key)} ; value: {value}, {type(value)}')\"\n",
    "                    c1 = c + \" \" + printc\n",
    "                    print(f\"{c} => {printmsg} : \")          \n",
    "                    exec(c1, globals().update(env))\n",
    "                \n",
    "                else:\n",
    "                    printc = \"print(f'{variables} : {eval(variables)}')\"\n",
    "                    printmsg = \"print(f'i : {variables}')\"\n",
    "                    c1 = c + \" \" + printc\n",
    "                    print(f\"{c} => {printmsg} : \")          \n",
    "                    exec(c1, globals().update(env))\n",
    "                    \n",
    "            # if the code in string is like 'for k, v in abc: print(abc)'\n",
    "            else:                 \n",
    "                # \"for k, v in abc: print(k)\".split(': ', 1)[1] to get 'print(k)'\n",
    "                printc = c.split(': ', 1)[1]\n",
    "                print(f\"{c} => {printc} : \")\n",
    "                exec(c, globals().update(env)) # we can't use eval to run `for in` loop, but exec can.\n",
    "            ### Note: we shall not use the expression like `for k, v in abc print(abc)`\n",
    "            ### Note: we shall not use the expression like `for k, v in abc if k == def`\n",
    "        \n",
    "        \n",
    "        # handle evaluation\n",
    "        else: \n",
    "            print(f\"{c} => {c} : {eval(c, globals().update(env))}\") \n",
    "            \n",
    "        # the benefit of using global().update(env) is \n",
    "        # to ensure we don't need to include the same env for the second time"
   ]
  },
  {
   "cell_type": "markdown",
   "id": "af117219",
   "metadata": {},
   "source": [
    "### print output left and right reverted"
   ]
  },
  {
   "cell_type": "code",
   "execution_count": null,
   "id": "39643584",
   "metadata": {},
   "outputs": [],
   "source": [
    "def dbprint(src:str, # the source to debug in str\n",
    "            *code,   # a number of codes to run, each code is in str, e.g., \"a + b\", \"c = a - b\"\n",
    "            **env\n",
    "           ):  # a number of stuff needed to run the code, e.g. var1 = var1, func1 = func1\n",
    "    \"Insert and run your codes and give readable output during debugging. Caution 1: \\\n",
    "    avoid using the same variable name used in both global and local scopes, e.g., \\\n",
    "    use `k` in the func and use `k` again inside a for loop inside the func.\\\n",
    "    Caution 2: make sure to include all the necessary env variables to avoid \\\n",
    "    the same variable with different values from different scopes. Caution 3: when an env variable is updated, \\\n",
    "    then you need to includ it again in the next dbprint. Caution 4: be strict on the spaces, e.g., `for k, v in` \\\n",
    "    and `a = createsth(...)`\"\n",
    "    \n",
    "    # whether dbprint is working inside a for in loop or any kind of a loop\n",
    "    if defaults.block == True:\n",
    "        print('\\n')\n",
    "        print('{:>157}'.format(\"===source inside a block===\"))\n",
    "        print('{:>157}'.format(src))\n",
    "        print('\\n')\n",
    "        # print(src + \"<===== source code =======\") \n",
    "\n",
    "    else:\n",
    "        print('\\n')\n",
    "        # print('{:>157}'.format(\"======================== source code ===========================\"))\n",
    "        print('{:<157}'.format(\"============================= source code ================================\"))\n",
    "        print('{:<157}'.format(src))        \n",
    "    \n",
    "        # print out markers for a block of source and a line source code \n",
    "        # if \"\\n\" in src: \n",
    "        #     lst = src.split('\\n')\n",
    "        #     for l in lst: \n",
    "        #         print('{:>157}'.format(l))\n",
    "        #     print('\\n')\n",
    "\n",
    "            # print('{:^157}'.format(\"<===== source code =======\"))\n",
    "            # print(src)  # print the block of src for the second time but on the left hand side\n",
    "            # print('\\n')\n",
    "\n",
    "        # else:\n",
    "        #     print('{:>157}'.format(src))        \n",
    "            # print(src + \"<===== source code =======\") \n",
    "    \n",
    "    # trial and error version for real code, still not quite why globals vs locals work in exec and eval\n",
    "    for c in code:\n",
    "        print(\"\\n\")\n",
    "        \n",
    "        # handle a block of code\n",
    "        if \"\\n\" in c: \n",
    "            output = f\"Running your code block => \"\n",
    "            print('{:<157}'.format(c))       \n",
    "            print('{:>157}'.format(output))  \n",
    "            print('The code block printout => : ')\n",
    "            block = ast.parse(c, mode='exec')\n",
    "            exec(compile(block, '<string>', mode='exec'), globals().update(env))\n",
    "        \n",
    "        # handle assignment\n",
    "        elif \" = \" in c: # make sure assignment and !== and == are differentiated\n",
    "            \n",
    "            # print('k' in locals())\n",
    "            exec(c, globals().update(env)) \n",
    "            # print('k' in locals())\n",
    "            variable = c.partition(\" = \")[0]\n",
    "            # print(f\"{c} => {variable}: {eval(variable)}\")\n",
    "            output = f\"{c} => {variable}: {eval(variable)}\"\n",
    "            print('{:>157}'.format(output))       \n",
    "            \n",
    "        # handle if statement\n",
    "        # Note: do insert code like this : `if abc == def: print(abc)`, print is a must\n",
    "        elif \"if\" in c: \n",
    "            cond = re.search('if (.*?):', c).group(1)\n",
    "            \n",
    "            # when code in string is like 'if abc == def:'\n",
    "            if c.endswith(':'):\n",
    "                \n",
    "                # print ... \n",
    "                # print(f\"{c} => {cond}: {eval(cond)}\")      \n",
    "                output = f\"{c} => {cond}: {eval(cond)}\"\n",
    "                print('{:>157}'.format(output))\n",
    "                \n",
    "            # when code in string is like 'if abc == def: print(...)'\n",
    "            else: \n",
    "                # if the cond is true, then print ...\n",
    "                if eval(cond):\n",
    "                    \n",
    "                    # \"if abc == def: print(abc)\".split(': ', 2)[1] to get 'print(abc)'\n",
    "                    printc = c.split(': ', 1)[1]\n",
    "                    # print(f\"{c} => {printc} : \")\n",
    "                    output = f\"{c} => {printc} : \"\n",
    "                    print('{:>157}'.format(output))      \n",
    "                    exec(c, globals().update(env))\n",
    "                    \n",
    "                # if cond is false, then print ...\n",
    "                else: \n",
    "                    # print(f\"{c} => {cond}: {eval(cond)}\")\n",
    "                    output = f\"{c} => {cond}: {eval(cond)}\"\n",
    "                    print('{:>157}'.format(output))   \n",
    "                \n",
    "                \n",
    "        # handle for in statement\n",
    "        elif \"for \" in c and \" in \" in c:           \n",
    "            \n",
    "            # in example like 'for k, v in abc:' or `for k, v in abc: print(...)`, if abc is empty\n",
    "            # step 1: access abc\n",
    "            # get the substring between 'in ' and ':', which is like 'abc'\n",
    "            abc = re.search('in (.*?):', c).group(1)\n",
    "            # if abc is empty dict or list: print and pass\n",
    "            if bool(abc): \n",
    "                # print(f'{c} => {abc} is an emtpy {type(eval(abc))}')\n",
    "                output = f'{c} => {abc} is an emtpy {type(eval(abc))}'\n",
    "                print('{:>157}'.format(output))   \n",
    "                continue \n",
    "                # The break statement can be used if you need to break out of a for or while loop and move onto the next section of code.\n",
    "                # The continue statement can be used if you need to skip the current iteration of a for or while loop and move onto the next iteration.\n",
    "            \n",
    "            # if the code in string is like 'for k, v in abc:', there is no more code after `:`\n",
    "            if c.endswith(':'):\n",
    "                \n",
    "                # get the substring between 'for ' and ' in', which is like 'k, v'\n",
    "                variables = re.search('for (.*?) in', c).group(1)\n",
    "                \n",
    "                # if variables has a substring like ', ' inside\n",
    "                if (', ') in variables: \n",
    "                    \n",
    "                    # split it by ', ' into a list of substrings\n",
    "                    vl = variables.split(', ')\n",
    "                    key = vl[0]\n",
    "                    value = vl[1]\n",
    "                    \n",
    "                    # make sure key and value will get evaluated first before exec run\n",
    "                    # printc is for exec to run\n",
    "                    printc = \"print(f'{key}:{eval(key)}, {type(eval(key))} ; {value}:{eval(value)}, {type(eval(value))}')\" \n",
    "                    # printmsg is for reader to understand with ease\n",
    "                    printmsg = \"print(f'key: {key}, {type(key)} ; value: {value}, {type(value)}')\"\n",
    "                    c1 = c + \" \" + printc\n",
    "                    # print(f\"{c} => {printmsg} : \")      \n",
    "                    output = f\"{c} => {printmsg} : \"\n",
    "                    print('{:>157}'.format(output))   \n",
    "                    exec(c1, globals().update(env))\n",
    "                \n",
    "                else:\n",
    "                    printc = \"print(f'{variables} : {eval(variables)}')\"\n",
    "                    printmsg = \"print(f'i : {variables}')\"\n",
    "                    c1 = c + \" \" + printc\n",
    "                    # print(f\"{c} => {printmsg} : \")     \n",
    "                    output = f\"{c} => {printmsg} : \"\n",
    "                    print('{:>157}'.format(output))   \n",
    "                    exec(c1, globals().update(env))\n",
    "                    \n",
    "            # if the code in string is like 'for k, v in abc: print(abc)'\n",
    "            else:                 \n",
    "                # \"for k, v in abc: print(k)\".split(': ', 1)[1] to get 'print(k)'\n",
    "                printc = c.split(': ', 1)[1]\n",
    "                # print(f\"{c} => {printc} : \")\n",
    "                output = f\"{c} => {printc} : \"\n",
    "                print('{:>157}'.format(output))   \n",
    "                exec(c, globals().update(env)) # we can't use eval to run `for in` loop, but exec can.\n",
    "            ### Note: we shall not use the expression like `for k, v in abc print(abc)`\n",
    "            ### Note: we shall not use the expression like `for k, v in abc if k == def`\n",
    "        \n",
    "        \n",
    "        # handle evaluation\n",
    "        else: \n",
    "            # print(f\"{c} => {c} : {eval(c, globals().update(env))}\") \n",
    "            output = f\"{c} => {c} : {eval(c, globals().update(env))}\"\n",
    "            print('{:>157}'.format(output))   \n",
    "            \n",
    "        # the benefit of using global().update(env) is \n",
    "        # to ensure we don't need to include the same env for the second time"
   ]
  },
  {
   "cell_type": "markdown",
   "id": "74c6aab8",
   "metadata": {},
   "source": [
    "### add feature: print out the entire source code and use ====== to mark the source code line at debugging"
   ]
  },
  {
   "cell_type": "code",
   "execution_count": null,
   "id": "f4291d6d",
   "metadata": {},
   "outputs": [],
   "source": [
    "import inspect\n",
    "import fastcore.meta as fm\n",
    "defaults.src = inspect.getsource(fm.delegates)"
   ]
  },
  {
   "cell_type": "code",
   "execution_count": null,
   "id": "53ba9e29",
   "metadata": {},
   "outputs": [
    {
     "data": {
      "text/plain": [
       "'def delegates(to:FunctionType=None, # Delegatee\\n              keep=False, # Keep `kwargs` in decorated function?\\n              but:list=None): # Exclude these parameters from signature\\n    \"Decorator: replace `**kwargs` in signature with params from `to`\"\\n    if but is None: but = []\\n    def _f(f):\\n        if to is None: to_f,from_f = f.__base__.__init__,f.__init__\\n        else:          to_f,from_f = to.__init__ if isinstance(to,type) else to,f\\n        from_f = getattr(from_f,\\'__func__\\',from_f)\\n        to_f = getattr(to_f,\\'__func__\\',to_f)\\n        if hasattr(from_f,\\'__delwrap__\\'): return f\\n        sig = inspect.signature(from_f)\\n        sigd = dict(sig.parameters)\\n        k = sigd.pop(\\'kwargs\\')\\n        s2 = {k:v.replace(kind=inspect.Parameter.KEYWORD_ONLY) for k,v in inspect.signature(to_f).parameters.items()\\n              if v.default != inspect.Parameter.empty and k not in sigd and k not in but}\\n        anno = {k:v for k,v in to_f.__annotations__.items() if k not in sigd and k not in but}\\n        sigd.update(s2)\\n        if keep: sigd[\\'kwargs\\'] = k\\n        else: from_f.__delwrap__ = to_f\\n        from_f.__signature__ = sig.replace(parameters=sigd.values())\\n        if hasattr(from_f, \\'__annotations__\\'): from_f.__annotations__.update(anno)\\n        return f\\n    return _f\\n'"
      ]
     },
     "execution_count": null,
     "metadata": {},
     "output_type": "execute_result"
    }
   ],
   "source": [
    "defaults.src"
   ]
  },
  {
   "cell_type": "code",
   "execution_count": null,
   "id": "7f1f6572",
   "metadata": {},
   "outputs": [
    {
     "data": {
      "text/plain": [
       "'        if to is None: to_f,from_f = f.__base__.__init__,f.__init__'"
      ]
     },
     "execution_count": null,
     "metadata": {},
     "output_type": "execute_result"
    }
   ],
   "source": [
    "lst = defaults.src.split('\\n')\n",
    "l1 = lst[6]\n",
    "l1"
   ]
  },
  {
   "cell_type": "code",
   "execution_count": null,
   "id": "a2e17d9c",
   "metadata": {},
   "outputs": [
    {
     "data": {
      "text/plain": [
       "'        if to is None: to_f,from_f = f.__base__.__init__,f.__init__'"
      ]
     },
     "execution_count": null,
     "metadata": {},
     "output_type": "execute_result"
    }
   ],
   "source": [
    "l1.strip()\n",
    "l1"
   ]
  },
  {
   "cell_type": "code",
   "execution_count": null,
   "id": "1b8a1bcd",
   "metadata": {},
   "outputs": [
    {
     "data": {
      "text/plain": [
       "'\\nif to is None: to_f,from_f = f.__base__.__init__,f.__init__\\nelse:          to_f,from_f = to.__init__ if isinstance(to,type) else to,f\\n        '"
      ]
     },
     "execution_count": null,
     "metadata": {},
     "output_type": "execute_result"
    }
   ],
   "source": [
    "block1 = \"\"\"\n",
    "if to is None: to_f,from_f = f.__base__.__init__,f.__init__\n",
    "else:          to_f,from_f = to.__init__ if isinstance(to,type) else to,f\n",
    "        \"\"\"\n",
    "block1"
   ]
  },
  {
   "cell_type": "code",
   "execution_count": null,
   "id": "d8988219",
   "metadata": {},
   "outputs": [
    {
     "data": {
      "text/plain": [
       "True"
      ]
     },
     "execution_count": null,
     "metadata": {},
     "output_type": "execute_result"
    }
   ],
   "source": [
    "lst[6].strip() in block1"
   ]
  },
  {
   "cell_type": "code",
   "execution_count": null,
   "id": "013482a7",
   "metadata": {},
   "outputs": [
    {
     "data": {
      "text/plain": [
       "('',\n",
       " \"        if hasattr(from_f, '__annotations__'): from_f.__annotations__.update(anno)\")"
      ]
     },
     "execution_count": null,
     "metadata": {},
     "output_type": "execute_result"
    }
   ],
   "source": [
    "lst[-1], lst[-4]"
   ]
  },
  {
   "cell_type": "code",
   "execution_count": null,
   "id": "50e4b68d",
   "metadata": {},
   "outputs": [
    {
     "data": {
      "text/plain": [
       "True"
      ]
     },
     "execution_count": null,
     "metadata": {},
     "output_type": "execute_result"
    }
   ],
   "source": [
    "bool(lst[-2])"
   ]
  },
  {
   "cell_type": "markdown",
   "id": "74975e17",
   "metadata": {},
   "source": [
    "### defaults.block is no longer needed I think"
   ]
  },
  {
   "cell_type": "code",
   "execution_count": null,
   "id": "1854881a",
   "metadata": {},
   "outputs": [],
   "source": [
    "class dbcolors:\n",
    "    g = '\\033[92m' #GREEN\n",
    "    y = '\\033[93m' #YELLOW\n",
    "    r = '\\033[91m' #RED\n",
    "    reset = '\\033[0m' #RESET COLOR"
   ]
  },
  {
   "cell_type": "code",
   "execution_count": null,
   "id": "69662cdf",
   "metadata": {},
   "outputs": [],
   "source": [
    "def colorize(): pass"
   ]
  },
  {
   "cell_type": "code",
   "execution_count": null,
   "id": "c804f578",
   "metadata": {},
   "outputs": [],
   "source": [
    "def dbprint(src:str, # the source to debug in str\n",
    "            *code,   # a number of codes to run, each code is in str, e.g., \"a + b\", \"c = a - b\"\n",
    "            **env\n",
    "           ):  # a number of stuff needed to run the code, e.g. var1 = var1, func1 = func1\n",
    "    \"Insert and run your codes and give readable output during debugging. Caution 1: \\\n",
    "    avoid using the same variable name used in both global and local scopes, e.g., \\\n",
    "    use `k` in the func and use `k` again inside a for loop inside the func.\\\n",
    "    Caution 2: make sure to include all the necessary env variables to avoid \\\n",
    "    the same variable with different values from different scopes. Caution 3: when an env variable is updated, \\\n",
    "    then you need to includ it again in the next dbprint. Caution 4: be strict on the spaces, e.g., `for k,v in` \\\n",
    "    and `a = createsth(...)`\"\n",
    "    \n",
    "    # whether dbprint is working inside a for in loop or any kind of a loop\n",
    "    if defaults.block == True:\n",
    "        print('\\n')\n",
    "        print('{:>157}'.format(\"===source inside a block===\"))\n",
    "        print('{:>157}'.format(src))\n",
    "        print('\\n')\n",
    "        # print(src + \"<===== source code =======\") \n",
    "\n",
    "    else:\n",
    "        print('\\n')\n",
    "        # print('{:>157}'.format(\"======================== source code ===========================\"))\n",
    "        print('{:<157}'.format(\"============================= source code ================================\"))\n",
    "        print('{:<157}'.format(src))        \n",
    "        \n",
    "        # print the source code of the function\n",
    "        lst = defaults.src.split('\\n')\n",
    "        for l in lst: \n",
    "            if bool(l) and l.strip() in src: # how to make sure all these ls are close to each other???\n",
    "                print('{:=<157}'.format(l))\n",
    "            else: \n",
    "                print('{:<157}'.format(l))\n",
    "        print('\\n')\n",
    "        \n",
    "    \n",
    "    # trial and error version for real code, still not quite why globals vs locals work in exec and eval\n",
    "    for c in code:\n",
    "        print(\"\\n\")\n",
    "        \n",
    "        # handle a block of code\n",
    "        if \"\\n\" in c: \n",
    "            output = f\"Running your code block => \"\n",
    "            print('{:<157}'.format(c))       \n",
    "            print('{:>157}'.format(output))  \n",
    "            print('The code block printout => : ')\n",
    "            block = ast.parse(c, mode='exec')\n",
    "            exec(compile(block, '<string>', mode='exec'), globals().update(env))\n",
    "        \n",
    "        # handle assignment\n",
    "        elif \" = \" in c: # make sure assignment and !== and == are differentiated\n",
    "            \n",
    "            # print('k' in locals())\n",
    "            exec(c, globals().update(env)) \n",
    "            # print('k' in locals())\n",
    "            variable = c.partition(\" = \")[0]\n",
    "            # print(f\"{c} => {variable}: {eval(variable)}\")\n",
    "            output = f\"{c} => {variable}: {eval(variable)}\"\n",
    "            print('{:>157}'.format(output))       \n",
    "            \n",
    "        # handle if statement\n",
    "        # Note: do insert code like this : `if abc == def: print(abc)`, print is a must\n",
    "        elif \"if\" in c: \n",
    "            cond = re.search('if (.*?):', c).group(1)\n",
    "            \n",
    "            # when code in string is like 'if abc == def:'\n",
    "            if c.endswith(':'):\n",
    "                \n",
    "                # print ... \n",
    "                # print(f\"{c} => {cond}: {eval(cond)}\")      \n",
    "                output = f\"{c} => {cond}: {eval(cond)}\"\n",
    "                print('{:>157}'.format(output))\n",
    "                \n",
    "            # when code in string is like 'if abc == def: print(...)'\n",
    "            else: \n",
    "                # if the cond is true, then print ...\n",
    "                if eval(cond):\n",
    "                    \n",
    "                    # \"if abc == def: print(abc)\".split(': ', 2)[1] to get 'print(abc)'\n",
    "                    printc = c.split(': ', 1)[1]\n",
    "                    # print(f\"{c} => {printc} : \")\n",
    "                    output = f\"{c} => {printc} : \"\n",
    "                    print('{:>157}'.format(output))      \n",
    "                    exec(c, globals().update(env))\n",
    "                    \n",
    "                # if cond is false, then print ...\n",
    "                else: \n",
    "                    # print(f\"{c} => {cond}: {eval(cond)}\")\n",
    "                    output = f\"{c} => {cond}: {eval(cond)}\"\n",
    "                    print('{:>157}'.format(output))   \n",
    "                \n",
    "                \n",
    "        # handle for in statement\n",
    "        elif \"for \" in c and \" in \" in c:           \n",
    "            \n",
    "            # in example like 'for k, v in abc:' or `for k, v in abc: print(...)`, if abc is empty\n",
    "            # step 1: access abc\n",
    "            # get the substring between 'in ' and ':', which is like 'abc'\n",
    "            abc = re.search('in (.*?):', c).group(1)\n",
    "            # if abc is empty dict or list: print and pass\n",
    "            if not bool(eval(abc)): \n",
    "                # print(f'{c} => {abc} is an emtpy {type(eval(abc))}')\n",
    "                output = f'{c} => {abc} is an emtpy {type(eval(abc))}'\n",
    "                print('{:>157}'.format(output))   \n",
    "                continue \n",
    "                # The break statement can be used if you need to break out of a for or while loop and move onto the next section of code.\n",
    "                # The continue statement can be used if you need to skip the current iteration of a for or while loop and move onto the next iteration.\n",
    "            \n",
    "            # if the code in string is like 'for k, v in abc:', there is no more code after `:`\n",
    "            if c.endswith(':'):\n",
    "                \n",
    "                # get the substring between 'for ' and ' in', which is like 'k, v'\n",
    "                variables = re.search('for (.*?) in', c).group(1)\n",
    "                \n",
    "                # if variables has a substring like ', ' inside\n",
    "                if (',') in variables: \n",
    "                    \n",
    "                    # split it by ', ' into a list of substrings\n",
    "                    vl = variables.split(',')\n",
    "                    key = vl[0]\n",
    "                    value = vl[1]\n",
    "                    \n",
    "                    # make sure key and value will get evaluated first before exec run\n",
    "                    # printc is for exec to run\n",
    "                    printc = \"print(f'{key}:{eval(key)}, {type(eval(key))} ; {value}:{eval(value)}, {type(eval(value))}')\" \n",
    "                    # printmsg is for reader to understand with ease\n",
    "                    printmsg = \"print(f'key: {key}, {type(key)} ; value: {value}, {type(value)}')\"\n",
    "                    c1 = c + \" \" + printc\n",
    "                    # print(f\"{c} => {printmsg} : \")      \n",
    "                    output = f\"{c} => {printmsg} : \"\n",
    "                    print('{:>157}'.format(output))   \n",
    "                    exec(c1, globals().update(env))\n",
    "                \n",
    "                else:\n",
    "                    printc = \"print(f'{variables} : {eval(variables)}')\"\n",
    "                    printmsg = \"print(f'i : {variables}')\"\n",
    "                    c1 = c + \" \" + printc\n",
    "                    # print(f\"{c} => {printmsg} : \")     \n",
    "                    output = f\"{c} => {printmsg} : \"\n",
    "                    print('{:>157}'.format(output))   \n",
    "                    exec(c1, globals().update(env))\n",
    "                    \n",
    "            # if the code in string is like 'for k, v in abc: print(abc)'\n",
    "            else:                 \n",
    "                # \"for k, v in abc: print(k)\".split(': ', 1)[1] to get 'print(k)'\n",
    "                printc = c.split(': ', 1)[1]\n",
    "                # print(f\"{c} => {printc} : \")\n",
    "                output = f\"{c} => {printc} : \"\n",
    "                print('{:>157}'.format(output))   \n",
    "                exec(c, globals().update(env)) # we can't use eval to run `for in` loop, but exec can.\n",
    "            ### Note: we shall not use the expression like `for k, v in abc print(abc)`\n",
    "            ### Note: we shall not use the expression like `for k, v in abc if k == def`\n",
    "        \n",
    "        \n",
    "        # handle evaluation\n",
    "        else: \n",
    "            # print(f\"{c} => {c} : {eval(c, globals().update(env))}\") \n",
    "            output = f\"{c} => {c} : {eval(c, globals().update(env))}\"\n",
    "            print('{:>157}'.format(output))   \n",
    "            \n",
    "        # the benefit of using global().update(env) is \n",
    "        # to ensure we don't need to include the same env for the second time"
   ]
  },
  {
   "cell_type": "markdown",
   "id": "3ffa3683",
   "metadata": {},
   "source": [
    "### add features to colorize question, feature and comment"
   ]
  },
  {
   "cell_type": "code",
   "execution_count": null,
   "id": "d68f010e",
   "metadata": {},
   "outputs": [],
   "source": [
    "def dbprint(src:str, # the source to debug in str\n",
    "            *code,   # a number of codes to run, each code is in str, e.g., \"a + b\", \"c = a - b\"\n",
    "            **env\n",
    "           ):  # a number of stuff needed to run the code, e.g. var1 = var1, func1 = func1\n",
    "    \"Insert and run your codes and give readable output during debugging. Caution 1: \\\n",
    "    avoid using the same variable name used in both global and local scopes, e.g., \\\n",
    "    use `k` in the func and use `k` again inside a for loop inside the func.\\\n",
    "    Caution 2: make sure to include all the necessary env variables to avoid \\\n",
    "    the same variable with different values from different scopes. Caution 3: when an env variable is updated, \\\n",
    "    then you need to includ it again in the next dbprint. Caution 4: be strict on the spaces, e.g., `for k,v in` \\\n",
    "    and `a = createsth(...)`\"\n",
    "    \n",
    "    # whether dbprint is working inside a for in loop or any kind of a loop\n",
    "    if defaults.block == True:\n",
    "        print('\\n')\n",
    "        print('{:>157}'.format(\"===source inside a block===\"))\n",
    "        print('{:>157}'.format(src))\n",
    "        print('\\n')\n",
    "        # print(src + \"<===== source code =======\") \n",
    "\n",
    "    else:\n",
    "        print('\\n')\n",
    "        # print('{:>157}'.format(\"======================== source code ===========================\"))\n",
    "        print('{:<157}'.format(\"============================= source code ================================\"))\n",
    "        print('{:<157}'.format(src))        \n",
    "        \n",
    "        # print the source code of the function\n",
    "        lst = defaults.src.split('\\n')\n",
    "        for l in lst: \n",
    "            if bool(l) and l.strip() in src: # how to make sure all these ls are close to each other???\n",
    "                print('{:=<157}'.format(l))\n",
    "            else: \n",
    "                print('{:<157}'.format(l))\n",
    "        # print out the example\n",
    "        print('{:<157}'.format(defaults.eg))\n",
    "        \n",
    "    \n",
    "    # trial and error version for real code, still not quite why globals vs locals work in exec and eval\n",
    "    for c in code:\n",
    "        print(\"\\n\")\n",
    "        \n",
    "        c1 = None # use it as container for colored string\n",
    "        # handle comment\n",
    "        if \"#comment#\" in c:\n",
    "            _,c1 = colorize(c)\n",
    "            # print('{:>157}'.format(c1))   \n",
    "            print(c1)\n",
    "            continue\n",
    "        else:\n",
    "\n",
    "            # c is normal string, c1 is colored string, both are without #question# or #feature# or #comment#\n",
    "            c,c1 = colorize(c)\n",
    "        \n",
    "        # handle a block of code\n",
    "        if \"\\n\" in c: \n",
    "            output = f\"Running your code block => \"\n",
    "            print('{:<157}'.format(c))       \n",
    "            print('{:>157}'.format(output))  \n",
    "            print('The code block printout => : ')\n",
    "            block = ast.parse(c, mode='exec')\n",
    "            exec(compile(block, '<string>', mode='exec'), globals().update(env))\n",
    "        \n",
    "        # handle assignment\n",
    "        elif \" = \" in c: # make sure assignment and !== and == are differentiated\n",
    "            exec(c, globals().update(env)) \n",
    "            variable = c.partition(\" = \")[0]\n",
    "            output = f\"{c1} => {variable}: {eval(variable)}\"\n",
    "            print('{:>157}'.format(output))       \n",
    "            \n",
    "        # handle if statement\n",
    "        # Note: do insert code like this : `if abc == def: print(abc)`, print is a must\n",
    "        elif \"if\" in c: \n",
    "            cond = re.search('if (.*?):', c).group(1)\n",
    "            \n",
    "            # when code in string is like 'if abc == def:'\n",
    "            if c.endswith(':'):\n",
    "                \n",
    "                # print ... \n",
    "                # print(f\"{c} => {cond}: {eval(cond)}\")      \n",
    "                output = f\"{c} => {cond}: {eval(cond)}\"\n",
    "                print('{:>157}'.format(output))\n",
    "                \n",
    "            # when code in string is like 'if abc == def: print(...)'\n",
    "            else: \n",
    "                # if the cond is true, then print ...\n",
    "                if eval(cond):\n",
    "                    \n",
    "                    # \"if abc == def: print(abc)\".split(': ', 2)[1] to get 'print(abc)'\n",
    "                    printc = c.split(': ', 1)[1]\n",
    "                    # print(f\"{c} => {printc} : \")\n",
    "                    output = f\"{c} => {printc} : \"\n",
    "                    print('{:>157}'.format(output))      \n",
    "                    exec(c, globals().update(env))\n",
    "                    \n",
    "                # if cond is false, then print ...\n",
    "                else: \n",
    "                    # print(f\"{c} => {cond}: {eval(cond)}\")\n",
    "                    output = f\"{c} => {cond}: {eval(cond)}\"\n",
    "                    print('{:>157}'.format(output))   \n",
    "                \n",
    "                \n",
    "        # handle for in statement\n",
    "        elif \"for \" in c and \" in \" in c:           \n",
    "            \n",
    "            # in example like 'for k, v in abc:' or `for k, v in abc: print(...)`, if abc is empty\n",
    "            # step 1: access abc\n",
    "            # get the substring between 'in ' and ':', which is like 'abc'\n",
    "            abc = re.search('in (.*?):', c).group(1)\n",
    "            # if abc is empty dict or list: print and pass\n",
    "            if not bool(eval(abc)): \n",
    "                # print(f'{c} => {abc} is an emtpy {type(eval(abc))}')\n",
    "                output = f'{c} => {abc} is an emtpy {type(eval(abc))}'\n",
    "                print('{:>157}'.format(output))   \n",
    "                 \n",
    "                # The break statement can be used if you need to break out of a for or while loop and move onto the next section of code.\n",
    "                # The continue statement can be used if you need to skip the current iteration of a for or while loop and move onto the next iteration.\n",
    "            \n",
    "            # if the code in string is like 'for k, v in abc:', there is no more code after `:`\n",
    "            if c.endswith(':'):\n",
    "                \n",
    "                # get the substring between 'for ' and ' in', which is like 'k, v'\n",
    "                variables = re.search('for (.*?) in', c).group(1)\n",
    "                \n",
    "                # if variables has a substring like ', ' inside\n",
    "                if (',') in variables: \n",
    "                    \n",
    "                    # split it by ', ' into a list of substrings\n",
    "                    vl = variables.split(',')\n",
    "                    key = vl[0]\n",
    "                    value = vl[1]\n",
    "                    \n",
    "                    # make sure key and value will get evaluated first before exec run\n",
    "                    # printc is for exec to run\n",
    "                    printc = \"print(f'{key}:{eval(key)}, {type(eval(key))} ; {value}:{eval(value)}, {type(eval(value))}')\" \n",
    "                    # printmsg is for reader to understand with ease\n",
    "                    printmsg = \"print(f'key: {key}, {type(key)} ; value: {value}, {type(value)}')\"\n",
    "                    c1 = c + \" \" + printc\n",
    "                    # print(f\"{c} => {printmsg} : \")      \n",
    "                    output = f\"{c} => {printmsg} : \"\n",
    "                    print('{:>157}'.format(output))   \n",
    "                    exec(c1, globals().update(env))\n",
    "                \n",
    "                else:\n",
    "                    printc = \"print(f'{variables} : {eval(variables)}')\"\n",
    "                    printmsg = \"print(f'i : {variables}')\"\n",
    "                    c1 = c + \" \" + printc\n",
    "                    # print(f\"{c} => {printmsg} : \")     \n",
    "                    output = f\"{c} => {printmsg} : \"\n",
    "                    print('{:>157}'.format(output))   \n",
    "                    exec(c1, globals().update(env))\n",
    "                    \n",
    "            # if the code in string is like 'for k, v in abc: print(abc)'\n",
    "            else:                 \n",
    "                # \"for k, v in abc: print(k)\".split(': ', 1)[1] to get 'print(k)'\n",
    "                printc = c.split(': ', 1)[1]\n",
    "                output = f\"{c} => {printc} : \"\n",
    "                print('{:>157}'.format(output))   \n",
    "                exec(c, globals().update(env)) # we can't use eval to run `for in` loop, but exec can.\n",
    "            ### Note: we shall not use the expression like `for k, v in abc print(abc)`\n",
    "            ### Note: we shall not use the expression like `for k, v in abc if k == def`\n",
    "        \n",
    "        # handle comment\n",
    "        # elif \"#comment#\" in c:\n",
    "        #     # c,c1 = colorize(c)\n",
    "        #     print('{:>157}'.format(c1))   \n",
    "        #     print(c1)\n",
    "        \n",
    "        # handle evaluation\n",
    "        else: \n",
    "            # c1 is to color #feature# or #question#\n",
    "            # c,c1 = colorize(c)\n",
    "            output = f\"{c} => {c1} : {eval(c, globals().update(env))}\"\n",
    "            print('{:>157}'.format(output))   \n",
    "            \n",
    "        # the benefit of using global().update(env) is \n",
    "        # to ensure we don't need to include the same env for the second time "
   ]
  },
  {
   "cell_type": "code",
   "execution_count": null,
   "id": "0999f1e5",
   "metadata": {},
   "outputs": [
    {
     "name": "stdout",
     "output_type": "stream",
     "text": [
      "                                                                                                                                                             \n",
      "                                                                                                                                              if to is None: \n",
      "                                                                                                                 to_f,from_f = f.__base__.__init__,f.__init__\n",
      "                                                                                                                                              else:          \n",
      "                                                                                                   to_f,from_f = to.__init__ if isinstance(to,type) else to,f\n",
      "                                                                                                                                                             \n"
     ]
    }
   ],
   "source": [
    "blocks = \"\"\"\n",
    "if to is None: \n",
    "    to_f,from_f = f.__base__.__init__,f.__init__\n",
    "else:          \n",
    "    to_f,from_f = to.__init__ if isinstance(to,type) else to,f\n",
    "        \"\"\"\n",
    "lst = blocks.split('\\n')\n",
    "for l in lst: \n",
    "    print('{:>157}'.format(l))"
   ]
  },
  {
   "cell_type": "code",
   "execution_count": null,
   "id": "16aeb797",
   "metadata": {},
   "outputs": [],
   "source": [
    "blocks = \"\"\"\n",
    "if to is None:\n",
    "    to_f,from_f = f.__base__.__init__,f.__init__\n",
    "else:\n",
    "    to_f,from_f = to.__init__ if isinstance(to,type) else to,f\n",
    "        \"\"\""
   ]
  },
  {
   "cell_type": "code",
   "execution_count": null,
   "id": "949e5077",
   "metadata": {},
   "outputs": [],
   "source": [
    "#|export\n",
    "def alignright(blocks):\n",
    "    lst = blocks.split('\\n')\n",
    "    maxlen = max(map(lambda l : len(l) , lst ))\n",
    "    indent = defaults.margin - maxlen\n",
    "    for l in lst:\n",
    "        print(' '*indent + format(l))"
   ]
  },
  {
   "cell_type": "code",
   "execution_count": null,
   "id": "22c1f331",
   "metadata": {},
   "outputs": [
    {
     "name": "stdout",
     "output_type": "stream",
     "text": [
      "                                                                                                                                                   this is me\n",
      "                                                                                                                                          \u001b[91mthis is me\u001b[0m\n"
     ]
    }
   ],
   "source": [
    "alignright(\"this is me\")\n",
    "alignright('\\x1b[91mthis is me\\x1b[0m') # can we align this colored line all the way to the right?"
   ]
  },
  {
   "cell_type": "code",
   "execution_count": null,
   "id": "7bee96af",
   "metadata": {},
   "outputs": [],
   "source": []
  },
  {
   "cell_type": "code",
   "execution_count": null,
   "id": "d9375879",
   "metadata": {},
   "outputs": [],
   "source": [
    "def dbprint(src:str, # the source to debug in str\n",
    "            *code,   # a number of codes to run, each code is in str, e.g., \"a + b\", \"c = a - b\"\n",
    "            cmt:str=None, # add colorful comment\n",
    "            **env\n",
    "           ):  # a number of stuff needed to run the code, e.g. var1 = var1, func1 = func1\n",
    "    \"Insert and run your codes and give readable output during debugging. Caution 1: \\\n",
    "    avoid using the same variable name used in both global and local scopes, e.g., \\\n",
    "    use `k` in the func and use `k` again inside a for loop inside the func.\\\n",
    "    Caution 2: make sure to include all the necessary env variables to avoid \\\n",
    "    the same variable with different values from different scopes. Caution 3: when an env variable is updated, \\\n",
    "    then you need to includ it again in the next dbprint. Caution 4: be strict on the spaces, e.g., `for k,v in` \\\n",
    "    and `a = createsth(...)`\"\n",
    "    \n",
    "    # whether dbprint is working inside a for in loop or any kind of a loop\n",
    "    if defaults.block == True:\n",
    "        print('\\n')\n",
    "        print('{:>157}'.format(\"===source inside a block===\"))\n",
    "        print('{:>157}'.format(src))\n",
    "        print('\\n')\n",
    "        # print(src + \"<===== source code =======\") \n",
    "\n",
    "    else:\n",
    "        print('\\n')\n",
    "        # print('{:>157}'.format(\"======================== source code ===========================\"))\n",
    "        print('{:<157}'.format(\"============================= source code ================================\"))\n",
    "        print('{:<157}'.format(src))        \n",
    "        \n",
    "        # print the source code of the function\n",
    "        lst = defaults.src.split('\\n')\n",
    "        for l in lst: \n",
    "            if bool(l) and l.strip() in src: # how to make sure all these ls are close to each other???\n",
    "                print('{:=<157}'.format(l))\n",
    "            else: \n",
    "                print('{:<157}'.format(l))\n",
    "        # print out the example\n",
    "        print('{:<157}'.format(defaults.eg))\n",
    "        \n",
    "    \n",
    "    # trial and error version for real code, still not quite why globals vs locals work in exec and eval\n",
    "    for c in code:\n",
    "        print(\"\\n\")\n",
    "        \n",
    "#         c1 = None # use it as container for colored string\n",
    "#         # handle comment\n",
    "#         if \"#comment#\" in c:\n",
    "#             _,c1 = colorize(c)\n",
    "#             # print('{:>157}'.format(c1))   \n",
    "#             print(c1)\n",
    "#             continue\n",
    "#         else:\n",
    "\n",
    "#             # c is normal string, c1 is colored string, both are without #question# or #feature# or #comment#\n",
    "#             c,c1 = colorize(c)\n",
    "        \n",
    "        # handle a block of code\n",
    "        if \"\\n\" in c: \n",
    "            output = f\"Running your code block => \"\n",
    "            print('{:<157}'.format(c))       \n",
    "            print('{:>157}'.format(output))  \n",
    "            print('The code block printout => : ')\n",
    "            block = ast.parse(c, mode='exec')\n",
    "            exec(compile(block, '<string>', mode='exec'), globals().update(env))\n",
    "        \n",
    "        # handle assignment\n",
    "        elif \" = \" in c: # make sure assignment and !== and == are differentiated\n",
    "            exec(c, globals().update(env)) \n",
    "            variable = c.partition(\" = \")[0]\n",
    "            output = f\"{c1} => {variable}: {eval(variable)}\"\n",
    "            print('{:>157}'.format(output))       \n",
    "            \n",
    "        # handle if statement\n",
    "        # Note: do insert code like this : `if abc == def: print(abc)`, print is a must\n",
    "        elif \"if\" in c: \n",
    "            cond = re.search('if (.*?):', c).group(1)\n",
    "            \n",
    "            # when code in string is like 'if abc == def:'\n",
    "            if c.endswith(':'):\n",
    "                \n",
    "                # print ... \n",
    "                # print(f\"{c} => {cond}: {eval(cond)}\")      \n",
    "                output = f\"{c} => {cond}: {eval(cond)}\"\n",
    "                print('{:>157}'.format(output))\n",
    "                \n",
    "            # when code in string is like 'if abc == def: print(...)'\n",
    "            else: \n",
    "                # if the cond is true, then print ...\n",
    "                if eval(cond):\n",
    "                    \n",
    "                    # \"if abc == def: print(abc)\".split(': ', 2)[1] to get 'print(abc)'\n",
    "                    printc = c.split(': ', 1)[1]\n",
    "                    # print(f\"{c} => {printc} : \")\n",
    "                    output = f\"{c} => {printc} : \"\n",
    "                    print('{:>157}'.format(output))      \n",
    "                    exec(c, globals().update(env))\n",
    "                    \n",
    "                # if cond is false, then print ...\n",
    "                else: \n",
    "                    # print(f\"{c} => {cond}: {eval(cond)}\")\n",
    "                    output = f\"{c} => {cond}: {eval(cond)}\"\n",
    "                    print('{:>157}'.format(output))   \n",
    "                \n",
    "                \n",
    "        # handle for in statement\n",
    "        elif \"for \" in c and \" in \" in c:           \n",
    "            \n",
    "            # in example like 'for k, v in abc:' or `for k, v in abc: print(...)`, if abc is empty\n",
    "            # step 1: access abc\n",
    "            # get the substring between 'in ' and ':', which is like 'abc'\n",
    "            abc = re.search('in (.*?):', c).group(1)\n",
    "            # if abc is empty dict or list: print and pass\n",
    "            if not bool(eval(abc)): \n",
    "                # print(f'{c} => {abc} is an emtpy {type(eval(abc))}')\n",
    "                output = f'{c} => {abc} is an emtpy {type(eval(abc))}'\n",
    "                print('{:>157}'.format(output))   \n",
    "                 \n",
    "                # The break statement can be used if you need to break out of a for or while loop and move onto the next section of code.\n",
    "                # The continue statement can be used if you need to skip the current iteration of a for or while loop and move onto the next iteration.\n",
    "            \n",
    "            # if the code in string is like 'for k, v in abc:', there is no more code after `:`\n",
    "            if c.endswith(':'):\n",
    "                \n",
    "                # get the substring between 'for ' and ' in', which is like 'k, v'\n",
    "                variables = re.search('for (.*?) in', c).group(1)\n",
    "                \n",
    "                # if variables has a substring like ', ' inside\n",
    "                if (',') in variables: \n",
    "                    \n",
    "                    # split it by ', ' into a list of substrings\n",
    "                    vl = variables.split(',')\n",
    "                    key = vl[0]\n",
    "                    value = vl[1]\n",
    "                    \n",
    "                    # make sure key and value will get evaluated first before exec run\n",
    "                    # printc is for exec to run\n",
    "                    printc = \"print(f'{key}:{eval(key)}, {type(eval(key))} ; {value}:{eval(value)}, {type(eval(value))}')\" \n",
    "                    # printmsg is for reader to understand with ease\n",
    "                    printmsg = \"print(f'key: {key}, {type(key)} ; value: {value}, {type(value)}')\"\n",
    "                    c1 = c + \" \" + printc\n",
    "                    # print(f\"{c} => {printmsg} : \")      \n",
    "                    output = f\"{c} => {printmsg} : \"\n",
    "                    print('{:>157}'.format(output))   \n",
    "                    exec(c1, globals().update(env))\n",
    "                \n",
    "                else:\n",
    "                    printc = \"print(f'{variables} : {eval(variables)}')\"\n",
    "                    printmsg = \"print(f'i : {variables}')\"\n",
    "                    c1 = c + \" \" + printc\n",
    "                    # print(f\"{c} => {printmsg} : \")     \n",
    "                    output = f\"{c} => {printmsg} : \"\n",
    "                    print('{:>157}'.format(output))   \n",
    "                    exec(c1, globals().update(env))\n",
    "                    \n",
    "            # if the code in string is like 'for k, v in abc: print(abc)'\n",
    "            else:                 \n",
    "                # \"for k, v in abc: print(k)\".split(': ', 1)[1] to get 'print(k)'\n",
    "                printc = c.split(': ', 1)[1]\n",
    "                output = f\"{c} => {printc} : \"\n",
    "                print('{:>157}'.format(output))   \n",
    "                exec(c, globals().update(env)) # we can't use eval to run `for in` loop, but exec can.\n",
    "            ### Note: we shall not use the expression like `for k, v in abc print(abc)`\n",
    "            ### Note: we shall not use the expression like `for k, v in abc if k == def`\n",
    "        \n",
    "        # handle comment\n",
    "        # elif \"#comment#\" in c:\n",
    "        #     # c,c1 = colorize(c)\n",
    "        #     print('{:>157}'.format(c1))   \n",
    "        #     print(c1)\n",
    "        \n",
    "        # handle evaluation\n",
    "        else: \n",
    "            # c1 is to color #feature# or #question#\n",
    "            # c,c1 = colorize(c)\n",
    "            output = f\"{c} => {c1} : {eval(c, globals().update(env))}\"\n",
    "            print('{:>157}'.format(output))   \n",
    "            \n",
    "        # the benefit of using global().update(env) is \n",
    "        # to ensure we don't need to include the same env for the second time "
   ]
  },
  {
   "cell_type": "code",
   "execution_count": null,
   "id": "11a885bf",
   "metadata": {},
   "outputs": [
    {
     "data": {
      "text/plain": [
       "1"
      ]
     },
     "execution_count": null,
     "metadata": {},
     "output_type": "execute_result"
    }
   ],
   "source": [
    "clst = \"this is me\".split('\\n') \n",
    "len(clst)"
   ]
  },
  {
   "cell_type": "code",
   "execution_count": null,
   "id": "eea16ba7",
   "metadata": {},
   "outputs": [],
   "source": [
    "#|export\n",
    "class dbcolors:\n",
    "    g = '\\033[92m' #GREEN\n",
    "    y = '\\033[93m' #YELLOW\n",
    "    r = '\\033[91m' #RED\n",
    "    reset = '\\033[0m' #RESET COLOR"
   ]
  },
  {
   "cell_type": "code",
   "execution_count": null,
   "id": "2f09e24d",
   "metadata": {},
   "outputs": [],
   "source": [
    "#|export\n",
    "def colorize(cmt, color:str=None):\n",
    "    if color == \"g\":\n",
    "        return dbcolors.g + cmt + dbcolors.reset\n",
    "    elif color == \"y\":\n",
    "        return dbcolors.y + cmt + dbcolors.reset\n",
    "    elif color == \"r\":\n",
    "        return dbcolors.r + cmt + dbcolors.reset\n",
    "    else: \n",
    "        return cmt"
   ]
  },
  {
   "cell_type": "code",
   "execution_count": null,
   "id": "627a5259",
   "metadata": {},
   "outputs": [
    {
     "name": "stdout",
     "output_type": "stream",
     "text": [
      "\u001b[91mthis is me\u001b[0m\u001b[93mthis is me\u001b[0m\n"
     ]
    }
   ],
   "source": [
    "print(colorize(\"this is me\", \"r\") + colorize(\"this is me\", \"y\"))"
   ]
  },
  {
   "cell_type": "code",
   "execution_count": null,
   "id": "652248fb",
   "metadata": {},
   "outputs": [],
   "source": [
    "\n",
    "def dbprint(src:str, # the source to debug in str\n",
    "            cmt:str,\n",
    "            *code,   # a number of codes to run, each code is in str, e.g., \"a + b\", \"c = a - b\"\n",
    "            **env\n",
    "           ):  # a number of stuff needed to run the code, e.g. var1 = var1, func1 = func1\n",
    "    \"Insert and run your codes and give readable output during debugging. Caution 1: \\\n",
    "    avoid using the same variable name used in both global and local scopes, e.g., \\\n",
    "    use `k` in the func and use `k` again inside a for loop inside the func.\\\n",
    "    Caution 2: make sure to include all the necessary env variables to avoid \\\n",
    "    the same variable with different values from different scopes. Caution 3: when an env variable is updated, \\\n",
    "    then you need to includ it again in the next dbprint. Caution 4: be strict on the spaces, e.g., `for k,v in` \\\n",
    "    and `a = createsth(...)`\"\n",
    "    \n",
    "    # whether dbprint is working inside a for in loop or any kind of a loop\n",
    "    if defaults.block == True:\n",
    "        print('\\n')\n",
    "        print('{:>157}'.format(\"===source inside a block===\"))\n",
    "        print('{:>157}'.format(src))\n",
    "        print('\\n')\n",
    "        # print(src + \"<===== source code =======\") \n",
    "\n",
    "    else:\n",
    "        print('\\n')\n",
    "        # print('{:>157}'.format(\"======================== source code ===========================\"))\n",
    "        print('{:<157}'.format(\"============================= source code ================================\"))\n",
    "        print('{:<157}'.format(src))        \n",
    "        \n",
    "        # print the source code of the function\n",
    "        lst = defaults.src.split('\\n')\n",
    "\n",
    "        ccount = 0\n",
    "        for l in lst: \n",
    "            if bool(l) and l.strip() in src: # how to make sure all these ls are close to each other???\n",
    "                print('{:=<157}'.format(l))\n",
    "                \n",
    "                if bool(cmt):\n",
    "                    clst = cmt.split('\\n') \n",
    "                    if ccount <= len(clst)-1:\n",
    "                        print('{:>157}'.format(colorize(clst[ccount])))\n",
    "                        ccount = ccount + 1\n",
    "\n",
    "            else: \n",
    "                print('{:<157}'.format(l))\n",
    "\n",
    "        # print out the example\n",
    "        print('{:<157}'.format(defaults.eg))\n",
    "        \n",
    "    \n",
    "    # trial and error version for real code, still not quite why globals vs locals work in exec and eval\n",
    "    for c in code:\n",
    "        print(\"\\n\")\n",
    "        \n",
    "        # handle a block of code\n",
    "        if \"\\n\" in c: \n",
    "            output = f\"Running your code block => \"\n",
    "            print('{:<157}'.format(c))       \n",
    "            print('{:>157}'.format(output))  \n",
    "            print('The code block printout => : ')\n",
    "            block = ast.parse(c, mode='exec')\n",
    "            exec(compile(block, '<string>', mode='exec'), globals().update(env))\n",
    "        \n",
    "        # handle assignment\n",
    "        elif \" = \" in c: # make sure assignment and !== and == are differentiated\n",
    "            \n",
    "            # print('k' in locals())\n",
    "            exec(c, globals().update(env)) \n",
    "            # print('k' in locals())\n",
    "            variable = c.partition(\" = \")[0]\n",
    "            # print(f\"{c} => {variable}: {eval(variable)}\")\n",
    "            output = f\"{c} => {variable}: {eval(variable)}\"\n",
    "            print('{:>157}'.format(output))       \n",
    "            \n",
    "        # handle if statement\n",
    "        # Note: do insert code like this : `if abc == def: print(abc)`, print is a must\n",
    "        elif \"if\" in c: \n",
    "            cond = re.search('if (.*?):', c).group(1)\n",
    "            \n",
    "            # when code in string is like 'if abc == def:'\n",
    "            if c.endswith(':'):\n",
    "                \n",
    "                # print ... \n",
    "                # print(f\"{c} => {cond}: {eval(cond)}\")      \n",
    "                output = f\"{c} => {cond}: {eval(cond)}\"\n",
    "                print('{:>157}'.format(output))\n",
    "                \n",
    "            # when code in string is like 'if abc == def: print(...)'\n",
    "            else: \n",
    "                # if the cond is true, then print ...\n",
    "                if eval(cond):\n",
    "                    \n",
    "                    # \"if abc == def: print(abc)\".split(': ', 2)[1] to get 'print(abc)'\n",
    "                    printc = c.split(': ', 1)[1]\n",
    "                    # print(f\"{c} => {printc} : \")\n",
    "                    output = f\"{c} => {printc} : \"\n",
    "                    print('{:>157}'.format(output))      \n",
    "                    exec(c, globals().update(env))\n",
    "                    \n",
    "                # if cond is false, then print ...\n",
    "                else: \n",
    "                    # print(f\"{c} => {cond}: {eval(cond)}\")\n",
    "                    output = f\"{c} => {cond}: {eval(cond)}\"\n",
    "                    print('{:>157}'.format(output))   \n",
    "                \n",
    "                \n",
    "        # handle for in statement\n",
    "        elif \"for \" in c and \" in \" in c:           \n",
    "            \n",
    "            # in example like 'for k, v in abc:' or `for k, v in abc: print(...)`, if abc is empty\n",
    "            # step 1: access abc\n",
    "            # get the substring between 'in ' and ':', which is like 'abc'\n",
    "            abc = re.search('in (.*?):', c).group(1)\n",
    "            # if abc is empty dict or list: print and pass\n",
    "            if not bool(eval(abc)): \n",
    "                # print(f'{c} => {abc} is an emtpy {type(eval(abc))}')\n",
    "                output = f'{c} => {abc} is an emtpy {type(eval(abc))}'\n",
    "                print('{:>157}'.format(output))   \n",
    "                continue \n",
    "                # The break statement can be used if you need to break out of a for or while loop and move onto the next section of code.\n",
    "                # The continue statement can be used if you need to skip the current iteration of a for or while loop and move onto the next iteration.\n",
    "            \n",
    "            # if the code in string is like 'for k, v in abc:', there is no more code after `:`\n",
    "            if c.endswith(':'):\n",
    "                \n",
    "                # get the substring between 'for ' and ' in', which is like 'k, v'\n",
    "                variables = re.search('for (.*?) in', c).group(1)\n",
    "                \n",
    "                # if variables has a substring like ', ' inside\n",
    "                if (',') in variables: \n",
    "                    \n",
    "                    # split it by ', ' into a list of substrings\n",
    "                    vl = variables.split(',')\n",
    "                    key = vl[0]\n",
    "                    value = vl[1]\n",
    "                    \n",
    "                    # make sure key and value will get evaluated first before exec run\n",
    "                    # printc is for exec to run\n",
    "                    printc = \"print(f'{key}:{eval(key)}, {type(eval(key))} ; {value}:{eval(value)}, {type(eval(value))}')\" \n",
    "                    # printmsg is for reader to understand with ease\n",
    "                    printmsg = \"print(f'key: {key}, {type(key)} ; value: {value}, {type(value)}')\"\n",
    "                    c1 = c + \" \" + printc\n",
    "                    # print(f\"{c} => {printmsg} : \")      \n",
    "                    output = f\"{c} => {printmsg} : \"\n",
    "                    print('{:>157}'.format(output))   \n",
    "                    exec(c1, globals().update(env))\n",
    "                \n",
    "                else:\n",
    "                    printc = \"print(f'{variables} : {eval(variables)}')\"\n",
    "                    printmsg = \"print(f'i : {variables}')\"\n",
    "                    c1 = c + \" \" + printc\n",
    "                    # print(f\"{c} => {printmsg} : \")     \n",
    "                    output = f\"{c} => {printmsg} : \"\n",
    "                    print('{:>157}'.format(output))   \n",
    "                    exec(c1, globals().update(env))\n",
    "                    \n",
    "            # if the code in string is like 'for k, v in abc: print(abc)'\n",
    "            else:                 \n",
    "                # \"for k, v in abc: print(k)\".split(': ', 1)[1] to get 'print(k)'\n",
    "                printc = c.split(': ', 1)[1]\n",
    "                # print(f\"{c} => {printc} : \")\n",
    "                output = f\"{c} => {printc} : \"\n",
    "                print('{:>157}'.format(output))   \n",
    "                exec(c, globals().update(env)) # we can't use eval to run `for in` loop, but exec can.\n",
    "            ### Note: we shall not use the expression like `for k, v in abc print(abc)`\n",
    "            ### Note: we shall not use the expression like `for k, v in abc if k == def`\n",
    "        \n",
    "        \n",
    "        # handle evaluation\n",
    "        else: \n",
    "            # print(f\"{c} => {c} : {eval(c, globals().update(env))}\") \n",
    "            output = f\"{c} => {c} : {eval(c, globals().update(env))}\"\n",
    "            print('{:>157}'.format(output))   \n",
    "            \n",
    "        # the benefit of using global().update(env) is \n",
    "        # to ensure we don't need to include the same env for the second time"
   ]
  },
  {
   "cell_type": "markdown",
   "id": "2fcbab1d",
   "metadata": {},
   "source": [
    "### add feature when handling assignment: 2. when = occur before if; 1. when no if only ="
   ]
  },
  {
   "cell_type": "code",
   "execution_count": null,
   "id": "ea7e0bc3",
   "metadata": {},
   "outputs": [],
   "source": [
    "\n",
    "def dbprint(src:str, # the source to debug in str\n",
    "            cmt:str,\n",
    "            *code,   # a number of codes to run, each code is in str, e.g., \"a + b\", \"c = a - b\"\n",
    "            **env\n",
    "           ):  # a number of stuff needed to run the code, e.g. var1 = var1, func1 = func1\n",
    "    \"Insert and run your codes and give readable output during debugging. Caution 1: \\\n",
    "    avoid using the same variable name used in both global and local scopes, e.g., \\\n",
    "    use `k` in the func and use `k` again inside a for loop inside the func.\\\n",
    "    Caution 2: make sure to include all the necessary env variables to avoid \\\n",
    "    the same variable with different values from different scopes. Caution 3: when an env variable is updated, \\\n",
    "    then you need to includ it again in the next dbprint. Caution 4: be strict on the spaces, e.g., `for k,v in` \\\n",
    "    and `a = createsth(...)`\"\n",
    "    \n",
    "    # Inside the source code, ff you ever add a block of multiline codes like `for in` or `if`, and run dbprint for each line of the block, then set \n",
    "    # defaults.block to True\n",
    "    if defaults.block == True:\n",
    "        print('\\n')\n",
    "        print('{:>157}'.format(\"===source inside a block===\"))\n",
    "        print('{:>157}'.format(src))\n",
    "        print('\\n')\n",
    "        # print(src + \"<===== source code =======\") \n",
    "\n",
    "    else:\n",
    "        print('\\n')\n",
    "        # print('{:>157}'.format(\"======================== source code ===========================\"))\n",
    "        print('{:#^157}'.format(\" source code with lines under investigation \"))\n",
    "        print('\\n')\n",
    "        # print('{:<157}'.format(src))        \n",
    "        \n",
    "        # print the source code of the function\n",
    "        lst = defaults.src.split('\\n')\n",
    "\n",
    "        ccount = 0\n",
    "        for l in lst: \n",
    "            if bool(l) and l.strip() in src: # how to make sure all these ls are close to each other???\n",
    "                print('{:=<157}'.format(l))\n",
    "                \n",
    "                if bool(cmt):\n",
    "                    clst = cmt.split('\\n') \n",
    "                    if ccount <= len(clst)-1:\n",
    "                        print('{:>157}'.format(colorize(clst[ccount], \"r\")))\n",
    "                        ccount = ccount + 1\n",
    "\n",
    "            else: \n",
    "                print('{:<157}'.format(l))\n",
    "\n",
    "        # print out the example\n",
    "        print('{:<157}'.format(defaults.eg))\n",
    "        \n",
    "    \n",
    "    # trial and error version for real code, still not quite why globals vs locals work in exec and eval\n",
    "    for c in code:\n",
    "        print(\"\\n\")\n",
    "        \n",
    "        # handle a block of code\n",
    "        if \"\\n\" in c: \n",
    "            output = f\"Running your code block => \"\n",
    "            print('{:<157}'.format(c))       \n",
    "            print('{:>157}'.format(output))  \n",
    "            print('The code block printout => : ')\n",
    "            block = ast.parse(c, mode='exec')\n",
    "            exec(compile(block, '<string>', mode='exec'), globals().update(env))\n",
    "        \n",
    "        # handle assignment: 2. when = occur before if; 1. when no if only =\n",
    "        elif (\"=\" in c and \"if\" not in c) or (\"=\" in c and c.find(\"=\") < c.find(\"if\")): # make sure assignment and !== and == are differentiated\n",
    "            \n",
    "            # print('k' in locals())\n",
    "            exec(c, globals().update(env)) \n",
    "            # print('k' in locals())\n",
    "            variable = c.partition(\" = \")[0]\n",
    "            # print(f\"{c} => {variable}: {eval(variable)}\")\n",
    "            output = f\"{c} => {variable}: {eval(variable)}\"\n",
    "            print('{:>157}'.format(output))       \n",
    "            \n",
    "        # handle if statement\n",
    "        # Note: do insert code like this : `if abc == def: print(abc)`, print is a must\n",
    "        elif \"if\" in c: \n",
    "            cond = re.search('if (.*?):', c).group(1)\n",
    "            \n",
    "            # when code in string is like 'if abc == def:'\n",
    "            if c.endswith(':'):\n",
    "                \n",
    "                # print ... \n",
    "                # print(f\"{c} => {cond}: {eval(cond)}\")      \n",
    "                output = f\"{c} => {cond}: {eval(cond)}\"\n",
    "                print('{:>157}'.format(output))\n",
    "                \n",
    "            # when code in string is like 'if abc == def: print(...)'\n",
    "            else: \n",
    "                # if the cond is true, then print ...\n",
    "                if eval(cond):\n",
    "                    \n",
    "                    # \"if abc == def: print(abc)\".split(': ', 2)[1] to get 'print(abc)'\n",
    "                    printc = c.split(': ', 1)[1]\n",
    "                    # print(f\"{c} => {printc} : \")\n",
    "                    output = f\"{c} => {printc} : \"\n",
    "                    print('{:>157}'.format(output))      \n",
    "                    exec(c, globals().update(env))\n",
    "                    \n",
    "                # if cond is false, then print ...\n",
    "                else: \n",
    "                    # print(f\"{c} => {cond}: {eval(cond)}\")\n",
    "                    output = f\"{c} => {cond}: {eval(cond)}\"\n",
    "                    print('{:>157}'.format(output))   \n",
    "                \n",
    "                \n",
    "        # handle for in statement\n",
    "        elif \"for \" in c and \" in \" in c:           \n",
    "            \n",
    "            # in example like 'for k, v in abc:' or `for k, v in abc: print(...)`, if abc is empty\n",
    "            # step 1: access abc\n",
    "            # get the substring between 'in ' and ':', which is like 'abc'\n",
    "            abc = re.search('in (.*?):', c).group(1)\n",
    "            # if abc is empty dict or list: print and pass\n",
    "            if not bool(eval(abc)): \n",
    "                # print(f'{c} => {abc} is an emtpy {type(eval(abc))}')\n",
    "                output = f'{c} => {abc} is an emtpy {type(eval(abc))}'\n",
    "                print('{:>157}'.format(output))   \n",
    "                continue \n",
    "                # The break statement can be used if you need to break out of a for or while loop and move onto the next section of code.\n",
    "                # The continue statement can be used if you need to skip the current iteration of a for or while loop and move onto the next iteration.\n",
    "            \n",
    "            # if the code in string is like 'for k, v in abc:', there is no more code after `:`\n",
    "            if c.endswith(':'):\n",
    "                \n",
    "                # get the substring between 'for ' and ' in', which is like 'k, v'\n",
    "                variables = re.search('for (.*?) in', c).group(1)\n",
    "                \n",
    "                # if variables has a substring like ', ' inside\n",
    "                if (',') in variables: \n",
    "                    \n",
    "                    # split it by ', ' into a list of substrings\n",
    "                    vl = variables.split(',')\n",
    "                    key = vl[0]\n",
    "                    value = vl[1]\n",
    "                    \n",
    "                    # make sure key and value will get evaluated first before exec run\n",
    "                    # printc is for exec to run\n",
    "                    printc = \"print(f'{key}:{eval(key)}, {type(eval(key))} ; {value}:{eval(value)}, {type(eval(value))}')\" \n",
    "                    # printmsg is for reader to understand with ease\n",
    "                    printmsg = \"print(f'key: {key}, {type(key)} ; value: {value}, {type(value)}')\"\n",
    "                    c1 = c + \" \" + printc\n",
    "                    # print(f\"{c} => {printmsg} : \")      \n",
    "                    output = f\"{c} => {printmsg} : \"\n",
    "                    print('{:>157}'.format(output))   \n",
    "                    exec(c1, globals().update(env))\n",
    "                \n",
    "                else:\n",
    "                    printc = \"print(f'{variables} : {eval(variables)}')\"\n",
    "                    printmsg = \"print(f'i : {variables}')\"\n",
    "                    c1 = c + \" \" + printc\n",
    "                    # print(f\"{c} => {printmsg} : \")     \n",
    "                    output = f\"{c} => {printmsg} : \"\n",
    "                    print('{:>157}'.format(output))   \n",
    "                    exec(c1, globals().update(env))\n",
    "                    \n",
    "            # if the code in string is like 'for k, v in abc: print(abc)'\n",
    "            else:                 \n",
    "                # \"for k, v in abc: print(k)\".split(': ', 1)[1] to get 'print(k)'\n",
    "                printc = c.split(': ', 1)[1]\n",
    "                # print(f\"{c} => {printc} : \")\n",
    "                output = f\"{c} => {printc} : \"\n",
    "                print('{:>157}'.format(output))   \n",
    "                exec(c, globals().update(env)) # we can't use eval to run `for in` loop, but exec can.\n",
    "            ### Note: we shall not use the expression like `for k, v in abc print(abc)`\n",
    "            ### Note: we shall not use the expression like `for k, v in abc if k == def`\n",
    "        \n",
    "        \n",
    "        # handle evaluation\n",
    "        else: \n",
    "            # print(f\"{c} => {c} : {eval(c, globals().update(env))}\") \n",
    "            output = f\"{c} => {c} : {eval(c, globals().update(env))}\"\n",
    "            print('{:>157}'.format(output))   \n",
    "            \n",
    "        # the benefit of using global().update(env) is \n",
    "        # to ensure we don't need to include the same env for the second time"
   ]
  },
  {
   "cell_type": "markdown",
   "id": "a16c2987-6bc4-4f44-870d-54eaba1c0a9b",
   "metadata": {},
   "source": [
    "### alignright the colored comment"
   ]
  },
  {
   "cell_type": "code",
   "execution_count": null,
   "id": "bbf0a606-ec63-4967-9885-df4abbc5ef02",
   "metadata": {},
   "outputs": [],
   "source": [
    "#|export\n",
    "def dbprint(src:str, # the source to debug in str\n",
    "            cmt:str,\n",
    "            *code,   # a number of codes to run, each code is in str, e.g., \"a + b\", \"c = a - b\"\n",
    "            **env\n",
    "           ):  # a number of stuff needed to run the code, e.g. var1 = var1, func1 = func1\n",
    "    \"Insert and run your codes and give readable output during debugging. Caution 1: \\\n",
    "    avoid using the same variable name used in both global and local scopes, e.g., \\\n",
    "    use `k` in the func and use `k` again inside a for loop inside the func.\\\n",
    "    Caution 2: make sure to include all the necessary env variables to avoid \\\n",
    "    the same variable with different values from different scopes. Caution 3: when an env variable is updated, \\\n",
    "    then you need to includ it again in the next dbprint. Caution 4: be strict on the spaces, e.g., `for k,v in` \\\n",
    "    and `a = createsth(...)`\"\n",
    "    \n",
    "    # Inside the source code, ff you ever add a block of multiline codes like `for in` or `if`, and run dbprint for each line of the block, then set \n",
    "    # defaults.block to True\n",
    "    if defaults.block == True:\n",
    "        print('\\n')\n",
    "        print('{:>157}'.format(\"===source inside a block===\"))\n",
    "        print('{:>157}'.format(src))\n",
    "        print('\\n')\n",
    "        # print(src + \"<===== source code =======\") \n",
    "\n",
    "    else:\n",
    "        print('\\n')\n",
    "        # print('{:>157}'.format(\"======================== source code ===========================\"))\n",
    "        print('{:#^157}'.format(\" source code with lines under investigation \"))\n",
    "        print('\\n')\n",
    "        # print('{:<157}'.format(src))        \n",
    "        \n",
    "        # print the source code of the function\n",
    "        lst = defaults.src.split('\\n')\n",
    "\n",
    "        ccount = 0\n",
    "        for l in lst: \n",
    "            if bool(l) and l.strip() in src: # how to make sure all these ls are close to each other???\n",
    "                print('{:=<157}'.format(l))\n",
    "                ccount = ccount + 1\n",
    "                \n",
    "                if bool(cmt): # make sure the comments are colored and aligned to the most right\n",
    "                    # if this is the last srcline of the srcblock under investigation\n",
    "                    numsrclines = len(src.split(\"\\n\"))\n",
    "                    if ccount == numsrclines:\n",
    "                        colcmt = colorize(cmt, \"r\")\n",
    "                        alignright(colcmt)\n",
    "                    # clst = cmt.split('\\n') \n",
    "                    # if ccount <= len(clst)-1:\n",
    "                    #     # print('{:>157}'.format(colorize(clst[ccount], \"r\")))\n",
    "                    #     colcmt = colorize(clst[ccount], \"r\")\n",
    "                    #     alignright(colcmt)\n",
    "                    #     ccount = ccount + 1\n",
    "\n",
    "            else: \n",
    "                print('{:<157}'.format(l))\n",
    "\n",
    "        # print out the example\n",
    "        print('{:<157}'.format(defaults.eg))\n",
    "        \n",
    "    \n",
    "    # trial and error version for real code, still not quite why globals vs locals work in exec and eval\n",
    "    for c in code:\n",
    "        print(\"\\n\")\n",
    "        \n",
    "        # handle a block of code\n",
    "        if \"\\n\" in c: \n",
    "            output = f\"Running your code block => \"\n",
    "            print('{:<157}'.format(c))       \n",
    "            print('{:>157}'.format(output))  \n",
    "            print('The code block printout => : ')\n",
    "            block = ast.parse(c, mode='exec')\n",
    "            exec(compile(block, '<string>', mode='exec'), globals().update(env))\n",
    "        \n",
    "        # handle assignment: 2. when = occur before if; 1. when no if only =\n",
    "        elif (\"=\" in c and \"if\" not in c) or (\"=\" in c and c.find(\"=\") < c.find(\"if\")): # make sure assignment and !== and == are differentiated\n",
    "            \n",
    "            # print('k' in locals())\n",
    "            exec(c, globals().update(env)) \n",
    "            # print('k' in locals())\n",
    "            variable = c.partition(\" = \")[0]\n",
    "            # print(f\"{c} => {variable}: {eval(variable)}\")\n",
    "            output = f\"{c} => {variable}: {eval(variable)}\"\n",
    "            print('{:>157}'.format(output))       \n",
    "            \n",
    "        # handle if statement\n",
    "        # Note: do insert code like this : `if abc == def: print(abc)`, print is a must\n",
    "        elif \"if\" in c: \n",
    "            cond = re.search('if (.*?):', c).group(1)\n",
    "            \n",
    "            # when code in string is like 'if abc == def:'\n",
    "            if c.endswith(':'):\n",
    "                \n",
    "                # print ... \n",
    "                # print(f\"{c} => {cond}: {eval(cond)}\")      \n",
    "                output = f\"{c} => {cond}: {eval(cond)}\"\n",
    "                print('{:>157}'.format(output))\n",
    "                \n",
    "            # when code in string is like 'if abc == def: print(...)'\n",
    "            else: \n",
    "                # if the cond is true, then print ...\n",
    "                if eval(cond):\n",
    "                    \n",
    "                    # \"if abc == def: print(abc)\".split(': ', 2)[1] to get 'print(abc)'\n",
    "                    printc = c.split(': ', 1)[1]\n",
    "                    # print(f\"{c} => {printc} : \")\n",
    "                    output = f\"{c} => {printc} : \"\n",
    "                    print('{:>157}'.format(output))      \n",
    "                    exec(c, globals().update(env))\n",
    "                    \n",
    "                # if cond is false, then print ...\n",
    "                else: \n",
    "                    # print(f\"{c} => {cond}: {eval(cond)}\")\n",
    "                    output = f\"{c} => {cond}: {eval(cond)}\"\n",
    "                    print('{:>157}'.format(output))   \n",
    "                \n",
    "                \n",
    "        # handle for in statement\n",
    "        elif \"for \" in c and \" in \" in c:           \n",
    "            \n",
    "            # in example like 'for k, v in abc:' or `for k, v in abc: print(...)`, if abc is empty\n",
    "            # step 1: access abc\n",
    "            # get the substring between 'in ' and ':', which is like 'abc'\n",
    "            abc = re.search('in (.*?):', c).group(1)\n",
    "            # if abc is empty dict or list: print and pass\n",
    "            if not bool(eval(abc)): \n",
    "                # print(f'{c} => {abc} is an emtpy {type(eval(abc))}')\n",
    "                output = f'{c} => {abc} is an emtpy {type(eval(abc))}'\n",
    "                print('{:>157}'.format(output))   \n",
    "                continue \n",
    "                # The break statement can be used if you need to break out of a for or while loop and move onto the next section of code.\n",
    "                # The continue statement can be used if you need to skip the current iteration of a for or while loop and move onto the next iteration.\n",
    "            \n",
    "            # if the code in string is like 'for k, v in abc:', there is no more code after `:`\n",
    "            if c.endswith(':'):\n",
    "                \n",
    "                # get the substring between 'for ' and ' in', which is like 'k, v'\n",
    "                variables = re.search('for (.*?) in', c).group(1)\n",
    "                \n",
    "                # if variables has a substring like ', ' inside\n",
    "                if (',') in variables: \n",
    "                    \n",
    "                    # split it by ', ' into a list of substrings\n",
    "                    vl = variables.split(',')\n",
    "                    key = vl[0]\n",
    "                    value = vl[1]\n",
    "                    \n",
    "                    # make sure key and value will get evaluated first before exec run\n",
    "                    # printc is for exec to run\n",
    "                    printc = \"print(f'{key}:{eval(key)}, {type(eval(key))} ; {value}:{eval(value)}, {type(eval(value))}')\" \n",
    "                    # printmsg is for reader to understand with ease\n",
    "                    printmsg = \"print(f'key: {key}, {type(key)} ; value: {value}, {type(value)}')\"\n",
    "                    c1 = c + \" \" + printc\n",
    "                    # print(f\"{c} => {printmsg} : \")      \n",
    "                    output = f\"{c} => {printmsg} : \"\n",
    "                    print('{:>157}'.format(output))   \n",
    "                    exec(c1, globals().update(env))\n",
    "                \n",
    "                else:\n",
    "                    printc = \"print(f'{variables} : {eval(variables)}')\"\n",
    "                    printmsg = \"print(f'i : {variables}')\"\n",
    "                    c1 = c + \" \" + printc\n",
    "                    # print(f\"{c} => {printmsg} : \")     \n",
    "                    output = f\"{c} => {printmsg} : \"\n",
    "                    print('{:>157}'.format(output))   \n",
    "                    exec(c1, globals().update(env))\n",
    "                    \n",
    "            # if the code in string is like 'for k, v in abc: print(abc)'\n",
    "            else:                 \n",
    "                # \"for k, v in abc: print(k)\".split(': ', 1)[1] to get 'print(k)'\n",
    "                printc = c.split(': ', 1)[1]\n",
    "                # print(f\"{c} => {printc} : \")\n",
    "                output = f\"{c} => {printc} : \"\n",
    "                print('{:>157}'.format(output))   \n",
    "                exec(c, globals().update(env)) # we can't use eval to run `for in` loop, but exec can.\n",
    "            ### Note: we shall not use the expression like `for k, v in abc print(abc)`\n",
    "            ### Note: we shall not use the expression like `for k, v in abc if k == def`\n",
    "        \n",
    "        \n",
    "        # handle evaluation\n",
    "        else: \n",
    "            # print(f\"{c} => {c} : {eval(c, globals().update(env))}\") \n",
    "            output = f\"{c} => {c} : {eval(c, globals().update(env))}\"\n",
    "            print('{:>157}'.format(output))   \n",
    "            \n",
    "        # the benefit of using global().update(env) is \n",
    "        # to ensure we don't need to include the same env for the second time"
   ]
  },
  {
   "cell_type": "markdown",
   "id": "f138846e-7714-429d-b1a6-8b20f16add1a",
   "metadata": {},
   "source": [
    "## insert dbprint and make a new source function for debugging line by line"
   ]
  },
  {
   "cell_type": "code",
   "execution_count": null,
   "id": "4ca0cd9d-d68a-4b1f-a008-f86606cf5969",
   "metadata": {},
   "outputs": [],
   "source": [
    "def insert2debug(name:str, # name of a function to debug, e.g., delegates\n",
    "                 srcline:str, # e.g., \"        if hasattr(from_f,'__delwrap__'): return f\"\n",
    "                 dbcode:str,  # str, e.g., \"dbprint(...)\"\n",
    "                 **env):\n",
    "    \"select a line or a block of source code and insert a dbprint above it and only output this dbprint result.\"\n",
    "    srcode = inspect.getsource(eval(name, globals().update(env)))\n",
    "    lstxt = srcode.split(srcline)\n",
    "    retn = \"\\n        return None\\n\"\n",
    "    insert = colorize(dbcode, \"g\") + colorize(srcline, \"r\") + colorize(retn, \"y\")\n",
    "    src2print = lstxt[0] + insert + lstxt[1]\n",
    "    for l in src2print.split(\"\\n\"):  # print out the debuggable version of delegates\n",
    "        print(l)\n",
    "    src2db = lstxt[0] + dbcode + srcline + retn + lstxt[1]\n",
    "    exec(src2db, globals().update({'srcline': srcline})) # now a debuggable version of delegates is available to use\n",
    "    globals().update({name:eval(name)})\n",
    "    return eval(name) # give this debuggable version of delegates to the notebook context"
   ]
  },
  {
   "cell_type": "code",
   "execution_count": null,
   "id": "67fbed12-afe5-425e-8b87-8fccb8bda0a4",
   "metadata": {},
   "outputs": [
    {
     "data": {
      "text/plain": [
       "\u001b[0;31mSignature:\u001b[0m \u001b[0minsert2debug\u001b[0m\u001b[0;34m(\u001b[0m\u001b[0mname\u001b[0m\u001b[0;34m:\u001b[0m \u001b[0mstr\u001b[0m\u001b[0;34m,\u001b[0m \u001b[0msrcline\u001b[0m\u001b[0;34m:\u001b[0m \u001b[0mstr\u001b[0m\u001b[0;34m,\u001b[0m \u001b[0mdbcode\u001b[0m\u001b[0;34m:\u001b[0m \u001b[0mstr\u001b[0m\u001b[0;34m,\u001b[0m \u001b[0;34m**\u001b[0m\u001b[0menv\u001b[0m\u001b[0;34m)\u001b[0m\u001b[0;34m\u001b[0m\u001b[0;34m\u001b[0m\u001b[0m\n",
       "\u001b[0;31mSource:\u001b[0m   \n",
       "\u001b[0;32mdef\u001b[0m \u001b[0minsert2debug\u001b[0m\u001b[0;34m(\u001b[0m\u001b[0mname\u001b[0m\u001b[0;34m:\u001b[0m\u001b[0mstr\u001b[0m\u001b[0;34m,\u001b[0m \u001b[0;31m# name of a function to debug, e.g., delegates\u001b[0m\u001b[0;34m\u001b[0m\n",
       "\u001b[0;34m\u001b[0m                 \u001b[0msrcline\u001b[0m\u001b[0;34m:\u001b[0m\u001b[0mstr\u001b[0m\u001b[0;34m,\u001b[0m \u001b[0;31m# e.g., \"        if hasattr(from_f,'__delwrap__'): return f\"\u001b[0m\u001b[0;34m\u001b[0m\n",
       "\u001b[0;34m\u001b[0m                 \u001b[0mdbcode\u001b[0m\u001b[0;34m:\u001b[0m\u001b[0mstr\u001b[0m\u001b[0;34m,\u001b[0m  \u001b[0;31m# str, e.g., \"dbprint(...)\"\u001b[0m\u001b[0;34m\u001b[0m\n",
       "\u001b[0;34m\u001b[0m                 \u001b[0;34m**\u001b[0m\u001b[0menv\u001b[0m\u001b[0;34m)\u001b[0m\u001b[0;34m:\u001b[0m\u001b[0;34m\u001b[0m\n",
       "\u001b[0;34m\u001b[0m    \u001b[0;34m\"select a line or a block of source code and insert a dbprint above it and only output this dbprint result.\"\u001b[0m\u001b[0;34m\u001b[0m\n",
       "\u001b[0;34m\u001b[0m    \u001b[0msrcode\u001b[0m \u001b[0;34m=\u001b[0m \u001b[0minspect\u001b[0m\u001b[0;34m.\u001b[0m\u001b[0mgetsource\u001b[0m\u001b[0;34m(\u001b[0m\u001b[0meval\u001b[0m\u001b[0;34m(\u001b[0m\u001b[0mname\u001b[0m\u001b[0;34m,\u001b[0m \u001b[0mglobals\u001b[0m\u001b[0;34m(\u001b[0m\u001b[0;34m)\u001b[0m\u001b[0;34m.\u001b[0m\u001b[0mupdate\u001b[0m\u001b[0;34m(\u001b[0m\u001b[0menv\u001b[0m\u001b[0;34m)\u001b[0m\u001b[0;34m)\u001b[0m\u001b[0;34m)\u001b[0m\u001b[0;34m\u001b[0m\n",
       "\u001b[0;34m\u001b[0m    \u001b[0mlstxt\u001b[0m \u001b[0;34m=\u001b[0m \u001b[0msrcode\u001b[0m\u001b[0;34m.\u001b[0m\u001b[0msplit\u001b[0m\u001b[0;34m(\u001b[0m\u001b[0msrcline\u001b[0m\u001b[0;34m)\u001b[0m\u001b[0;34m\u001b[0m\n",
       "\u001b[0;34m\u001b[0m    \u001b[0mretn\u001b[0m \u001b[0;34m=\u001b[0m \u001b[0;34m\"\\n        return None\\n\"\u001b[0m\u001b[0;34m\u001b[0m\n",
       "\u001b[0;34m\u001b[0m    \u001b[0minsert\u001b[0m \u001b[0;34m=\u001b[0m \u001b[0mcolorize\u001b[0m\u001b[0;34m(\u001b[0m\u001b[0mdbcode\u001b[0m\u001b[0;34m,\u001b[0m \u001b[0;34m\"g\"\u001b[0m\u001b[0;34m)\u001b[0m \u001b[0;34m+\u001b[0m \u001b[0mcolorize\u001b[0m\u001b[0;34m(\u001b[0m\u001b[0msrcline\u001b[0m\u001b[0;34m,\u001b[0m \u001b[0;34m\"r\"\u001b[0m\u001b[0;34m)\u001b[0m \u001b[0;34m+\u001b[0m \u001b[0mcolorize\u001b[0m\u001b[0;34m(\u001b[0m\u001b[0mretn\u001b[0m\u001b[0;34m,\u001b[0m \u001b[0;34m\"y\"\u001b[0m\u001b[0;34m)\u001b[0m\u001b[0;34m\u001b[0m\n",
       "\u001b[0;34m\u001b[0m    \u001b[0msrc2print\u001b[0m \u001b[0;34m=\u001b[0m \u001b[0mlstxt\u001b[0m\u001b[0;34m[\u001b[0m\u001b[0;36m0\u001b[0m\u001b[0;34m]\u001b[0m \u001b[0;34m+\u001b[0m \u001b[0minsert\u001b[0m \u001b[0;34m+\u001b[0m \u001b[0mlstxt\u001b[0m\u001b[0;34m[\u001b[0m\u001b[0;36m1\u001b[0m\u001b[0;34m]\u001b[0m\u001b[0;34m\u001b[0m\n",
       "\u001b[0;34m\u001b[0m    \u001b[0;32mfor\u001b[0m \u001b[0ml\u001b[0m \u001b[0;32min\u001b[0m \u001b[0msrc2print\u001b[0m\u001b[0;34m.\u001b[0m\u001b[0msplit\u001b[0m\u001b[0;34m(\u001b[0m\u001b[0;34m\"\\n\"\u001b[0m\u001b[0;34m)\u001b[0m\u001b[0;34m:\u001b[0m  \u001b[0;31m# print out the debuggable version of delegates\u001b[0m\u001b[0;34m\u001b[0m\n",
       "\u001b[0;34m\u001b[0m        \u001b[0mprint\u001b[0m\u001b[0;34m(\u001b[0m\u001b[0ml\u001b[0m\u001b[0;34m)\u001b[0m\u001b[0;34m\u001b[0m\n",
       "\u001b[0;34m\u001b[0m    \u001b[0msrc2db\u001b[0m \u001b[0;34m=\u001b[0m \u001b[0mlstxt\u001b[0m\u001b[0;34m[\u001b[0m\u001b[0;36m0\u001b[0m\u001b[0;34m]\u001b[0m \u001b[0;34m+\u001b[0m \u001b[0mdbcode\u001b[0m \u001b[0;34m+\u001b[0m \u001b[0msrcline\u001b[0m \u001b[0;34m+\u001b[0m \u001b[0mretn\u001b[0m \u001b[0;34m+\u001b[0m \u001b[0mlstxt\u001b[0m\u001b[0;34m[\u001b[0m\u001b[0;36m1\u001b[0m\u001b[0;34m]\u001b[0m\u001b[0;34m\u001b[0m\n",
       "\u001b[0;34m\u001b[0m    \u001b[0mexec\u001b[0m\u001b[0;34m(\u001b[0m\u001b[0msrc2db\u001b[0m\u001b[0;34m,\u001b[0m \u001b[0mglobals\u001b[0m\u001b[0;34m(\u001b[0m\u001b[0;34m)\u001b[0m\u001b[0;34m.\u001b[0m\u001b[0mupdate\u001b[0m\u001b[0;34m(\u001b[0m\u001b[0;34m{\u001b[0m\u001b[0;34m'srcline'\u001b[0m\u001b[0;34m:\u001b[0m \u001b[0msrcline\u001b[0m\u001b[0;34m}\u001b[0m\u001b[0;34m)\u001b[0m\u001b[0;34m)\u001b[0m \u001b[0;31m# now a debuggable version of delegates is available to use\u001b[0m\u001b[0;34m\u001b[0m\n",
       "\u001b[0;34m\u001b[0m    \u001b[0mglobals\u001b[0m\u001b[0;34m(\u001b[0m\u001b[0;34m)\u001b[0m\u001b[0;34m.\u001b[0m\u001b[0mupdate\u001b[0m\u001b[0;34m(\u001b[0m\u001b[0;34m{\u001b[0m\u001b[0mname\u001b[0m\u001b[0;34m:\u001b[0m\u001b[0meval\u001b[0m\u001b[0;34m(\u001b[0m\u001b[0mname\u001b[0m\u001b[0;34m)\u001b[0m\u001b[0;34m}\u001b[0m\u001b[0;34m)\u001b[0m\u001b[0;34m\u001b[0m\n",
       "\u001b[0;34m\u001b[0m    \u001b[0;32mreturn\u001b[0m \u001b[0meval\u001b[0m\u001b[0;34m(\u001b[0m\u001b[0mname\u001b[0m\u001b[0;34m)\u001b[0m \u001b[0;31m# give this debuggable version of delegates to the notebook context\u001b[0m\u001b[0;34m\u001b[0m\u001b[0;34m\u001b[0m\u001b[0m\n",
       "\u001b[0;31mFile:\u001b[0m      /var/folders/gz/ch3n2mp51m9386sytqf97s6w0000gn/T/ipykernel_73723/435102324.py\n",
       "\u001b[0;31mType:\u001b[0m      function\n"
      ]
     },
     "metadata": {},
     "output_type": "display_data"
    }
   ],
   "source": [
    "insert2debug??"
   ]
  },
  {
   "cell_type": "markdown",
   "id": "b02de281-7336-427c-aa78-acfd2c150317",
   "metadata": {},
   "source": [
    "###  remove `return None`, so that we can run multiple `delegates` in one cell without error"
   ]
  },
  {
   "cell_type": "code",
   "execution_count": null,
   "id": "53aaa43d-0793-4574-8642-3035dfd71b9a",
   "metadata": {},
   "outputs": [],
   "source": [
    "def insert2debug(name:str, # name of a function to debug, e.g., delegates\n",
    "                 srcline:str, # e.g., \"        if hasattr(from_f,'__delwrap__'): return f\"\n",
    "                 dbcode:str,  # str, e.g., \"dbprint(...)\"\n",
    "                 **env):\n",
    "    \"select a line or a block of source code and insert a dbprint above it and only output this dbprint result.\"\n",
    "    \n",
    "    srcode = inspect.getsource(eval(name, globals().update(env)))\n",
    "    lstxt = srcode.split(srcline)\n",
    "    # retn = \"\\n        return None\\n\"\n",
    "    retn = \"\"\n",
    "    insert = colorize(dbcode, \"g\") + colorize(srcline, \"r\") + colorize(retn, \"y\")\n",
    "    src2print = lstxt[0] + insert + lstxt[1]\n",
    "    for l in src2print.split(\"\\n\"):  # print out the debuggable version of delegates\n",
    "        print(l)\n",
    "    src2db = lstxt[0] + dbcode + srcline + retn + lstxt[1]\n",
    "    exec(src2db, globals().update({'srcline': srcline})) # now a debuggable version of delegates is available to use\n",
    "    # globals().update({name:eval(name)})\n",
    "    return eval(name) # give this debuggable version of delegates to the notebook context"
   ]
  },
  {
   "cell_type": "code",
   "execution_count": null,
   "id": "8e14303e-83a5-4d4f-b96a-4bf03f3fc80a",
   "metadata": {},
   "outputs": [],
   "source": [
    "\n",
    "def insert2debug(name:str, # name of a function to debug, e.g., delegates\n",
    "                 srcline:str, # e.g., \"        if hasattr(from_f,'__delwrap__'): return f\"\n",
    "                 dbcode:str,  # str, e.g., \"dbprint(...)\"\n",
    "                 **env):\n",
    "    \"select a line or a block of source code and insert a dbprint above it and only output this dbprint result.\"\n",
    "    \n",
    "    # defaults.multi default to False, unless set True, defaults.deb is default to None before debugging srcode\n",
    "    if defaults.multi and bool(defaults.deb): \n",
    "        srcode = defaults.deb\n",
    "    else: \n",
    "        # srcode = inspect.getsource(eval(name, globals().update(env)))\n",
    "        srcode = defaults.src\n",
    "    lstxt = srcode.split(srcline)\n",
    "    retn = \"\" # retn = \"\\n        return None\\n\" to exit the function, \"\" to continue on\n",
    "    insert = colorize(dbcode, \"g\") + colorize(srcline, \"r\") + colorize(retn, \"y\")\n",
    "    src2print = lstxt[0] + insert + lstxt[1]\n",
    "    for l in src2print.split(\"\\n\"):  # print out the debuggable version of delegates\n",
    "        print(l)\n",
    "    src2db = lstxt[0] + dbcode + srcline + retn + lstxt[1]\n",
    "    if defaults.multi: defaults.deb = src2db\n",
    "    exec(src2db, globals().update({'srcline': srcline})) # now a debuggable version of delegates is available to use\n",
    "    # globals().update({name:eval(name)})\n",
    "    return eval(name) # give this debuggable version of delegates to the notebook context"
   ]
  },
  {
   "cell_type": "markdown",
   "id": "0c528cbe-de56-4a87-8204-6f5d40ab2a16",
   "metadata": {},
   "source": [
    "### major problems solved"
   ]
  },
  {
   "cell_type": "code",
   "execution_count": null,
   "id": "19a093eb-7da1-49e7-918b-a59a0e7ed296",
   "metadata": {},
   "outputs": [],
   "source": [
    "#|export\n",
    "def insert2debug(name:str, # name of a function to debug, e.g., delegates\n",
    "                 srcline:str, # e.g., \"        if hasattr(from_f,'__delwrap__'): return f\"\n",
    "                 dbcode:str,  # str, e.g., \"dbprint(...)\"\n",
    "                 run:bool=True, # run exec or not\n",
    "                 **env):\n",
    "    \"select a line or a block of source code and insert a dbprint above it and only output this dbprint result.\"\n",
    "    \n",
    "    # defaults.multi default to False, unless set True, defaults.deb is default to None before debugging srcode\n",
    "    if defaults.multi and bool(defaults.deb): \n",
    "        srcode = defaults.deb\n",
    "    else: \n",
    "        # srcode = inspect.getsource(eval(name, globals().update(env)))\n",
    "        srcode = defaults.src\n",
    "    lstxt = srcode.split(srcline)\n",
    "    retn = \"\" # retn = \"\\n        return None\\n\" to exit the function, \"\" to continue on\n",
    "    insert = colorize(dbcode, \"g\") + colorize(srcline, \"r\") + colorize(retn, \"y\")\n",
    "    src2print = lstxt[0] + insert + lstxt[1]\n",
    "            \n",
    "    src2db = lstxt[0] + dbcode + srcline + retn + lstxt[1]\n",
    "    # if defaults.multi: defaults.deb = src2db\n",
    "    defaults.deb = src2db\n",
    "    \n",
    "    # to exec \n",
    "    if run: \n",
    "        exec(src2db, globals().update({'srcline': srcline})) # now a debuggable version of delegates is available to use\n",
    "        # globals().update({name:eval(name)})\n",
    "        return eval(name) # give this debuggable version of delegates to the notebook context\n",
    "    # to not exec but only get the full debuggable source \n",
    "    else: \n",
    "        return None"
   ]
  },
  {
   "cell_type": "code",
   "execution_count": null,
   "id": "05440e3a-6134-4164-9a34-cd2d49c63160",
   "metadata": {},
   "outputs": [
    {
     "data": {
      "text/plain": [
       "\u001b[0;31mSignature:\u001b[0m \u001b[0minsert2debug\u001b[0m\u001b[0;34m(\u001b[0m\u001b[0mname\u001b[0m\u001b[0;34m:\u001b[0m \u001b[0mstr\u001b[0m\u001b[0;34m,\u001b[0m \u001b[0msrcline\u001b[0m\u001b[0;34m:\u001b[0m \u001b[0mstr\u001b[0m\u001b[0;34m,\u001b[0m \u001b[0mdbcode\u001b[0m\u001b[0;34m:\u001b[0m \u001b[0mstr\u001b[0m\u001b[0;34m,\u001b[0m \u001b[0mrun\u001b[0m\u001b[0;34m:\u001b[0m \u001b[0mbool\u001b[0m \u001b[0;34m=\u001b[0m \u001b[0;32mTrue\u001b[0m\u001b[0;34m,\u001b[0m \u001b[0;34m**\u001b[0m\u001b[0menv\u001b[0m\u001b[0;34m)\u001b[0m\u001b[0;34m\u001b[0m\u001b[0;34m\u001b[0m\u001b[0m\n",
       "\u001b[0;31mSource:\u001b[0m   \n",
       "\u001b[0;32mdef\u001b[0m \u001b[0minsert2debug\u001b[0m\u001b[0;34m(\u001b[0m\u001b[0mname\u001b[0m\u001b[0;34m:\u001b[0m\u001b[0mstr\u001b[0m\u001b[0;34m,\u001b[0m \u001b[0;31m# name of a function to debug, e.g., delegates\u001b[0m\u001b[0;34m\u001b[0m\n",
       "\u001b[0;34m\u001b[0m                 \u001b[0msrcline\u001b[0m\u001b[0;34m:\u001b[0m\u001b[0mstr\u001b[0m\u001b[0;34m,\u001b[0m \u001b[0;31m# e.g., \"        if hasattr(from_f,'__delwrap__'): return f\"\u001b[0m\u001b[0;34m\u001b[0m\n",
       "\u001b[0;34m\u001b[0m                 \u001b[0mdbcode\u001b[0m\u001b[0;34m:\u001b[0m\u001b[0mstr\u001b[0m\u001b[0;34m,\u001b[0m  \u001b[0;31m# str, e.g., \"dbprint(...)\"\u001b[0m\u001b[0;34m\u001b[0m\n",
       "\u001b[0;34m\u001b[0m                 \u001b[0mrun\u001b[0m\u001b[0;34m:\u001b[0m\u001b[0mbool\u001b[0m\u001b[0;34m=\u001b[0m\u001b[0;32mTrue\u001b[0m\u001b[0;34m,\u001b[0m \u001b[0;31m# run exec or not\u001b[0m\u001b[0;34m\u001b[0m\n",
       "\u001b[0;34m\u001b[0m                 \u001b[0;34m**\u001b[0m\u001b[0menv\u001b[0m\u001b[0;34m)\u001b[0m\u001b[0;34m:\u001b[0m\u001b[0;34m\u001b[0m\n",
       "\u001b[0;34m\u001b[0m    \u001b[0;34m\"select a line or a block of source code and insert a dbprint above it and only output this dbprint result.\"\u001b[0m\u001b[0;34m\u001b[0m\n",
       "\u001b[0;34m\u001b[0m    \u001b[0;34m\u001b[0m\n",
       "\u001b[0;34m\u001b[0m    \u001b[0;31m# defaults.multi default to False, unless set True, defaults.deb is default to None before debugging srcode\u001b[0m\u001b[0;34m\u001b[0m\n",
       "\u001b[0;34m\u001b[0m    \u001b[0;32mif\u001b[0m \u001b[0mdefaults\u001b[0m\u001b[0;34m.\u001b[0m\u001b[0mmulti\u001b[0m \u001b[0;32mand\u001b[0m \u001b[0mbool\u001b[0m\u001b[0;34m(\u001b[0m\u001b[0mdefaults\u001b[0m\u001b[0;34m.\u001b[0m\u001b[0mdeb\u001b[0m\u001b[0;34m)\u001b[0m\u001b[0;34m:\u001b[0m \u001b[0;34m\u001b[0m\n",
       "\u001b[0;34m\u001b[0m        \u001b[0msrcode\u001b[0m \u001b[0;34m=\u001b[0m \u001b[0mdefaults\u001b[0m\u001b[0;34m.\u001b[0m\u001b[0mdeb\u001b[0m\u001b[0;34m\u001b[0m\n",
       "\u001b[0;34m\u001b[0m    \u001b[0;32melse\u001b[0m\u001b[0;34m:\u001b[0m \u001b[0;34m\u001b[0m\n",
       "\u001b[0;34m\u001b[0m        \u001b[0;31m# srcode = inspect.getsource(eval(name, globals().update(env)))\u001b[0m\u001b[0;34m\u001b[0m\n",
       "\u001b[0;34m\u001b[0m        \u001b[0msrcode\u001b[0m \u001b[0;34m=\u001b[0m \u001b[0mdefaults\u001b[0m\u001b[0;34m.\u001b[0m\u001b[0msrc\u001b[0m\u001b[0;34m\u001b[0m\n",
       "\u001b[0;34m\u001b[0m    \u001b[0mlstxt\u001b[0m \u001b[0;34m=\u001b[0m \u001b[0msrcode\u001b[0m\u001b[0;34m.\u001b[0m\u001b[0msplit\u001b[0m\u001b[0;34m(\u001b[0m\u001b[0msrcline\u001b[0m\u001b[0;34m)\u001b[0m\u001b[0;34m\u001b[0m\n",
       "\u001b[0;34m\u001b[0m    \u001b[0mretn\u001b[0m \u001b[0;34m=\u001b[0m \u001b[0;34m\"\"\u001b[0m \u001b[0;31m# retn = \"\\n        return None\\n\" to exit the function, \"\" to continue on\u001b[0m\u001b[0;34m\u001b[0m\n",
       "\u001b[0;34m\u001b[0m    \u001b[0minsert\u001b[0m \u001b[0;34m=\u001b[0m \u001b[0mcolorize\u001b[0m\u001b[0;34m(\u001b[0m\u001b[0mdbcode\u001b[0m\u001b[0;34m,\u001b[0m \u001b[0;34m\"g\"\u001b[0m\u001b[0;34m)\u001b[0m \u001b[0;34m+\u001b[0m \u001b[0mcolorize\u001b[0m\u001b[0;34m(\u001b[0m\u001b[0msrcline\u001b[0m\u001b[0;34m,\u001b[0m \u001b[0;34m\"r\"\u001b[0m\u001b[0;34m)\u001b[0m \u001b[0;34m+\u001b[0m \u001b[0mcolorize\u001b[0m\u001b[0;34m(\u001b[0m\u001b[0mretn\u001b[0m\u001b[0;34m,\u001b[0m \u001b[0;34m\"y\"\u001b[0m\u001b[0;34m)\u001b[0m\u001b[0;34m\u001b[0m\n",
       "\u001b[0;34m\u001b[0m    \u001b[0msrc2print\u001b[0m \u001b[0;34m=\u001b[0m \u001b[0mlstxt\u001b[0m\u001b[0;34m[\u001b[0m\u001b[0;36m0\u001b[0m\u001b[0;34m]\u001b[0m \u001b[0;34m+\u001b[0m \u001b[0minsert\u001b[0m \u001b[0;34m+\u001b[0m \u001b[0mlstxt\u001b[0m\u001b[0;34m[\u001b[0m\u001b[0;36m1\u001b[0m\u001b[0;34m]\u001b[0m\u001b[0;34m\u001b[0m\n",
       "\u001b[0;34m\u001b[0m            \u001b[0;34m\u001b[0m\n",
       "\u001b[0;34m\u001b[0m    \u001b[0msrc2db\u001b[0m \u001b[0;34m=\u001b[0m \u001b[0mlstxt\u001b[0m\u001b[0;34m[\u001b[0m\u001b[0;36m0\u001b[0m\u001b[0;34m]\u001b[0m \u001b[0;34m+\u001b[0m \u001b[0mdbcode\u001b[0m \u001b[0;34m+\u001b[0m \u001b[0msrcline\u001b[0m \u001b[0;34m+\u001b[0m \u001b[0mretn\u001b[0m \u001b[0;34m+\u001b[0m \u001b[0mlstxt\u001b[0m\u001b[0;34m[\u001b[0m\u001b[0;36m1\u001b[0m\u001b[0;34m]\u001b[0m\u001b[0;34m\u001b[0m\n",
       "\u001b[0;34m\u001b[0m    \u001b[0;31m# if defaults.multi: defaults.deb = src2db\u001b[0m\u001b[0;34m\u001b[0m\n",
       "\u001b[0;34m\u001b[0m    \u001b[0mdefaults\u001b[0m\u001b[0;34m.\u001b[0m\u001b[0mdeb\u001b[0m \u001b[0;34m=\u001b[0m \u001b[0msrc2db\u001b[0m\u001b[0;34m\u001b[0m\n",
       "\u001b[0;34m\u001b[0m    \u001b[0;34m\u001b[0m\n",
       "\u001b[0;34m\u001b[0m    \u001b[0;31m# to exec \u001b[0m\u001b[0;34m\u001b[0m\n",
       "\u001b[0;34m\u001b[0m    \u001b[0;32mif\u001b[0m \u001b[0mrun\u001b[0m\u001b[0;34m:\u001b[0m \u001b[0;34m\u001b[0m\n",
       "\u001b[0;34m\u001b[0m        \u001b[0mexec\u001b[0m\u001b[0;34m(\u001b[0m\u001b[0msrc2db\u001b[0m\u001b[0;34m,\u001b[0m \u001b[0mglobals\u001b[0m\u001b[0;34m(\u001b[0m\u001b[0;34m)\u001b[0m\u001b[0;34m.\u001b[0m\u001b[0mupdate\u001b[0m\u001b[0;34m(\u001b[0m\u001b[0;34m{\u001b[0m\u001b[0;34m'srcline'\u001b[0m\u001b[0;34m:\u001b[0m \u001b[0msrcline\u001b[0m\u001b[0;34m}\u001b[0m\u001b[0;34m)\u001b[0m\u001b[0;34m)\u001b[0m \u001b[0;31m# now a debuggable version of delegates is available to use\u001b[0m\u001b[0;34m\u001b[0m\n",
       "\u001b[0;34m\u001b[0m        \u001b[0;31m# globals().update({name:eval(name)})\u001b[0m\u001b[0;34m\u001b[0m\n",
       "\u001b[0;34m\u001b[0m        \u001b[0;32mreturn\u001b[0m \u001b[0meval\u001b[0m\u001b[0;34m(\u001b[0m\u001b[0mname\u001b[0m\u001b[0;34m)\u001b[0m \u001b[0;31m# give this debuggable version of delegates to the notebook context\u001b[0m\u001b[0;34m\u001b[0m\n",
       "\u001b[0;34m\u001b[0m    \u001b[0;31m# to not exec but only get the full debuggable source \u001b[0m\u001b[0;34m\u001b[0m\n",
       "\u001b[0;34m\u001b[0m    \u001b[0;32melse\u001b[0m\u001b[0;34m:\u001b[0m \u001b[0;34m\u001b[0m\n",
       "\u001b[0;34m\u001b[0m        \u001b[0;32mreturn\u001b[0m \u001b[0;32mNone\u001b[0m\u001b[0;34m\u001b[0m\u001b[0;34m\u001b[0m\u001b[0m\n",
       "\u001b[0;31mFile:\u001b[0m      /var/folders/gz/ch3n2mp51m9386sytqf97s6w0000gn/T/ipykernel_73723/1472485447.py\n",
       "\u001b[0;31mType:\u001b[0m      function\n"
      ]
     },
     "metadata": {},
     "output_type": "display_data"
    }
   ],
   "source": [
    "insert2debug??"
   ]
  },
  {
   "cell_type": "code",
   "execution_count": null,
   "id": "8c08abfd-f830-4f0c-8e45-abe3b29ef21f",
   "metadata": {},
   "outputs": [],
   "source": [
    "#|export\n",
    "from fastcore.foundation import L"
   ]
  },
  {
   "cell_type": "code",
   "execution_count": null,
   "id": "1798ca59-6e6b-4152-8ccc-4ee68d360c9c",
   "metadata": {},
   "outputs": [],
   "source": [
    "\n",
    "def dbsrclines(srcname:str, # name of the source code, e.g., delegates\n",
    "               lines:list = None # if None then print all e.g., defaults.src2dbp.delegates\n",
    "              ): \n",
    "    \"Doing one line or multilines of insert2debug on source code with dbprints.\"\n",
    "    srcdblist = eval(\"defaults.src2dbp.\" + srcname)\n",
    "    srcdblist = L(srcdblist)\n",
    "    \n",
    "    if not bool(lines):\n",
    "        for i in srcdblist:\n",
    "            pprint(i[0][0], width=157)\n",
    "            pprint(i[0][1], width=157)\n",
    "            print(\"\")\n",
    "        return None\n",
    "    \n",
    "    if len(lines) > 1: \n",
    "        defaults.multi = True\n",
    "        for i in eval(\"srcdblist\" + str(lines)):\n",
    "            delegates = insert2debug(srcname, i[0][0], i[0][1])\n",
    "    else: \n",
    "        item = eval(\"srcdblist\" + str(lines))\n",
    "        delegates = insert2debug(srcname, item[0][0], item[0][1])\n",
    "    \n",
    "\n",
    "    defaults.multi = False\n",
    "    defaults.deb = None\n",
    "    return delegates"
   ]
  },
  {
   "cell_type": "code",
   "execution_count": null,
   "id": "db113434-0cca-4262-b91a-2e8e6d0959b8",
   "metadata": {},
   "outputs": [
    {
     "name": "stdout",
     "output_type": "stream",
     "text": [
      "[(1, 2)]\n",
      "[(2, 2)]\n"
     ]
    }
   ],
   "source": [
    "for i in L([[(1,2)],[(2,2)]]): \n",
    "    print(i)"
   ]
  },
  {
   "cell_type": "markdown",
   "id": "35d01450-c2a1-4e05-bb63-01c5055dca6f",
   "metadata": {},
   "source": [
    "### Exporting the debuggable source and major problems solved"
   ]
  },
  {
   "cell_type": "code",
   "execution_count": null,
   "id": "755b6366-2107-4be4-8a3b-b5487fbf85f3",
   "metadata": {},
   "outputs": [],
   "source": [
    "\n",
    "def dbsrclines(srcname:str, # name of the source code, e.g., delegates\n",
    "               lines:list = None, # if None then print all e.g., defaults.src2dbp.delegates\n",
    "               dbsrc:bool = False # get the full debuggable source code\n",
    "              ): \n",
    "    \"Doing one line or multilines of insert2debug on source code with dbprints.\"\n",
    "    srcdblist = eval(\"defaults.src2dbp.\" + srcname)\n",
    "    srcdblist = L(srcdblist)\n",
    "    \n",
    "    if not bool(lines) and dbsrc == False: # to print out the source code and mark all the srclines \n",
    "        for i in srcdblist:\n",
    "            pprint(i[0][0], width=157)\n",
    "            pprint(i[0][1], width=157)\n",
    "            print(\"\")\n",
    "        return None\n",
    "     \n",
    "    if dbsrc and not bool(lines): # to print out the entire debuggable source code\n",
    "        defaults.multi = True\n",
    "        for i in srcdblist:\n",
    "            insert2debug(srcname, i[0][0], i[0][1], run=False) # don't exec just add up debuggable source\n",
    "        # export the debuggable source\n",
    "        defaults.src2dbp.delegatesdb = defaults.deb\n",
    "        pprint(defaults.src2dbp.delegatesdb, width=157)\n",
    "        defaults.deb = None\n",
    "        defaults.multi = False\n",
    "        return None\n",
    "    \n",
    "    if len(lines) > 1: \n",
    "        defaults.multi = True\n",
    "        for i in eval(\"srcdblist\" + str(lines)):\n",
    "            delegates = insert2debug(srcname, i[0][0], i[0][1])\n",
    "\n",
    "    else: \n",
    "        item = eval(\"srcdblist\" + str(lines))\n",
    "        delegates = insert2debug(srcname, item[0][0], item[0][1])\n",
    "\n",
    "    pprint(defaults.deb, width=157) # print the debuggable source\n",
    "\n",
    "    defaults.multi = False\n",
    "    defaults.deb = None\n",
    "    return delegates"
   ]
  },
  {
   "cell_type": "markdown",
   "id": "fa22c804-b2fd-4f85-aad6-ccbae9fc1e53",
   "metadata": {},
   "source": [
    "### improve the print feature of dbscrlines "
   ]
  },
  {
   "cell_type": "code",
   "execution_count": null,
   "id": "1a210afb-2269-413c-b10b-7548969f6506",
   "metadata": {},
   "outputs": [],
   "source": [
    "#|export\n",
    "def dbsrclines(srcname:str, # name of the source code, e.g., delegates\n",
    "               lines:list = None, # if None then print all e.g., defaults.src2dbp.delegates\n",
    "               dbsrc:bool = False # get the full debuggable source code\n",
    "              ): \n",
    "    \"Doing one line or multilines of insert2debug on source code with dbprints.\"\n",
    "    srcdblist = eval(\"defaults.src2dbp.\" + srcname)\n",
    "    srcdblist = L(srcdblist)\n",
    "    \n",
    "    if not bool(lines) and dbsrc == False: # to print out the source code and mark all the srclines \n",
    "        # put all srclines into a single string\n",
    "        srclines = \"\"\n",
    "        for i in srcdblist:\n",
    "            srclines = srclines + i[0][0]\n",
    "        \n",
    "        for l in defaults.src.split(\"\\n\"):\n",
    "            if l in srclines:\n",
    "                print('{:=<157}'.format(l))\n",
    "            else: \n",
    "                print('{:<157}'.format(l))\n",
    "        print(\"\")\n",
    "        return None\n",
    "     \n",
    "    if dbsrc and not bool(lines): # to export the entire debuggable source code to defaults.src2dbp.delegatesdb\n",
    "        defaults.multi = True\n",
    "        for i in srcdblist:\n",
    "            insert2debug(srcname, i[0][0], i[0][1], run=False) # don't exec just add up debuggable source\n",
    "        # export the debuggable source\n",
    "        defaults.src2dbp.delegatesdb = defaults.deb\n",
    "        # pprint(defaults.src2dbp.delegatesdb, width=157)\n",
    "        defaults.deb = None\n",
    "        defaults.multi = False\n",
    "        return None\n",
    "    \n",
    "    if len(lines) > 1: \n",
    "        defaults.multi = True\n",
    "        for i in eval(\"srcdblist\" + str(lines)):\n",
    "            delegates = insert2debug(srcname, i[0][0], i[0][1])\n",
    "\n",
    "    else: \n",
    "        item = eval(\"srcdblist\" + str(lines))\n",
    "        delegates = insert2debug(srcname, item[0][0], item[0][1])\n",
    "\n",
    "    pprint(defaults.deb, width=157) # print the debuggable source\n",
    "\n",
    "    defaults.multi = False\n",
    "    defaults.deb = None\n",
    "    return delegates"
   ]
  },
  {
   "cell_type": "markdown",
   "id": "58f6163d-c88a-4488-929a-b39257c9889d",
   "metadata": {},
   "source": [
    "### check official source against debuggable source"
   ]
  },
  {
   "cell_type": "code",
   "execution_count": null,
   "id": "0c9e2ffb-b7b3-4192-9c4a-812c7670e9c4",
   "metadata": {},
   "outputs": [],
   "source": [
    "#|export\n",
    "def checksrc(srcname):\n",
    "    \"check src code against dbsource\"\n",
    "    defaults.src = inspect.getsource(eval(srcname))\n",
    "\n",
    "    file1 = open(\"db/\" + srcname + \".txt\",\"r+\") \n",
    "\n",
    "    # now dbsrc == defaults.src2dbp.delegatesdb\n",
    "    dbsrc = eval(\"defaults.src2dbp.\" + srcname + \"db\")\n",
    "    dbsrc = file1.read()\n",
    "    file1.close()\n",
    "\n",
    "    lst = defaults.src.split('\\n')\n",
    "    for l in lst: \n",
    "\n",
    "        if l.strip() in dbsrc:\n",
    "            print('{:<157}'.format(l))\n",
    "        else: \n",
    "            print('{:=<157}'.format(l))"
   ]
  },
  {
   "cell_type": "code",
   "execution_count": null,
   "id": "b57770e7-1dcb-420f-9752-003ce2fdfc52",
   "metadata": {},
   "outputs": [],
   "source": [
    "#|export\n",
    "def strip_ansi(source):\n",
    "    return re.sub(r'\\033\\[(\\d|;)+?m', '', source)"
   ]
  },
  {
   "cell_type": "code",
   "execution_count": null,
   "id": "48925b92-4282-4831-b911-f268f1d4294d",
   "metadata": {},
   "outputs": [],
   "source": [
    "#|export\n",
    "def alignright(blocks):\n",
    "    lst = blocks.split('\\n')\n",
    "    maxlen = max(map(lambda l : len(strip_ansi(l)) , lst ))\n",
    "    indent = defaults.margin - maxlen\n",
    "    for l in lst:\n",
    "        print(' '*indent + format(l))"
   ]
  },
  {
   "cell_type": "code",
   "execution_count": null,
   "id": "887963d7-79ea-4423-88f4-bfc5b65f004c",
   "metadata": {},
   "outputs": [
    {
     "name": "stdout",
     "output_type": "stream",
     "text": [
      "                                                                                                                                                   this is me\n",
      "                                                                                                                                                   \u001b[91mthis is me\u001b[0m\n"
     ]
    }
   ],
   "source": [
    "alignright(\"this is me\")\n",
    "alignright(\"\\x1b[91mthis is me\\x1b[0m\")"
   ]
  },
  {
   "cell_type": "markdown",
   "id": "a8817159-48bb-4eea-829e-67b5701c3e24",
   "metadata": {},
   "source": [
    "### How to shuffle "
   ]
  },
  {
   "cell_type": "code",
   "execution_count": null,
   "id": "78117995-6cae-4cd1-b38a-c98a2f67a1f5",
   "metadata": {},
   "outputs": [],
   "source": [
    "src = \"    def low(a, b=1):\\n        c = b*2\\n        return a + b + c\""
   ]
  },
  {
   "cell_type": "code",
   "execution_count": null,
   "id": "8e5fc660-cc61-4af6-9247-0e5819d2b89c",
   "metadata": {},
   "outputs": [
    {
     "name": "stdout",
     "output_type": "stream",
     "text": [
      "    def low(a, b=1):\n",
      "        c = b*2\n",
      "        return a + b + c\n"
     ]
    }
   ],
   "source": [
    "for l in src.split(\"\\n\"): print(l)"
   ]
  },
  {
   "cell_type": "markdown",
   "id": "73e5d601-ba41-4633-82aa-6d8c9a7bec37",
   "metadata": {},
   "source": [
    "I have a list of tuples, and the first item of each tuple contains a line of the function above. The problem is the order of the lines are random."
   ]
  },
  {
   "cell_type": "code",
   "execution_count": null,
   "id": "3a2a8bf7-bfb1-479d-8b60-c5a9e810ed7f",
   "metadata": {},
   "outputs": [],
   "source": [
    "srcshuffled = [[(\"        return a + b + c\", \"this is the end of the func\")],[(\"        c = b*2\", \"first line inside the func\")],[(\"    def low(a, b=1):\", \"this is where signature is\")]]"
   ]
  },
  {
   "cell_type": "code",
   "execution_count": null,
   "id": "82765084-01be-4535-aa7d-643dcacedac2",
   "metadata": {},
   "outputs": [
    {
     "name": "stdout",
     "output_type": "stream",
     "text": [
      "        return a + b + c\n",
      "        c = b*2\n",
      "    def low(a, b=1):\n"
     ]
    }
   ],
   "source": [
    "for s in srcshuffled:\n",
    "    print(s[0][0])"
   ]
  },
  {
   "cell_type": "markdown",
   "id": "b1ed8c74-80d1-4ba9-bdc2-8a5200f7422a",
   "metadata": {},
   "source": [
    "How can I reorder the list so that the first item of each tuple matches the function in the right order?"
   ]
  },
  {
   "cell_type": "code",
   "execution_count": null,
   "id": "0e17b461-ac14-4d64-8e5e-87581b50ed9f",
   "metadata": {},
   "outputs": [],
   "source": [
    "srcorrect = [[(\"    def low(a, b=1):\", \"this is where signature is\")],[(\"        c = b*2\", \"first line inside the func\")], [(\"        return a + b + c\", \"this is the end of the func\")]]"
   ]
  },
  {
   "cell_type": "code",
   "execution_count": null,
   "id": "4f5fa877-a4e1-4452-996f-29c8a0ae3ca3",
   "metadata": {},
   "outputs": [
    {
     "name": "stdout",
     "output_type": "stream",
     "text": [
      "    def low(a, b=1):\n",
      "        c = b*2\n",
      "        return a + b + c\n"
     ]
    }
   ],
   "source": [
    "for s in srcorrect:\n",
    "    print(s[0][0])"
   ]
  },
  {
   "cell_type": "markdown",
   "id": "3cd98714-9761-4829-b430-8167e40d28dc",
   "metadata": {},
   "source": [
    "my attempt"
   ]
  },
  {
   "cell_type": "code",
   "execution_count": null,
   "id": "7931feee-32cd-45a4-a134-38baec999c38",
   "metadata": {},
   "outputs": [
    {
     "name": "stdout",
     "output_type": "stream",
     "text": [
      "0\n",
      "    def low(a, b=1):\n",
      "1\n",
      "        c = b*2\n",
      "2\n",
      "        return a + b + c\n"
     ]
    }
   ],
   "source": [
    "for idx, l in zip(range(len(src.split(\"\\n\"))), src.split(\"\\n\")):\n",
    "    print(idx)\n",
    "    print(l)"
   ]
  },
  {
   "cell_type": "code",
   "execution_count": null,
   "id": "ef06b225-e37f-4320-9596-3a7ef166de4a",
   "metadata": {},
   "outputs": [],
   "source": [
    "srcorrect1 = []\n",
    "for l in src.split(\"\\n\"):\n",
    "    for s in srcshuffled: \n",
    "        if l.strip() in s[0][0]:\n",
    "            srcorrect1.append(s)         "
   ]
  },
  {
   "cell_type": "code",
   "execution_count": null,
   "id": "6a79cef6-f88c-40cf-8832-b423a15d9031",
   "metadata": {},
   "outputs": [
    {
     "name": "stdout",
     "output_type": "stream",
     "text": [
      "    def low(a, b=1):\n",
      "        c = b*2\n",
      "        return a + b + c\n"
     ]
    }
   ],
   "source": [
    "for s in srcorrect1:\n",
    "    print(s[0][0])"
   ]
  },
  {
   "cell_type": "code",
   "execution_count": null,
   "id": "95de3200-11c3-48ef-9c25-ecd0f564afcf",
   "metadata": {},
   "outputs": [],
   "source": [
    "#|export\n",
    "def matchsrcorder(srcdbps:list # the list contain all srclines and their dbcodes with random order\n",
    "                 ):\n",
    "    srcdbps1 = [] # a list to store the correct order of srclines and dbcodes\n",
    "    for l in defaults.src.split(\"\\n\"):\n",
    "        for idx, s in zip(range(len(srcdbps)), srcdbps):\n",
    "            if l.strip() in s[0][0]:\n",
    "                srcdbps.pop(idx)\n",
    "                srcdbps1.append(s)  \n",
    "    return srcdbps1"
   ]
  },
  {
   "cell_type": "markdown",
   "id": "8c5dcfe8",
   "metadata": {},
   "source": [
    "#|hide\n",
    "## Export"
   ]
  },
  {
   "cell_type": "code",
   "execution_count": null,
   "id": "4f13fefe",
   "metadata": {},
   "outputs": [],
   "source": [
    "#|hide\n",
    "from nbdev import nbdev_export\n",
    "nbdev_export()"
   ]
  },
  {
   "cell_type": "code",
   "execution_count": null,
   "id": "f2445006",
   "metadata": {},
   "outputs": [],
   "source": []
  },
  {
   "cell_type": "markdown",
   "id": "8bbb77fb",
   "metadata": {},
   "source": [
    "#|hide\n",
    "## Sending to Obs"
   ]
  },
  {
   "cell_type": "code",
   "execution_count": null,
   "id": "2276705c",
   "metadata": {},
   "outputs": [
    {
     "name": "stdout",
     "output_type": "stream",
     "text": [
      "[jupytext] Reading /Users/Natsume/Documents/debuggable/utils.ipynb in format ipynb\n",
      "[jupytext] Writing /Users/Natsume/Documents/debuggable/utils.md\n"
     ]
    }
   ],
   "source": [
    "#|hide\n",
    "!jupytext --to md /Users/Natsume/Documents/debuggable/utils.ipynb\n",
    "!mv /Users/Natsume/Documents/debuggable/utils.md \\\n",
    "/Users/Natsume/Documents/divefastai/Debuggable/jupytext/"
   ]
  },
  {
   "cell_type": "code",
   "execution_count": null,
   "id": "02b6fa18",
   "metadata": {},
   "outputs": [
    {
     "name": "stdout",
     "output_type": "stream",
     "text": [
      "[NbConvertApp] Converting notebook /Users/Natsume/Documents/debuggable/index.ipynb to markdown\n",
      "[NbConvertApp] Writing 2074 bytes to /Users/Natsume/Documents/divefastai/Debuggable/nbconvert/index.md\n",
      "[NbConvertApp] Converting notebook /Users/Natsume/Documents/debuggable/utils.ipynb to markdown\n",
      "[NbConvertApp] Writing 167669 bytes to /Users/Natsume/Documents/divefastai/Debuggable/nbconvert/utils.md\n",
      "[NbConvertApp] Converting notebook /Users/Natsume/Documents/debuggable/fastcore/classes_metaclasses.ipynb to markdown\n",
      "[NbConvertApp] Writing 23234 bytes to /Users/Natsume/Documents/divefastai/Debuggable/nbconvert/classes_metaclasses.md\n",
      "[NbConvertApp] Converting notebook /Users/Natsume/Documents/debuggable/fastcore/meta/02_use_kwargs_dict.ipynb to markdown\n",
      "[NbConvertApp] Writing 3777 bytes to /Users/Natsume/Documents/divefastai/Debuggable/nbconvert/02_use_kwargs_dict.md\n",
      "[NbConvertApp] Converting notebook /Users/Natsume/Documents/debuggable/fastcore/meta/00_delegates.ipynb to markdown\n",
      "[NbConvertApp] Writing 35731 bytes to /Users/Natsume/Documents/divefastai/Debuggable/nbconvert/00_delegates.md\n",
      "[NbConvertApp] Converting notebook /Users/Natsume/Documents/debuggable/fastcore/meta/01_mk_param.ipynb to markdown\n",
      "[NbConvertApp] Writing 2015 bytes to /Users/Natsume/Documents/divefastai/Debuggable/nbconvert/01_mk_param.md\n",
      "[NbConvertApp] Converting notebook /Users/Natsume/Documents/debuggable/fastcore/findings/00F_delegates_keep.ipynb to markdown\n",
      "[NbConvertApp] Writing 14251 bytes to /Users/Natsume/Documents/divefastai/Debuggable/nbconvert/00F_delegates_keep.md\n"
     ]
    }
   ],
   "source": [
    "#|hide\n",
    "!jupyter nbconvert --config /Users/Natsume/Documents/mynbcfg.py --to markdown \\\n",
    "--output-dir /Users/Natsume/Documents/divefastai/Debuggable/nbconvert"
   ]
  },
  {
   "cell_type": "code",
   "execution_count": null,
   "id": "d1bd818e",
   "metadata": {},
   "outputs": [],
   "source": []
  }
 ],
 "metadata": {
  "kernelspec": {
   "display_name": "Python 3 (ipykernel)",
   "language": "python",
   "name": "python3"
  }
 },
 "nbformat": 4,
 "nbformat_minor": 5
}
