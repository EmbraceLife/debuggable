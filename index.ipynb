{
 "cells": [
  {
   "cell_type": "markdown",
   "id": "10c3133a",
   "metadata": {},
   "source": [
    "# Fastai Debuggable"
   ]
  },
  {
   "cell_type": "markdown",
   "id": "4b5e3dc7",
   "metadata": {},
   "source": [
    "I would love to learn fastai by experimenting its sources and if possible contribute to them. In this page I would like to present useful tools I built and tinkerings (including contributions) I made during exploration."
   ]
  },
  {
   "cell_type": "markdown",
   "id": "4ae42f11",
   "metadata": {},
   "source": [
    "You can quickly on each page: \n",
    "\n",
    "- search `how-` to find what I learnt along the way,\n",
    "- search `tinker-` to see how I tinker the sources, \n",
    "- search `contribute-` to see what contribution I made."
   ]
  },
  {
   "cell_type": "code",
   "execution_count": null,
   "id": "5a49c516",
   "metadata": {},
   "outputs": [],
   "source": [
    "#|hide\n",
    "%load_ext autoreload\n",
    "%autoreload 2"
   ]
  },
  {
   "cell_type": "code",
   "execution_count": null,
   "id": "33b9eef2",
   "metadata": {},
   "outputs": [],
   "source": [
    "from fastcore.meta import *\n",
    "from nbdev.showdoc import *\n",
    "from fastcore.test import *\n",
    "from pprint import pprint\n",
    "from debuggable.utils import *\n",
    "import inspect"
   ]
  },
  {
   "cell_type": "markdown",
   "id": "2aaa4362",
   "metadata": {},
   "source": [
    "## A personal docs of fastcore"
   ]
  },
  {
   "cell_type": "markdown",
   "id": "349ca9de",
   "metadata": {},
   "source": [
    "### delegates \n",
    "official [docs](https://hyp.is/8brb_B42Ee2vbjuvJtjGGw/nbviewer.org/github/fastai/fastcore/blob/master/nbs/07_meta.ipynb), how fastai uses it\n",
    "\n",
    "#### When to use it?\n",
    "\n",
    "#### Who (which type) use it?\n",
    "\n",
    "#### How fastai use it?"
   ]
  },
  {
   "cell_type": "markdown",
   "id": "8229cdad",
   "metadata": {},
   "source": [
    "## Useful tools I built"
   ]
  },
  {
   "cell_type": "markdown",
   "id": "118cfe7e",
   "metadata": {},
   "source": [
    "### debuggable.utils.whatinside"
   ]
  },
  {
   "cell_type": "code",
   "execution_count": null,
   "id": "944c498b",
   "metadata": {},
   "outputs": [],
   "source": [
    "import fastcore.meta as fm\n",
    "whatinside(fm, dun=True)"
   ]
  },
  {
   "cell_type": "code",
   "execution_count": null,
   "id": "a7e14769",
   "metadata": {},
   "outputs": [],
   "source": [
    "whatinside(fm, func=True)"
   ]
  },
  {
   "cell_type": "code",
   "execution_count": null,
   "id": "630885ad",
   "metadata": {},
   "outputs": [],
   "source": [
    "whatinside(fm, clas=True)"
   ]
  },
  {
   "cell_type": "code",
   "execution_count": null,
   "id": "09042677",
   "metadata": {},
   "outputs": [],
   "source": [
    "whatinside(fm, lib=True)"
   ]
  },
  {
   "cell_type": "code",
   "execution_count": null,
   "id": "ceeec62e",
   "metadata": {},
   "outputs": [],
   "source": [
    "import fastcore.imports as fi\n",
    "whatinside(fi, dun=True)"
   ]
  },
  {
   "cell_type": "code",
   "execution_count": null,
   "id": "93a45ac4",
   "metadata": {},
   "outputs": [],
   "source": [
    "whatinside(fi, func=True)"
   ]
  },
  {
   "cell_type": "code",
   "execution_count": null,
   "id": "e0305190",
   "metadata": {},
   "outputs": [],
   "source": [
    "whatinside(fi, clas=True)"
   ]
  },
  {
   "cell_type": "markdown",
   "id": "a57ab941",
   "metadata": {},
   "source": [
    "### debuggable.utils.whichversion"
   ]
  },
  {
   "cell_type": "code",
   "execution_count": null,
   "id": "1f7c2ff2",
   "metadata": {},
   "outputs": [],
   "source": [
    "whichversion('nbdev')"
   ]
  },
  {
   "cell_type": "code",
   "execution_count": null,
   "id": "579e49dc",
   "metadata": {},
   "outputs": [],
   "source": [
    "whichversion('fastcore')"
   ]
  },
  {
   "cell_type": "code",
   "execution_count": null,
   "id": "799d8564",
   "metadata": {},
   "outputs": [],
   "source": [
    "whichversion('debuggable', req=True)"
   ]
  },
  {
   "cell_type": "markdown",
   "id": "6f97a808",
   "metadata": {},
   "source": [
    "## My contributions to fastcore"
   ]
  },
  {
   "cell_type": "markdown",
   "id": "da764456",
   "metadata": {},
   "source": [
    "### My first [contrib to fastcore](https://github.com/fastai/fastcore/commit/0a94e22a0d6c02b51240ed6d8f1d7c94e6ae9b40) is based on the solution above with Jeremy's modification"
   ]
  },
  {
   "cell_type": "markdown",
   "id": "800e148e",
   "metadata": {},
   "source": [
    "## Interesting findings of fastcore"
   ]
  },
  {
   "cell_type": "markdown",
   "id": "229971da",
   "metadata": {},
   "source": [
    "#|hide\n",
    "## Send to Obs"
   ]
  },
  {
   "cell_type": "code",
   "execution_count": null,
   "id": "a600ba50",
   "metadata": {},
   "outputs": [],
   "source": [
    "#|hide\n",
    "!jupytext --to md /Users/Natsume/Documents/debuggable/index.ipynb\n",
    "!mv /Users/Natsume/Documents/debuggable/index.md \\\n",
    "/Users/Natsume/Documents/divefastai/Debuggable/jupytext/"
   ]
  },
  {
   "cell_type": "code",
   "execution_count": null,
   "id": "18f88871",
   "metadata": {},
   "outputs": [],
   "source": [
    "#|hide\n",
    "!jupyter nbconvert --config /Users/Natsume/Documents/mynbcfg.py --to markdown \\\n",
    "--output-dir /Users/Natsume/Documents/divefastai/Debuggable/nbconvert"
   ]
  },
  {
   "cell_type": "code",
   "execution_count": null,
   "id": "26a501b3",
   "metadata": {},
   "outputs": [],
   "source": []
  }
 ],
 "metadata": {
  "kernelspec": {
   "display_name": "Python 3 (ipykernel)",
   "language": "python",
   "name": "python3"
  }
 },
 "nbformat": 4,
 "nbformat_minor": 5
}
